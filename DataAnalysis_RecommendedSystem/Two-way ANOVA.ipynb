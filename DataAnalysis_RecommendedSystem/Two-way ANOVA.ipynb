{
 "cells": [
  {
   "cell_type": "code",
   "execution_count": null,
   "metadata": {},
   "outputs": [],
   "source": [
    "import pandas as pd\n",
    "import numpy as np"
   ]
  },
  {
   "cell_type": "code",
   "execution_count": null,
   "metadata": {},
   "outputs": [],
   "source": [
    "FILES_DIR = './files/'\n",
    "total = pd.read_csv(FILES_DIR + 'total.csv')"
   ]
  },
  {
   "cell_type": "code",
   "execution_count": null,
   "metadata": {},
   "outputs": [],
   "source": [
    "total_df = total.copy()"
   ]
  },
  {
   "cell_type": "code",
   "execution_count": null,
   "metadata": {},
   "outputs": [],
   "source": [
    "suc_df =total_df[total_df['event_name'] == 'purchase_success']"
   ]
  },
  {
   "cell_type": "code",
   "execution_count": null,
   "metadata": {},
   "outputs": [],
   "source": [
    "table = pd.pivot_table(suc_df,\n",
    "                       index=['gender','ostype'],\n",
    "                    #    columns='ostype',\n",
    "                       values='price',\n",
    "                       fill_value=0,\n",
    "                       aggfunc='count')\n",
    "\n",
    "\n",
    "table"
   ]
  },
  {
   "cell_type": "code",
   "execution_count": null,
   "metadata": {},
   "outputs": [],
   "source": [
    "import statsmodels.api as sm\n",
    "from statsmodels.formula.api import ols\n",
    " \n",
    " \n",
    "## Two-way ANOVA에 맞는 수식을 설정하는 코드\n",
    "two_way_anova = ols('price ~ C(gender) + C(ostype) + C(gender):C(ostype)'\n",
    "           , data = table).fit()\n",
    " \n",
    "## 결과 해석을 저장하는 코드\n",
    "result = sm.stats.anova_lm(two_way_anova)\n",
    " \n",
    "## 결과 요약\n",
    "print(result)"
   ]
  },
  {
   "cell_type": "code",
   "execution_count": null,
   "metadata": {},
   "outputs": [],
   "source": [
    "from statsmodels.graphics.factorplots import interaction_plot\n",
    "import matplotlib.pyplot as plt\n",
    "plt.rcParams['figure.figsize'] = (20, 9)\n",
    " \n",
    " \n",
    "fig = interaction_plot(x= table['gender']\n",
    "                       , trace = table['ostype']\n",
    "                       , response= table['price'], \n",
    "                      )\n",
    "plt.title(\"Checking Interaction size\", fontsize = 25, pad = 10)\n",
    "plt.grid(alpha = 0.4);\n"
   ]
  },
  {
   "cell_type": "code",
   "execution_count": null,
   "metadata": {},
   "outputs": [],
   "source": [
    "from statsmodels.stats.multicomp import pairwise_tukeyhsd\n",
    "## part1 상호 작용을 확인하기 위해서 모든 집단을 정의하는 코드\n",
    "table['group_combination'] = table.gender + '-' + table.ostype\n",
    " \n",
    "## part2 Tukey 사후 검정을 하기 위한 모델 선언\n",
    "hsd = pairwise_tukeyhsd( table.query('gender == [\"M\", \"F\"]')['price']\n",
    "                        , table.query('gender == [\"M\", \"F\"]')['group_combination'])\n",
    " \n",
    "## 사후 검정 결과 확인\n",
    "hsd_summary = hsd.summary()\n",
    "hsd_summary\n"
   ]
  }
 ],
 "metadata": {
  "kernelspec": {
   "display_name": "base",
   "language": "python",
   "name": "python3"
  },
  "language_info": {
   "name": "python",
   "version": "3.10.9"
  },
  "orig_nbformat": 4
 },
 "nbformat": 4,
 "nbformat_minor": 2
}
