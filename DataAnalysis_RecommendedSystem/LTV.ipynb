{
 "cells": [
  {
   "cell_type": "code",
   "execution_count": null,
   "metadata": {},
   "outputs": [],
   "source": [
    "import pandas as pd\n",
    "import matplotlib as mpl\n",
    "import matplotlib.pyplot as plt\n",
    "import seaborn as sns\n",
    "import numpy as np\n",
    "\n",
    "from datetime import timedelta\n",
    "\n",
    "from datetime import datetime\n",
    "from lifetimes.plotting import *\n",
    "from lifetimes.utils import *\n",
    "from lifetimes import BetaGeoFitter\n",
    "from lifetimes.fitters.gamma_gamma_fitter import GammaGammaFitter\n",
    "\n",
    "from hyperopt import hp, fmin, tpe, rand, SparkTrials, STATUS_OK, space_eval, Trials"
   ]
  },
  {
   "cell_type": "code",
   "execution_count": null,
   "metadata": {},
   "outputs": [],
   "source": [
    "FILES_DIR = './files/'\n",
    "total = pd.read_csv(FILES_DIR + 'total.csv')"
   ]
  },
  {
   "cell_type": "code",
   "execution_count": null,
   "metadata": {},
   "outputs": [],
   "source": [
    "raw_data = total.copy()"
   ]
  },
  {
   "cell_type": "code",
   "execution_count": null,
   "metadata": {},
   "outputs": [],
   "source": [
    "raw_data.drop('Unnamed: 0', axis=1, inplace=True)"
   ]
  },
  {
   "cell_type": "code",
   "execution_count": null,
   "metadata": {},
   "outputs": [],
   "source": [
    "suc_data = raw_data[raw_data['event_name'] == 'purchase_success'] # 전체고객"
   ]
  },
  {
   "cell_type": "code",
   "execution_count": null,
   "metadata": {},
   "outputs": [],
   "source": [
    "ltv_data = suc_data[['user_no', 'event_timestamp', 'price']]\n",
    "ltv_data['event_timestamp'] = pd.to_datetime(ltv_data['event_timestamp']).dt.date\n",
    "ltv_data"
   ]
  },
  {
   "cell_type": "code",
   "execution_count": null,
   "metadata": {},
   "outputs": [],
   "source": [
    "current_date = ltv_data['event_timestamp'].max()\n",
    "\n",
    "metrics_df = summary_data_from_transaction_data(ltv_data\n",
    "                                          , customer_id_col = 'user_no'\n",
    "                                          , datetime_col = 'event_timestamp'\n",
    "                                          , monetary_value_col='price'\n",
    "                                          , observation_period_end=current_date)\n",
    "metrics_df.head()"
   ]
  },
  {
   "cell_type": "code",
   "execution_count": null,
   "metadata": {},
   "outputs": [],
   "source": [
    "l2_reg = 0.01 # lifetime 공식 홈페이지에서 0.1 ~ 0.001사이값을 넣어주는게 효과적이라고 한다\n",
    "model = BetaGeoFitter(penalizer_coef=l2_reg)\n",
    "model = GammaGammaFitter(penalizer_coef=l2_reg)"
   ]
  },
  {
   "cell_type": "code",
   "execution_count": null,
   "metadata": {},
   "outputs": [],
   "source": [
    "holdout_days = 30 # 총일수 92일\n",
    "calibration_end_date = current_date - timedelta(days = holdout_days)\n",
    "\n",
    "metrics_cal_df = calibration_and_holdout_data(ltv_data\n",
    "                                          ,customer_id_col = 'user_no'\n",
    "                                          ,datetime_col = 'event_timestamp'\n",
    "                                          ,calibration_period_end=calibration_end_date # train 데이터 기간\n",
    "                                          ,observation_period_end=current_date         # 끝 기간\n",
    "                                          ,monetary_value_col='price')\n",
    "\n",
    "metrics_cal_df.head()"
   ]
  },
  {
   "cell_type": "code",
   "execution_count": null,
   "metadata": {},
   "outputs": [],
   "source": [
    "## frequency가 0인 것은 제외하기\n",
    "whole_filtered_df = metrics_df[metrics_df.frequency > 0]\n",
    "filtered_df       = metrics_cal_df[metrics_cal_df.frequency_cal > 0]"
   ]
  },
  {
   "cell_type": "code",
   "execution_count": null,
   "metadata": {},
   "outputs": [],
   "source": [
    "# 평가 지표: default는 MSE\n",
    "def score_model(actuals, predicted, metric='mse'):\n",
    "\n",
    "    metric = metric.lower()\n",
    "\n",
    "    # MSE / RMSE\n",
    "    if metric=='mse' or metric=='rmse':\n",
    "        val = np.sum(np.square(actuals-predicted))/actuals.shape[0]\n",
    "    elif metric=='rmse':\n",
    "        val = np.sqrt(val)\n",
    "    # MAE\n",
    "    elif metric=='mae':\n",
    "        val = np.sum(np.abs(actuals-predicted))/actuals.shape[0]\n",
    "    else:\n",
    "        val = None\n",
    "\n",
    "    return val\n",
    "\n",
    "# BG/NBD 모형 평가\n",
    "def evaluate_bgnbd_model(param):\n",
    "\n",
    "    data   = inputs\n",
    "    l2_reg = param\n",
    "\n",
    "    # 모형 적합\n",
    "    model = BetaGeoFitter(penalizer_coef=l2_reg)\n",
    "    model.fit(data['frequency_cal'], data['recency_cal'], data['T_cal'])\n",
    "\n",
    "    # 모형 평가\n",
    "    frequency_actual = data['frequency_holdout']\n",
    "    frequency_predicted = model.predict(data['duration_holdout']\n",
    "                                        , data['frequency_cal']\n",
    "                                        , data['recency_cal']\n",
    "                                        , data['T_cal']\n",
    "                                       )\n",
    "    mse = score_model(frequency_actual, frequency_predicted, 'mse')\n",
    "\n",
    "    return {'loss': mse, 'status': STATUS_OK}\n",
    "\n",
    "# Gamma/Gamma 모델 평가\n",
    "def evaluate_gg_model(param):\n",
    "\n",
    "    data   = inputs\n",
    "    l2_reg = param\n",
    "\n",
    "    # GammaGamma 모형 적합\n",
    "    model = GammaGammaFitter(penalizer_coef=l2_reg)\n",
    "    model.fit(data['frequency_cal'], data['monetary_value_cal'])\n",
    "\n",
    "    # 모형 평가\n",
    "    monetary_actual = data['monetary_value_holdout']\n",
    "    monetary_predicted = model.conditional_expected_average_profit(data['frequency_holdout'], data['monetary_value_holdout'])\n",
    "    mse = score_model(monetary_actual, monetary_predicted, 'mse')\n",
    "\n",
    "    # return score and status\n",
    "    return {'loss': mse, 'status': STATUS_OK}"
   ]
  },
  {
   "cell_type": "code",
   "execution_count": null,
   "metadata": {},
   "outputs": [],
   "source": [
    "search_space = hp.uniform('l2', 0.0, 1.0)\n",
    "algo = tpe.suggest\n",
    "trials = Trials()\n",
    "inputs = filtered_df\n",
    "\n",
    "argmin = fmin(\n",
    "  fn = evaluate_bgnbd_model, # 목적함수\n",
    "  space = search_space,      # 파라미터 공간\n",
    "  algo = algo,               # 최적화 알고리즘: Tree of Parzen Estimators (TPE)\n",
    "  max_evals=100,             # 반복수\n",
    "  trials=trials            \n",
    "  )\n",
    "\n",
    "l2_bgnbd = space_eval(search_space,argmin)\n",
    "print(l2_bgnbd)"
   ]
  },
  {
   "cell_type": "code",
   "execution_count": null,
   "metadata": {},
   "outputs": [],
   "source": [
    "search_space = hp.uniform('l2', 0.0, 1.0)\n",
    "algo = tpe.suggest\n",
    "trials = Trials()\n",
    "inputs = filtered_df\n",
    "\n",
    "# GammaGamma\n",
    "argmin = fmin(\n",
    "  fn = evaluate_gg_model,\n",
    "  space = search_space,\n",
    "  algo = algo,\n",
    "  max_evals=100,\n",
    "  trials=trials\n",
    "  )\n",
    "\n",
    "l2_gg = space_eval(search_space,argmin)\n",
    "print(l2_gg)"
   ]
  },
  {
   "cell_type": "code",
   "execution_count": null,
   "metadata": {},
   "outputs": [],
   "source": [
    "lifetimes_model = BetaGeoFitter(penalizer_coef=l2_bgnbd) #l2_bgnbd = hyperopt로 나온 결과\n",
    "# calibration 데이터의 R,F,T로 모형 적합\n",
    "lifetimes_model.fit(filtered_df['frequency_cal'], filtered_df['recency_cal'], filtered_df['T_cal']) \n",
    "\n",
    "# holdout 데이터로 모델 평가: F의 실제값과 예측값의 MSE\n",
    "frequency_actual = filtered_df['frequency_holdout']\n",
    "frequency_predicted = lifetimes_model.predict(filtered_df['duration_holdout']\n",
    "                                    ,filtered_df['frequency_cal']\n",
    "                                    , filtered_df['recency_cal']\n",
    "                                    , filtered_df['T_cal'])\n",
    "mse = score_model(frequency_actual, frequency_predicted, 'mse')\n",
    "print('MSE: {0}'.format(mse))"
   ]
  },
  {
   "cell_type": "code",
   "execution_count": null,
   "metadata": {},
   "outputs": [],
   "source": [
    "lifetimes_model.summary"
   ]
  },
  {
   "cell_type": "code",
   "execution_count": null,
   "metadata": {},
   "outputs": [],
   "source": [
    "# 고객별 구매율 분포\n",
    "from scipy.stats import gamma\n",
    "coefs = lifetimes_model.summary['coef']\n",
    "x = np.linspace (0, 2, 100) \n",
    "y = gamma.pdf(x, a=coefs['r'], scale=1/coefs['alpha']) # BG/NBD에서의 모수 alpha는 scale 모수가 아닌 rate 모수이므로 역수!\n",
    "\n",
    "plt.plot(x, y)"
   ]
  },
  {
   "cell_type": "code",
   "execution_count": null,
   "metadata": {},
   "outputs": [],
   "source": [
    "# 고객별 구매하지 않을 분포\n",
    "from scipy.stats import gamma\n",
    "from scipy.stats import beta\n",
    "coefs = lifetimes_model.summary['coef']\n",
    "x = np.linspace (0, 2, 100) \n",
    "y = beta.pdf(x, a=coefs['a'], b=coefs['b']) \n",
    "\n",
    "plt.plot(x, y)"
   ]
  },
  {
   "cell_type": "code",
   "execution_count": null,
   "metadata": {},
   "outputs": [],
   "source": [
    "spend_model = GammaGammaFitter(penalizer_coef=l2_gg)\n",
    "spend_model.fit(filtered_df['frequency_cal'], filtered_df['monetary_value_cal'])\n",
    "\n",
    "# conditional_expected_average_profit: 고객별 평균 구매 금액 예측\n",
    "monetary_actual = filtered_df['monetary_value_holdout']\n",
    "monetary_predicted = spend_model.conditional_expected_average_profit(filtered_df['frequency_holdout']\n",
    "                                                                    ,filtered_df['monetary_value_holdout'])\n",
    "\n",
    "mse = score_model(monetary_actual, monetary_predicted, 'mse')\n",
    "\n",
    "print('MSE: {0}'.format(mse))"
   ]
  },
  {
   "cell_type": "code",
   "execution_count": null,
   "metadata": {},
   "outputs": [],
   "source": [
    "bins = 100\n",
    "plt.figure(figsize=(15, 5))\n",
    "\n",
    "plt.hist(monetary_actual, bins, label='actual', histtype='bar', color='STEELBLUE', rwidth=0.99)\n",
    "plt.hist(monetary_predicted, bins, label='predict', histtype='step', color='ORANGE',  rwidth=0.99)\n",
    "plt.legend(loc='upper right')"
   ]
  },
  {
   "cell_type": "code",
   "execution_count": null,
   "metadata": {},
   "outputs": [],
   "source": [
    "# penalizer_coef 없이 했을 때의 결과\n",
    "spend_model = GammaGammaFitter(penalizer_coef=0)\n",
    "spend_model.fit(filtered_df['frequency_cal'], filtered_df['monetary_value_cal'])\n",
    "\n",
    "# 평가\n",
    "monetary_actual = filtered_df['monetary_value_holdout']\n",
    "monetary_predicted = spend_model.conditional_expected_average_profit(filtered_df['frequency_holdout']\n",
    "                                                                    ,filtered_df['monetary_value_holdout'])\n",
    "\n",
    "mse = score_model(monetary_actual, monetary_predicted, 'mse')\n",
    "\n",
    "bins = 100\n",
    "plt.figure(figsize=(15, 5))\n",
    "\n",
    "plt.hist(monetary_actual, bins, label='actual', histtype='bar', color='STEELBLUE', rwidth=0.99)\n",
    "plt.hist( monetary_predicted, bins, label='predict', histtype='step', color='ORANGE',  rwidth=0.99)\n",
    "plt.legend(loc='upper right')"
   ]
  },
  {
   "cell_type": "code",
   "execution_count": null,
   "metadata": {},
   "outputs": [],
   "source": [
    "final_df = whole_filtered_df.copy()\n",
    "final_df['ltv'] = spend_model.customer_lifetime_value(lifetimes_model,\n",
    "                                                     final_df['frequency'],\n",
    "                                                     final_df['recency'],\n",
    "                                                     final_df['T'],\n",
    "                                                     final_df['monetary_value'],\n",
    "                                                     time=12,\n",
    "                                                     discount_rate=0.01\n",
    "                                                     )"
   ]
  },
  {
   "cell_type": "code",
   "execution_count": null,
   "metadata": {},
   "outputs": [],
   "source": [
    "t=92 \n",
    "final_df['predicted_purchases'] = lifetimes_model.conditional_expected_number_of_purchases_up_to_time(t\n",
    "                                                                                      , final_df['frequency']\n",
    "                                                                                     , final_df['recency']\n",
    "                                                                                     , final_df['T'])"
   ]
  },
  {
   "cell_type": "code",
   "execution_count": null,
   "metadata": {},
   "outputs": [],
   "source": [
    "final_df['predicted_monetary_value'] = spend_model.conditional_expected_average_profit(final_df['frequency']\n",
    "                                                                    ,final_df['monetary_value'])"
   ]
  },
  {
   "cell_type": "code",
   "execution_count": null,
   "metadata": {},
   "outputs": [],
   "source": [
    "final_df.sort_values(by='ltv', ascending=False)"
   ]
  }
 ],
 "metadata": {
  "kernelspec": {
   "display_name": "base",
   "language": "python",
   "name": "python3"
  },
  "language_info": {
   "name": "python",
   "version": "3.10.9"
  },
  "orig_nbformat": 4
 },
 "nbformat": 4,
 "nbformat_minor": 2
}
