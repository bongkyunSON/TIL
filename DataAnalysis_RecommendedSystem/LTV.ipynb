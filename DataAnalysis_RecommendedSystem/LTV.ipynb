{
 "cells": [
  {
   "attachments": {},
   "cell_type": "markdown",
   "metadata": {},
   "source": [
    "# Data Import"
   ]
  },
  {
   "cell_type": "code",
   "execution_count": 25,
   "metadata": {},
   "outputs": [],
   "source": [
    "import pandas as pd\n",
    "import matplotlib as mpl\n",
    "import matplotlib.pyplot as plt\n",
    "import seaborn as sns\n",
    "import numpy as np\n",
    "\n",
    "from datetime import timedelta\n",
    "\n",
    "from datetime import datetime\n",
    "from lifetimes.plotting import *\n",
    "from lifetimes.utils import *\n",
    "from lifetimes import BetaGeoFitter\n",
    "from lifetimes.fitters.gamma_gamma_fitter import GammaGammaFitter\n",
    "\n",
    "from hyperopt import hp, fmin, tpe, rand, SparkTrials, STATUS_OK, space_eval, Trials"
   ]
  },
  {
   "cell_type": "code",
   "execution_count": 26,
   "metadata": {},
   "outputs": [],
   "source": [
    "FILES_DIR = './files/'\n",
    "total = pd.read_csv(FILES_DIR + 'total.csv')"
   ]
  },
  {
   "cell_type": "code",
   "execution_count": 27,
   "metadata": {},
   "outputs": [],
   "source": [
    "raw_data = total.copy()"
   ]
  },
  {
   "cell_type": "code",
   "execution_count": 28,
   "metadata": {},
   "outputs": [],
   "source": [
    "raw_data.drop('Unnamed: 0', axis=1, inplace=True)"
   ]
  },
  {
   "attachments": {},
   "cell_type": "markdown",
   "metadata": {},
   "source": [
    "# 전체고객 LTV"
   ]
  },
  {
   "cell_type": "code",
   "execution_count": 29,
   "metadata": {},
   "outputs": [],
   "source": [
    "suc_data = raw_data[raw_data['event_name'] == 'purchase_success'] # 전체고객"
   ]
  },
  {
   "cell_type": "code",
   "execution_count": 30,
   "metadata": {},
   "outputs": [
    {
     "data": {
      "text/html": [
       "<div>\n",
       "<style scoped>\n",
       "    .dataframe tbody tr th:only-of-type {\n",
       "        vertical-align: middle;\n",
       "    }\n",
       "\n",
       "    .dataframe tbody tr th {\n",
       "        vertical-align: top;\n",
       "    }\n",
       "\n",
       "    .dataframe thead th {\n",
       "        text-align: right;\n",
       "    }\n",
       "</style>\n",
       "<table border=\"1\" class=\"dataframe\">\n",
       "  <thead>\n",
       "    <tr style=\"text-align: right;\">\n",
       "      <th></th>\n",
       "      <th>user_no</th>\n",
       "      <th>event_timestamp</th>\n",
       "      <th>price</th>\n",
       "    </tr>\n",
       "  </thead>\n",
       "  <tbody>\n",
       "    <tr>\n",
       "      <th>40</th>\n",
       "      <td>l1wFRhb3av5rTWyYEofrIA==</td>\n",
       "      <td>2021-07-22</td>\n",
       "      <td>128000.0</td>\n",
       "    </tr>\n",
       "    <tr>\n",
       "      <th>49</th>\n",
       "      <td>l1wFRhb3av5rTWyYEofrIA==</td>\n",
       "      <td>2021-07-22</td>\n",
       "      <td>128000.0</td>\n",
       "    </tr>\n",
       "    <tr>\n",
       "      <th>52</th>\n",
       "      <td>Y5GM63HPuFwrRnvYhDu7sQ==</td>\n",
       "      <td>2021-06-05</td>\n",
       "      <td>29900.0</td>\n",
       "    </tr>\n",
       "    <tr>\n",
       "      <th>53</th>\n",
       "      <td>Y5GM63HPuFwrRnvYhDu7sQ==</td>\n",
       "      <td>2021-06-05</td>\n",
       "      <td>29900.0</td>\n",
       "    </tr>\n",
       "    <tr>\n",
       "      <th>55</th>\n",
       "      <td>Y5GM63HPuFwrRnvYhDu7sQ==</td>\n",
       "      <td>2021-06-10</td>\n",
       "      <td>38000.0</td>\n",
       "    </tr>\n",
       "    <tr>\n",
       "      <th>...</th>\n",
       "      <td>...</td>\n",
       "      <td>...</td>\n",
       "      <td>...</td>\n",
       "    </tr>\n",
       "    <tr>\n",
       "      <th>5544515</th>\n",
       "      <td>wyp6zUTd+pvmORMJUL+q5A==</td>\n",
       "      <td>2021-08-04</td>\n",
       "      <td>19000.0</td>\n",
       "    </tr>\n",
       "    <tr>\n",
       "      <th>5544516</th>\n",
       "      <td>BccBYWyTrdoNwc3A6leNzA==</td>\n",
       "      <td>2021-08-04</td>\n",
       "      <td>89000.0</td>\n",
       "    </tr>\n",
       "    <tr>\n",
       "      <th>5544518</th>\n",
       "      <td>01Lx4dn3rhevMsn3FmXm2g==</td>\n",
       "      <td>2021-08-04</td>\n",
       "      <td>15000.0</td>\n",
       "    </tr>\n",
       "    <tr>\n",
       "      <th>5544526</th>\n",
       "      <td>8okJXtYVKYoBoBAG823v2Q==</td>\n",
       "      <td>2021-08-04</td>\n",
       "      <td>25000.0</td>\n",
       "    </tr>\n",
       "    <tr>\n",
       "      <th>5544528</th>\n",
       "      <td>vrE4nCVISqKLZ59f+eGRfA==</td>\n",
       "      <td>2021-08-04</td>\n",
       "      <td>99000.0</td>\n",
       "    </tr>\n",
       "  </tbody>\n",
       "</table>\n",
       "<p>436099 rows × 3 columns</p>\n",
       "</div>"
      ],
      "text/plain": [
       "                          user_no event_timestamp     price\n",
       "40       l1wFRhb3av5rTWyYEofrIA==      2021-07-22  128000.0\n",
       "49       l1wFRhb3av5rTWyYEofrIA==      2021-07-22  128000.0\n",
       "52       Y5GM63HPuFwrRnvYhDu7sQ==      2021-06-05   29900.0\n",
       "53       Y5GM63HPuFwrRnvYhDu7sQ==      2021-06-05   29900.0\n",
       "55       Y5GM63HPuFwrRnvYhDu7sQ==      2021-06-10   38000.0\n",
       "...                           ...             ...       ...\n",
       "5544515  wyp6zUTd+pvmORMJUL+q5A==      2021-08-04   19000.0\n",
       "5544516  BccBYWyTrdoNwc3A6leNzA==      2021-08-04   89000.0\n",
       "5544518  01Lx4dn3rhevMsn3FmXm2g==      2021-08-04   15000.0\n",
       "5544526  8okJXtYVKYoBoBAG823v2Q==      2021-08-04   25000.0\n",
       "5544528  vrE4nCVISqKLZ59f+eGRfA==      2021-08-04   99000.0\n",
       "\n",
       "[436099 rows x 3 columns]"
      ]
     },
     "execution_count": 30,
     "metadata": {},
     "output_type": "execute_result"
    }
   ],
   "source": [
    "ltv_data = suc_data[['user_no', 'event_timestamp', 'price']]\n",
    "ltv_data['event_timestamp'] = pd.to_datetime(ltv_data['event_timestamp']).dt.date\n",
    "ltv_data"
   ]
  },
  {
   "cell_type": "code",
   "execution_count": 31,
   "metadata": {},
   "outputs": [
    {
     "data": {
      "text/html": [
       "<div>\n",
       "<style scoped>\n",
       "    .dataframe tbody tr th:only-of-type {\n",
       "        vertical-align: middle;\n",
       "    }\n",
       "\n",
       "    .dataframe tbody tr th {\n",
       "        vertical-align: top;\n",
       "    }\n",
       "\n",
       "    .dataframe thead th {\n",
       "        text-align: right;\n",
       "    }\n",
       "</style>\n",
       "<table border=\"1\" class=\"dataframe\">\n",
       "  <thead>\n",
       "    <tr style=\"text-align: right;\">\n",
       "      <th></th>\n",
       "      <th>frequency</th>\n",
       "      <th>recency</th>\n",
       "      <th>T</th>\n",
       "      <th>monetary_value</th>\n",
       "    </tr>\n",
       "    <tr>\n",
       "      <th>user_no</th>\n",
       "      <th></th>\n",
       "      <th></th>\n",
       "      <th></th>\n",
       "      <th></th>\n",
       "    </tr>\n",
       "  </thead>\n",
       "  <tbody>\n",
       "    <tr>\n",
       "      <th>+++T9c17sr6wEYOy9UFv3w==</th>\n",
       "      <td>3.0</td>\n",
       "      <td>18.0</td>\n",
       "      <td>50.0</td>\n",
       "      <td>80200.0</td>\n",
       "    </tr>\n",
       "    <tr>\n",
       "      <th>+++aQH5NnhiU/9qECKk3uQ==</th>\n",
       "      <td>1.0</td>\n",
       "      <td>11.0</td>\n",
       "      <td>55.0</td>\n",
       "      <td>68000.0</td>\n",
       "    </tr>\n",
       "    <tr>\n",
       "      <th>++0bwiYVJ/TAsCpxI4UCuw==</th>\n",
       "      <td>0.0</td>\n",
       "      <td>0.0</td>\n",
       "      <td>8.0</td>\n",
       "      <td>0.0</td>\n",
       "    </tr>\n",
       "    <tr>\n",
       "      <th>++1HN9s1imztN8ftPCt3LA==</th>\n",
       "      <td>0.0</td>\n",
       "      <td>0.0</td>\n",
       "      <td>55.0</td>\n",
       "      <td>0.0</td>\n",
       "    </tr>\n",
       "    <tr>\n",
       "      <th>++2StXdzG0Bj/Kkb5EFcog==</th>\n",
       "      <td>0.0</td>\n",
       "      <td>0.0</td>\n",
       "      <td>36.0</td>\n",
       "      <td>0.0</td>\n",
       "    </tr>\n",
       "  </tbody>\n",
       "</table>\n",
       "</div>"
      ],
      "text/plain": [
       "                          frequency  recency     T  monetary_value\n",
       "user_no                                                           \n",
       "+++T9c17sr6wEYOy9UFv3w==        3.0     18.0  50.0         80200.0\n",
       "+++aQH5NnhiU/9qECKk3uQ==        1.0     11.0  55.0         68000.0\n",
       "++0bwiYVJ/TAsCpxI4UCuw==        0.0      0.0   8.0             0.0\n",
       "++1HN9s1imztN8ftPCt3LA==        0.0      0.0  55.0             0.0\n",
       "++2StXdzG0Bj/Kkb5EFcog==        0.0      0.0  36.0             0.0"
      ]
     },
     "execution_count": 31,
     "metadata": {},
     "output_type": "execute_result"
    }
   ],
   "source": [
    "current_date = ltv_data['event_timestamp'].max()\n",
    "\n",
    "metrics_df = summary_data_from_transaction_data(ltv_data\n",
    "                                          , customer_id_col = 'user_no'\n",
    "                                          , datetime_col = 'event_timestamp'\n",
    "                                          , monetary_value_col='price'\n",
    "                                          , observation_period_end=current_date)\n",
    "metrics_df.head()"
   ]
  },
  {
   "cell_type": "code",
   "execution_count": 32,
   "metadata": {},
   "outputs": [],
   "source": [
    "l2_reg = 0.01 # lifetime 공식 홈페이지에서 0.1 ~ 0.001사이값을 넣어주는게 효과적이라고 한다\n",
    "model = BetaGeoFitter(penalizer_coef=l2_reg)\n",
    "model = GammaGammaFitter(penalizer_coef=l2_reg)"
   ]
  },
  {
   "cell_type": "code",
   "execution_count": 33,
   "metadata": {},
   "outputs": [
    {
     "data": {
      "text/html": [
       "<div>\n",
       "<style scoped>\n",
       "    .dataframe tbody tr th:only-of-type {\n",
       "        vertical-align: middle;\n",
       "    }\n",
       "\n",
       "    .dataframe tbody tr th {\n",
       "        vertical-align: top;\n",
       "    }\n",
       "\n",
       "    .dataframe thead th {\n",
       "        text-align: right;\n",
       "    }\n",
       "</style>\n",
       "<table border=\"1\" class=\"dataframe\">\n",
       "  <thead>\n",
       "    <tr style=\"text-align: right;\">\n",
       "      <th></th>\n",
       "      <th>frequency_cal</th>\n",
       "      <th>recency_cal</th>\n",
       "      <th>T_cal</th>\n",
       "      <th>monetary_value_cal</th>\n",
       "      <th>frequency_holdout</th>\n",
       "      <th>monetary_value_holdout</th>\n",
       "      <th>duration_holdout</th>\n",
       "    </tr>\n",
       "    <tr>\n",
       "      <th>user_no</th>\n",
       "      <th></th>\n",
       "      <th></th>\n",
       "      <th></th>\n",
       "      <th></th>\n",
       "      <th></th>\n",
       "      <th></th>\n",
       "      <th></th>\n",
       "    </tr>\n",
       "  </thead>\n",
       "  <tbody>\n",
       "    <tr>\n",
       "      <th>+++T9c17sr6wEYOy9UFv3w==</th>\n",
       "      <td>3.0</td>\n",
       "      <td>18.0</td>\n",
       "      <td>20.0</td>\n",
       "      <td>80200.0</td>\n",
       "      <td>0.0</td>\n",
       "      <td>0.0</td>\n",
       "      <td>30.0</td>\n",
       "    </tr>\n",
       "    <tr>\n",
       "      <th>+++aQH5NnhiU/9qECKk3uQ==</th>\n",
       "      <td>1.0</td>\n",
       "      <td>11.0</td>\n",
       "      <td>25.0</td>\n",
       "      <td>68000.0</td>\n",
       "      <td>0.0</td>\n",
       "      <td>0.0</td>\n",
       "      <td>30.0</td>\n",
       "    </tr>\n",
       "    <tr>\n",
       "      <th>++1HN9s1imztN8ftPCt3LA==</th>\n",
       "      <td>0.0</td>\n",
       "      <td>0.0</td>\n",
       "      <td>25.0</td>\n",
       "      <td>0.0</td>\n",
       "      <td>0.0</td>\n",
       "      <td>0.0</td>\n",
       "      <td>30.0</td>\n",
       "    </tr>\n",
       "    <tr>\n",
       "      <th>++2StXdzG0Bj/Kkb5EFcog==</th>\n",
       "      <td>0.0</td>\n",
       "      <td>0.0</td>\n",
       "      <td>6.0</td>\n",
       "      <td>0.0</td>\n",
       "      <td>0.0</td>\n",
       "      <td>0.0</td>\n",
       "      <td>30.0</td>\n",
       "    </tr>\n",
       "    <tr>\n",
       "      <th>++2c5Jr8sOEvXXs326kLYQ==</th>\n",
       "      <td>0.0</td>\n",
       "      <td>0.0</td>\n",
       "      <td>16.0</td>\n",
       "      <td>0.0</td>\n",
       "      <td>0.0</td>\n",
       "      <td>0.0</td>\n",
       "      <td>30.0</td>\n",
       "    </tr>\n",
       "  </tbody>\n",
       "</table>\n",
       "</div>"
      ],
      "text/plain": [
       "                          frequency_cal  recency_cal  T_cal  \\\n",
       "user_no                                                       \n",
       "+++T9c17sr6wEYOy9UFv3w==            3.0         18.0   20.0   \n",
       "+++aQH5NnhiU/9qECKk3uQ==            1.0         11.0   25.0   \n",
       "++1HN9s1imztN8ftPCt3LA==            0.0          0.0   25.0   \n",
       "++2StXdzG0Bj/Kkb5EFcog==            0.0          0.0    6.0   \n",
       "++2c5Jr8sOEvXXs326kLYQ==            0.0          0.0   16.0   \n",
       "\n",
       "                          monetary_value_cal  frequency_holdout  \\\n",
       "user_no                                                           \n",
       "+++T9c17sr6wEYOy9UFv3w==             80200.0                0.0   \n",
       "+++aQH5NnhiU/9qECKk3uQ==             68000.0                0.0   \n",
       "++1HN9s1imztN8ftPCt3LA==                 0.0                0.0   \n",
       "++2StXdzG0Bj/Kkb5EFcog==                 0.0                0.0   \n",
       "++2c5Jr8sOEvXXs326kLYQ==                 0.0                0.0   \n",
       "\n",
       "                          monetary_value_holdout  duration_holdout  \n",
       "user_no                                                             \n",
       "+++T9c17sr6wEYOy9UFv3w==                     0.0              30.0  \n",
       "+++aQH5NnhiU/9qECKk3uQ==                     0.0              30.0  \n",
       "++1HN9s1imztN8ftPCt3LA==                     0.0              30.0  \n",
       "++2StXdzG0Bj/Kkb5EFcog==                     0.0              30.0  \n",
       "++2c5Jr8sOEvXXs326kLYQ==                     0.0              30.0  "
      ]
     },
     "execution_count": 33,
     "metadata": {},
     "output_type": "execute_result"
    }
   ],
   "source": [
    "holdout_days = 30 # 총일수 92일\n",
    "calibration_end_date = current_date - timedelta(days = holdout_days)\n",
    "\n",
    "metrics_cal_df = calibration_and_holdout_data(ltv_data\n",
    "                                          ,customer_id_col = 'user_no'\n",
    "                                          ,datetime_col = 'event_timestamp'\n",
    "                                          ,calibration_period_end=calibration_end_date # train 데이터 기간\n",
    "                                          ,observation_period_end=current_date         # 끝 기간\n",
    "                                          ,monetary_value_col='price')\n",
    "\n",
    "metrics_cal_df.head()"
   ]
  },
  {
   "cell_type": "code",
   "execution_count": 34,
   "metadata": {},
   "outputs": [],
   "source": [
    "## frequency가 0인 것은 제외하기\n",
    "whole_filtered_df = metrics_df[metrics_df.frequency > 0]\n",
    "filtered_df       = metrics_cal_df[metrics_cal_df.frequency_cal > 0]"
   ]
  },
  {
   "cell_type": "code",
   "execution_count": 35,
   "metadata": {},
   "outputs": [],
   "source": [
    "# 평가 지표: default는 MSE\n",
    "def score_model(actuals, predicted, metric='mse'):\n",
    "\n",
    "    metric = metric.lower()\n",
    "\n",
    "    # MSE / RMSE\n",
    "    if metric=='mse' or metric=='rmse':\n",
    "        val = np.sum(np.square(actuals-predicted))/actuals.shape[0]\n",
    "    elif metric=='rmse':\n",
    "        val = np.sqrt(val)\n",
    "    # MAE\n",
    "    elif metric=='mae':\n",
    "        val = np.sum(np.abs(actuals-predicted))/actuals.shape[0]\n",
    "    else:\n",
    "        val = None\n",
    "\n",
    "    return val\n",
    "\n",
    "# BG/NBD 모형 평가\n",
    "def evaluate_bgnbd_model(param):\n",
    "\n",
    "    data   = inputs\n",
    "    l2_reg = param\n",
    "\n",
    "    # 모형 적합\n",
    "    model = BetaGeoFitter(penalizer_coef=l2_reg)\n",
    "    model.fit(data['frequency_cal'], data['recency_cal'], data['T_cal'])\n",
    "\n",
    "    # 모형 평가\n",
    "    frequency_actual = data['frequency_holdout']\n",
    "    frequency_predicted = model.predict(data['duration_holdout']\n",
    "                                        , data['frequency_cal']\n",
    "                                        , data['recency_cal']\n",
    "                                        , data['T_cal']\n",
    "                                       )\n",
    "    mse = score_model(frequency_actual, frequency_predicted, 'mse')\n",
    "\n",
    "    return {'loss': mse, 'status': STATUS_OK}\n",
    "\n",
    "# Gamma/Gamma 모델 평가\n",
    "def evaluate_gg_model(param):\n",
    "\n",
    "    data   = inputs\n",
    "    l2_reg = param\n",
    "\n",
    "    # GammaGamma 모형 적합\n",
    "    model = GammaGammaFitter(penalizer_coef=l2_reg)\n",
    "    model.fit(data['frequency_cal'], data['monetary_value_cal'])\n",
    "\n",
    "    # 모형 평가\n",
    "    monetary_actual = data['monetary_value_holdout']\n",
    "    monetary_predicted = model.conditional_expected_average_profit(data['frequency_holdout'], data['monetary_value_holdout'])\n",
    "    mse = score_model(monetary_actual, monetary_predicted, 'mse')\n",
    "\n",
    "    # return score and status\n",
    "    return {'loss': mse, 'status': STATUS_OK}"
   ]
  },
  {
   "cell_type": "code",
   "execution_count": 36,
   "metadata": {},
   "outputs": [
    {
     "name": "stdout",
     "output_type": "stream",
     "text": [
      "100%|██████████| 100/100 [00:44<00:00,  2.24trial/s, best loss: 1.8870424064710776]\n",
      "0.0004752678972260358\n"
     ]
    }
   ],
   "source": [
    "search_space = hp.uniform('l2', 0.0, 1.0)\n",
    "algo = tpe.suggest\n",
    "trials = Trials()\n",
    "inputs = filtered_df\n",
    "\n",
    "argmin = fmin(\n",
    "  fn = evaluate_bgnbd_model, # 목적함수\n",
    "  space = search_space,      # 파라미터 공간\n",
    "  algo = algo,               # 최적화 알고리즘: Tree of Parzen Estimators (TPE)\n",
    "  max_evals=100,             # 반복수\n",
    "  trials=trials            \n",
    "  )\n",
    "\n",
    "l2_bgnbd = space_eval(search_space,argmin)\n",
    "print(l2_bgnbd)"
   ]
  },
  {
   "cell_type": "code",
   "execution_count": 37,
   "metadata": {},
   "outputs": [
    {
     "name": "stdout",
     "output_type": "stream",
     "text": [
      "100%|██████████| 100/100 [00:22<00:00,  4.49trial/s, best loss: 32514298.177239478]\n",
      "0.0011283446393213564\n"
     ]
    }
   ],
   "source": [
    "search_space = hp.uniform('l2', 0.0, 1.0)\n",
    "algo = tpe.suggest\n",
    "trials = Trials()\n",
    "inputs = filtered_df\n",
    "\n",
    "# GammaGamma\n",
    "argmin = fmin(\n",
    "  fn = evaluate_gg_model,\n",
    "  space = search_space,\n",
    "  algo = algo,\n",
    "  max_evals=100,\n",
    "  trials=trials\n",
    "  )\n",
    "\n",
    "l2_gg = space_eval(search_space,argmin)\n",
    "print(l2_gg)"
   ]
  },
  {
   "cell_type": "code",
   "execution_count": 38,
   "metadata": {},
   "outputs": [
    {
     "name": "stdout",
     "output_type": "stream",
     "text": [
      "MSE: 1.8870424064710776\n"
     ]
    }
   ],
   "source": [
    "lifetimes_model = BetaGeoFitter(penalizer_coef=l2_bgnbd) #l2_bgnbd = hyperopt로 나온 결과\n",
    "# calibration 데이터의 R,F,T로 모형 적합\n",
    "lifetimes_model.fit(filtered_df['frequency_cal'], filtered_df['recency_cal'], filtered_df['T_cal']) \n",
    "\n",
    "# holdout 데이터로 모델 평가: F의 실제값과 예측값의 MSE\n",
    "frequency_actual = filtered_df['frequency_holdout']\n",
    "frequency_predicted = lifetimes_model.predict(filtered_df['duration_holdout']\n",
    "                                    ,filtered_df['frequency_cal']\n",
    "                                    , filtered_df['recency_cal']\n",
    "                                    , filtered_df['T_cal'])\n",
    "mse = score_model(frequency_actual, frequency_predicted, 'mse')\n",
    "print('MSE: {0}'.format(mse))"
   ]
  },
  {
   "cell_type": "code",
   "execution_count": 39,
   "metadata": {},
   "outputs": [
    {
     "data": {
      "text/html": [
       "<div>\n",
       "<style scoped>\n",
       "    .dataframe tbody tr th:only-of-type {\n",
       "        vertical-align: middle;\n",
       "    }\n",
       "\n",
       "    .dataframe tbody tr th {\n",
       "        vertical-align: top;\n",
       "    }\n",
       "\n",
       "    .dataframe thead th {\n",
       "        text-align: right;\n",
       "    }\n",
       "</style>\n",
       "<table border=\"1\" class=\"dataframe\">\n",
       "  <thead>\n",
       "    <tr style=\"text-align: right;\">\n",
       "      <th></th>\n",
       "      <th>coef</th>\n",
       "      <th>se(coef)</th>\n",
       "      <th>lower 95% bound</th>\n",
       "      <th>upper 95% bound</th>\n",
       "    </tr>\n",
       "  </thead>\n",
       "  <tbody>\n",
       "    <tr>\n",
       "      <th>r</th>\n",
       "      <td>6.241713</td>\n",
       "      <td>0.113586</td>\n",
       "      <td>6.019085</td>\n",
       "      <td>6.464341</td>\n",
       "    </tr>\n",
       "    <tr>\n",
       "      <th>alpha</th>\n",
       "      <td>55.900406</td>\n",
       "      <td>1.123277</td>\n",
       "      <td>53.698783</td>\n",
       "      <td>58.102028</td>\n",
       "    </tr>\n",
       "    <tr>\n",
       "      <th>a</th>\n",
       "      <td>0.552877</td>\n",
       "      <td>0.031784</td>\n",
       "      <td>0.490581</td>\n",
       "      <td>0.615173</td>\n",
       "    </tr>\n",
       "    <tr>\n",
       "      <th>b</th>\n",
       "      <td>0.786707</td>\n",
       "      <td>0.048491</td>\n",
       "      <td>0.691665</td>\n",
       "      <td>0.881749</td>\n",
       "    </tr>\n",
       "  </tbody>\n",
       "</table>\n",
       "</div>"
      ],
      "text/plain": [
       "            coef  se(coef)  lower 95% bound  upper 95% bound\n",
       "r       6.241713  0.113586         6.019085         6.464341\n",
       "alpha  55.900406  1.123277        53.698783        58.102028\n",
       "a       0.552877  0.031784         0.490581         0.615173\n",
       "b       0.786707  0.048491         0.691665         0.881749"
      ]
     },
     "execution_count": 39,
     "metadata": {},
     "output_type": "execute_result"
    }
   ],
   "source": [
    "lifetimes_model.summary"
   ]
  },
  {
   "cell_type": "code",
   "execution_count": 40,
   "metadata": {},
   "outputs": [
    {
     "data": {
      "text/plain": [
       "[<matplotlib.lines.Line2D at 0x1f243133c40>]"
      ]
     },
     "execution_count": 40,
     "metadata": {},
     "output_type": "execute_result"
    },
    {
     "data": {
      "image/png": "[encoded data removed]",
      "text/plain": [
       "<Figure size 640x480 with 1 Axes>"
      ]
     },
     "metadata": {},
     "output_type": "display_data"
    }
   ],
   "source": [
    "# 고객별 구매율 분포\n",
    "from scipy.stats import gamma\n",
    "coefs = lifetimes_model.summary['coef']\n",
    "x = np.linspace (0, 2, 100) \n",
    "y = gamma.pdf(x, a=coefs['r'], scale=1/coefs['alpha']) # BG/NBD에서의 모수 alpha는 scale 모수가 아닌 rate 모수이므로 역수!\n",
    "\n",
    "plt.plot(x, y)"
   ]
  },
  {
   "cell_type": "code",
   "execution_count": 41,
   "metadata": {},
   "outputs": [
    {
     "data": {
      "text/plain": [
       "[<matplotlib.lines.Line2D at 0x1f1d80a5570>]"
      ]
     },
     "execution_count": 41,
     "metadata": {},
     "output_type": "execute_result"
    },
    {
     "data": {
      "image/png": "[encoded data removed]",
      "text/plain": [
       "<Figure size 640x480 with 1 Axes>"
      ]
     },
     "metadata": {},
     "output_type": "display_data"
    }
   ],
   "source": [
    "# 고객별 구매하지 않을 분포\n",
    "from scipy.stats import gamma\n",
    "from scipy.stats import beta\n",
    "coefs = lifetimes_model.summary['coef']\n",
    "x = np.linspace (0, 2, 100) \n",
    "y = beta.pdf(x, a=coefs['a'], b=coefs['b']) \n",
    "\n",
    "plt.plot(x, y)"
   ]
  },
  {
   "cell_type": "code",
   "execution_count": 42,
   "metadata": {},
   "outputs": [
    {
     "name": "stdout",
     "output_type": "stream",
     "text": [
      "MSE: 32514298.177239478\n"
     ]
    }
   ],
   "source": [
    "spend_model = GammaGammaFitter(penalizer_coef=l2_gg)\n",
    "spend_model.fit(filtered_df['frequency_cal'], filtered_df['monetary_value_cal'])\n",
    "\n",
    "# conditional_expected_average_profit: 고객별 평균 구매 금액 예측\n",
    "monetary_actual = filtered_df['monetary_value_holdout']\n",
    "monetary_predicted = spend_model.conditional_expected_average_profit(filtered_df['frequency_holdout']\n",
    "                                                                    ,filtered_df['monetary_value_holdout'])\n",
    "\n",
    "mse = score_model(monetary_actual, monetary_predicted, 'mse')\n",
    "\n",
    "print('MSE: {0}'.format(mse))"
   ]
  },
  {
   "cell_type": "code",
   "execution_count": 43,
   "metadata": {},
   "outputs": [
    {
     "data": {
      "text/plain": [
       "<matplotlib.legend.Legend at 0x1f24311a4d0>"
      ]
     },
     "execution_count": 43,
     "metadata": {},
     "output_type": "execute_result"
    },
    {
     "data": {
      "image/png": "[encoded data removed]",
      "text/plain": [
       "<Figure size 1500x500 with 1 Axes>"
      ]
     },
     "metadata": {},
     "output_type": "display_data"
    }
   ],
   "source": [
    "bins = 100\n",
    "plt.figure(figsize=(15, 5))\n",
    "\n",
    "plt.hist(monetary_actual, bins, label='actual', histtype='bar', color='STEELBLUE', rwidth=0.99)\n",
    "plt.hist(monetary_predicted, bins, label='predict', histtype='step', color='ORANGE',  rwidth=0.99)\n",
    "plt.legend(loc='upper right')"
   ]
  },
  {
   "cell_type": "code",
   "execution_count": 44,
   "metadata": {},
   "outputs": [
    {
     "data": {
      "text/plain": [
       "<matplotlib.legend.Legend at 0x1f1d81037f0>"
      ]
     },
     "execution_count": 44,
     "metadata": {},
     "output_type": "execute_result"
    },
    {
     "data": {
      "image/png": "[encoded data removed]",
      "text/plain": [
       "<Figure size 1500x500 with 1 Axes>"
      ]
     },
     "metadata": {},
     "output_type": "display_data"
    }
   ],
   "source": [
    "# penalizer_coef 없이 했을 때의 결과\n",
    "spend_model = GammaGammaFitter(penalizer_coef=0)\n",
    "spend_model.fit(filtered_df['frequency_cal'], filtered_df['monetary_value_cal'])\n",
    "\n",
    "# 평가\n",
    "monetary_actual = filtered_df['monetary_value_holdout']\n",
    "monetary_predicted = spend_model.conditional_expected_average_profit(filtered_df['frequency_holdout']\n",
    "                                                                    ,filtered_df['monetary_value_holdout'])\n",
    "\n",
    "mse = score_model(monetary_actual, monetary_predicted, 'mse')\n",
    "\n",
    "bins = 100\n",
    "plt.figure(figsize=(15, 5))\n",
    "\n",
    "plt.hist(monetary_actual, bins, label='actual', histtype='bar', color='STEELBLUE', rwidth=0.99)\n",
    "plt.hist( monetary_predicted, bins, label='predict', histtype='step', color='ORANGE',  rwidth=0.99)\n",
    "plt.legend(loc='upper right')"
   ]
  },
  {
   "cell_type": "code",
   "execution_count": 45,
   "metadata": {},
   "outputs": [],
   "source": [
    "final_df = whole_filtered_df.copy()\n",
    "final_df['ltv'] = spend_model.customer_lifetime_value(lifetimes_model,\n",
    "                                                     final_df['frequency'],\n",
    "                                                     final_df['recency'],\n",
    "                                                     final_df['T'],\n",
    "                                                     final_df['monetary_value'],\n",
    "                                                     time=12,\n",
    "                                                     discount_rate=0.01\n",
    "                                                     )"
   ]
  },
  {
   "cell_type": "code",
   "execution_count": 46,
   "metadata": {},
   "outputs": [],
   "source": [
    "t=92 \n",
    "final_df['predicted_purchases'] = lifetimes_model.conditional_expected_number_of_purchases_up_to_time(t\n",
    "                                                                                      , final_df['frequency']\n",
    "                                                                                     , final_df['recency']\n",
    "                                                                                     , final_df['T'])"
   ]
  },
  {
   "cell_type": "code",
   "execution_count": 47,
   "metadata": {},
   "outputs": [],
   "source": [
    "final_df['predicted_monetary_value'] = spend_model.conditional_expected_average_profit(final_df['frequency']\n",
    "                                                                    ,final_df['monetary_value'])"
   ]
  },
  {
   "cell_type": "code",
   "execution_count": 48,
   "metadata": {},
   "outputs": [
    {
     "data": {
      "text/html": [
       "<div>\n",
       "<style scoped>\n",
       "    .dataframe tbody tr th:only-of-type {\n",
       "        vertical-align: middle;\n",
       "    }\n",
       "\n",
       "    .dataframe tbody tr th {\n",
       "        vertical-align: top;\n",
       "    }\n",
       "\n",
       "    .dataframe thead th {\n",
       "        text-align: right;\n",
       "    }\n",
       "</style>\n",
       "<table border=\"1\" class=\"dataframe\">\n",
       "  <thead>\n",
       "    <tr style=\"text-align: right;\">\n",
       "      <th></th>\n",
       "      <th>frequency</th>\n",
       "      <th>recency</th>\n",
       "      <th>T</th>\n",
       "      <th>monetary_value</th>\n",
       "      <th>ltv</th>\n",
       "      <th>predicted_purchases</th>\n",
       "      <th>predicted_monetary_value</th>\n",
       "    </tr>\n",
       "    <tr>\n",
       "      <th>user_no</th>\n",
       "      <th></th>\n",
       "      <th></th>\n",
       "      <th></th>\n",
       "      <th></th>\n",
       "      <th></th>\n",
       "      <th></th>\n",
       "      <th></th>\n",
       "    </tr>\n",
       "  </thead>\n",
       "  <tbody>\n",
       "    <tr>\n",
       "      <th>b2xZVfUtjyGsZckO7j6zkg==</th>\n",
       "      <td>43.0</td>\n",
       "      <td>53.0</td>\n",
       "      <td>54.0</td>\n",
       "      <td>6.754674e+05</td>\n",
       "      <td>5.937365e+07</td>\n",
       "      <td>33.102230</td>\n",
       "      <td>6.595262e+05</td>\n",
       "    </tr>\n",
       "    <tr>\n",
       "      <th>pywOPeCTmJKudBVHC1/5iw==</th>\n",
       "      <td>5.0</td>\n",
       "      <td>50.0</td>\n",
       "      <td>57.0</td>\n",
       "      <td>2.187580e+06</td>\n",
       "      <td>2.453259e+07</td>\n",
       "      <td>5.505526</td>\n",
       "      <td>1.769608e+06</td>\n",
       "    </tr>\n",
       "    <tr>\n",
       "      <th>b/lqkmii6O9hL/CH0kWgLA==</th>\n",
       "      <td>51.0</td>\n",
       "      <td>62.0</td>\n",
       "      <td>62.0</td>\n",
       "      <td>1.968627e+05</td>\n",
       "      <td>1.968946e+07</td>\n",
       "      <td>36.692530</td>\n",
       "      <td>1.949466e+05</td>\n",
       "    </tr>\n",
       "    <tr>\n",
       "      <th>ZQbCiAWfK++gLSwDa2OqYw==</th>\n",
       "      <td>17.0</td>\n",
       "      <td>58.0</td>\n",
       "      <td>61.0</td>\n",
       "      <td>5.232024e+05</td>\n",
       "      <td>1.848900e+07</td>\n",
       "      <td>13.919441</td>\n",
       "      <td>4.951157e+05</td>\n",
       "    </tr>\n",
       "    <tr>\n",
       "      <th>DYNvLcoA3LAg4XxUzFizRQ==</th>\n",
       "      <td>20.0</td>\n",
       "      <td>56.0</td>\n",
       "      <td>58.0</td>\n",
       "      <td>4.357950e+05</td>\n",
       "      <td>1.836946e+07</td>\n",
       "      <td>16.400164</td>\n",
       "      <td>4.168708e+05</td>\n",
       "    </tr>\n",
       "    <tr>\n",
       "      <th>...</th>\n",
       "      <td>...</td>\n",
       "      <td>...</td>\n",
       "      <td>...</td>\n",
       "      <td>...</td>\n",
       "      <td>...</td>\n",
       "      <td>...</td>\n",
       "      <td>...</td>\n",
       "    </tr>\n",
       "    <tr>\n",
       "      <th>90CDewFV9JUhjckMNXjLZg==</th>\n",
       "      <td>1.0</td>\n",
       "      <td>1.0</td>\n",
       "      <td>60.0</td>\n",
       "      <td>1.150000e+04</td>\n",
       "      <td>4.723930e+03</td>\n",
       "      <td>0.029491</td>\n",
       "      <td>7.081695e+04</td>\n",
       "    </tr>\n",
       "    <tr>\n",
       "      <th>FTJcVH7vxyjf4J1+PK8x0g==</th>\n",
       "      <td>1.0</td>\n",
       "      <td>1.0</td>\n",
       "      <td>61.0</td>\n",
       "      <td>1.380000e+04</td>\n",
       "      <td>4.482302e+03</td>\n",
       "      <td>0.027559</td>\n",
       "      <td>7.183235e+04</td>\n",
       "    </tr>\n",
       "    <tr>\n",
       "      <th>CuGOw0h+hvGSzsIkz6sYyA==</th>\n",
       "      <td>1.0</td>\n",
       "      <td>1.0</td>\n",
       "      <td>62.0</td>\n",
       "      <td>1.980000e+04</td>\n",
       "      <td>4.349855e+03</td>\n",
       "      <td>0.025768</td>\n",
       "      <td>7.448122e+04</td>\n",
       "    </tr>\n",
       "    <tr>\n",
       "      <th>xsASSXZ00diR2pMrEntJDg==</th>\n",
       "      <td>1.0</td>\n",
       "      <td>1.0</td>\n",
       "      <td>62.0</td>\n",
       "      <td>1.800000e+04</td>\n",
       "      <td>4.303445e+03</td>\n",
       "      <td>0.025768</td>\n",
       "      <td>7.368656e+04</td>\n",
       "    </tr>\n",
       "    <tr>\n",
       "      <th>HheZhEN4d97BAA8gV2LQWA==</th>\n",
       "      <td>1.0</td>\n",
       "      <td>1.0</td>\n",
       "      <td>62.0</td>\n",
       "      <td>1.200000e+04</td>\n",
       "      <td>4.148746e+03</td>\n",
       "      <td>0.025768</td>\n",
       "      <td>7.103769e+04</td>\n",
       "    </tr>\n",
       "  </tbody>\n",
       "</table>\n",
       "<p>46141 rows × 7 columns</p>\n",
       "</div>"
      ],
      "text/plain": [
       "                          frequency  recency     T  monetary_value  \\\n",
       "user_no                                                              \n",
       "b2xZVfUtjyGsZckO7j6zkg==       43.0     53.0  54.0    6.754674e+05   \n",
       "pywOPeCTmJKudBVHC1/5iw==        5.0     50.0  57.0    2.187580e+06   \n",
       "b/lqkmii6O9hL/CH0kWgLA==       51.0     62.0  62.0    1.968627e+05   \n",
       "ZQbCiAWfK++gLSwDa2OqYw==       17.0     58.0  61.0    5.232024e+05   \n",
       "DYNvLcoA3LAg4XxUzFizRQ==       20.0     56.0  58.0    4.357950e+05   \n",
       "...                             ...      ...   ...             ...   \n",
       "90CDewFV9JUhjckMNXjLZg==        1.0      1.0  60.0    1.150000e+04   \n",
       "FTJcVH7vxyjf4J1+PK8x0g==        1.0      1.0  61.0    1.380000e+04   \n",
       "CuGOw0h+hvGSzsIkz6sYyA==        1.0      1.0  62.0    1.980000e+04   \n",
       "xsASSXZ00diR2pMrEntJDg==        1.0      1.0  62.0    1.800000e+04   \n",
       "HheZhEN4d97BAA8gV2LQWA==        1.0      1.0  62.0    1.200000e+04   \n",
       "\n",
       "                                   ltv  predicted_purchases  \\\n",
       "user_no                                                       \n",
       "b2xZVfUtjyGsZckO7j6zkg==  5.937365e+07            33.102230   \n",
       "pywOPeCTmJKudBVHC1/5iw==  2.453259e+07             5.505526   \n",
       "b/lqkmii6O9hL/CH0kWgLA==  1.968946e+07            36.692530   \n",
       "ZQbCiAWfK++gLSwDa2OqYw==  1.848900e+07            13.919441   \n",
       "DYNvLcoA3LAg4XxUzFizRQ==  1.836946e+07            16.400164   \n",
       "...                                ...                  ...   \n",
       "90CDewFV9JUhjckMNXjLZg==  4.723930e+03             0.029491   \n",
       "FTJcVH7vxyjf4J1+PK8x0g==  4.482302e+03             0.027559   \n",
       "CuGOw0h+hvGSzsIkz6sYyA==  4.349855e+03             0.025768   \n",
       "xsASSXZ00diR2pMrEntJDg==  4.303445e+03             0.025768   \n",
       "HheZhEN4d97BAA8gV2LQWA==  4.148746e+03             0.025768   \n",
       "\n",
       "                          predicted_monetary_value  \n",
       "user_no                                             \n",
       "b2xZVfUtjyGsZckO7j6zkg==              6.595262e+05  \n",
       "pywOPeCTmJKudBVHC1/5iw==              1.769608e+06  \n",
       "b/lqkmii6O9hL/CH0kWgLA==              1.949466e+05  \n",
       "ZQbCiAWfK++gLSwDa2OqYw==              4.951157e+05  \n",
       "DYNvLcoA3LAg4XxUzFizRQ==              4.168708e+05  \n",
       "...                                            ...  \n",
       "90CDewFV9JUhjckMNXjLZg==              7.081695e+04  \n",
       "FTJcVH7vxyjf4J1+PK8x0g==              7.183235e+04  \n",
       "CuGOw0h+hvGSzsIkz6sYyA==              7.448122e+04  \n",
       "xsASSXZ00diR2pMrEntJDg==              7.368656e+04  \n",
       "HheZhEN4d97BAA8gV2LQWA==              7.103769e+04  \n",
       "\n",
       "[46141 rows x 7 columns]"
      ]
     },
     "execution_count": 48,
     "metadata": {},
     "output_type": "execute_result"
    }
   ],
   "source": [
    "final_df.sort_values(by='ltv', ascending=False)"
   ]
  },
  {
   "attachments": {},
   "cell_type": "markdown",
   "metadata": {},
   "source": [
    "### 앱 지속시간이 길다면 LTV가 높은가?"
   ]
  },
  {
   "cell_type": "code",
   "execution_count": 50,
   "metadata": {},
   "outputs": [
    {
     "data": {
      "text/html": [
       "<div>\n",
       "<style scoped>\n",
       "    .dataframe tbody tr th:only-of-type {\n",
       "        vertical-align: middle;\n",
       "    }\n",
       "\n",
       "    .dataframe tbody tr th {\n",
       "        vertical-align: top;\n",
       "    }\n",
       "\n",
       "    .dataframe thead th {\n",
       "        text-align: right;\n",
       "    }\n",
       "</style>\n",
       "<table border=\"1\" class=\"dataframe\">\n",
       "  <thead>\n",
       "    <tr style=\"text-align: right;\">\n",
       "      <th></th>\n",
       "      <th>frequency</th>\n",
       "      <th>recency</th>\n",
       "      <th>T</th>\n",
       "      <th>monetary_value</th>\n",
       "      <th>ltv</th>\n",
       "      <th>predicted_purchases</th>\n",
       "      <th>predicted_monetary_value</th>\n",
       "    </tr>\n",
       "    <tr>\n",
       "      <th>user_no</th>\n",
       "      <th></th>\n",
       "      <th></th>\n",
       "      <th></th>\n",
       "      <th></th>\n",
       "      <th></th>\n",
       "      <th></th>\n",
       "      <th></th>\n",
       "    </tr>\n",
       "  </thead>\n",
       "  <tbody>\n",
       "    <tr>\n",
       "      <th>UxbJuWLml+M4McU8Q5hNqA==</th>\n",
       "      <td>4.0</td>\n",
       "      <td>49.0</td>\n",
       "      <td>51.0</td>\n",
       "      <td>487450.0</td>\n",
       "      <td>5.292131e+06</td>\n",
       "      <td>5.38734</td>\n",
       "      <td>398606.027076</td>\n",
       "    </tr>\n",
       "  </tbody>\n",
       "</table>\n",
       "</div>"
      ],
      "text/plain": [
       "                          frequency  recency     T  monetary_value  \\\n",
       "user_no                                                              \n",
       "UxbJuWLml+M4McU8Q5hNqA==        4.0     49.0  51.0        487450.0   \n",
       "\n",
       "                                   ltv  predicted_purchases  \\\n",
       "user_no                                                       \n",
       "UxbJuWLml+M4McU8Q5hNqA==  5.292131e+06              5.38734   \n",
       "\n",
       "                          predicted_monetary_value  \n",
       "user_no                                             \n",
       "UxbJuWLml+M4McU8Q5hNqA==             398606.027076  "
      ]
     },
     "execution_count": 50,
     "metadata": {},
     "output_type": "execute_result"
    }
   ],
   "source": [
    "final_df[final_df.index == 'UxbJuWLml+M4McU8Q5hNqA==']"
   ]
  }
 ],
 "metadata": {
  "kernelspec": {
   "display_name": "base",
   "language": "python",
   "name": "python3"
  },
  "language_info": {
   "codemirror_mode": {
    "name": "ipython",
    "version": 3
   },
   "file_extension": ".py",
   "mimetype": "text/x-python",
   "name": "python",
   "nbconvert_exporter": "python",
   "pygments_lexer": "ipython3",
   "version": "3.10.9"
  },
  "orig_nbformat": 4
 },
 "nbformat": 4,
 "nbformat_minor": 2
}
