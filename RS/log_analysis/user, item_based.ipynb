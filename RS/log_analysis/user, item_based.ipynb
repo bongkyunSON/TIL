{
 "cells": [
  {
   "cell_type": "code",
   "execution_count": 1,
   "id": "a850ee13",
   "metadata": {},
   "outputs": [],
   "source": [
    "import os\n",
    "import pandas as pd\n",
    "import numpy as np\n",
    "from math import sqrt\n",
    "from tqdm import tqdm_notebook as tqdm\n",
    "\n",
    "from sklearn.model_selection import train_test_split\n",
    "from sklearn.metrics import mean_squared_error\n",
    "\n",
    "\n",
    "import matplotlib.pyplot as plt\n",
    "import seaborn as sns\n",
    "import datetime as dt\n",
    "import matplotlib.font_manager as fm\n",
    "import matplotlib\n",
    "import itertools"
   ]
  },
  {
   "cell_type": "code",
   "execution_count": 2,
   "id": "c285ffac",
   "metadata": {},
   "outputs": [
    {
     "name": "stderr",
     "output_type": "stream",
     "text": [
      "C:\\Users\\bongkyun\\AppData\\Local\\Temp\\ipykernel_16908\\2582751676.py:1: MatplotlibDeprecationWarning: \n",
      "The get_fontconfig_fonts function was deprecated in Matplotlib 3.5 and will be removed two minor releases later.\n",
      "  fm.get_fontconfig_fonts()\n"
     ]
    }
   ],
   "source": [
    "fm.get_fontconfig_fonts()\n",
    "font_location = 'C:\\\\WINDOWS\\\\Fonts\\\\malgun.ttf' # For Windows\n",
    "font_name = fm.FontProperties(fname=font_location).get_name()\n",
    "matplotlib.rc('font', family=font_name)"
   ]
  },
  {
   "cell_type": "code",
   "execution_count": 66,
   "id": "22eb134a",
   "metadata": {},
   "outputs": [],
   "source": [
    "FILES_DIR = '../data/a1/'\n",
    "log_df = pd.read_csv(FILES_DIR + 'log_csv.csv')"
   ]
  },
  {
   "cell_type": "code",
   "execution_count": null,
   "id": "9e555437",
   "metadata": {},
   "outputs": [],
   "source": []
  }
 ],
 "metadata": {
  "kernelspec": {
   "display_name": "Python 3 (ipykernel)",
   "language": "python",
   "name": "python3"
  },
  "language_info": {
   "codemirror_mode": {
    "name": "ipython",
    "version": 3
   },
   "file_extension": ".py",
   "mimetype": "text/x-python",
   "name": "python",
   "nbconvert_exporter": "python",
   "pygments_lexer": "ipython3",
   "version": "3.9.13"
  }
 },
 "nbformat": 4,
 "nbformat_minor": 5
}
