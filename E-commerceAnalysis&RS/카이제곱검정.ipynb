{
 "cells": [
  {
   "cell_type": "code",
   "execution_count": 2,
   "metadata": {},
   "outputs": [],
   "source": [
    "from scipy.stats import chi2_contingency\n",
    "import pandas as pd\n",
    "import numpy as np"
   ]
  },
  {
   "cell_type": "code",
   "execution_count": 3,
   "metadata": {},
   "outputs": [],
   "source": [
    "FILES_DIR = './files/'\n",
    "total = pd.read_csv(FILES_DIR + 'total.csv')"
   ]
  },
  {
   "cell_type": "code",
   "execution_count": 4,
   "metadata": {},
   "outputs": [],
   "source": [
    "total_df = total.copy()"
   ]
  },
  {
   "cell_type": "code",
   "execution_count": 5,
   "metadata": {},
   "outputs": [],
   "source": [
    "male = total_df[total_df['gender'] == 'M']\n",
    "female = total_df[total_df['gender'] == 'F']"
   ]
  },
  {
   "cell_type": "code",
   "execution_count": 9,
   "metadata": {},
   "outputs": [
    {
     "name": "stdout",
     "output_type": "stream",
     "text": [
      "834277\n",
      "4343747\n"
     ]
    }
   ],
   "source": [
    "print(len(male))\n",
    "print(len(female))"
   ]
  },
  {
   "cell_type": "code",
   "execution_count": 10,
   "metadata": {},
   "outputs": [
    {
     "name": "stdout",
     "output_type": "stream",
     "text": [
      "84661\n",
      "324153\n"
     ]
    }
   ],
   "source": [
    "print(len(male[male['event_name'] == 'purchase_success']))\n",
    "print(len(female[female['event_name'] == 'purchase_success']))"
   ]
  },
  {
   "cell_type": "code",
   "execution_count": 20,
   "metadata": {},
   "outputs": [
    {
     "name": "stdout",
     "output_type": "stream",
     "text": [
      "  \n",
      "[Chi-square Analysis Result Report]\n",
      "Chi-square: 6939.56\n",
      "P-value: 0.0\n",
      "--------------------------\n",
      "Expected Values\n",
      "                      A             B\n",
      "click      65867.620057  3.429464e+05\n",
      "no_click  768409.379943  4.000801e+06\n",
      "--------------------------\n",
      "Observed Values\n",
      "               A        B\n",
      "click      84661   324153\n",
      "no_click  749616  4019594\n",
      "==========================\n",
      " \n"
     ]
    }
   ],
   "source": [
    "# data = input('[a_click, total_a, b_click, total_b]')\n",
    "data = [84661, 834277, 324153, 4343747]\n",
    " \n",
    "# temp = data\n",
    "# clean_data = [ int(temp[i]) for i in range(len(temp))]\n",
    " \n",
    "# l_result = clean_data.copy()\n",
    "l_result = data\n",
    " \n",
    "\n",
    "## Part1. Chi-square Test Report\n",
    "click = [l_result[0], l_result[2]] # A와 B의 클릭한 유저 수\n",
    "no_click = [l_result[1] - l_result[0], l_result[3] - l_result[2]]  # A와 B의 클릭 안 한 유저 수\n",
    " \n",
    "## Part2. Contingency Table & Chi-squaure Model\n",
    "## 기초 테이블 형성\n",
    "cont_table = pd.DataFrame([click, no_click], columns=['A', 'B'], index=['click', 'no_click'])\n",
    " \n",
    "## Part3. 카이제곱 독립성 검정 모델 선언\n",
    "chi2, p_val, d_f, expected = chi2_contingency([click, no_click])\n",
    " \n",
    "## 기대값 표 형성\n",
    "ex = pd.DataFrame(expected, columns = ['A', 'B'], index = ['click', 'no_click'])\n",
    " \n",
    "print(  '  '\n",
    " , '[Chi-square Analysis Result Report]'\n",
    " , 'Chi-square: {}'.format(round(chi2, 2))\n",
    " , 'P-value: {}'.format(round(p_val, 2))\n",
    " , '--------------------------'\n",
    " , 'Expected Values'\n",
    " , ex\n",
    " , '--------------------------'\n",
    " , 'Observed Values'\n",
    " , cont_table\n",
    " , '=========================='\n",
    " , ' '\n",
    " \n",
    " , sep = '\\n'\n",
    " )\n"
   ]
  }
 ],
 "metadata": {
  "kernelspec": {
   "display_name": "Python 3 (ipykernel)",
   "language": "python",
   "name": "python3"
  },
  "language_info": {
   "codemirror_mode": {
    "name": "ipython",
    "version": 3
   },
   "file_extension": ".py",
   "mimetype": "text/x-python",
   "name": "python",
   "nbconvert_exporter": "python",
   "pygments_lexer": "ipython3",
   "version": "3.10.9"
  }
 },
 "nbformat": 4,
 "nbformat_minor": 2
}
