{
 "cells": [
  {
   "cell_type": "code",
   "execution_count": 1,
   "metadata": {},
   "outputs": [],
   "source": [
    "import pandas as pd\n",
    "import matplotlib as mpl\n",
    "import matplotlib.pyplot as plt\n",
    "import seaborn as sns\n",
    "import numpy as np\n",
    "\n",
    "from datetime import timedelta\n",
    "from datetime import datetime, date\n",
    "\n",
    "from scipy.sparse import csr_matrix\n",
    "\n",
    "from math import sqrt\n",
    "\n",
    "from tqdm import tqdm_notebook as tqdm\n",
    "\n",
    "from sklearn.metrics.pairwise import cosine_similarity\n",
    "from sklearn.model_selection import train_test_split\n",
    "from sklearn.metrics import mean_squared_error\n",
    "\n",
    "import plotly.express as px"
   ]
  },
  {
   "cell_type": "code",
   "execution_count": 2,
   "metadata": {},
   "outputs": [],
   "source": [
    "FILES_DIR = '../files/'\n",
    "sample = pd.read_csv(FILES_DIR + 'sample_df.csv')"
   ]
  },
  {
   "cell_type": "code",
   "execution_count": 3,
   "metadata": {},
   "outputs": [],
   "source": [
    "sample_df = sample.copy()"
   ]
  },
  {
   "cell_type": "code",
   "execution_count": 4,
   "metadata": {},
   "outputs": [],
   "source": [
    "# binary로 문제를 풀어볼거여서 구매 말고는 -1로\n",
    "sample_df['rating'] = sample_df['event_name']\n",
    "re_name = {'rating' : {'click_item':-1, 'like_item':-1, 'add_to_cart':-1, 'purchase_success':1}}\n",
    "sample_df = sample_df.replace(re_name)\n",
    "####################################\n",
    "####################################\n",
    "sample_df = sample_df[sample_df['gender'] != 'un_gender']\n",
    "####################################\n",
    "####################################\n",
    "sample_df.loc[sample_df['age'] <= 17, 'age(Group)'] = '00 ~ 17'\n",
    "\n",
    "sample_df.loc[(sample_df['age'] >= 18) &\\\n",
    "               (sample_df['age'] <= 24), 'age(Group)'] = '18 ~ 24'\n",
    "\n",
    "sample_df.loc[(sample_df['age'] >= 25) &\\\n",
    "               (sample_df['age'] <= 35), 'age(Group)'] = '25 ~ 35'\n",
    "\n",
    "sample_df.loc[(sample_df['age'] >= 36) &\\\n",
    "               (sample_df['age'] <= 44), 'age(Group)'] = '36 ~ 44'\n",
    "\n",
    "sample_df.loc[(sample_df['age'] >= 45) &\\\n",
    "               (sample_df['age'] <= 54), 'age(Group)'] = '45 ~ 54'\n",
    "\n",
    "sample_df.loc[sample_df['age'] >= 55, 'age(Group)'] = '55 ~ 99'\n",
    "####################################\n",
    "####################################\n",
    "sample_df['event_timestamp'] = pd.to_datetime(sample_df['event_timestamp'])\n",
    "sample_df['event_timestamp(weekday)'] = sample_df['event_timestamp'].dt.day_name()"
   ]
  },
  {
   "cell_type": "code",
   "execution_count": 5,
   "metadata": {},
   "outputs": [],
   "source": [
    "sample_df['dayname_feature'] = np.where((sample_df['event_timestamp(weekday)'] == 'Sunday')\n",
    "                                        |(sample_df['event_timestamp(weekday)'] == 'Monday')\n",
    "                                        |(sample_df['event_timestamp(weekday)'] == 'Tuesday')\n",
    "                                        |(sample_df['event_timestamp(weekday)'] == 'Wednesday') , 1, 0)"
   ]
  },
  {
   "cell_type": "code",
   "execution_count": 6,
   "metadata": {},
   "outputs": [],
   "source": [
    "# 'dayname_feature'\n",
    "col_list_2 = ['event_name', 'user_no', 'item_no', 'country', 'region', 'platform', \n",
    "'event_timestamp_month', 'event_timestamp_day', 'event_timestamp_hour',\n",
    "'category1_name', 'category2_name', 'gender', 'age', 'age(Group)', \n",
    "'event_timestamp(weekday)', 'dayname_feature']\n",
    "\n",
    "raw_data_2 = sample_df[col_list_2]"
   ]
  },
  {
   "cell_type": "code",
   "execution_count": 7,
   "metadata": {},
   "outputs": [],
   "source": [
    "X_data = pd.get_dummies(raw_data_2, columns=col_list_2)\n",
    "y_data = sample_df['rating']"
   ]
  },
  {
   "cell_type": "code",
   "execution_count": 8,
   "metadata": {},
   "outputs": [],
   "source": [
    "import scipy\n",
    "X_sparse = scipy.sparse.csr_matrix(X_data.values)"
   ]
  },
  {
   "cell_type": "code",
   "execution_count": 9,
   "metadata": {},
   "outputs": [],
   "source": [
    "# Compute negative log likelihood between prediction and label\n",
    "def log_loss(pred, y):\n",
    "    return np.log(np.exp(-pred * y) + 1.0)"
   ]
  },
  {
   "cell_type": "code",
   "execution_count": 10,
   "metadata": {},
   "outputs": [],
   "source": [
    "# Update gradients\n",
    "def sgd(X, y, n_samples, n_features,\n",
    "                w0, w, v, n_factors, learning_rate, reg_w, reg_v):\n",
    "    data = X.data\n",
    "    indptr = X.indptr\n",
    "    indices = X.indices\n",
    "    loss = 0.0\n",
    "\n",
    "    for i in range(n_samples):\n",
    "        pred, summed = predict(X, w0, w, v, n_factors, i)\n",
    "        \n",
    "        # calculate loss and its gradient\n",
    "        loss += log_loss(pred, y[i])\n",
    "        loss_gradient = -y[i] / (np.exp(y[i] * pred) + 1.0)\n",
    "    \n",
    "        # update bias/intercept term\n",
    "        w0 -= learning_rate * loss_gradient\n",
    "\n",
    "        # update weight\n",
    "        for index in range(indptr[i], indptr[i + 1]):\n",
    "            feature = indices[index]\n",
    "            w[feature] -= learning_rate * (loss_gradient * data[index] + 2 * reg_w * w[feature])\n",
    "\n",
    "        # update factor\n",
    "        for factor in range(n_factors):\n",
    "            for index in range(indptr[i], indptr[i + 1]):\n",
    "                feature = indices[index]\n",
    "                term = summed[factor] - v[factor, feature] * data[index]\n",
    "                v_gradient = loss_gradient * data[index] * term\n",
    "                v[factor, feature] -= learning_rate * (v_gradient + 2 * reg_v * v[factor, feature])\n",
    "    \n",
    "    loss /= n_samples\n",
    "    return loss\n"
   ]
  },
  {
   "cell_type": "code",
   "execution_count": 11,
   "metadata": {},
   "outputs": [],
   "source": [
    "def predict(X, w0, w, v, n_factors, i):\n",
    "    data = X.data\n",
    "    indptr = X.indptr\n",
    "    indices = X.indices\n",
    "    \"\"\"predicting a single instance\"\"\"\n",
    "    summed = np.zeros(n_factors)\n",
    "    summed_squared = np.zeros(n_factors)\n",
    "\n",
    "    # linear output w * x\n",
    "    pred = w0\n",
    "    for index in range(indptr[i], indptr[i + 1]):\n",
    "        feature = indices[index]\n",
    "        pred += w[feature] * data[index]\n",
    "\n",
    "    # factor output\n",
    "    for factor in range(n_factors):\n",
    "        for index in range(indptr[i], indptr[i + 1]):\n",
    "            feature = indices[index]\n",
    "            term = v[factor, feature] * data[index]\n",
    "            summed[factor] += term\n",
    "            summed_squared[factor] += term * term\n",
    "\n",
    "        pred += 0.5 * (summed[factor] * summed[factor] - summed_squared[factor])\n",
    "\n",
    "    # gradient update할 때, summed는 독립이므로 re-use 가능\n",
    "    return pred, summed"
   ]
  },
  {
   "cell_type": "code",
   "execution_count": 12,
   "metadata": {},
   "outputs": [],
   "source": [
    "# Train Factorization Machine\n",
    "# X -> sparse csr_matrix, y -> label\n",
    "def fit(X, y, config):\n",
    "    epochs = config['num_epochs']\n",
    "    num_factors = config['num_factors']\n",
    "    learning_rate = config['learning_rate']\n",
    "    reg_weights = config['reg_weights']\n",
    "    reg_features = config['reg_features']\n",
    "\n",
    "    num_samples, num_features = X.shape\n",
    "    weights = np.zeros(num_features) # -> w\n",
    "    global_bias = 0.0 # -> w0\n",
    "    \n",
    "    # latent factors for all features -> v\n",
    "    feature_factors = np.random.normal(size = (num_factors, num_features))\n",
    "\n",
    "    epoch_loss = []\n",
    "    for epoch in range(epochs):\n",
    "        loss = sgd(X, y, num_samples, num_features,\n",
    "                            global_bias, weights,\n",
    "                            feature_factors, num_factors,\n",
    "                            learning_rate, reg_weights, reg_features)\n",
    "        print(f'[epoch: {epoch+1}], loss: {loss}')\n",
    "\n",
    "        epoch_loss.append(loss)\n",
    "      \n",
    "    return epoch_loss\n"
   ]
  },
  {
   "cell_type": "code",
   "execution_count": 13,
   "metadata": {},
   "outputs": [],
   "source": [
    "config = {\n",
    "    \"num_epochs\": 10,\n",
    "    \"num_factors\": 10,\n",
    "    \"learning_rate\": 0.01,\n",
    "    \"reg_weights\": 0.01,\n",
    "    \"reg_features\": 0.01\n",
    "}"
   ]
  },
  {
   "cell_type": "code",
   "execution_count": 14,
   "metadata": {},
   "outputs": [
    {
     "name": "stdout",
     "output_type": "stream",
     "text": [
      "[epoch: 1], loss: 0.18928458901145184\n",
      "[epoch: 2], loss: 0.04843236966940443\n",
      "[epoch: 3], loss: 0.0368753726293114\n",
      "[epoch: 4], loss: 0.03181742806095803\n",
      "[epoch: 5], loss: 0.028047138147774094\n",
      "[epoch: 6], loss: 0.02523910563791164\n",
      "[epoch: 7], loss: 0.023163808509052385\n",
      "[epoch: 8], loss: 0.021548153054551895\n",
      "[epoch: 9], loss: 0.02028344605642066\n",
      "[epoch: 10], loss: 0.01926688795249438\n"
     ]
    }
   ],
   "source": [
    "epoch_loss = fit(X_sparse, y_data.values, config)"
   ]
  },
  {
   "cell_type": "code",
   "execution_count": 15,
   "metadata": {},
   "outputs": [
    {
     "data": {
      "image/png": "[encoded data removed]",
      "text/plain": [
       "<Figure size 640x480 with 1 Axes>"
      ]
     },
     "metadata": {},
     "output_type": "display_data"
    }
   ],
   "source": [
    "plt.plot(epoch_loss)\n",
    "plt.title('Loss per epoch')\n",
    "plt.show()"
   ]
  }
 ],
 "metadata": {
  "kernelspec": {
   "display_name": "base",
   "language": "python",
   "name": "python3"
  },
  "language_info": {
   "codemirror_mode": {
    "name": "ipython",
    "version": 3
   },
   "file_extension": ".py",
   "mimetype": "text/x-python",
   "name": "python",
   "nbconvert_exporter": "python",
   "pygments_lexer": "ipython3",
   "version": "3.10.9"
  },
  "orig_nbformat": 4
 },
 "nbformat": 4,
 "nbformat_minor": 2
}
