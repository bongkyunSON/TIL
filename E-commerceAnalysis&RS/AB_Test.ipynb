{
 "cells": [
  {
   "attachments": {},
   "cell_type": "markdown",
   "metadata": {},
   "source": [
    "### 가능도: 이항분포\n",
    "\n",
    "### 사전분포: 베타분포\n",
    "- 무정보 사전분포를 사용한다\n",
    "- 전환율에 대해 사전 지식이 없을 경우\n",
    "- Frequentist가 추정하는 값과 같은 결과를 내고 싶을 경우, 즉 데이터만으로 모수를 추정하고 싶을 경우\n",
    "- 사후 분포(Posterior Distribution)를 구했을 때, 그 형태가 사전 분포와 같은 분포일 때 켤레성을 띤다고 말합니다."
   ]
  },
  {
   "cell_type": "code",
   "execution_count": 1,
   "metadata": {},
   "outputs": [
    {
     "data": {
      "text/plain": [
       "Ttest_indResult(statistic=1.933374622222914, pvalue=0.07227304704557012)"
      ]
     },
     "execution_count": 1,
     "metadata": {},
     "output_type": "execute_result"
    }
   ],
   "source": [
    "from scipy import stats\n",
    "\n",
    "# 데이터 담기\n",
    "design_A = [16.4, 12.6, 17.5, 18.8, 12.1, 13.2, 14.5, 12.4, 17.5, 25.4, 9.3, 10.4]\n",
    "design_B = [12.1, 11.8, 14.7, 13.1, 13.8, 10.1, 9.1, 13.5, 11.2, 13.7]\n",
    "\n",
    "# 검정 코드 실시\n",
    "stats.ttest_ind(design_A,\n",
    "                design_B,\n",
    "                equal_var=False)"
   ]
  },
  {
   "cell_type": "code",
   "execution_count": 2,
   "metadata": {},
   "outputs": [
    {
     "name": "stdout",
     "output_type": "stream",
     "text": [
      "카이제곱 통계량 : 1.11053\n",
      "pvalue : 0.29197\n"
     ]
    }
   ],
   "source": [
    "import pandas as pd\n",
    "from scipy.stats import chi2_contingency\n",
    "\n",
    "\n",
    "def click_abtest(a_click, total_a, b_click, total_b):\n",
    "\n",
    "    click = [a_click, b_click] # A와 B의 클릭한 유저 수\n",
    "    no_click = [total_a - a_click, total_b - b_click]  # A와 B의 클릭 안 한 유저 수\n",
    "    cont_table = pd.DataFrame([click, no_click], columns=['A', 'B'], index=['click', 'no_click'])\n",
    "    chi2, p_val, d_f, expected = chi2_contingency([click, no_click])\n",
    "\n",
    "    print(\"카이제곱 통계량 :\", format(chi2, '.5f'))\n",
    "    print(\"pvalue :\", format(p_val, '.5f'))\n",
    "\n",
    "# A의 클릭수(13)와 A의 데이터 전체 개수(244), B의 클릭수(23)와 A의 데이터 전체 개수(287)를 정의한 클래스에 넣어줍니다.\n",
    "click_abtest(13, 244, 23, 287)"
   ]
  },
  {
   "cell_type": "code",
   "execution_count": null,
   "metadata": {},
   "outputs": [],
   "source": [
    "#플랫폼 a/b테스트, 지역별, 요일별, 성별, "
   ]
  },
  {
   "cell_type": "code",
   "execution_count": 2,
   "metadata": {},
   "outputs": [],
   "source": [
    "import pandas as pd\n",
    "import numpy as np\n",
    "import matplotlib.pyplot as plt\n",
    "import seaborn as sns\n",
    "import matplotlib.font_manager as fm\n",
    "import matplotlib"
   ]
  },
  {
   "cell_type": "code",
   "execution_count": 3,
   "metadata": {},
   "outputs": [],
   "source": [
    "FILES_DIR = './files/'\n",
    "events = pd.read_csv(FILES_DIR + 'sampled_events.csv')\n",
    "product = pd.read_csv(FILES_DIR + 'sampled_products.csv')\n",
    "users = pd.read_csv(FILES_DIR + 'sampled_users.csv')"
   ]
  },
  {
   "cell_type": "code",
   "execution_count": 5,
   "metadata": {},
   "outputs": [
    {
     "data": {
      "text/plain": [
       "Index(['session_id', 'event_timestamp', 'event_name', 'user_no', 'item_no',\n",
       "       'device_type', 'mobile_brand_name', 'mobile_model_name',\n",
       "       'mobile_marketing_name', 'operating_system_version', 'country',\n",
       "       'region', 'platform'],\n",
       "      dtype='object')"
      ]
     },
     "execution_count": 5,
     "metadata": {},
     "output_type": "execute_result"
    }
   ],
   "source": [
    "events.columns"
   ]
  },
  {
   "cell_type": "code",
   "execution_count": 11,
   "metadata": {},
   "outputs": [],
   "source": [
    "events_df = events.copy()"
   ]
  },
  {
   "cell_type": "code",
   "execution_count": 18,
   "metadata": {},
   "outputs": [
    {
     "data": {
      "text/plain": [
       "array(['ANDROID', 'IOS'], dtype=object)"
      ]
     },
     "execution_count": 18,
     "metadata": {},
     "output_type": "execute_result"
    }
   ],
   "source": [
    "events_df['platform'].unique()"
   ]
  },
  {
   "cell_type": "code",
   "execution_count": 22,
   "metadata": {},
   "outputs": [
    {
     "name": "stdout",
     "output_type": "stream",
     "text": [
      "1639001\n",
      "112680\n"
     ]
    }
   ],
   "source": [
    "# purchase_success\n",
    "\n",
    "# ANDROID_df = events_df[events_df['platform'] == 'ANDROID']\n",
    "print(len(ANDROID_df))\n",
    "print(len(ANDROID_df[ANDROID_df['event_name'] == 'purchase_success']))"
   ]
  },
  {
   "cell_type": "code",
   "execution_count": 23,
   "metadata": {},
   "outputs": [
    {
     "name": "stdout",
     "output_type": "stream",
     "text": [
      "4241406\n",
      "352573\n"
     ]
    }
   ],
   "source": [
    "IOS_df = events_df[events_df['platform'] == 'IOS']\n",
    "print(len(IOS_df))\n",
    "print(len(IOS_df[IOS_df['event_name'] == 'purchase_success']))"
   ]
  },
  {
   "cell_type": "code",
   "execution_count": 31,
   "metadata": {},
   "outputs": [
    {
     "data": {
      "text/html": [
       "<div>\n",
       "<style scoped>\n",
       "    .dataframe tbody tr th:only-of-type {\n",
       "        vertical-align: middle;\n",
       "    }\n",
       "\n",
       "    .dataframe tbody tr th {\n",
       "        vertical-align: top;\n",
       "    }\n",
       "\n",
       "    .dataframe thead th {\n",
       "        text-align: right;\n",
       "    }\n",
       "</style>\n",
       "<table border=\"1\" class=\"dataframe\">\n",
       "  <thead>\n",
       "    <tr style=\"text-align: right;\">\n",
       "      <th></th>\n",
       "      <th>session_id</th>\n",
       "      <th>event_timestamp</th>\n",
       "      <th>event_name</th>\n",
       "      <th>user_no</th>\n",
       "      <th>item_no</th>\n",
       "      <th>device_type</th>\n",
       "      <th>mobile_brand_name</th>\n",
       "      <th>mobile_model_name</th>\n",
       "      <th>mobile_marketing_name</th>\n",
       "      <th>operating_system_version</th>\n",
       "      <th>country</th>\n",
       "      <th>region</th>\n",
       "      <th>platform</th>\n",
       "    </tr>\n",
       "  </thead>\n",
       "  <tbody>\n",
       "    <tr>\n",
       "      <th>2</th>\n",
       "      <td>9af56dc40a6586dd211ca30f0a3e74d1</td>\n",
       "      <td>2021-06-03 13:00:02.35</td>\n",
       "      <td>click_item</td>\n",
       "      <td>FJJ6W70VNARaqflivNavLg==</td>\n",
       "      <td>xuuGT7/l+fld/geUzu6BkA==</td>\n",
       "      <td>mobile</td>\n",
       "      <td>Apple</td>\n",
       "      <td>iPhone</td>\n",
       "      <td>NaN</td>\n",
       "      <td>iOS 14.4.2</td>\n",
       "      <td>South Korea</td>\n",
       "      <td>Seoul</td>\n",
       "      <td>IOS</td>\n",
       "    </tr>\n",
       "    <tr>\n",
       "      <th>3</th>\n",
       "      <td>51e148afe55e6f296c0931cac6bc2c1d</td>\n",
       "      <td>2021-06-03 13:00:02.994</td>\n",
       "      <td>click_item</td>\n",
       "      <td>MsFi+mS5EhwSv+ZqTtZ53w==</td>\n",
       "      <td>FC0aiDVh1JjIXUschc44Pg==</td>\n",
       "      <td>mobile</td>\n",
       "      <td>Apple</td>\n",
       "      <td>iPhone</td>\n",
       "      <td>NaN</td>\n",
       "      <td>iOS 14.4.2</td>\n",
       "      <td>South Korea</td>\n",
       "      <td>Gyeongsangbuk-do</td>\n",
       "      <td>IOS</td>\n",
       "    </tr>\n",
       "    <tr>\n",
       "      <th>7</th>\n",
       "      <td>51e532874f90dab899c49af4879ecf7f</td>\n",
       "      <td>2021-06-03 13:00:07.587007</td>\n",
       "      <td>click_item</td>\n",
       "      <td>XGWFA1R2j8fYuTtXtqZeYA==</td>\n",
       "      <td>0vDhvLhz4x0O9JEBcKKM7Q==</td>\n",
       "      <td>mobile</td>\n",
       "      <td>Apple</td>\n",
       "      <td>iPhone</td>\n",
       "      <td>NaN</td>\n",
       "      <td>iOS 14.4.2</td>\n",
       "      <td>South Korea</td>\n",
       "      <td>Gyeonggi-do</td>\n",
       "      <td>IOS</td>\n",
       "    </tr>\n",
       "    <tr>\n",
       "      <th>8</th>\n",
       "      <td>cfe9327fb78aadd4d026393c8f9c4d23</td>\n",
       "      <td>2021-06-03 13:00:07.67</td>\n",
       "      <td>click_item</td>\n",
       "      <td>Wqc/gOBz6p7HfixEWz1sFA==</td>\n",
       "      <td>ooAq5RN+obufWApeJjuLyA==</td>\n",
       "      <td>mobile</td>\n",
       "      <td>Apple</td>\n",
       "      <td>iPhone</td>\n",
       "      <td>NaN</td>\n",
       "      <td>iOS 14.4</td>\n",
       "      <td>South Korea</td>\n",
       "      <td>Seoul</td>\n",
       "      <td>IOS</td>\n",
       "    </tr>\n",
       "    <tr>\n",
       "      <th>9</th>\n",
       "      <td>0e4dbb5fff92188b11ae22bcfe8701be</td>\n",
       "      <td>2021-06-03 13:00:08.206</td>\n",
       "      <td>click_item</td>\n",
       "      <td>YnTSlZVYHcFeKnqudoPQsA==</td>\n",
       "      <td>rcEtYC82LQr23CPrfx/JHw==</td>\n",
       "      <td>mobile</td>\n",
       "      <td>Apple</td>\n",
       "      <td>iPhone</td>\n",
       "      <td>NaN</td>\n",
       "      <td>iOS 14.5.1</td>\n",
       "      <td>South Korea</td>\n",
       "      <td>Ulsan</td>\n",
       "      <td>IOS</td>\n",
       "    </tr>\n",
       "    <tr>\n",
       "      <th>...</th>\n",
       "      <td>...</td>\n",
       "      <td>...</td>\n",
       "      <td>...</td>\n",
       "      <td>...</td>\n",
       "      <td>...</td>\n",
       "      <td>...</td>\n",
       "      <td>...</td>\n",
       "      <td>...</td>\n",
       "      <td>...</td>\n",
       "      <td>...</td>\n",
       "      <td>...</td>\n",
       "      <td>...</td>\n",
       "      <td>...</td>\n",
       "    </tr>\n",
       "    <tr>\n",
       "      <th>5880400</th>\n",
       "      <td>0f05e84bc654d358a399384fdd42cdd0</td>\n",
       "      <td>2021-08-04 12:59:52.077017</td>\n",
       "      <td>click_item</td>\n",
       "      <td>aUjb4yTjbEw+MgeWd1y17A==</td>\n",
       "      <td>Uu/yrhZReFMVY4lZiX+Gcw==</td>\n",
       "      <td>mobile</td>\n",
       "      <td>Apple</td>\n",
       "      <td>iPhone</td>\n",
       "      <td>NaN</td>\n",
       "      <td>iOS 14.6</td>\n",
       "      <td>South Korea</td>\n",
       "      <td>Gyeonggi-do</td>\n",
       "      <td>IOS</td>\n",
       "    </tr>\n",
       "    <tr>\n",
       "      <th>5880402</th>\n",
       "      <td>dd2a71d30af7c856b61223bd45b54dbe</td>\n",
       "      <td>2021-08-04 12:59:53.129054</td>\n",
       "      <td>click_item</td>\n",
       "      <td>ROKDMwVDKbb9N82CptJ9dg==</td>\n",
       "      <td>xKvqk3vRvFLpCTQTqpL4ew==</td>\n",
       "      <td>mobile</td>\n",
       "      <td>Apple</td>\n",
       "      <td>iPhone</td>\n",
       "      <td>NaN</td>\n",
       "      <td>iOS 14.6</td>\n",
       "      <td>South Korea</td>\n",
       "      <td>Gyeongsangnam-do</td>\n",
       "      <td>IOS</td>\n",
       "    </tr>\n",
       "    <tr>\n",
       "      <th>5880403</th>\n",
       "      <td>1006525137f948b588322af3ffe4f7ec</td>\n",
       "      <td>2021-08-04 12:59:56.151</td>\n",
       "      <td>click_item</td>\n",
       "      <td>0nfvwBd9Qriig0lIgvtiBA==</td>\n",
       "      <td>1qWgJ5SJvbi5+mBYGH848A==</td>\n",
       "      <td>mobile</td>\n",
       "      <td>Apple</td>\n",
       "      <td>iPhone</td>\n",
       "      <td>NaN</td>\n",
       "      <td>iOS 14.6</td>\n",
       "      <td>South Korea</td>\n",
       "      <td>Gyeongsangnam-do</td>\n",
       "      <td>IOS</td>\n",
       "    </tr>\n",
       "    <tr>\n",
       "      <th>5880404</th>\n",
       "      <td>5ca46d4d8ffc29bad42d8b6fc830e364</td>\n",
       "      <td>2021-08-04 12:59:56.952028</td>\n",
       "      <td>click_item</td>\n",
       "      <td>Z0a8cvN+t0V2WInGzjkM5Q==</td>\n",
       "      <td>M9ucsQ4dNX/t1Bopo599BA==</td>\n",
       "      <td>mobile</td>\n",
       "      <td>Apple</td>\n",
       "      <td>iPhone</td>\n",
       "      <td>NaN</td>\n",
       "      <td>iOS 14.6</td>\n",
       "      <td>South Korea</td>\n",
       "      <td>Gyeonggi-do</td>\n",
       "      <td>IOS</td>\n",
       "    </tr>\n",
       "    <tr>\n",
       "      <th>5880406</th>\n",
       "      <td>fdacda7a5859f3b7f4e0d80d0b95d544</td>\n",
       "      <td>2021-08-04 12:59:59.284045</td>\n",
       "      <td>click_item</td>\n",
       "      <td>GMv4Y+rk7KkfcR5qlFVrBQ==</td>\n",
       "      <td>1SsPsB/HdsUHnyNqKcEvuw==</td>\n",
       "      <td>mobile</td>\n",
       "      <td>Apple</td>\n",
       "      <td>iPhone</td>\n",
       "      <td>NaN</td>\n",
       "      <td>iOS 14.6</td>\n",
       "      <td>South Korea</td>\n",
       "      <td>Gyeonggi-do</td>\n",
       "      <td>IOS</td>\n",
       "    </tr>\n",
       "  </tbody>\n",
       "</table>\n",
       "<p>4241406 rows × 13 columns</p>\n",
       "</div>"
      ],
      "text/plain": [
       "                               session_id             event_timestamp  \\\n",
       "2        9af56dc40a6586dd211ca30f0a3e74d1      2021-06-03 13:00:02.35   \n",
       "3        51e148afe55e6f296c0931cac6bc2c1d     2021-06-03 13:00:02.994   \n",
       "7        51e532874f90dab899c49af4879ecf7f  2021-06-03 13:00:07.587007   \n",
       "8        cfe9327fb78aadd4d026393c8f9c4d23      2021-06-03 13:00:07.67   \n",
       "9        0e4dbb5fff92188b11ae22bcfe8701be     2021-06-03 13:00:08.206   \n",
       "...                                   ...                         ...   \n",
       "5880400  0f05e84bc654d358a399384fdd42cdd0  2021-08-04 12:59:52.077017   \n",
       "5880402  dd2a71d30af7c856b61223bd45b54dbe  2021-08-04 12:59:53.129054   \n",
       "5880403  1006525137f948b588322af3ffe4f7ec     2021-08-04 12:59:56.151   \n",
       "5880404  5ca46d4d8ffc29bad42d8b6fc830e364  2021-08-04 12:59:56.952028   \n",
       "5880406  fdacda7a5859f3b7f4e0d80d0b95d544  2021-08-04 12:59:59.284045   \n",
       "\n",
       "         event_name                   user_no                   item_no  \\\n",
       "2        click_item  FJJ6W70VNARaqflivNavLg==  xuuGT7/l+fld/geUzu6BkA==   \n",
       "3        click_item  MsFi+mS5EhwSv+ZqTtZ53w==  FC0aiDVh1JjIXUschc44Pg==   \n",
       "7        click_item  XGWFA1R2j8fYuTtXtqZeYA==  0vDhvLhz4x0O9JEBcKKM7Q==   \n",
       "8        click_item  Wqc/gOBz6p7HfixEWz1sFA==  ooAq5RN+obufWApeJjuLyA==   \n",
       "9        click_item  YnTSlZVYHcFeKnqudoPQsA==  rcEtYC82LQr23CPrfx/JHw==   \n",
       "...             ...                       ...                       ...   \n",
       "5880400  click_item  aUjb4yTjbEw+MgeWd1y17A==  Uu/yrhZReFMVY4lZiX+Gcw==   \n",
       "5880402  click_item  ROKDMwVDKbb9N82CptJ9dg==  xKvqk3vRvFLpCTQTqpL4ew==   \n",
       "5880403  click_item  0nfvwBd9Qriig0lIgvtiBA==  1qWgJ5SJvbi5+mBYGH848A==   \n",
       "5880404  click_item  Z0a8cvN+t0V2WInGzjkM5Q==  M9ucsQ4dNX/t1Bopo599BA==   \n",
       "5880406  click_item  GMv4Y+rk7KkfcR5qlFVrBQ==  1SsPsB/HdsUHnyNqKcEvuw==   \n",
       "\n",
       "        device_type mobile_brand_name mobile_model_name mobile_marketing_name  \\\n",
       "2            mobile             Apple            iPhone                   NaN   \n",
       "3            mobile             Apple            iPhone                   NaN   \n",
       "7            mobile             Apple            iPhone                   NaN   \n",
       "8            mobile             Apple            iPhone                   NaN   \n",
       "9            mobile             Apple            iPhone                   NaN   \n",
       "...             ...               ...               ...                   ...   \n",
       "5880400      mobile             Apple            iPhone                   NaN   \n",
       "5880402      mobile             Apple            iPhone                   NaN   \n",
       "5880403      mobile             Apple            iPhone                   NaN   \n",
       "5880404      mobile             Apple            iPhone                   NaN   \n",
       "5880406      mobile             Apple            iPhone                   NaN   \n",
       "\n",
       "        operating_system_version      country            region platform  \n",
       "2                     iOS 14.4.2  South Korea             Seoul      IOS  \n",
       "3                     iOS 14.4.2  South Korea  Gyeongsangbuk-do      IOS  \n",
       "7                     iOS 14.4.2  South Korea       Gyeonggi-do      IOS  \n",
       "8                       iOS 14.4  South Korea             Seoul      IOS  \n",
       "9                     iOS 14.5.1  South Korea             Ulsan      IOS  \n",
       "...                          ...          ...               ...      ...  \n",
       "5880400                 iOS 14.6  South Korea       Gyeonggi-do      IOS  \n",
       "5880402                 iOS 14.6  South Korea  Gyeongsangnam-do      IOS  \n",
       "5880403                 iOS 14.6  South Korea  Gyeongsangnam-do      IOS  \n",
       "5880404                 iOS 14.6  South Korea       Gyeonggi-do      IOS  \n",
       "5880406                 iOS 14.6  South Korea       Gyeonggi-do      IOS  \n",
       "\n",
       "[4241406 rows x 13 columns]"
      ]
     },
     "execution_count": 31,
     "metadata": {},
     "output_type": "execute_result"
    }
   ],
   "source": [
    "IOS_df['']"
   ]
  },
  {
   "cell_type": "code",
   "execution_count": 30,
   "metadata": {},
   "outputs": [
    {
     "name": "stdout",
     "output_type": "stream",
     "text": [
      "카이제곱 통계량 : 3353.68673\n",
      "pvalue : 0.00000\n"
     ]
    }
   ],
   "source": [
    "import pandas as pd\n",
    "from scipy.stats import chi2_contingency\n",
    "\n",
    "\n",
    "def click_abtest(a_click, total_a, b_click, total_b):\n",
    "\n",
    "    click = [a_click, b_click] # A와 B의 클릭한 유저 수\n",
    "    no_click = [total_a - a_click, total_b - b_click]  # A와 B의 클릭 안 한 유저 수\n",
    "    cont_table = pd.DataFrame([click, no_click], columns=['A', 'B'], index=['click', 'no_click'])\n",
    "    chi2, p_val, d_f, expected = chi2_contingency([click, no_click])\n",
    "\n",
    "    print(\"카이제곱 통계량 :\", format(chi2, '.5f'))\n",
    "    print(\"pvalue :\", format(p_val, '.5f'))\n",
    "\n",
    "# A의 클릭수(13)와 A의 데이터 전체 개수(244), B의 클릭수(23)와 A의 데이터 전체 개수(287)를 정의한 클래스에 넣어줍니다.\n",
    "click_abtest(112680, 1639001, 352573, 4241406)"
   ]
  },
  {
   "cell_type": "code",
   "execution_count": 33,
   "metadata": {},
   "outputs": [
    {
     "name": "stdout",
     "output_type": "stream",
     "text": [
      "1\n",
      "0.0\n"
     ]
    }
   ],
   "source": [
    "from scipy import stats as st \n",
    "\n",
    "visit_A = 1639001\n",
    "visit_B = 4241406\n",
    "\n",
    "conversion_A = 112680\n",
    "conversion_B = 352573\n",
    "\n",
    "alpha = 1\n",
    "beta  = 1\n",
    "n_samples = 1000000\n",
    "print(alpha)\n",
    "\n",
    "posterior_A = st.beta(alpha+conversion_A,beta+visit_A-conversion_A)\n",
    "posterior_B = st.beta(alpha+conversion_B,beta+visit_B-conversion_B)\n",
    "posterior_samples_A = st.beta(alpha+conversion_A,beta+visit_A-conversion_A).rvs(n_samples)\n",
    "posterior_samples_B = st.beta(alpha+conversion_B,beta+visit_B-conversion_B).rvs(n_samples)\n",
    "\n",
    "# posterior mean \n",
    "print((posterior_samples_A > posterior_samples_B).mean())"
   ]
  },
  {
   "cell_type": "code",
   "execution_count": 34,
   "metadata": {},
   "outputs": [
    {
     "data": {
      "text/plain": [
       "<matplotlib.legend.Legend at 0x1cb8013a3e0>"
      ]
     },
     "execution_count": 34,
     "metadata": {},
     "output_type": "execute_result"
    },
    {
     "data": {
      "image/png": "[encoded data removed]",
      "text/plain": [
       "<Figure size 1000x400 with 2 Axes>"
      ]
     },
     "metadata": {},
     "output_type": "display_data"
    }
   ],
   "source": [
    "fig,axes = plt.subplots(1,2,figsize=(10,4))\n",
    "x = np.linspace(0,1,1000)\n",
    "i=0\n",
    "for ax in axes:\n",
    "    ax.plot(x, posterior_A.pdf(x), label = \"posterior of A: Beta(121,1181)\")\n",
    "    ax.plot(x, posterior_B.pdf(x), label = \"posterior of B: Beta(126,1151)\")\n",
    "    ax.set_xlabel(\"Value\")\n",
    "    ax.set_ylabel(\"Density\")\n",
    "    if i==1:\n",
    "        ax.set_xlim(0.05, 0.15)\n",
    "    i+=1\n",
    "axes[0].legend()"
   ]
  }
 ],
 "metadata": {
  "kernelspec": {
   "display_name": "base",
   "language": "python",
   "name": "python3"
  },
  "language_info": {
   "codemirror_mode": {
    "name": "ipython",
    "version": 3
   },
   "file_extension": ".py",
   "mimetype": "text/x-python",
   "name": "python",
   "nbconvert_exporter": "python",
   "pygments_lexer": "ipython3",
   "version": "3.10.9"
  },
  "orig_nbformat": 4
 },
 "nbformat": 4,
 "nbformat_minor": 2
}
