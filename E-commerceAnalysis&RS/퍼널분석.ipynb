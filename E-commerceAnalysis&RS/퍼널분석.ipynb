{
 "cells": [
  {
   "attachments": {},
   "cell_type": "markdown",
   "metadata": {},
   "source": [
    "# Data Import"
   ]
  },
  {
   "cell_type": "code",
   "execution_count": 39,
   "metadata": {},
   "outputs": [],
   "source": [
    "import pandas as pd\n",
    "import matplotlib as mpl\n",
    "import matplotlib.pyplot as plt\n",
    "import seaborn as sns\n",
    "import numpy as np"
   ]
  },
  {
   "cell_type": "code",
   "execution_count": 40,
   "metadata": {},
   "outputs": [],
   "source": [
    "FILES_DIR = './files/'\n",
    "total = pd.read_csv(FILES_DIR + 'total.csv')"
   ]
  },
  {
   "cell_type": "code",
   "execution_count": 41,
   "metadata": {},
   "outputs": [],
   "source": [
    "total_df = total.copy()"
   ]
  },
  {
   "cell_type": "code",
   "execution_count": 42,
   "metadata": {},
   "outputs": [],
   "source": [
    "total_df.drop('Unnamed: 0', axis=1, inplace=True)"
   ]
  },
  {
   "attachments": {},
   "cell_type": "markdown",
   "metadata": {},
   "source": [
    "# DAU (Daily Active User)"
   ]
  },
  {
   "cell_type": "code",
   "execution_count": 44,
   "metadata": {},
   "outputs": [
    {
     "data": {
      "text/html": [
       "<div>\n",
       "<style scoped>\n",
       "    .dataframe tbody tr th:only-of-type {\n",
       "        vertical-align: middle;\n",
       "    }\n",
       "\n",
       "    .dataframe tbody tr th {\n",
       "        vertical-align: top;\n",
       "    }\n",
       "\n",
       "    .dataframe thead th {\n",
       "        text-align: right;\n",
       "    }\n",
       "</style>\n",
       "<table border=\"1\" class=\"dataframe\">\n",
       "  <thead>\n",
       "    <tr style=\"text-align: right;\">\n",
       "      <th>event_timestamp_day</th>\n",
       "      <th>1</th>\n",
       "      <th>2</th>\n",
       "      <th>3</th>\n",
       "      <th>4</th>\n",
       "      <th>5</th>\n",
       "      <th>6</th>\n",
       "      <th>7</th>\n",
       "      <th>8</th>\n",
       "      <th>9</th>\n",
       "      <th>10</th>\n",
       "      <th>...</th>\n",
       "      <th>22</th>\n",
       "      <th>23</th>\n",
       "      <th>24</th>\n",
       "      <th>25</th>\n",
       "      <th>26</th>\n",
       "      <th>27</th>\n",
       "      <th>28</th>\n",
       "      <th>29</th>\n",
       "      <th>30</th>\n",
       "      <th>31</th>\n",
       "    </tr>\n",
       "    <tr>\n",
       "      <th>event_timestamp_month</th>\n",
       "      <th></th>\n",
       "      <th></th>\n",
       "      <th></th>\n",
       "      <th></th>\n",
       "      <th></th>\n",
       "      <th></th>\n",
       "      <th></th>\n",
       "      <th></th>\n",
       "      <th></th>\n",
       "      <th></th>\n",
       "      <th></th>\n",
       "      <th></th>\n",
       "      <th></th>\n",
       "      <th></th>\n",
       "      <th></th>\n",
       "      <th></th>\n",
       "      <th></th>\n",
       "      <th></th>\n",
       "      <th></th>\n",
       "      <th></th>\n",
       "      <th></th>\n",
       "    </tr>\n",
       "  </thead>\n",
       "  <tbody>\n",
       "    <tr>\n",
       "      <th>6</th>\n",
       "      <td>0</td>\n",
       "      <td>0</td>\n",
       "      <td>50686</td>\n",
       "      <td>73238</td>\n",
       "      <td>84470</td>\n",
       "      <td>110907</td>\n",
       "      <td>98918</td>\n",
       "      <td>95740</td>\n",
       "      <td>101476</td>\n",
       "      <td>94515</td>\n",
       "      <td>...</td>\n",
       "      <td>88892</td>\n",
       "      <td>86734</td>\n",
       "      <td>77416</td>\n",
       "      <td>75823</td>\n",
       "      <td>81548</td>\n",
       "      <td>96207</td>\n",
       "      <td>92354</td>\n",
       "      <td>89639</td>\n",
       "      <td>96212</td>\n",
       "      <td>0</td>\n",
       "    </tr>\n",
       "    <tr>\n",
       "      <th>7</th>\n",
       "      <td>108761</td>\n",
       "      <td>90905</td>\n",
       "      <td>103425</td>\n",
       "      <td>120137</td>\n",
       "      <td>89852</td>\n",
       "      <td>98556</td>\n",
       "      <td>91215</td>\n",
       "      <td>82971</td>\n",
       "      <td>77349</td>\n",
       "      <td>97376</td>\n",
       "      <td>...</td>\n",
       "      <td>84360</td>\n",
       "      <td>76470</td>\n",
       "      <td>82524</td>\n",
       "      <td>98925</td>\n",
       "      <td>88409</td>\n",
       "      <td>86737</td>\n",
       "      <td>81791</td>\n",
       "      <td>71764</td>\n",
       "      <td>68377</td>\n",
       "      <td>78481</td>\n",
       "    </tr>\n",
       "    <tr>\n",
       "      <th>8</th>\n",
       "      <td>92934</td>\n",
       "      <td>79880</td>\n",
       "      <td>80301</td>\n",
       "      <td>34847</td>\n",
       "      <td>0</td>\n",
       "      <td>0</td>\n",
       "      <td>0</td>\n",
       "      <td>0</td>\n",
       "      <td>0</td>\n",
       "      <td>0</td>\n",
       "      <td>...</td>\n",
       "      <td>0</td>\n",
       "      <td>0</td>\n",
       "      <td>0</td>\n",
       "      <td>0</td>\n",
       "      <td>0</td>\n",
       "      <td>0</td>\n",
       "      <td>0</td>\n",
       "      <td>0</td>\n",
       "      <td>0</td>\n",
       "      <td>0</td>\n",
       "    </tr>\n",
       "  </tbody>\n",
       "</table>\n",
       "<p>3 rows × 31 columns</p>\n",
       "</div>"
      ],
      "text/plain": [
       "event_timestamp_day        1      2       3       4      5       6      7   \\\n",
       "event_timestamp_month                                                        \n",
       "6                           0      0   50686   73238  84470  110907  98918   \n",
       "7                      108761  90905  103425  120137  89852   98556  91215   \n",
       "8                       92934  79880   80301   34847      0       0      0   \n",
       "\n",
       "event_timestamp_day       8       9      10  ...     22     23     24     25  \\\n",
       "event_timestamp_month                        ...                               \n",
       "6                      95740  101476  94515  ...  88892  86734  77416  75823   \n",
       "7                      82971   77349  97376  ...  84360  76470  82524  98925   \n",
       "8                          0       0      0  ...      0      0      0      0   \n",
       "\n",
       "event_timestamp_day       26     27     28     29     30     31  \n",
       "event_timestamp_month                                            \n",
       "6                      81548  96207  92354  89639  96212      0  \n",
       "7                      88409  86737  81791  71764  68377  78481  \n",
       "8                          0      0      0      0      0      0  \n",
       "\n",
       "[3 rows x 31 columns]"
      ]
     },
     "execution_count": 44,
     "metadata": {},
     "output_type": "execute_result"
    }
   ],
   "source": [
    "table_DAU = pd.pivot_table(total_df,\n",
    "                                index='event_timestamp_month',\n",
    "                                columns='event_timestamp_day',\n",
    "                                values='user_no',\n",
    "                                fill_value=0,\n",
    "                                aggfunc=len)\n",
    "\n",
    "\n",
    "table_DAU"
   ]
  },
  {
   "cell_type": "code",
   "execution_count": 45,
   "metadata": {},
   "outputs": [
    {
     "data": {
      "text/html": [
       "<div>\n",
       "<style scoped>\n",
       "    .dataframe tbody tr th:only-of-type {\n",
       "        vertical-align: middle;\n",
       "    }\n",
       "\n",
       "    .dataframe tbody tr th {\n",
       "        vertical-align: top;\n",
       "    }\n",
       "\n",
       "    .dataframe thead th {\n",
       "        text-align: right;\n",
       "    }\n",
       "</style>\n",
       "<table border=\"1\" class=\"dataframe\">\n",
       "  <thead>\n",
       "    <tr style=\"text-align: right;\">\n",
       "      <th>event_timestamp_month</th>\n",
       "      <th>6</th>\n",
       "      <th>7</th>\n",
       "      <th>8</th>\n",
       "    </tr>\n",
       "    <tr>\n",
       "      <th>event_timestamp_day</th>\n",
       "      <th></th>\n",
       "      <th></th>\n",
       "      <th></th>\n",
       "    </tr>\n",
       "  </thead>\n",
       "  <tbody>\n",
       "    <tr>\n",
       "      <th>6</th>\n",
       "      <td>110907</td>\n",
       "      <td>98556</td>\n",
       "      <td>0</td>\n",
       "    </tr>\n",
       "    <tr>\n",
       "      <th>20</th>\n",
       "      <td>107714</td>\n",
       "      <td>87992</td>\n",
       "      <td>0</td>\n",
       "    </tr>\n",
       "    <tr>\n",
       "      <th>9</th>\n",
       "      <td>101476</td>\n",
       "      <td>77349</td>\n",
       "      <td>0</td>\n",
       "    </tr>\n",
       "    <tr>\n",
       "      <th>7</th>\n",
       "      <td>98918</td>\n",
       "      <td>91215</td>\n",
       "      <td>0</td>\n",
       "    </tr>\n",
       "    <tr>\n",
       "      <th>30</th>\n",
       "      <td>96212</td>\n",
       "      <td>68377</td>\n",
       "      <td>0</td>\n",
       "    </tr>\n",
       "    <tr>\n",
       "      <th>27</th>\n",
       "      <td>96207</td>\n",
       "      <td>86737</td>\n",
       "      <td>0</td>\n",
       "    </tr>\n",
       "    <tr>\n",
       "      <th>8</th>\n",
       "      <td>95740</td>\n",
       "      <td>82971</td>\n",
       "      <td>0</td>\n",
       "    </tr>\n",
       "    <tr>\n",
       "      <th>10</th>\n",
       "      <td>94515</td>\n",
       "      <td>97376</td>\n",
       "      <td>0</td>\n",
       "    </tr>\n",
       "    <tr>\n",
       "      <th>15</th>\n",
       "      <td>94468</td>\n",
       "      <td>91054</td>\n",
       "      <td>0</td>\n",
       "    </tr>\n",
       "    <tr>\n",
       "      <th>16</th>\n",
       "      <td>93156</td>\n",
       "      <td>91852</td>\n",
       "      <td>0</td>\n",
       "    </tr>\n",
       "    <tr>\n",
       "      <th>28</th>\n",
       "      <td>92354</td>\n",
       "      <td>81791</td>\n",
       "      <td>0</td>\n",
       "    </tr>\n",
       "    <tr>\n",
       "      <th>12</th>\n",
       "      <td>90983</td>\n",
       "      <td>94661</td>\n",
       "      <td>0</td>\n",
       "    </tr>\n",
       "    <tr>\n",
       "      <th>21</th>\n",
       "      <td>89759</td>\n",
       "      <td>89316</td>\n",
       "      <td>0</td>\n",
       "    </tr>\n",
       "    <tr>\n",
       "      <th>29</th>\n",
       "      <td>89639</td>\n",
       "      <td>71764</td>\n",
       "      <td>0</td>\n",
       "    </tr>\n",
       "    <tr>\n",
       "      <th>19</th>\n",
       "      <td>89121</td>\n",
       "      <td>89223</td>\n",
       "      <td>0</td>\n",
       "    </tr>\n",
       "    <tr>\n",
       "      <th>22</th>\n",
       "      <td>88892</td>\n",
       "      <td>84360</td>\n",
       "      <td>0</td>\n",
       "    </tr>\n",
       "    <tr>\n",
       "      <th>23</th>\n",
       "      <td>86734</td>\n",
       "      <td>76470</td>\n",
       "      <td>0</td>\n",
       "    </tr>\n",
       "    <tr>\n",
       "      <th>5</th>\n",
       "      <td>84470</td>\n",
       "      <td>89852</td>\n",
       "      <td>0</td>\n",
       "    </tr>\n",
       "    <tr>\n",
       "      <th>11</th>\n",
       "      <td>82429</td>\n",
       "      <td>125133</td>\n",
       "      <td>0</td>\n",
       "    </tr>\n",
       "    <tr>\n",
       "      <th>17</th>\n",
       "      <td>81630</td>\n",
       "      <td>99128</td>\n",
       "      <td>0</td>\n",
       "    </tr>\n",
       "    <tr>\n",
       "      <th>26</th>\n",
       "      <td>81548</td>\n",
       "      <td>88409</td>\n",
       "      <td>0</td>\n",
       "    </tr>\n",
       "    <tr>\n",
       "      <th>18</th>\n",
       "      <td>80537</td>\n",
       "      <td>114508</td>\n",
       "      <td>0</td>\n",
       "    </tr>\n",
       "    <tr>\n",
       "      <th>24</th>\n",
       "      <td>77416</td>\n",
       "      <td>82524</td>\n",
       "      <td>0</td>\n",
       "    </tr>\n",
       "    <tr>\n",
       "      <th>25</th>\n",
       "      <td>75823</td>\n",
       "      <td>98925</td>\n",
       "      <td>0</td>\n",
       "    </tr>\n",
       "    <tr>\n",
       "      <th>4</th>\n",
       "      <td>73238</td>\n",
       "      <td>120137</td>\n",
       "      <td>34847</td>\n",
       "    </tr>\n",
       "    <tr>\n",
       "      <th>14</th>\n",
       "      <td>55855</td>\n",
       "      <td>96506</td>\n",
       "      <td>0</td>\n",
       "    </tr>\n",
       "    <tr>\n",
       "      <th>3</th>\n",
       "      <td>50686</td>\n",
       "      <td>103425</td>\n",
       "      <td>80301</td>\n",
       "    </tr>\n",
       "    <tr>\n",
       "      <th>13</th>\n",
       "      <td>42626</td>\n",
       "      <td>95757</td>\n",
       "      <td>0</td>\n",
       "    </tr>\n",
       "    <tr>\n",
       "      <th>1</th>\n",
       "      <td>0</td>\n",
       "      <td>108761</td>\n",
       "      <td>92934</td>\n",
       "    </tr>\n",
       "    <tr>\n",
       "      <th>2</th>\n",
       "      <td>0</td>\n",
       "      <td>90905</td>\n",
       "      <td>79880</td>\n",
       "    </tr>\n",
       "    <tr>\n",
       "      <th>31</th>\n",
       "      <td>0</td>\n",
       "      <td>78481</td>\n",
       "      <td>0</td>\n",
       "    </tr>\n",
       "  </tbody>\n",
       "</table>\n",
       "</div>"
      ],
      "text/plain": [
       "event_timestamp_month       6       7      8\n",
       "event_timestamp_day                         \n",
       "6                      110907   98556      0\n",
       "20                     107714   87992      0\n",
       "9                      101476   77349      0\n",
       "7                       98918   91215      0\n",
       "30                      96212   68377      0\n",
       "27                      96207   86737      0\n",
       "8                       95740   82971      0\n",
       "10                      94515   97376      0\n",
       "15                      94468   91054      0\n",
       "16                      93156   91852      0\n",
       "28                      92354   81791      0\n",
       "12                      90983   94661      0\n",
       "21                      89759   89316      0\n",
       "29                      89639   71764      0\n",
       "19                      89121   89223      0\n",
       "22                      88892   84360      0\n",
       "23                      86734   76470      0\n",
       "5                       84470   89852      0\n",
       "11                      82429  125133      0\n",
       "17                      81630   99128      0\n",
       "26                      81548   88409      0\n",
       "18                      80537  114508      0\n",
       "24                      77416   82524      0\n",
       "25                      75823   98925      0\n",
       "4                       73238  120137  34847\n",
       "14                      55855   96506      0\n",
       "3                       50686  103425  80301\n",
       "13                      42626   95757      0\n",
       "1                           0  108761  92934\n",
       "2                           0   90905  79880\n",
       "31                          0   78481      0"
      ]
     },
     "execution_count": 45,
     "metadata": {},
     "output_type": "execute_result"
    }
   ],
   "source": [
    "table_DAU.T.sort_values(by=6, ascending=False)"
   ]
  },
  {
   "cell_type": "code",
   "execution_count": 46,
   "metadata": {},
   "outputs": [
    {
     "data": {
      "text/html": [
       "<div>\n",
       "<style scoped>\n",
       "    .dataframe tbody tr th:only-of-type {\n",
       "        vertical-align: middle;\n",
       "    }\n",
       "\n",
       "    .dataframe tbody tr th {\n",
       "        vertical-align: top;\n",
       "    }\n",
       "\n",
       "    .dataframe thead th {\n",
       "        text-align: right;\n",
       "    }\n",
       "</style>\n",
       "<table border=\"1\" class=\"dataframe\">\n",
       "  <thead>\n",
       "    <tr style=\"text-align: right;\">\n",
       "      <th>event_timestamp_month</th>\n",
       "      <th>6</th>\n",
       "      <th>7</th>\n",
       "      <th>8</th>\n",
       "    </tr>\n",
       "    <tr>\n",
       "      <th>event_timestamp_day</th>\n",
       "      <th></th>\n",
       "      <th></th>\n",
       "      <th></th>\n",
       "    </tr>\n",
       "  </thead>\n",
       "  <tbody>\n",
       "    <tr>\n",
       "      <th>11</th>\n",
       "      <td>82429</td>\n",
       "      <td>125133</td>\n",
       "      <td>0</td>\n",
       "    </tr>\n",
       "    <tr>\n",
       "      <th>4</th>\n",
       "      <td>73238</td>\n",
       "      <td>120137</td>\n",
       "      <td>34847</td>\n",
       "    </tr>\n",
       "    <tr>\n",
       "      <th>18</th>\n",
       "      <td>80537</td>\n",
       "      <td>114508</td>\n",
       "      <td>0</td>\n",
       "    </tr>\n",
       "    <tr>\n",
       "      <th>1</th>\n",
       "      <td>0</td>\n",
       "      <td>108761</td>\n",
       "      <td>92934</td>\n",
       "    </tr>\n",
       "    <tr>\n",
       "      <th>3</th>\n",
       "      <td>50686</td>\n",
       "      <td>103425</td>\n",
       "      <td>80301</td>\n",
       "    </tr>\n",
       "    <tr>\n",
       "      <th>17</th>\n",
       "      <td>81630</td>\n",
       "      <td>99128</td>\n",
       "      <td>0</td>\n",
       "    </tr>\n",
       "    <tr>\n",
       "      <th>25</th>\n",
       "      <td>75823</td>\n",
       "      <td>98925</td>\n",
       "      <td>0</td>\n",
       "    </tr>\n",
       "    <tr>\n",
       "      <th>6</th>\n",
       "      <td>110907</td>\n",
       "      <td>98556</td>\n",
       "      <td>0</td>\n",
       "    </tr>\n",
       "    <tr>\n",
       "      <th>10</th>\n",
       "      <td>94515</td>\n",
       "      <td>97376</td>\n",
       "      <td>0</td>\n",
       "    </tr>\n",
       "    <tr>\n",
       "      <th>14</th>\n",
       "      <td>55855</td>\n",
       "      <td>96506</td>\n",
       "      <td>0</td>\n",
       "    </tr>\n",
       "    <tr>\n",
       "      <th>13</th>\n",
       "      <td>42626</td>\n",
       "      <td>95757</td>\n",
       "      <td>0</td>\n",
       "    </tr>\n",
       "    <tr>\n",
       "      <th>12</th>\n",
       "      <td>90983</td>\n",
       "      <td>94661</td>\n",
       "      <td>0</td>\n",
       "    </tr>\n",
       "    <tr>\n",
       "      <th>16</th>\n",
       "      <td>93156</td>\n",
       "      <td>91852</td>\n",
       "      <td>0</td>\n",
       "    </tr>\n",
       "    <tr>\n",
       "      <th>7</th>\n",
       "      <td>98918</td>\n",
       "      <td>91215</td>\n",
       "      <td>0</td>\n",
       "    </tr>\n",
       "    <tr>\n",
       "      <th>15</th>\n",
       "      <td>94468</td>\n",
       "      <td>91054</td>\n",
       "      <td>0</td>\n",
       "    </tr>\n",
       "    <tr>\n",
       "      <th>2</th>\n",
       "      <td>0</td>\n",
       "      <td>90905</td>\n",
       "      <td>79880</td>\n",
       "    </tr>\n",
       "    <tr>\n",
       "      <th>5</th>\n",
       "      <td>84470</td>\n",
       "      <td>89852</td>\n",
       "      <td>0</td>\n",
       "    </tr>\n",
       "    <tr>\n",
       "      <th>21</th>\n",
       "      <td>89759</td>\n",
       "      <td>89316</td>\n",
       "      <td>0</td>\n",
       "    </tr>\n",
       "    <tr>\n",
       "      <th>19</th>\n",
       "      <td>89121</td>\n",
       "      <td>89223</td>\n",
       "      <td>0</td>\n",
       "    </tr>\n",
       "    <tr>\n",
       "      <th>26</th>\n",
       "      <td>81548</td>\n",
       "      <td>88409</td>\n",
       "      <td>0</td>\n",
       "    </tr>\n",
       "    <tr>\n",
       "      <th>20</th>\n",
       "      <td>107714</td>\n",
       "      <td>87992</td>\n",
       "      <td>0</td>\n",
       "    </tr>\n",
       "    <tr>\n",
       "      <th>27</th>\n",
       "      <td>96207</td>\n",
       "      <td>86737</td>\n",
       "      <td>0</td>\n",
       "    </tr>\n",
       "    <tr>\n",
       "      <th>22</th>\n",
       "      <td>88892</td>\n",
       "      <td>84360</td>\n",
       "      <td>0</td>\n",
       "    </tr>\n",
       "    <tr>\n",
       "      <th>8</th>\n",
       "      <td>95740</td>\n",
       "      <td>82971</td>\n",
       "      <td>0</td>\n",
       "    </tr>\n",
       "    <tr>\n",
       "      <th>24</th>\n",
       "      <td>77416</td>\n",
       "      <td>82524</td>\n",
       "      <td>0</td>\n",
       "    </tr>\n",
       "    <tr>\n",
       "      <th>28</th>\n",
       "      <td>92354</td>\n",
       "      <td>81791</td>\n",
       "      <td>0</td>\n",
       "    </tr>\n",
       "    <tr>\n",
       "      <th>31</th>\n",
       "      <td>0</td>\n",
       "      <td>78481</td>\n",
       "      <td>0</td>\n",
       "    </tr>\n",
       "    <tr>\n",
       "      <th>9</th>\n",
       "      <td>101476</td>\n",
       "      <td>77349</td>\n",
       "      <td>0</td>\n",
       "    </tr>\n",
       "    <tr>\n",
       "      <th>23</th>\n",
       "      <td>86734</td>\n",
       "      <td>76470</td>\n",
       "      <td>0</td>\n",
       "    </tr>\n",
       "    <tr>\n",
       "      <th>29</th>\n",
       "      <td>89639</td>\n",
       "      <td>71764</td>\n",
       "      <td>0</td>\n",
       "    </tr>\n",
       "    <tr>\n",
       "      <th>30</th>\n",
       "      <td>96212</td>\n",
       "      <td>68377</td>\n",
       "      <td>0</td>\n",
       "    </tr>\n",
       "  </tbody>\n",
       "</table>\n",
       "</div>"
      ],
      "text/plain": [
       "event_timestamp_month       6       7      8\n",
       "event_timestamp_day                         \n",
       "11                      82429  125133      0\n",
       "4                       73238  120137  34847\n",
       "18                      80537  114508      0\n",
       "1                           0  108761  92934\n",
       "3                       50686  103425  80301\n",
       "17                      81630   99128      0\n",
       "25                      75823   98925      0\n",
       "6                      110907   98556      0\n",
       "10                      94515   97376      0\n",
       "14                      55855   96506      0\n",
       "13                      42626   95757      0\n",
       "12                      90983   94661      0\n",
       "16                      93156   91852      0\n",
       "7                       98918   91215      0\n",
       "15                      94468   91054      0\n",
       "2                           0   90905  79880\n",
       "5                       84470   89852      0\n",
       "21                      89759   89316      0\n",
       "19                      89121   89223      0\n",
       "26                      81548   88409      0\n",
       "20                     107714   87992      0\n",
       "27                      96207   86737      0\n",
       "22                      88892   84360      0\n",
       "8                       95740   82971      0\n",
       "24                      77416   82524      0\n",
       "28                      92354   81791      0\n",
       "31                          0   78481      0\n",
       "9                      101476   77349      0\n",
       "23                      86734   76470      0\n",
       "29                      89639   71764      0\n",
       "30                      96212   68377      0"
      ]
     },
     "execution_count": 46,
     "metadata": {},
     "output_type": "execute_result"
    }
   ],
   "source": [
    "table_DAU.T.sort_values(by=7, ascending=False)"
   ]
  },
  {
   "cell_type": "code",
   "execution_count": 47,
   "metadata": {},
   "outputs": [
    {
     "data": {
      "text/html": [
       "<div>\n",
       "<style scoped>\n",
       "    .dataframe tbody tr th:only-of-type {\n",
       "        vertical-align: middle;\n",
       "    }\n",
       "\n",
       "    .dataframe tbody tr th {\n",
       "        vertical-align: top;\n",
       "    }\n",
       "\n",
       "    .dataframe thead th {\n",
       "        text-align: right;\n",
       "    }\n",
       "</style>\n",
       "<table border=\"1\" class=\"dataframe\">\n",
       "  <thead>\n",
       "    <tr style=\"text-align: right;\">\n",
       "      <th>event_timestamp_month</th>\n",
       "      <th>6</th>\n",
       "      <th>7</th>\n",
       "      <th>8</th>\n",
       "    </tr>\n",
       "    <tr>\n",
       "      <th>event_timestamp_day</th>\n",
       "      <th></th>\n",
       "      <th></th>\n",
       "      <th></th>\n",
       "    </tr>\n",
       "  </thead>\n",
       "  <tbody>\n",
       "    <tr>\n",
       "      <th>1</th>\n",
       "      <td>0</td>\n",
       "      <td>108761</td>\n",
       "      <td>92934</td>\n",
       "    </tr>\n",
       "    <tr>\n",
       "      <th>3</th>\n",
       "      <td>50686</td>\n",
       "      <td>103425</td>\n",
       "      <td>80301</td>\n",
       "    </tr>\n",
       "    <tr>\n",
       "      <th>2</th>\n",
       "      <td>0</td>\n",
       "      <td>90905</td>\n",
       "      <td>79880</td>\n",
       "    </tr>\n",
       "    <tr>\n",
       "      <th>4</th>\n",
       "      <td>73238</td>\n",
       "      <td>120137</td>\n",
       "      <td>34847</td>\n",
       "    </tr>\n",
       "    <tr>\n",
       "      <th>24</th>\n",
       "      <td>77416</td>\n",
       "      <td>82524</td>\n",
       "      <td>0</td>\n",
       "    </tr>\n",
       "    <tr>\n",
       "      <th>20</th>\n",
       "      <td>107714</td>\n",
       "      <td>87992</td>\n",
       "      <td>0</td>\n",
       "    </tr>\n",
       "    <tr>\n",
       "      <th>21</th>\n",
       "      <td>89759</td>\n",
       "      <td>89316</td>\n",
       "      <td>0</td>\n",
       "    </tr>\n",
       "    <tr>\n",
       "      <th>22</th>\n",
       "      <td>88892</td>\n",
       "      <td>84360</td>\n",
       "      <td>0</td>\n",
       "    </tr>\n",
       "    <tr>\n",
       "      <th>23</th>\n",
       "      <td>86734</td>\n",
       "      <td>76470</td>\n",
       "      <td>0</td>\n",
       "    </tr>\n",
       "    <tr>\n",
       "      <th>26</th>\n",
       "      <td>81548</td>\n",
       "      <td>88409</td>\n",
       "      <td>0</td>\n",
       "    </tr>\n",
       "    <tr>\n",
       "      <th>25</th>\n",
       "      <td>75823</td>\n",
       "      <td>98925</td>\n",
       "      <td>0</td>\n",
       "    </tr>\n",
       "    <tr>\n",
       "      <th>18</th>\n",
       "      <td>80537</td>\n",
       "      <td>114508</td>\n",
       "      <td>0</td>\n",
       "    </tr>\n",
       "    <tr>\n",
       "      <th>27</th>\n",
       "      <td>96207</td>\n",
       "      <td>86737</td>\n",
       "      <td>0</td>\n",
       "    </tr>\n",
       "    <tr>\n",
       "      <th>28</th>\n",
       "      <td>92354</td>\n",
       "      <td>81791</td>\n",
       "      <td>0</td>\n",
       "    </tr>\n",
       "    <tr>\n",
       "      <th>29</th>\n",
       "      <td>89639</td>\n",
       "      <td>71764</td>\n",
       "      <td>0</td>\n",
       "    </tr>\n",
       "    <tr>\n",
       "      <th>30</th>\n",
       "      <td>96212</td>\n",
       "      <td>68377</td>\n",
       "      <td>0</td>\n",
       "    </tr>\n",
       "    <tr>\n",
       "      <th>19</th>\n",
       "      <td>89121</td>\n",
       "      <td>89223</td>\n",
       "      <td>0</td>\n",
       "    </tr>\n",
       "    <tr>\n",
       "      <th>16</th>\n",
       "      <td>93156</td>\n",
       "      <td>91852</td>\n",
       "      <td>0</td>\n",
       "    </tr>\n",
       "    <tr>\n",
       "      <th>17</th>\n",
       "      <td>81630</td>\n",
       "      <td>99128</td>\n",
       "      <td>0</td>\n",
       "    </tr>\n",
       "    <tr>\n",
       "      <th>15</th>\n",
       "      <td>94468</td>\n",
       "      <td>91054</td>\n",
       "      <td>0</td>\n",
       "    </tr>\n",
       "    <tr>\n",
       "      <th>14</th>\n",
       "      <td>55855</td>\n",
       "      <td>96506</td>\n",
       "      <td>0</td>\n",
       "    </tr>\n",
       "    <tr>\n",
       "      <th>13</th>\n",
       "      <td>42626</td>\n",
       "      <td>95757</td>\n",
       "      <td>0</td>\n",
       "    </tr>\n",
       "    <tr>\n",
       "      <th>12</th>\n",
       "      <td>90983</td>\n",
       "      <td>94661</td>\n",
       "      <td>0</td>\n",
       "    </tr>\n",
       "    <tr>\n",
       "      <th>11</th>\n",
       "      <td>82429</td>\n",
       "      <td>125133</td>\n",
       "      <td>0</td>\n",
       "    </tr>\n",
       "    <tr>\n",
       "      <th>10</th>\n",
       "      <td>94515</td>\n",
       "      <td>97376</td>\n",
       "      <td>0</td>\n",
       "    </tr>\n",
       "    <tr>\n",
       "      <th>9</th>\n",
       "      <td>101476</td>\n",
       "      <td>77349</td>\n",
       "      <td>0</td>\n",
       "    </tr>\n",
       "    <tr>\n",
       "      <th>8</th>\n",
       "      <td>95740</td>\n",
       "      <td>82971</td>\n",
       "      <td>0</td>\n",
       "    </tr>\n",
       "    <tr>\n",
       "      <th>7</th>\n",
       "      <td>98918</td>\n",
       "      <td>91215</td>\n",
       "      <td>0</td>\n",
       "    </tr>\n",
       "    <tr>\n",
       "      <th>6</th>\n",
       "      <td>110907</td>\n",
       "      <td>98556</td>\n",
       "      <td>0</td>\n",
       "    </tr>\n",
       "    <tr>\n",
       "      <th>5</th>\n",
       "      <td>84470</td>\n",
       "      <td>89852</td>\n",
       "      <td>0</td>\n",
       "    </tr>\n",
       "    <tr>\n",
       "      <th>31</th>\n",
       "      <td>0</td>\n",
       "      <td>78481</td>\n",
       "      <td>0</td>\n",
       "    </tr>\n",
       "  </tbody>\n",
       "</table>\n",
       "</div>"
      ],
      "text/plain": [
       "event_timestamp_month       6       7      8\n",
       "event_timestamp_day                         \n",
       "1                           0  108761  92934\n",
       "3                       50686  103425  80301\n",
       "2                           0   90905  79880\n",
       "4                       73238  120137  34847\n",
       "24                      77416   82524      0\n",
       "20                     107714   87992      0\n",
       "21                      89759   89316      0\n",
       "22                      88892   84360      0\n",
       "23                      86734   76470      0\n",
       "26                      81548   88409      0\n",
       "25                      75823   98925      0\n",
       "18                      80537  114508      0\n",
       "27                      96207   86737      0\n",
       "28                      92354   81791      0\n",
       "29                      89639   71764      0\n",
       "30                      96212   68377      0\n",
       "19                      89121   89223      0\n",
       "16                      93156   91852      0\n",
       "17                      81630   99128      0\n",
       "15                      94468   91054      0\n",
       "14                      55855   96506      0\n",
       "13                      42626   95757      0\n",
       "12                      90983   94661      0\n",
       "11                      82429  125133      0\n",
       "10                      94515   97376      0\n",
       "9                      101476   77349      0\n",
       "8                       95740   82971      0\n",
       "7                       98918   91215      0\n",
       "6                      110907   98556      0\n",
       "5                       84470   89852      0\n",
       "31                          0   78481      0"
      ]
     },
     "execution_count": 47,
     "metadata": {},
     "output_type": "execute_result"
    }
   ],
   "source": [
    "table_DAU.T.sort_values(by=8, ascending=False)"
   ]
  },
  {
   "cell_type": "code",
   "execution_count": 48,
   "metadata": {},
   "outputs": [],
   "source": [
    "table_DAU['total'] = table_DAU.sum(axis='columns')"
   ]
  },
  {
   "cell_type": "code",
   "execution_count": 49,
   "metadata": {},
   "outputs": [
    {
     "data": {
      "text/html": [
       "<div>\n",
       "<style scoped>\n",
       "    .dataframe tbody tr th:only-of-type {\n",
       "        vertical-align: middle;\n",
       "    }\n",
       "\n",
       "    .dataframe tbody tr th {\n",
       "        vertical-align: top;\n",
       "    }\n",
       "\n",
       "    .dataframe thead th {\n",
       "        text-align: right;\n",
       "    }\n",
       "</style>\n",
       "<table border=\"1\" class=\"dataframe\">\n",
       "  <thead>\n",
       "    <tr style=\"text-align: right;\">\n",
       "      <th>event_timestamp_day</th>\n",
       "      <th>1</th>\n",
       "      <th>2</th>\n",
       "      <th>3</th>\n",
       "      <th>4</th>\n",
       "      <th>5</th>\n",
       "      <th>6</th>\n",
       "      <th>7</th>\n",
       "      <th>8</th>\n",
       "      <th>9</th>\n",
       "      <th>10</th>\n",
       "      <th>...</th>\n",
       "      <th>23</th>\n",
       "      <th>24</th>\n",
       "      <th>25</th>\n",
       "      <th>26</th>\n",
       "      <th>27</th>\n",
       "      <th>28</th>\n",
       "      <th>29</th>\n",
       "      <th>30</th>\n",
       "      <th>31</th>\n",
       "      <th>total</th>\n",
       "    </tr>\n",
       "    <tr>\n",
       "      <th>event_timestamp_month</th>\n",
       "      <th></th>\n",
       "      <th></th>\n",
       "      <th></th>\n",
       "      <th></th>\n",
       "      <th></th>\n",
       "      <th></th>\n",
       "      <th></th>\n",
       "      <th></th>\n",
       "      <th></th>\n",
       "      <th></th>\n",
       "      <th></th>\n",
       "      <th></th>\n",
       "      <th></th>\n",
       "      <th></th>\n",
       "      <th></th>\n",
       "      <th></th>\n",
       "      <th></th>\n",
       "      <th></th>\n",
       "      <th></th>\n",
       "      <th></th>\n",
       "      <th></th>\n",
       "    </tr>\n",
       "  </thead>\n",
       "  <tbody>\n",
       "    <tr>\n",
       "      <th>6</th>\n",
       "      <td>0</td>\n",
       "      <td>0</td>\n",
       "      <td>50686</td>\n",
       "      <td>73238</td>\n",
       "      <td>84470</td>\n",
       "      <td>110907</td>\n",
       "      <td>98918</td>\n",
       "      <td>95740</td>\n",
       "      <td>101476</td>\n",
       "      <td>94515</td>\n",
       "      <td>...</td>\n",
       "      <td>86734</td>\n",
       "      <td>77416</td>\n",
       "      <td>75823</td>\n",
       "      <td>81548</td>\n",
       "      <td>96207</td>\n",
       "      <td>92354</td>\n",
       "      <td>89639</td>\n",
       "      <td>96212</td>\n",
       "      <td>0</td>\n",
       "      <td>2403053</td>\n",
       "    </tr>\n",
       "    <tr>\n",
       "      <th>7</th>\n",
       "      <td>108761</td>\n",
       "      <td>90905</td>\n",
       "      <td>103425</td>\n",
       "      <td>120137</td>\n",
       "      <td>89852</td>\n",
       "      <td>98556</td>\n",
       "      <td>91215</td>\n",
       "      <td>82971</td>\n",
       "      <td>77349</td>\n",
       "      <td>97376</td>\n",
       "      <td>...</td>\n",
       "      <td>76470</td>\n",
       "      <td>82524</td>\n",
       "      <td>98925</td>\n",
       "      <td>88409</td>\n",
       "      <td>86737</td>\n",
       "      <td>81791</td>\n",
       "      <td>71764</td>\n",
       "      <td>68377</td>\n",
       "      <td>78481</td>\n",
       "      <td>2853515</td>\n",
       "    </tr>\n",
       "    <tr>\n",
       "      <th>8</th>\n",
       "      <td>92934</td>\n",
       "      <td>79880</td>\n",
       "      <td>80301</td>\n",
       "      <td>34847</td>\n",
       "      <td>0</td>\n",
       "      <td>0</td>\n",
       "      <td>0</td>\n",
       "      <td>0</td>\n",
       "      <td>0</td>\n",
       "      <td>0</td>\n",
       "      <td>...</td>\n",
       "      <td>0</td>\n",
       "      <td>0</td>\n",
       "      <td>0</td>\n",
       "      <td>0</td>\n",
       "      <td>0</td>\n",
       "      <td>0</td>\n",
       "      <td>0</td>\n",
       "      <td>0</td>\n",
       "      <td>0</td>\n",
       "      <td>287962</td>\n",
       "    </tr>\n",
       "  </tbody>\n",
       "</table>\n",
       "<p>3 rows × 32 columns</p>\n",
       "</div>"
      ],
      "text/plain": [
       "event_timestamp_day         1      2       3       4      5       6      7  \\\n",
       "event_timestamp_month                                                        \n",
       "6                           0      0   50686   73238  84470  110907  98918   \n",
       "7                      108761  90905  103425  120137  89852   98556  91215   \n",
       "8                       92934  79880   80301   34847      0       0      0   \n",
       "\n",
       "event_timestamp_day        8       9     10  ...     23     24     25     26  \\\n",
       "event_timestamp_month                        ...                               \n",
       "6                      95740  101476  94515  ...  86734  77416  75823  81548   \n",
       "7                      82971   77349  97376  ...  76470  82524  98925  88409   \n",
       "8                          0       0      0  ...      0      0      0      0   \n",
       "\n",
       "event_timestamp_day       27     28     29     30     31    total  \n",
       "event_timestamp_month                                              \n",
       "6                      96207  92354  89639  96212      0  2403053  \n",
       "7                      86737  81791  71764  68377  78481  2853515  \n",
       "8                          0      0      0      0      0   287962  \n",
       "\n",
       "[3 rows x 32 columns]"
      ]
     },
     "execution_count": 49,
     "metadata": {},
     "output_type": "execute_result"
    }
   ],
   "source": [
    "table_DAU"
   ]
  },
  {
   "cell_type": "code",
   "execution_count": 50,
   "metadata": {},
   "outputs": [
    {
     "data": {
      "text/html": [
       "<div>\n",
       "<style scoped>\n",
       "    .dataframe tbody tr th:only-of-type {\n",
       "        vertical-align: middle;\n",
       "    }\n",
       "\n",
       "    .dataframe tbody tr th {\n",
       "        vertical-align: top;\n",
       "    }\n",
       "\n",
       "    .dataframe thead th {\n",
       "        text-align: right;\n",
       "    }\n",
       "</style>\n",
       "<table border=\"1\" class=\"dataframe\">\n",
       "  <thead>\n",
       "    <tr style=\"text-align: right;\">\n",
       "      <th>event_timestamp_month</th>\n",
       "      <th>6</th>\n",
       "      <th>7</th>\n",
       "      <th>8</th>\n",
       "    </tr>\n",
       "    <tr>\n",
       "      <th>event_timestamp_day</th>\n",
       "      <th></th>\n",
       "      <th></th>\n",
       "      <th></th>\n",
       "    </tr>\n",
       "  </thead>\n",
       "  <tbody>\n",
       "    <tr>\n",
       "      <th>1</th>\n",
       "      <td>0</td>\n",
       "      <td>108761</td>\n",
       "      <td>92934</td>\n",
       "    </tr>\n",
       "    <tr>\n",
       "      <th>2</th>\n",
       "      <td>0</td>\n",
       "      <td>90905</td>\n",
       "      <td>79880</td>\n",
       "    </tr>\n",
       "    <tr>\n",
       "      <th>3</th>\n",
       "      <td>50686</td>\n",
       "      <td>103425</td>\n",
       "      <td>80301</td>\n",
       "    </tr>\n",
       "    <tr>\n",
       "      <th>4</th>\n",
       "      <td>73238</td>\n",
       "      <td>120137</td>\n",
       "      <td>34847</td>\n",
       "    </tr>\n",
       "    <tr>\n",
       "      <th>5</th>\n",
       "      <td>84470</td>\n",
       "      <td>89852</td>\n",
       "      <td>0</td>\n",
       "    </tr>\n",
       "    <tr>\n",
       "      <th>6</th>\n",
       "      <td>110907</td>\n",
       "      <td>98556</td>\n",
       "      <td>0</td>\n",
       "    </tr>\n",
       "    <tr>\n",
       "      <th>7</th>\n",
       "      <td>98918</td>\n",
       "      <td>91215</td>\n",
       "      <td>0</td>\n",
       "    </tr>\n",
       "    <tr>\n",
       "      <th>8</th>\n",
       "      <td>95740</td>\n",
       "      <td>82971</td>\n",
       "      <td>0</td>\n",
       "    </tr>\n",
       "    <tr>\n",
       "      <th>9</th>\n",
       "      <td>101476</td>\n",
       "      <td>77349</td>\n",
       "      <td>0</td>\n",
       "    </tr>\n",
       "    <tr>\n",
       "      <th>10</th>\n",
       "      <td>94515</td>\n",
       "      <td>97376</td>\n",
       "      <td>0</td>\n",
       "    </tr>\n",
       "    <tr>\n",
       "      <th>11</th>\n",
       "      <td>82429</td>\n",
       "      <td>125133</td>\n",
       "      <td>0</td>\n",
       "    </tr>\n",
       "    <tr>\n",
       "      <th>12</th>\n",
       "      <td>90983</td>\n",
       "      <td>94661</td>\n",
       "      <td>0</td>\n",
       "    </tr>\n",
       "    <tr>\n",
       "      <th>13</th>\n",
       "      <td>42626</td>\n",
       "      <td>95757</td>\n",
       "      <td>0</td>\n",
       "    </tr>\n",
       "    <tr>\n",
       "      <th>14</th>\n",
       "      <td>55855</td>\n",
       "      <td>96506</td>\n",
       "      <td>0</td>\n",
       "    </tr>\n",
       "    <tr>\n",
       "      <th>15</th>\n",
       "      <td>94468</td>\n",
       "      <td>91054</td>\n",
       "      <td>0</td>\n",
       "    </tr>\n",
       "    <tr>\n",
       "      <th>16</th>\n",
       "      <td>93156</td>\n",
       "      <td>91852</td>\n",
       "      <td>0</td>\n",
       "    </tr>\n",
       "    <tr>\n",
       "      <th>17</th>\n",
       "      <td>81630</td>\n",
       "      <td>99128</td>\n",
       "      <td>0</td>\n",
       "    </tr>\n",
       "    <tr>\n",
       "      <th>18</th>\n",
       "      <td>80537</td>\n",
       "      <td>114508</td>\n",
       "      <td>0</td>\n",
       "    </tr>\n",
       "    <tr>\n",
       "      <th>19</th>\n",
       "      <td>89121</td>\n",
       "      <td>89223</td>\n",
       "      <td>0</td>\n",
       "    </tr>\n",
       "    <tr>\n",
       "      <th>20</th>\n",
       "      <td>107714</td>\n",
       "      <td>87992</td>\n",
       "      <td>0</td>\n",
       "    </tr>\n",
       "    <tr>\n",
       "      <th>21</th>\n",
       "      <td>89759</td>\n",
       "      <td>89316</td>\n",
       "      <td>0</td>\n",
       "    </tr>\n",
       "    <tr>\n",
       "      <th>22</th>\n",
       "      <td>88892</td>\n",
       "      <td>84360</td>\n",
       "      <td>0</td>\n",
       "    </tr>\n",
       "    <tr>\n",
       "      <th>23</th>\n",
       "      <td>86734</td>\n",
       "      <td>76470</td>\n",
       "      <td>0</td>\n",
       "    </tr>\n",
       "    <tr>\n",
       "      <th>24</th>\n",
       "      <td>77416</td>\n",
       "      <td>82524</td>\n",
       "      <td>0</td>\n",
       "    </tr>\n",
       "    <tr>\n",
       "      <th>25</th>\n",
       "      <td>75823</td>\n",
       "      <td>98925</td>\n",
       "      <td>0</td>\n",
       "    </tr>\n",
       "    <tr>\n",
       "      <th>26</th>\n",
       "      <td>81548</td>\n",
       "      <td>88409</td>\n",
       "      <td>0</td>\n",
       "    </tr>\n",
       "    <tr>\n",
       "      <th>27</th>\n",
       "      <td>96207</td>\n",
       "      <td>86737</td>\n",
       "      <td>0</td>\n",
       "    </tr>\n",
       "    <tr>\n",
       "      <th>28</th>\n",
       "      <td>92354</td>\n",
       "      <td>81791</td>\n",
       "      <td>0</td>\n",
       "    </tr>\n",
       "    <tr>\n",
       "      <th>29</th>\n",
       "      <td>89639</td>\n",
       "      <td>71764</td>\n",
       "      <td>0</td>\n",
       "    </tr>\n",
       "    <tr>\n",
       "      <th>30</th>\n",
       "      <td>96212</td>\n",
       "      <td>68377</td>\n",
       "      <td>0</td>\n",
       "    </tr>\n",
       "    <tr>\n",
       "      <th>31</th>\n",
       "      <td>0</td>\n",
       "      <td>78481</td>\n",
       "      <td>0</td>\n",
       "    </tr>\n",
       "    <tr>\n",
       "      <th>total</th>\n",
       "      <td>4806106</td>\n",
       "      <td>5707030</td>\n",
       "      <td>575924</td>\n",
       "    </tr>\n",
       "  </tbody>\n",
       "</table>\n",
       "</div>"
      ],
      "text/plain": [
       "event_timestamp_month        6        7       8\n",
       "event_timestamp_day                            \n",
       "1                            0   108761   92934\n",
       "2                            0    90905   79880\n",
       "3                        50686   103425   80301\n",
       "4                        73238   120137   34847\n",
       "5                        84470    89852       0\n",
       "6                       110907    98556       0\n",
       "7                        98918    91215       0\n",
       "8                        95740    82971       0\n",
       "9                       101476    77349       0\n",
       "10                       94515    97376       0\n",
       "11                       82429   125133       0\n",
       "12                       90983    94661       0\n",
       "13                       42626    95757       0\n",
       "14                       55855    96506       0\n",
       "15                       94468    91054       0\n",
       "16                       93156    91852       0\n",
       "17                       81630    99128       0\n",
       "18                       80537   114508       0\n",
       "19                       89121    89223       0\n",
       "20                      107714    87992       0\n",
       "21                       89759    89316       0\n",
       "22                       88892    84360       0\n",
       "23                       86734    76470       0\n",
       "24                       77416    82524       0\n",
       "25                       75823    98925       0\n",
       "26                       81548    88409       0\n",
       "27                       96207    86737       0\n",
       "28                       92354    81791       0\n",
       "29                       89639    71764       0\n",
       "30                       96212    68377       0\n",
       "31                           0    78481       0\n",
       "total                  4806106  5707030  575924"
      ]
     },
     "execution_count": 50,
     "metadata": {},
     "output_type": "execute_result"
    }
   ],
   "source": [
    "table_DAU['total'] = table_DAU.sum(axis='columns')\n",
    "table_DAU.T"
   ]
  },
  {
   "cell_type": "code",
   "execution_count": 79,
   "metadata": {},
   "outputs": [
    {
     "data": {
      "text/plain": [
       "184097.74193548388"
      ]
     },
     "execution_count": 79,
     "metadata": {},
     "output_type": "execute_result"
    }
   ],
   "source": [
    "5707030 / 31"
   ]
  },
  {
   "cell_type": "code",
   "execution_count": 81,
   "metadata": {},
   "outputs": [
    {
     "data": {
      "text/plain": [
       "171646.64285714287"
      ]
     },
     "execution_count": 81,
     "metadata": {},
     "output_type": "execute_result"
    }
   ],
   "source": [
    "4806106 / 28"
   ]
  },
  {
   "cell_type": "code",
   "execution_count": 82,
   "metadata": {},
   "outputs": [
    {
     "data": {
      "text/plain": [
       "143981.0"
      ]
     },
     "execution_count": 82,
     "metadata": {},
     "output_type": "execute_result"
    }
   ],
   "source": [
    "575924 / 4"
   ]
  },
  {
   "attachments": {},
   "cell_type": "markdown",
   "metadata": {},
   "source": [
    "# 체류시간 확인하기"
   ]
  },
  {
   "cell_type": "code",
   "execution_count": 51,
   "metadata": {},
   "outputs": [
    {
     "data": {
      "text/plain": [
       "Index(['session_id', 'event_timestamp', 'event_name', 'user_no', 'item_no',\n",
       "       'device_type', 'operating_system_version', 'country', 'region',\n",
       "       'platform', 'event_timestamp_year', 'event_timestamp_month',\n",
       "       'event_timestamp_day', 'event_timestamp_hour', 'event_timestamp_minute',\n",
       "       'ostype', 'osversion(number)', 'item_name', 'image_name', 'price',\n",
       "       'category1_code', 'category1_name', 'category2_code', 'category2_name',\n",
       "       'category3_code', 'category3_name', 'brand_no', 'brand_name',\n",
       "       'birth_date', 'gender', 'age'],\n",
       "      dtype='object')"
      ]
     },
     "execution_count": 51,
     "metadata": {},
     "output_type": "execute_result"
    }
   ],
   "source": [
    "total_df.columns"
   ]
  },
  {
   "cell_type": "code",
   "execution_count": 52,
   "metadata": {},
   "outputs": [],
   "source": [
    "total_df['event_timestamp'] = pd.to_datetime(total_df['event_timestamp'])\n",
    "total_df['event_timestamp'] = total_df['event_timestamp'].dt.strftime('%Y-%m-%d %H:%M:%S')\n",
    "total_df['event_timestamp'] = pd.to_datetime(total_df['event_timestamp'])"
   ]
  },
  {
   "cell_type": "code",
   "execution_count": 53,
   "metadata": {},
   "outputs": [],
   "source": [
    "max_group = total_df.groupby(['session_id', 'user_no'])['event_timestamp'].max()\n",
    "min_group = total_df.groupby(['session_id', 'user_no'])['event_timestamp'].min()"
   ]
  },
  {
   "cell_type": "code",
   "execution_count": 54,
   "metadata": {},
   "outputs": [
    {
     "data": {
      "text/html": [
       "<div>\n",
       "<style scoped>\n",
       "    .dataframe tbody tr th:only-of-type {\n",
       "        vertical-align: middle;\n",
       "    }\n",
       "\n",
       "    .dataframe tbody tr th {\n",
       "        vertical-align: top;\n",
       "    }\n",
       "\n",
       "    .dataframe thead th {\n",
       "        text-align: right;\n",
       "    }\n",
       "</style>\n",
       "<table border=\"1\" class=\"dataframe\">\n",
       "  <thead>\n",
       "    <tr style=\"text-align: right;\">\n",
       "      <th></th>\n",
       "      <th></th>\n",
       "      <th>latest</th>\n",
       "    </tr>\n",
       "    <tr>\n",
       "      <th>session_id</th>\n",
       "      <th>user_no</th>\n",
       "      <th></th>\n",
       "    </tr>\n",
       "  </thead>\n",
       "  <tbody>\n",
       "    <tr>\n",
       "      <th>0000104cd168386a335ba6bf6e32219d</th>\n",
       "      <th>a+qjV4Mq5z4UwP69U7B8aw==</th>\n",
       "      <td>2021-07-20 02:16:04</td>\n",
       "    </tr>\n",
       "    <tr>\n",
       "      <th>0000180e94707c0d90547614c17076bf</th>\n",
       "      <th>Vj2CewxFeOoRuJI42P4rqA==</th>\n",
       "      <td>2021-07-20 21:06:49</td>\n",
       "    </tr>\n",
       "    <tr>\n",
       "      <th>0000193a728fd00b6cff91b8840bbf8d</th>\n",
       "      <th>V4z7pgAxLNqN5YpcT19ocA==</th>\n",
       "      <td>2021-06-10 01:47:22</td>\n",
       "    </tr>\n",
       "    <tr>\n",
       "      <th>00003e3b9e5336685200ae85d21b4f5e</th>\n",
       "      <th>+Ah1Nbgq/LVp6XX7uhlaoQ==</th>\n",
       "      <td>2021-08-02 07:22:06</td>\n",
       "    </tr>\n",
       "    <tr>\n",
       "      <th>000051f32d02c8a53b43a686969676e6</th>\n",
       "      <th>vPnWvRSiCVhmzoyVC3AjQQ==</th>\n",
       "      <td>2021-07-21 11:15:20</td>\n",
       "    </tr>\n",
       "    <tr>\n",
       "      <th>...</th>\n",
       "      <th>...</th>\n",
       "      <td>...</td>\n",
       "    </tr>\n",
       "    <tr>\n",
       "      <th>ffffb8de2d77567f452ad766471a9e5e</th>\n",
       "      <th>8TaE3hhkfhn8TtrPayhZIA==</th>\n",
       "      <td>2021-06-21 07:49:53</td>\n",
       "    </tr>\n",
       "    <tr>\n",
       "      <th>ffffbd0f062adb4c4a307c5a05f7b0ad</th>\n",
       "      <th>Ej6vc1bpQU3E78ZJGrM8xg==</th>\n",
       "      <td>2021-07-13 21:55:53</td>\n",
       "    </tr>\n",
       "    <tr>\n",
       "      <th>ffffda8ada4827900cbf65fd20281080</th>\n",
       "      <th>2Dv1XGrHGK5/8ORRBHjF6Q==</th>\n",
       "      <td>2021-07-01 09:31:50</td>\n",
       "    </tr>\n",
       "    <tr>\n",
       "      <th>fffffa6bed6b7780465149fab05cf406</th>\n",
       "      <th>Y/VM5guIXcj2B7GLnM5auw==</th>\n",
       "      <td>2021-07-25 15:41:11</td>\n",
       "    </tr>\n",
       "    <tr>\n",
       "      <th>fffffe98d0963d27015c198262d97221</th>\n",
       "      <th>/ljIB70UTJPtSeOU2Aho1Q==</th>\n",
       "      <td>2021-07-25 22:52:07</td>\n",
       "    </tr>\n",
       "  </tbody>\n",
       "</table>\n",
       "<p>1342650 rows × 1 columns</p>\n",
       "</div>"
      ],
      "text/plain": [
       "                                                                       latest\n",
       "session_id                       user_no                                     \n",
       "0000104cd168386a335ba6bf6e32219d a+qjV4Mq5z4UwP69U7B8aw== 2021-07-20 02:16:04\n",
       "0000180e94707c0d90547614c17076bf Vj2CewxFeOoRuJI42P4rqA== 2021-07-20 21:06:49\n",
       "0000193a728fd00b6cff91b8840bbf8d V4z7pgAxLNqN5YpcT19ocA== 2021-06-10 01:47:22\n",
       "00003e3b9e5336685200ae85d21b4f5e +Ah1Nbgq/LVp6XX7uhlaoQ== 2021-08-02 07:22:06\n",
       "000051f32d02c8a53b43a686969676e6 vPnWvRSiCVhmzoyVC3AjQQ== 2021-07-21 11:15:20\n",
       "...                                                                       ...\n",
       "ffffb8de2d77567f452ad766471a9e5e 8TaE3hhkfhn8TtrPayhZIA== 2021-06-21 07:49:53\n",
       "ffffbd0f062adb4c4a307c5a05f7b0ad Ej6vc1bpQU3E78ZJGrM8xg== 2021-07-13 21:55:53\n",
       "ffffda8ada4827900cbf65fd20281080 2Dv1XGrHGK5/8ORRBHjF6Q== 2021-07-01 09:31:50\n",
       "fffffa6bed6b7780465149fab05cf406 Y/VM5guIXcj2B7GLnM5auw== 2021-07-25 15:41:11\n",
       "fffffe98d0963d27015c198262d97221 /ljIB70UTJPtSeOU2Aho1Q== 2021-07-25 22:52:07\n",
       "\n",
       "[1342650 rows x 1 columns]"
      ]
     },
     "execution_count": 54,
     "metadata": {},
     "output_type": "execute_result"
    }
   ],
   "source": [
    "max_time = pd.DataFrame(max_group)\n",
    "max_time.columns = ['latest']\n",
    "max_time"
   ]
  },
  {
   "cell_type": "code",
   "execution_count": 55,
   "metadata": {},
   "outputs": [
    {
     "data": {
      "text/html": [
       "<div>\n",
       "<style scoped>\n",
       "    .dataframe tbody tr th:only-of-type {\n",
       "        vertical-align: middle;\n",
       "    }\n",
       "\n",
       "    .dataframe tbody tr th {\n",
       "        vertical-align: top;\n",
       "    }\n",
       "\n",
       "    .dataframe thead th {\n",
       "        text-align: right;\n",
       "    }\n",
       "</style>\n",
       "<table border=\"1\" class=\"dataframe\">\n",
       "  <thead>\n",
       "    <tr style=\"text-align: right;\">\n",
       "      <th></th>\n",
       "      <th></th>\n",
       "      <th>start</th>\n",
       "    </tr>\n",
       "    <tr>\n",
       "      <th>session_id</th>\n",
       "      <th>user_no</th>\n",
       "      <th></th>\n",
       "    </tr>\n",
       "  </thead>\n",
       "  <tbody>\n",
       "    <tr>\n",
       "      <th>0000104cd168386a335ba6bf6e32219d</th>\n",
       "      <th>a+qjV4Mq5z4UwP69U7B8aw==</th>\n",
       "      <td>2021-07-20 02:16:04</td>\n",
       "    </tr>\n",
       "    <tr>\n",
       "      <th>0000180e94707c0d90547614c17076bf</th>\n",
       "      <th>Vj2CewxFeOoRuJI42P4rqA==</th>\n",
       "      <td>2021-07-20 21:06:49</td>\n",
       "    </tr>\n",
       "    <tr>\n",
       "      <th>0000193a728fd00b6cff91b8840bbf8d</th>\n",
       "      <th>V4z7pgAxLNqN5YpcT19ocA==</th>\n",
       "      <td>2021-06-10 01:36:21</td>\n",
       "    </tr>\n",
       "    <tr>\n",
       "      <th>00003e3b9e5336685200ae85d21b4f5e</th>\n",
       "      <th>+Ah1Nbgq/LVp6XX7uhlaoQ==</th>\n",
       "      <td>2021-08-02 07:22:06</td>\n",
       "    </tr>\n",
       "    <tr>\n",
       "      <th>000051f32d02c8a53b43a686969676e6</th>\n",
       "      <th>vPnWvRSiCVhmzoyVC3AjQQ==</th>\n",
       "      <td>2021-07-21 11:08:40</td>\n",
       "    </tr>\n",
       "    <tr>\n",
       "      <th>...</th>\n",
       "      <th>...</th>\n",
       "      <td>...</td>\n",
       "    </tr>\n",
       "    <tr>\n",
       "      <th>ffffb8de2d77567f452ad766471a9e5e</th>\n",
       "      <th>8TaE3hhkfhn8TtrPayhZIA==</th>\n",
       "      <td>2021-06-21 07:49:53</td>\n",
       "    </tr>\n",
       "    <tr>\n",
       "      <th>ffffbd0f062adb4c4a307c5a05f7b0ad</th>\n",
       "      <th>Ej6vc1bpQU3E78ZJGrM8xg==</th>\n",
       "      <td>2021-07-13 21:55:53</td>\n",
       "    </tr>\n",
       "    <tr>\n",
       "      <th>ffffda8ada4827900cbf65fd20281080</th>\n",
       "      <th>2Dv1XGrHGK5/8ORRBHjF6Q==</th>\n",
       "      <td>2021-07-01 09:06:01</td>\n",
       "    </tr>\n",
       "    <tr>\n",
       "      <th>fffffa6bed6b7780465149fab05cf406</th>\n",
       "      <th>Y/VM5guIXcj2B7GLnM5auw==</th>\n",
       "      <td>2021-07-25 15:41:11</td>\n",
       "    </tr>\n",
       "    <tr>\n",
       "      <th>fffffe98d0963d27015c198262d97221</th>\n",
       "      <th>/ljIB70UTJPtSeOU2Aho1Q==</th>\n",
       "      <td>2021-07-25 22:52:07</td>\n",
       "    </tr>\n",
       "  </tbody>\n",
       "</table>\n",
       "<p>1342650 rows × 1 columns</p>\n",
       "</div>"
      ],
      "text/plain": [
       "                                                                        start\n",
       "session_id                       user_no                                     \n",
       "0000104cd168386a335ba6bf6e32219d a+qjV4Mq5z4UwP69U7B8aw== 2021-07-20 02:16:04\n",
       "0000180e94707c0d90547614c17076bf Vj2CewxFeOoRuJI42P4rqA== 2021-07-20 21:06:49\n",
       "0000193a728fd00b6cff91b8840bbf8d V4z7pgAxLNqN5YpcT19ocA== 2021-06-10 01:36:21\n",
       "00003e3b9e5336685200ae85d21b4f5e +Ah1Nbgq/LVp6XX7uhlaoQ== 2021-08-02 07:22:06\n",
       "000051f32d02c8a53b43a686969676e6 vPnWvRSiCVhmzoyVC3AjQQ== 2021-07-21 11:08:40\n",
       "...                                                                       ...\n",
       "ffffb8de2d77567f452ad766471a9e5e 8TaE3hhkfhn8TtrPayhZIA== 2021-06-21 07:49:53\n",
       "ffffbd0f062adb4c4a307c5a05f7b0ad Ej6vc1bpQU3E78ZJGrM8xg== 2021-07-13 21:55:53\n",
       "ffffda8ada4827900cbf65fd20281080 2Dv1XGrHGK5/8ORRBHjF6Q== 2021-07-01 09:06:01\n",
       "fffffa6bed6b7780465149fab05cf406 Y/VM5guIXcj2B7GLnM5auw== 2021-07-25 15:41:11\n",
       "fffffe98d0963d27015c198262d97221 /ljIB70UTJPtSeOU2Aho1Q== 2021-07-25 22:52:07\n",
       "\n",
       "[1342650 rows x 1 columns]"
      ]
     },
     "execution_count": 55,
     "metadata": {},
     "output_type": "execute_result"
    }
   ],
   "source": [
    "min_time = pd.DataFrame(min_group)\n",
    "min_time.columns = ['start']\n",
    "min_time"
   ]
  },
  {
   "cell_type": "code",
   "execution_count": 56,
   "metadata": {},
   "outputs": [
    {
     "data": {
      "text/html": [
       "<div>\n",
       "<style scoped>\n",
       "    .dataframe tbody tr th:only-of-type {\n",
       "        vertical-align: middle;\n",
       "    }\n",
       "\n",
       "    .dataframe tbody tr th {\n",
       "        vertical-align: top;\n",
       "    }\n",
       "\n",
       "    .dataframe thead th {\n",
       "        text-align: right;\n",
       "    }\n",
       "</style>\n",
       "<table border=\"1\" class=\"dataframe\">\n",
       "  <thead>\n",
       "    <tr style=\"text-align: right;\">\n",
       "      <th></th>\n",
       "      <th></th>\n",
       "      <th>latest</th>\n",
       "      <th>start</th>\n",
       "    </tr>\n",
       "    <tr>\n",
       "      <th>session_id</th>\n",
       "      <th>user_no</th>\n",
       "      <th></th>\n",
       "      <th></th>\n",
       "    </tr>\n",
       "  </thead>\n",
       "  <tbody>\n",
       "    <tr>\n",
       "      <th>0000104cd168386a335ba6bf6e32219d</th>\n",
       "      <th>a+qjV4Mq5z4UwP69U7B8aw==</th>\n",
       "      <td>2021-07-20 02:16:04</td>\n",
       "      <td>2021-07-20 02:16:04</td>\n",
       "    </tr>\n",
       "    <tr>\n",
       "      <th>0000180e94707c0d90547614c17076bf</th>\n",
       "      <th>Vj2CewxFeOoRuJI42P4rqA==</th>\n",
       "      <td>2021-07-20 21:06:49</td>\n",
       "      <td>2021-07-20 21:06:49</td>\n",
       "    </tr>\n",
       "    <tr>\n",
       "      <th>0000193a728fd00b6cff91b8840bbf8d</th>\n",
       "      <th>V4z7pgAxLNqN5YpcT19ocA==</th>\n",
       "      <td>2021-06-10 01:47:22</td>\n",
       "      <td>2021-06-10 01:36:21</td>\n",
       "    </tr>\n",
       "    <tr>\n",
       "      <th>00003e3b9e5336685200ae85d21b4f5e</th>\n",
       "      <th>+Ah1Nbgq/LVp6XX7uhlaoQ==</th>\n",
       "      <td>2021-08-02 07:22:06</td>\n",
       "      <td>2021-08-02 07:22:06</td>\n",
       "    </tr>\n",
       "    <tr>\n",
       "      <th>000051f32d02c8a53b43a686969676e6</th>\n",
       "      <th>vPnWvRSiCVhmzoyVC3AjQQ==</th>\n",
       "      <td>2021-07-21 11:15:20</td>\n",
       "      <td>2021-07-21 11:08:40</td>\n",
       "    </tr>\n",
       "    <tr>\n",
       "      <th>...</th>\n",
       "      <th>...</th>\n",
       "      <td>...</td>\n",
       "      <td>...</td>\n",
       "    </tr>\n",
       "    <tr>\n",
       "      <th>ffffb8de2d77567f452ad766471a9e5e</th>\n",
       "      <th>8TaE3hhkfhn8TtrPayhZIA==</th>\n",
       "      <td>2021-06-21 07:49:53</td>\n",
       "      <td>2021-06-21 07:49:53</td>\n",
       "    </tr>\n",
       "    <tr>\n",
       "      <th>ffffbd0f062adb4c4a307c5a05f7b0ad</th>\n",
       "      <th>Ej6vc1bpQU3E78ZJGrM8xg==</th>\n",
       "      <td>2021-07-13 21:55:53</td>\n",
       "      <td>2021-07-13 21:55:53</td>\n",
       "    </tr>\n",
       "    <tr>\n",
       "      <th>ffffda8ada4827900cbf65fd20281080</th>\n",
       "      <th>2Dv1XGrHGK5/8ORRBHjF6Q==</th>\n",
       "      <td>2021-07-01 09:31:50</td>\n",
       "      <td>2021-07-01 09:06:01</td>\n",
       "    </tr>\n",
       "    <tr>\n",
       "      <th>fffffa6bed6b7780465149fab05cf406</th>\n",
       "      <th>Y/VM5guIXcj2B7GLnM5auw==</th>\n",
       "      <td>2021-07-25 15:41:11</td>\n",
       "      <td>2021-07-25 15:41:11</td>\n",
       "    </tr>\n",
       "    <tr>\n",
       "      <th>fffffe98d0963d27015c198262d97221</th>\n",
       "      <th>/ljIB70UTJPtSeOU2Aho1Q==</th>\n",
       "      <td>2021-07-25 22:52:07</td>\n",
       "      <td>2021-07-25 22:52:07</td>\n",
       "    </tr>\n",
       "  </tbody>\n",
       "</table>\n",
       "<p>1342650 rows × 2 columns</p>\n",
       "</div>"
      ],
      "text/plain": [
       "                                                                       latest  \\\n",
       "session_id                       user_no                                        \n",
       "0000104cd168386a335ba6bf6e32219d a+qjV4Mq5z4UwP69U7B8aw== 2021-07-20 02:16:04   \n",
       "0000180e94707c0d90547614c17076bf Vj2CewxFeOoRuJI42P4rqA== 2021-07-20 21:06:49   \n",
       "0000193a728fd00b6cff91b8840bbf8d V4z7pgAxLNqN5YpcT19ocA== 2021-06-10 01:47:22   \n",
       "00003e3b9e5336685200ae85d21b4f5e +Ah1Nbgq/LVp6XX7uhlaoQ== 2021-08-02 07:22:06   \n",
       "000051f32d02c8a53b43a686969676e6 vPnWvRSiCVhmzoyVC3AjQQ== 2021-07-21 11:15:20   \n",
       "...                                                                       ...   \n",
       "ffffb8de2d77567f452ad766471a9e5e 8TaE3hhkfhn8TtrPayhZIA== 2021-06-21 07:49:53   \n",
       "ffffbd0f062adb4c4a307c5a05f7b0ad Ej6vc1bpQU3E78ZJGrM8xg== 2021-07-13 21:55:53   \n",
       "ffffda8ada4827900cbf65fd20281080 2Dv1XGrHGK5/8ORRBHjF6Q== 2021-07-01 09:31:50   \n",
       "fffffa6bed6b7780465149fab05cf406 Y/VM5guIXcj2B7GLnM5auw== 2021-07-25 15:41:11   \n",
       "fffffe98d0963d27015c198262d97221 /ljIB70UTJPtSeOU2Aho1Q== 2021-07-25 22:52:07   \n",
       "\n",
       "                                                                        start  \n",
       "session_id                       user_no                                       \n",
       "0000104cd168386a335ba6bf6e32219d a+qjV4Mq5z4UwP69U7B8aw== 2021-07-20 02:16:04  \n",
       "0000180e94707c0d90547614c17076bf Vj2CewxFeOoRuJI42P4rqA== 2021-07-20 21:06:49  \n",
       "0000193a728fd00b6cff91b8840bbf8d V4z7pgAxLNqN5YpcT19ocA== 2021-06-10 01:36:21  \n",
       "00003e3b9e5336685200ae85d21b4f5e +Ah1Nbgq/LVp6XX7uhlaoQ== 2021-08-02 07:22:06  \n",
       "000051f32d02c8a53b43a686969676e6 vPnWvRSiCVhmzoyVC3AjQQ== 2021-07-21 11:08:40  \n",
       "...                                                                       ...  \n",
       "ffffb8de2d77567f452ad766471a9e5e 8TaE3hhkfhn8TtrPayhZIA== 2021-06-21 07:49:53  \n",
       "ffffbd0f062adb4c4a307c5a05f7b0ad Ej6vc1bpQU3E78ZJGrM8xg== 2021-07-13 21:55:53  \n",
       "ffffda8ada4827900cbf65fd20281080 2Dv1XGrHGK5/8ORRBHjF6Q== 2021-07-01 09:06:01  \n",
       "fffffa6bed6b7780465149fab05cf406 Y/VM5guIXcj2B7GLnM5auw== 2021-07-25 15:41:11  \n",
       "fffffe98d0963d27015c198262d97221 /ljIB70UTJPtSeOU2Aho1Q== 2021-07-25 22:52:07  \n",
       "\n",
       "[1342650 rows x 2 columns]"
      ]
     },
     "execution_count": 56,
     "metadata": {},
     "output_type": "execute_result"
    }
   ],
   "source": [
    "time_max_min = pd.concat([max_time, min_time], axis=1)\n",
    "time_max_min"
   ]
  },
  {
   "cell_type": "code",
   "execution_count": 57,
   "metadata": {},
   "outputs": [
    {
     "data": {
      "text/html": [
       "<div>\n",
       "<style scoped>\n",
       "    .dataframe tbody tr th:only-of-type {\n",
       "        vertical-align: middle;\n",
       "    }\n",
       "\n",
       "    .dataframe tbody tr th {\n",
       "        vertical-align: top;\n",
       "    }\n",
       "\n",
       "    .dataframe thead th {\n",
       "        text-align: right;\n",
       "    }\n",
       "</style>\n",
       "<table border=\"1\" class=\"dataframe\">\n",
       "  <thead>\n",
       "    <tr style=\"text-align: right;\">\n",
       "      <th></th>\n",
       "      <th></th>\n",
       "      <th>latest</th>\n",
       "      <th>start</th>\n",
       "      <th>session_time</th>\n",
       "    </tr>\n",
       "    <tr>\n",
       "      <th>session_id</th>\n",
       "      <th>user_no</th>\n",
       "      <th></th>\n",
       "      <th></th>\n",
       "      <th></th>\n",
       "    </tr>\n",
       "  </thead>\n",
       "  <tbody>\n",
       "    <tr>\n",
       "      <th>0000104cd168386a335ba6bf6e32219d</th>\n",
       "      <th>a+qjV4Mq5z4UwP69U7B8aw==</th>\n",
       "      <td>2021-07-20 02:16:04</td>\n",
       "      <td>2021-07-20 02:16:04</td>\n",
       "      <td>0 days 00:00:00</td>\n",
       "    </tr>\n",
       "    <tr>\n",
       "      <th>0000180e94707c0d90547614c17076bf</th>\n",
       "      <th>Vj2CewxFeOoRuJI42P4rqA==</th>\n",
       "      <td>2021-07-20 21:06:49</td>\n",
       "      <td>2021-07-20 21:06:49</td>\n",
       "      <td>0 days 00:00:00</td>\n",
       "    </tr>\n",
       "    <tr>\n",
       "      <th>0000193a728fd00b6cff91b8840bbf8d</th>\n",
       "      <th>V4z7pgAxLNqN5YpcT19ocA==</th>\n",
       "      <td>2021-06-10 01:47:22</td>\n",
       "      <td>2021-06-10 01:36:21</td>\n",
       "      <td>0 days 00:11:01</td>\n",
       "    </tr>\n",
       "    <tr>\n",
       "      <th>00003e3b9e5336685200ae85d21b4f5e</th>\n",
       "      <th>+Ah1Nbgq/LVp6XX7uhlaoQ==</th>\n",
       "      <td>2021-08-02 07:22:06</td>\n",
       "      <td>2021-08-02 07:22:06</td>\n",
       "      <td>0 days 00:00:00</td>\n",
       "    </tr>\n",
       "    <tr>\n",
       "      <th>000051f32d02c8a53b43a686969676e6</th>\n",
       "      <th>vPnWvRSiCVhmzoyVC3AjQQ==</th>\n",
       "      <td>2021-07-21 11:15:20</td>\n",
       "      <td>2021-07-21 11:08:40</td>\n",
       "      <td>0 days 00:06:40</td>\n",
       "    </tr>\n",
       "    <tr>\n",
       "      <th>...</th>\n",
       "      <th>...</th>\n",
       "      <td>...</td>\n",
       "      <td>...</td>\n",
       "      <td>...</td>\n",
       "    </tr>\n",
       "    <tr>\n",
       "      <th>ffffb8de2d77567f452ad766471a9e5e</th>\n",
       "      <th>8TaE3hhkfhn8TtrPayhZIA==</th>\n",
       "      <td>2021-06-21 07:49:53</td>\n",
       "      <td>2021-06-21 07:49:53</td>\n",
       "      <td>0 days 00:00:00</td>\n",
       "    </tr>\n",
       "    <tr>\n",
       "      <th>ffffbd0f062adb4c4a307c5a05f7b0ad</th>\n",
       "      <th>Ej6vc1bpQU3E78ZJGrM8xg==</th>\n",
       "      <td>2021-07-13 21:55:53</td>\n",
       "      <td>2021-07-13 21:55:53</td>\n",
       "      <td>0 days 00:00:00</td>\n",
       "    </tr>\n",
       "    <tr>\n",
       "      <th>ffffda8ada4827900cbf65fd20281080</th>\n",
       "      <th>2Dv1XGrHGK5/8ORRBHjF6Q==</th>\n",
       "      <td>2021-07-01 09:31:50</td>\n",
       "      <td>2021-07-01 09:06:01</td>\n",
       "      <td>0 days 00:25:49</td>\n",
       "    </tr>\n",
       "    <tr>\n",
       "      <th>fffffa6bed6b7780465149fab05cf406</th>\n",
       "      <th>Y/VM5guIXcj2B7GLnM5auw==</th>\n",
       "      <td>2021-07-25 15:41:11</td>\n",
       "      <td>2021-07-25 15:41:11</td>\n",
       "      <td>0 days 00:00:00</td>\n",
       "    </tr>\n",
       "    <tr>\n",
       "      <th>fffffe98d0963d27015c198262d97221</th>\n",
       "      <th>/ljIB70UTJPtSeOU2Aho1Q==</th>\n",
       "      <td>2021-07-25 22:52:07</td>\n",
       "      <td>2021-07-25 22:52:07</td>\n",
       "      <td>0 days 00:00:00</td>\n",
       "    </tr>\n",
       "  </tbody>\n",
       "</table>\n",
       "<p>1342650 rows × 3 columns</p>\n",
       "</div>"
      ],
      "text/plain": [
       "                                                                       latest  \\\n",
       "session_id                       user_no                                        \n",
       "0000104cd168386a335ba6bf6e32219d a+qjV4Mq5z4UwP69U7B8aw== 2021-07-20 02:16:04   \n",
       "0000180e94707c0d90547614c17076bf Vj2CewxFeOoRuJI42P4rqA== 2021-07-20 21:06:49   \n",
       "0000193a728fd00b6cff91b8840bbf8d V4z7pgAxLNqN5YpcT19ocA== 2021-06-10 01:47:22   \n",
       "00003e3b9e5336685200ae85d21b4f5e +Ah1Nbgq/LVp6XX7uhlaoQ== 2021-08-02 07:22:06   \n",
       "000051f32d02c8a53b43a686969676e6 vPnWvRSiCVhmzoyVC3AjQQ== 2021-07-21 11:15:20   \n",
       "...                                                                       ...   \n",
       "ffffb8de2d77567f452ad766471a9e5e 8TaE3hhkfhn8TtrPayhZIA== 2021-06-21 07:49:53   \n",
       "ffffbd0f062adb4c4a307c5a05f7b0ad Ej6vc1bpQU3E78ZJGrM8xg== 2021-07-13 21:55:53   \n",
       "ffffda8ada4827900cbf65fd20281080 2Dv1XGrHGK5/8ORRBHjF6Q== 2021-07-01 09:31:50   \n",
       "fffffa6bed6b7780465149fab05cf406 Y/VM5guIXcj2B7GLnM5auw== 2021-07-25 15:41:11   \n",
       "fffffe98d0963d27015c198262d97221 /ljIB70UTJPtSeOU2Aho1Q== 2021-07-25 22:52:07   \n",
       "\n",
       "                                                                        start  \\\n",
       "session_id                       user_no                                        \n",
       "0000104cd168386a335ba6bf6e32219d a+qjV4Mq5z4UwP69U7B8aw== 2021-07-20 02:16:04   \n",
       "0000180e94707c0d90547614c17076bf Vj2CewxFeOoRuJI42P4rqA== 2021-07-20 21:06:49   \n",
       "0000193a728fd00b6cff91b8840bbf8d V4z7pgAxLNqN5YpcT19ocA== 2021-06-10 01:36:21   \n",
       "00003e3b9e5336685200ae85d21b4f5e +Ah1Nbgq/LVp6XX7uhlaoQ== 2021-08-02 07:22:06   \n",
       "000051f32d02c8a53b43a686969676e6 vPnWvRSiCVhmzoyVC3AjQQ== 2021-07-21 11:08:40   \n",
       "...                                                                       ...   \n",
       "ffffb8de2d77567f452ad766471a9e5e 8TaE3hhkfhn8TtrPayhZIA== 2021-06-21 07:49:53   \n",
       "ffffbd0f062adb4c4a307c5a05f7b0ad Ej6vc1bpQU3E78ZJGrM8xg== 2021-07-13 21:55:53   \n",
       "ffffda8ada4827900cbf65fd20281080 2Dv1XGrHGK5/8ORRBHjF6Q== 2021-07-01 09:06:01   \n",
       "fffffa6bed6b7780465149fab05cf406 Y/VM5guIXcj2B7GLnM5auw== 2021-07-25 15:41:11   \n",
       "fffffe98d0963d27015c198262d97221 /ljIB70UTJPtSeOU2Aho1Q== 2021-07-25 22:52:07   \n",
       "\n",
       "                                                             session_time  \n",
       "session_id                       user_no                                   \n",
       "0000104cd168386a335ba6bf6e32219d a+qjV4Mq5z4UwP69U7B8aw== 0 days 00:00:00  \n",
       "0000180e94707c0d90547614c17076bf Vj2CewxFeOoRuJI42P4rqA== 0 days 00:00:00  \n",
       "0000193a728fd00b6cff91b8840bbf8d V4z7pgAxLNqN5YpcT19ocA== 0 days 00:11:01  \n",
       "00003e3b9e5336685200ae85d21b4f5e +Ah1Nbgq/LVp6XX7uhlaoQ== 0 days 00:00:00  \n",
       "000051f32d02c8a53b43a686969676e6 vPnWvRSiCVhmzoyVC3AjQQ== 0 days 00:06:40  \n",
       "...                                                                   ...  \n",
       "ffffb8de2d77567f452ad766471a9e5e 8TaE3hhkfhn8TtrPayhZIA== 0 days 00:00:00  \n",
       "ffffbd0f062adb4c4a307c5a05f7b0ad Ej6vc1bpQU3E78ZJGrM8xg== 0 days 00:00:00  \n",
       "ffffda8ada4827900cbf65fd20281080 2Dv1XGrHGK5/8ORRBHjF6Q== 0 days 00:25:49  \n",
       "fffffa6bed6b7780465149fab05cf406 Y/VM5guIXcj2B7GLnM5auw== 0 days 00:00:00  \n",
       "fffffe98d0963d27015c198262d97221 /ljIB70UTJPtSeOU2Aho1Q== 0 days 00:00:00  \n",
       "\n",
       "[1342650 rows x 3 columns]"
      ]
     },
     "execution_count": 57,
     "metadata": {},
     "output_type": "execute_result"
    }
   ],
   "source": [
    "time_max_min['session_time'] = time_max_min['latest'] - time_max_min['start']\n",
    "time_max_min"
   ]
  },
  {
   "cell_type": "code",
   "execution_count": 58,
   "metadata": {},
   "outputs": [
    {
     "name": "stderr",
     "output_type": "stream",
     "text": [
      "C:\\Users\\bongkyun\\AppData\\Local\\Temp\\ipykernel_8852\\3742646022.py:2: UserWarning:\n",
      "\n",
      "\n",
      "\n",
      "`distplot` is a deprecated function and will be removed in seaborn v0.14.0.\n",
      "\n",
      "Please adapt your code to use either `displot` (a figure-level function with\n",
      "similar flexibility) or `histplot` (an axes-level function for histograms).\n",
      "\n",
      "For a guide to updating your code to use the new functions, please see\n",
      "https://gist.github.com/mwaskom/de44147ed2974457ad6372750bbe5751\n",
      "\n",
      "\n"
     ]
    },
    {
     "data": {
      "text/plain": [
       "<Axes: xlabel='session_time', ylabel='Density'>"
      ]
     },
     "execution_count": 58,
     "metadata": {},
     "output_type": "execute_result"
    },
    {
     "data": {
      "image/png": "[encoded data removed]",
      "text/plain": [
       "<Figure size 1200x500 with 1 Axes>"
      ]
     },
     "metadata": {},
     "output_type": "display_data"
    }
   ],
   "source": [
    "plt.figure(figsize=(12, 5))\n",
    "sns.distplot(time_max_min.session_time)"
   ]
  },
  {
   "cell_type": "code",
   "execution_count": 59,
   "metadata": {},
   "outputs": [
    {
     "name": "stdout",
     "output_type": "stream",
     "text": [
      "0 days 00:05:30.322851822\n",
      "0 days 00:11:14.844331975\n",
      "0 days 00:00:48\n"
     ]
    }
   ],
   "source": [
    "print(time_max_min.session_time.mean())\n",
    "print(time_max_min.session_time.std())\n",
    "print(time_max_min.session_time.median())"
   ]
  },
  {
   "cell_type": "code",
   "execution_count": 60,
   "metadata": {},
   "outputs": [
    {
     "data": {
      "text/html": [
       "<div>\n",
       "<style scoped>\n",
       "    .dataframe tbody tr th:only-of-type {\n",
       "        vertical-align: middle;\n",
       "    }\n",
       "\n",
       "    .dataframe tbody tr th {\n",
       "        vertical-align: top;\n",
       "    }\n",
       "\n",
       "    .dataframe thead th {\n",
       "        text-align: right;\n",
       "    }\n",
       "</style>\n",
       "<table border=\"1\" class=\"dataframe\">\n",
       "  <thead>\n",
       "    <tr style=\"text-align: right;\">\n",
       "      <th></th>\n",
       "      <th></th>\n",
       "      <th>latest</th>\n",
       "      <th>start</th>\n",
       "      <th>session_time</th>\n",
       "    </tr>\n",
       "    <tr>\n",
       "      <th>session_id</th>\n",
       "      <th>user_no</th>\n",
       "      <th></th>\n",
       "      <th></th>\n",
       "      <th></th>\n",
       "    </tr>\n",
       "  </thead>\n",
       "  <tbody>\n",
       "    <tr>\n",
       "      <th>eae91320e3b251f99996c16b28f1d828</th>\n",
       "      <th>UxbJuWLml+M4McU8Q5hNqA==</th>\n",
       "      <td>2021-06-24 21:51:24</td>\n",
       "      <td>2021-06-24 14:39:37</td>\n",
       "      <td>0 days 07:11:47</td>\n",
       "    </tr>\n",
       "    <tr>\n",
       "      <th>e38978aa44622266a3412441108bdfab</th>\n",
       "      <th>b2xZVfUtjyGsZckO7j6zkg==</th>\n",
       "      <td>2021-06-15 20:52:33</td>\n",
       "      <td>2021-06-15 13:51:38</td>\n",
       "      <td>0 days 07:00:55</td>\n",
       "    </tr>\n",
       "    <tr>\n",
       "      <th>099ce696847bb8f6b81ff8007abcbf96</th>\n",
       "      <th>TCa03hH/TUb3KmtYOt2avQ==</th>\n",
       "      <td>2021-07-09 05:35:46</td>\n",
       "      <td>2021-07-08 23:02:54</td>\n",
       "      <td>0 days 06:32:52</td>\n",
       "    </tr>\n",
       "    <tr>\n",
       "      <th>25e2e4f45831abf4a40216d7ab2e6135</th>\n",
       "      <th>b6cqBnzKGYriIJ3rgkGhZg==</th>\n",
       "      <td>2021-07-20 00:25:14</td>\n",
       "      <td>2021-07-19 18:24:36</td>\n",
       "      <td>0 days 06:00:38</td>\n",
       "    </tr>\n",
       "    <tr>\n",
       "      <th>78e3eb0b90870bd078cc17e3b02d5922</th>\n",
       "      <th>b2xZVfUtjyGsZckO7j6zkg==</th>\n",
       "      <td>2021-07-04 01:04:45</td>\n",
       "      <td>2021-07-03 19:25:48</td>\n",
       "      <td>0 days 05:38:57</td>\n",
       "    </tr>\n",
       "    <tr>\n",
       "      <th>...</th>\n",
       "      <th>...</th>\n",
       "      <td>...</td>\n",
       "      <td>...</td>\n",
       "      <td>...</td>\n",
       "    </tr>\n",
       "    <tr>\n",
       "      <th>7b369e310a203396dd9b68e2df282f79</th>\n",
       "      <th>wFaQ0KfKOqy8MGIL1w6jnw==</th>\n",
       "      <td>2021-06-16 00:14:39</td>\n",
       "      <td>2021-06-16 00:14:39</td>\n",
       "      <td>0 days 00:00:00</td>\n",
       "    </tr>\n",
       "    <tr>\n",
       "      <th>7b36e114820143b26a26f2b7868c2330</th>\n",
       "      <th>o3SLT4c9fwclLFLvpMcl9g==</th>\n",
       "      <td>2021-07-25 22:33:16</td>\n",
       "      <td>2021-07-25 22:33:16</td>\n",
       "      <td>0 days 00:00:00</td>\n",
       "    </tr>\n",
       "    <tr>\n",
       "      <th>7b36e759555c7c65f7edfa0f5010c51d</th>\n",
       "      <th>gUcJQzidfLmOwE8rfPQGYA==</th>\n",
       "      <td>2021-07-16 23:00:55</td>\n",
       "      <td>2021-07-16 23:00:55</td>\n",
       "      <td>0 days 00:00:00</td>\n",
       "    </tr>\n",
       "    <tr>\n",
       "      <th>7b36f3bfcc3ed47237bbf1cad4847de5</th>\n",
       "      <th>rhnhISipsqkshrK4LuI5VQ==</th>\n",
       "      <td>2021-07-02 15:28:47</td>\n",
       "      <td>2021-07-02 15:28:47</td>\n",
       "      <td>0 days 00:00:00</td>\n",
       "    </tr>\n",
       "    <tr>\n",
       "      <th>fffffe98d0963d27015c198262d97221</th>\n",
       "      <th>/ljIB70UTJPtSeOU2Aho1Q==</th>\n",
       "      <td>2021-07-25 22:52:07</td>\n",
       "      <td>2021-07-25 22:52:07</td>\n",
       "      <td>0 days 00:00:00</td>\n",
       "    </tr>\n",
       "  </tbody>\n",
       "</table>\n",
       "<p>1342650 rows × 3 columns</p>\n",
       "</div>"
      ],
      "text/plain": [
       "                                                                       latest  \\\n",
       "session_id                       user_no                                        \n",
       "eae91320e3b251f99996c16b28f1d828 UxbJuWLml+M4McU8Q5hNqA== 2021-06-24 21:51:24   \n",
       "e38978aa44622266a3412441108bdfab b2xZVfUtjyGsZckO7j6zkg== 2021-06-15 20:52:33   \n",
       "099ce696847bb8f6b81ff8007abcbf96 TCa03hH/TUb3KmtYOt2avQ== 2021-07-09 05:35:46   \n",
       "25e2e4f45831abf4a40216d7ab2e6135 b6cqBnzKGYriIJ3rgkGhZg== 2021-07-20 00:25:14   \n",
       "78e3eb0b90870bd078cc17e3b02d5922 b2xZVfUtjyGsZckO7j6zkg== 2021-07-04 01:04:45   \n",
       "...                                                                       ...   \n",
       "7b369e310a203396dd9b68e2df282f79 wFaQ0KfKOqy8MGIL1w6jnw== 2021-06-16 00:14:39   \n",
       "7b36e114820143b26a26f2b7868c2330 o3SLT4c9fwclLFLvpMcl9g== 2021-07-25 22:33:16   \n",
       "7b36e759555c7c65f7edfa0f5010c51d gUcJQzidfLmOwE8rfPQGYA== 2021-07-16 23:00:55   \n",
       "7b36f3bfcc3ed47237bbf1cad4847de5 rhnhISipsqkshrK4LuI5VQ== 2021-07-02 15:28:47   \n",
       "fffffe98d0963d27015c198262d97221 /ljIB70UTJPtSeOU2Aho1Q== 2021-07-25 22:52:07   \n",
       "\n",
       "                                                                        start  \\\n",
       "session_id                       user_no                                        \n",
       "eae91320e3b251f99996c16b28f1d828 UxbJuWLml+M4McU8Q5hNqA== 2021-06-24 14:39:37   \n",
       "e38978aa44622266a3412441108bdfab b2xZVfUtjyGsZckO7j6zkg== 2021-06-15 13:51:38   \n",
       "099ce696847bb8f6b81ff8007abcbf96 TCa03hH/TUb3KmtYOt2avQ== 2021-07-08 23:02:54   \n",
       "25e2e4f45831abf4a40216d7ab2e6135 b6cqBnzKGYriIJ3rgkGhZg== 2021-07-19 18:24:36   \n",
       "78e3eb0b90870bd078cc17e3b02d5922 b2xZVfUtjyGsZckO7j6zkg== 2021-07-03 19:25:48   \n",
       "...                                                                       ...   \n",
       "7b369e310a203396dd9b68e2df282f79 wFaQ0KfKOqy8MGIL1w6jnw== 2021-06-16 00:14:39   \n",
       "7b36e114820143b26a26f2b7868c2330 o3SLT4c9fwclLFLvpMcl9g== 2021-07-25 22:33:16   \n",
       "7b36e759555c7c65f7edfa0f5010c51d gUcJQzidfLmOwE8rfPQGYA== 2021-07-16 23:00:55   \n",
       "7b36f3bfcc3ed47237bbf1cad4847de5 rhnhISipsqkshrK4LuI5VQ== 2021-07-02 15:28:47   \n",
       "fffffe98d0963d27015c198262d97221 /ljIB70UTJPtSeOU2Aho1Q== 2021-07-25 22:52:07   \n",
       "\n",
       "                                                             session_time  \n",
       "session_id                       user_no                                   \n",
       "eae91320e3b251f99996c16b28f1d828 UxbJuWLml+M4McU8Q5hNqA== 0 days 07:11:47  \n",
       "e38978aa44622266a3412441108bdfab b2xZVfUtjyGsZckO7j6zkg== 0 days 07:00:55  \n",
       "099ce696847bb8f6b81ff8007abcbf96 TCa03hH/TUb3KmtYOt2avQ== 0 days 06:32:52  \n",
       "25e2e4f45831abf4a40216d7ab2e6135 b6cqBnzKGYriIJ3rgkGhZg== 0 days 06:00:38  \n",
       "78e3eb0b90870bd078cc17e3b02d5922 b2xZVfUtjyGsZckO7j6zkg== 0 days 05:38:57  \n",
       "...                                                                   ...  \n",
       "7b369e310a203396dd9b68e2df282f79 wFaQ0KfKOqy8MGIL1w6jnw== 0 days 00:00:00  \n",
       "7b36e114820143b26a26f2b7868c2330 o3SLT4c9fwclLFLvpMcl9g== 0 days 00:00:00  \n",
       "7b36e759555c7c65f7edfa0f5010c51d gUcJQzidfLmOwE8rfPQGYA== 0 days 00:00:00  \n",
       "7b36f3bfcc3ed47237bbf1cad4847de5 rhnhISipsqkshrK4LuI5VQ== 0 days 00:00:00  \n",
       "fffffe98d0963d27015c198262d97221 /ljIB70UTJPtSeOU2Aho1Q== 0 days 00:00:00  \n",
       "\n",
       "[1342650 rows x 3 columns]"
      ]
     },
     "execution_count": 60,
     "metadata": {},
     "output_type": "execute_result"
    }
   ],
   "source": [
    "time_max_min.sort_values(by='session_time', ascending=False)"
   ]
  },
  {
   "cell_type": "code",
   "execution_count": 62,
   "metadata": {},
   "outputs": [
    {
     "name": "stderr",
     "output_type": "stream",
     "text": [
      "C:\\Users\\bongkyun\\AppData\\Local\\Temp\\ipykernel_8852\\998268096.py:3: SettingWithCopyWarning:\n",
      "\n",
      "\n",
      "A value is trying to be set on a copy of a slice from a DataFrame.\n",
      "Try using .loc[row_indexer,col_indexer] = value instead\n",
      "\n",
      "See the caveats in the documentation: https://pandas.pydata.org/pandas-docs/stable/user_guide/indexing.html#returning-a-view-versus-a-copy\n",
      "\n",
      "C:\\Users\\bongkyun\\AppData\\Local\\Temp\\ipykernel_8852\\998268096.py:4: SettingWithCopyWarning:\n",
      "\n",
      "\n",
      "A value is trying to be set on a copy of a slice from a DataFrame.\n",
      "Try using .loc[row_indexer,col_indexer] = value instead\n",
      "\n",
      "See the caveats in the documentation: https://pandas.pydata.org/pandas-docs/stable/user_guide/indexing.html#returning-a-view-versus-a-copy\n",
      "\n",
      "C:\\Users\\bongkyun\\AppData\\Local\\Temp\\ipykernel_8852\\998268096.py:5: SettingWithCopyWarning:\n",
      "\n",
      "\n",
      "A value is trying to be set on a copy of a slice from a DataFrame.\n",
      "Try using .loc[row_indexer,col_indexer] = value instead\n",
      "\n",
      "See the caveats in the documentation: https://pandas.pydata.org/pandas-docs/stable/user_guide/indexing.html#returning-a-view-versus-a-copy\n",
      "\n"
     ]
    },
    {
     "data": {
      "text/html": [
       "<div>\n",
       "<style scoped>\n",
       "    .dataframe tbody tr th:only-of-type {\n",
       "        vertical-align: middle;\n",
       "    }\n",
       "\n",
       "    .dataframe tbody tr th {\n",
       "        vertical-align: top;\n",
       "    }\n",
       "\n",
       "    .dataframe thead th {\n",
       "        text-align: right;\n",
       "    }\n",
       "</style>\n",
       "<table border=\"1\" class=\"dataframe\">\n",
       "  <thead>\n",
       "    <tr style=\"text-align: right;\">\n",
       "      <th></th>\n",
       "      <th></th>\n",
       "      <th>latest</th>\n",
       "      <th>start</th>\n",
       "      <th>session_time</th>\n",
       "    </tr>\n",
       "    <tr>\n",
       "      <th>session_id</th>\n",
       "      <th>user_no</th>\n",
       "      <th></th>\n",
       "      <th></th>\n",
       "      <th></th>\n",
       "    </tr>\n",
       "  </thead>\n",
       "  <tbody>\n",
       "    <tr>\n",
       "      <th>17e576b27e1b466d2931df18d286f312</th>\n",
       "      <th>u8fsExoIMYNO99+vcR0+5A==</th>\n",
       "      <td>2021-07-01 09:46:23</td>\n",
       "      <td>2021-07-01 05:42:45</td>\n",
       "      <td>0 days 04:03:38</td>\n",
       "    </tr>\n",
       "    <tr>\n",
       "      <th>908c08253fadd3dbe8ed8ad34989254b</th>\n",
       "      <th>b2xZVfUtjyGsZckO7j6zkg==</th>\n",
       "      <td>2021-07-08 19:06:48</td>\n",
       "      <td>2021-07-08 15:38:36</td>\n",
       "      <td>0 days 03:28:12</td>\n",
       "    </tr>\n",
       "    <tr>\n",
       "      <th>d5a38749be263704e34263d6861bd0b5</th>\n",
       "      <th>s9Pvpy2OVKSvzPFP3I6A0Q==</th>\n",
       "      <td>2021-07-07 03:23:26</td>\n",
       "      <td>2021-07-07 00:17:06</td>\n",
       "      <td>0 days 03:06:20</td>\n",
       "    </tr>\n",
       "    <tr>\n",
       "      <th>6b7accb32b4154c33b6862af104a07b1</th>\n",
       "      <th>u8fsExoIMYNO99+vcR0+5A==</th>\n",
       "      <td>2021-07-16 14:43:25</td>\n",
       "      <td>2021-07-16 11:55:06</td>\n",
       "      <td>0 days 02:48:19</td>\n",
       "    </tr>\n",
       "    <tr>\n",
       "      <th>41cac42b55ddb27ee1bc353c8f8c0387</th>\n",
       "      <th>A/Vy9YYyqTeOKXmkgpwwDg==</th>\n",
       "      <td>2021-06-13 02:22:39</td>\n",
       "      <td>2021-06-12 23:48:13</td>\n",
       "      <td>0 days 02:34:26</td>\n",
       "    </tr>\n",
       "    <tr>\n",
       "      <th>...</th>\n",
       "      <th>...</th>\n",
       "      <td>...</td>\n",
       "      <td>...</td>\n",
       "      <td>...</td>\n",
       "    </tr>\n",
       "    <tr>\n",
       "      <th>5a3c3b969cb4ccfe1e0b2f7bb5feea95</th>\n",
       "      <th>jbpylbXtYfv0NrD/A3hfIg==</th>\n",
       "      <td>2021-07-22 01:41:35</td>\n",
       "      <td>2021-07-22 01:41:35</td>\n",
       "      <td>0 days 00:00:00</td>\n",
       "    </tr>\n",
       "    <tr>\n",
       "      <th>5a3c3d7e003620d2059af6475a0065f5</th>\n",
       "      <th>ljGhjWqrjx4//FOOgqRO2A==</th>\n",
       "      <td>2021-07-05 15:57:10</td>\n",
       "      <td>2021-07-05 15:57:10</td>\n",
       "      <td>0 days 00:00:00</td>\n",
       "    </tr>\n",
       "    <tr>\n",
       "      <th>5a3c992a958163f3c0ee65616f39723e</th>\n",
       "      <th>Wcp/rxGODys3Of2uojsYKw==</th>\n",
       "      <td>2021-07-21 23:18:37</td>\n",
       "      <td>2021-07-21 23:18:37</td>\n",
       "      <td>0 days 00:00:00</td>\n",
       "    </tr>\n",
       "    <tr>\n",
       "      <th>5a3d419d712c79b0fbf23c4ca0fdece5</th>\n",
       "      <th>cnI8Jfm2Y03pDTuh2z0c3A==</th>\n",
       "      <td>2021-07-06 18:43:39</td>\n",
       "      <td>2021-07-06 18:43:39</td>\n",
       "      <td>0 days 00:00:00</td>\n",
       "    </tr>\n",
       "    <tr>\n",
       "      <th>fffffe98d0963d27015c198262d97221</th>\n",
       "      <th>/ljIB70UTJPtSeOU2Aho1Q==</th>\n",
       "      <td>2021-07-25 22:52:07</td>\n",
       "      <td>2021-07-25 22:52:07</td>\n",
       "      <td>0 days 00:00:00</td>\n",
       "    </tr>\n",
       "  </tbody>\n",
       "</table>\n",
       "<p>238973 rows × 3 columns</p>\n",
       "</div>"
      ],
      "text/plain": [
       "                                                                       latest  \\\n",
       "session_id                       user_no                                        \n",
       "17e576b27e1b466d2931df18d286f312 u8fsExoIMYNO99+vcR0+5A== 2021-07-01 09:46:23   \n",
       "908c08253fadd3dbe8ed8ad34989254b b2xZVfUtjyGsZckO7j6zkg== 2021-07-08 19:06:48   \n",
       "d5a38749be263704e34263d6861bd0b5 s9Pvpy2OVKSvzPFP3I6A0Q== 2021-07-07 03:23:26   \n",
       "6b7accb32b4154c33b6862af104a07b1 u8fsExoIMYNO99+vcR0+5A== 2021-07-16 14:43:25   \n",
       "41cac42b55ddb27ee1bc353c8f8c0387 A/Vy9YYyqTeOKXmkgpwwDg== 2021-06-13 02:22:39   \n",
       "...                                                                       ...   \n",
       "5a3c3b969cb4ccfe1e0b2f7bb5feea95 jbpylbXtYfv0NrD/A3hfIg== 2021-07-22 01:41:35   \n",
       "5a3c3d7e003620d2059af6475a0065f5 ljGhjWqrjx4//FOOgqRO2A== 2021-07-05 15:57:10   \n",
       "5a3c992a958163f3c0ee65616f39723e Wcp/rxGODys3Of2uojsYKw== 2021-07-21 23:18:37   \n",
       "5a3d419d712c79b0fbf23c4ca0fdece5 cnI8Jfm2Y03pDTuh2z0c3A== 2021-07-06 18:43:39   \n",
       "fffffe98d0963d27015c198262d97221 /ljIB70UTJPtSeOU2Aho1Q== 2021-07-25 22:52:07   \n",
       "\n",
       "                                                                        start  \\\n",
       "session_id                       user_no                                        \n",
       "17e576b27e1b466d2931df18d286f312 u8fsExoIMYNO99+vcR0+5A== 2021-07-01 05:42:45   \n",
       "908c08253fadd3dbe8ed8ad34989254b b2xZVfUtjyGsZckO7j6zkg== 2021-07-08 15:38:36   \n",
       "d5a38749be263704e34263d6861bd0b5 s9Pvpy2OVKSvzPFP3I6A0Q== 2021-07-07 00:17:06   \n",
       "6b7accb32b4154c33b6862af104a07b1 u8fsExoIMYNO99+vcR0+5A== 2021-07-16 11:55:06   \n",
       "41cac42b55ddb27ee1bc353c8f8c0387 A/Vy9YYyqTeOKXmkgpwwDg== 2021-06-12 23:48:13   \n",
       "...                                                                       ...   \n",
       "5a3c3b969cb4ccfe1e0b2f7bb5feea95 jbpylbXtYfv0NrD/A3hfIg== 2021-07-22 01:41:35   \n",
       "5a3c3d7e003620d2059af6475a0065f5 ljGhjWqrjx4//FOOgqRO2A== 2021-07-05 15:57:10   \n",
       "5a3c992a958163f3c0ee65616f39723e Wcp/rxGODys3Of2uojsYKw== 2021-07-21 23:18:37   \n",
       "5a3d419d712c79b0fbf23c4ca0fdece5 cnI8Jfm2Y03pDTuh2z0c3A== 2021-07-06 18:43:39   \n",
       "fffffe98d0963d27015c198262d97221 /ljIB70UTJPtSeOU2Aho1Q== 2021-07-25 22:52:07   \n",
       "\n",
       "                                                             session_time  \n",
       "session_id                       user_no                                   \n",
       "17e576b27e1b466d2931df18d286f312 u8fsExoIMYNO99+vcR0+5A== 0 days 04:03:38  \n",
       "908c08253fadd3dbe8ed8ad34989254b b2xZVfUtjyGsZckO7j6zkg== 0 days 03:28:12  \n",
       "d5a38749be263704e34263d6861bd0b5 s9Pvpy2OVKSvzPFP3I6A0Q== 0 days 03:06:20  \n",
       "6b7accb32b4154c33b6862af104a07b1 u8fsExoIMYNO99+vcR0+5A== 0 days 02:48:19  \n",
       "41cac42b55ddb27ee1bc353c8f8c0387 A/Vy9YYyqTeOKXmkgpwwDg== 0 days 02:34:26  \n",
       "...                                                                   ...  \n",
       "5a3c3b969cb4ccfe1e0b2f7bb5feea95 jbpylbXtYfv0NrD/A3hfIg== 0 days 00:00:00  \n",
       "5a3c3d7e003620d2059af6475a0065f5 ljGhjWqrjx4//FOOgqRO2A== 0 days 00:00:00  \n",
       "5a3c992a958163f3c0ee65616f39723e Wcp/rxGODys3Of2uojsYKw== 0 days 00:00:00  \n",
       "5a3d419d712c79b0fbf23c4ca0fdece5 cnI8Jfm2Y03pDTuh2z0c3A== 0 days 00:00:00  \n",
       "fffffe98d0963d27015c198262d97221 /ljIB70UTJPtSeOU2Aho1Q== 0 days 00:00:00  \n",
       "\n",
       "[238973 rows x 3 columns]"
      ]
     },
     "execution_count": 62,
     "metadata": {},
     "output_type": "execute_result"
    }
   ],
   "source": [
    "suc_data = total_df[total_df['event_name'] == 'purchase_success']\n",
    "\n",
    "suc_data['event_timestamp'] = pd.to_datetime(suc_data['event_timestamp'])\n",
    "suc_data['event_timestamp'] = suc_data['event_timestamp'].dt.strftime('%Y-%m-%d %H:%M:%S')\n",
    "suc_data['event_timestamp'] = pd.to_datetime(suc_data['event_timestamp'])\n",
    "\n",
    "max_group = suc_data.groupby(['session_id', 'user_no'])['event_timestamp'].max()\n",
    "min_group = suc_data.groupby(['session_id', 'user_no'])['event_timestamp'].min()\n",
    "\n",
    "max_time = pd.DataFrame(max_group)\n",
    "max_time.columns = ['latest']\n",
    "\n",
    "min_time = pd.DataFrame(min_group)\n",
    "min_time.columns = ['start']\n",
    "\n",
    "suc_max_min = pd.concat([max_time, min_time], axis=1)\n",
    "\n",
    "suc_max_min['session_time'] = suc_max_min['latest'] - suc_max_min['start']\n",
    "\n",
    "suc_max_min.sort_values(by='session_time', ascending=False)"
   ]
  },
  {
   "cell_type": "code",
   "execution_count": 63,
   "metadata": {},
   "outputs": [
    {
     "name": "stdout",
     "output_type": "stream",
     "text": [
      "0 days 00:00:43.728839659\n",
      "0 days 00:04:07.470686887\n",
      "0 days 00:00:00\n"
     ]
    }
   ],
   "source": [
    "print(suc_max_min['session_time'].mean())\n",
    "print(suc_max_min['session_time'].std())\n",
    "print(suc_max_min['session_time'].median())"
   ]
  },
  {
   "cell_type": "code",
   "execution_count": 64,
   "metadata": {},
   "outputs": [
    {
     "name": "stderr",
     "output_type": "stream",
     "text": [
      "C:\\Users\\bongkyun\\AppData\\Local\\Temp\\ipykernel_8852\\3907865841.py:3: SettingWithCopyWarning:\n",
      "\n",
      "\n",
      "A value is trying to be set on a copy of a slice from a DataFrame.\n",
      "Try using .loc[row_indexer,col_indexer] = value instead\n",
      "\n",
      "See the caveats in the documentation: https://pandas.pydata.org/pandas-docs/stable/user_guide/indexing.html#returning-a-view-versus-a-copy\n",
      "\n",
      "C:\\Users\\bongkyun\\AppData\\Local\\Temp\\ipykernel_8852\\3907865841.py:4: SettingWithCopyWarning:\n",
      "\n",
      "\n",
      "A value is trying to be set on a copy of a slice from a DataFrame.\n",
      "Try using .loc[row_indexer,col_indexer] = value instead\n",
      "\n",
      "See the caveats in the documentation: https://pandas.pydata.org/pandas-docs/stable/user_guide/indexing.html#returning-a-view-versus-a-copy\n",
      "\n",
      "C:\\Users\\bongkyun\\AppData\\Local\\Temp\\ipykernel_8852\\3907865841.py:5: SettingWithCopyWarning:\n",
      "\n",
      "\n",
      "A value is trying to be set on a copy of a slice from a DataFrame.\n",
      "Try using .loc[row_indexer,col_indexer] = value instead\n",
      "\n",
      "See the caveats in the documentation: https://pandas.pydata.org/pandas-docs/stable/user_guide/indexing.html#returning-a-view-versus-a-copy\n",
      "\n"
     ]
    },
    {
     "data": {
      "text/html": [
       "<div>\n",
       "<style scoped>\n",
       "    .dataframe tbody tr th:only-of-type {\n",
       "        vertical-align: middle;\n",
       "    }\n",
       "\n",
       "    .dataframe tbody tr th {\n",
       "        vertical-align: top;\n",
       "    }\n",
       "\n",
       "    .dataframe thead th {\n",
       "        text-align: right;\n",
       "    }\n",
       "</style>\n",
       "<table border=\"1\" class=\"dataframe\">\n",
       "  <thead>\n",
       "    <tr style=\"text-align: right;\">\n",
       "      <th></th>\n",
       "      <th></th>\n",
       "      <th>latest</th>\n",
       "      <th>start</th>\n",
       "      <th>session_time</th>\n",
       "    </tr>\n",
       "    <tr>\n",
       "      <th>session_id</th>\n",
       "      <th>user_no</th>\n",
       "      <th></th>\n",
       "      <th></th>\n",
       "      <th></th>\n",
       "    </tr>\n",
       "  </thead>\n",
       "  <tbody>\n",
       "    <tr>\n",
       "      <th>eae91320e3b251f99996c16b28f1d828</th>\n",
       "      <th>UxbJuWLml+M4McU8Q5hNqA==</th>\n",
       "      <td>2021-06-24 21:51:24</td>\n",
       "      <td>2021-06-24 14:39:37</td>\n",
       "      <td>0 days 07:11:47</td>\n",
       "    </tr>\n",
       "    <tr>\n",
       "      <th>e38978aa44622266a3412441108bdfab</th>\n",
       "      <th>b2xZVfUtjyGsZckO7j6zkg==</th>\n",
       "      <td>2021-06-15 20:52:33</td>\n",
       "      <td>2021-06-15 13:51:38</td>\n",
       "      <td>0 days 07:00:55</td>\n",
       "    </tr>\n",
       "    <tr>\n",
       "      <th>099ce696847bb8f6b81ff8007abcbf96</th>\n",
       "      <th>TCa03hH/TUb3KmtYOt2avQ==</th>\n",
       "      <td>2021-07-09 05:35:46</td>\n",
       "      <td>2021-07-08 23:02:54</td>\n",
       "      <td>0 days 06:32:52</td>\n",
       "    </tr>\n",
       "    <tr>\n",
       "      <th>25e2e4f45831abf4a40216d7ab2e6135</th>\n",
       "      <th>b6cqBnzKGYriIJ3rgkGhZg==</th>\n",
       "      <td>2021-07-20 00:25:14</td>\n",
       "      <td>2021-07-19 18:24:36</td>\n",
       "      <td>0 days 06:00:38</td>\n",
       "    </tr>\n",
       "    <tr>\n",
       "      <th>78e3eb0b90870bd078cc17e3b02d5922</th>\n",
       "      <th>b2xZVfUtjyGsZckO7j6zkg==</th>\n",
       "      <td>2021-07-04 01:04:45</td>\n",
       "      <td>2021-07-03 19:25:48</td>\n",
       "      <td>0 days 05:38:57</td>\n",
       "    </tr>\n",
       "    <tr>\n",
       "      <th>...</th>\n",
       "      <th>...</th>\n",
       "      <td>...</td>\n",
       "      <td>...</td>\n",
       "      <td>...</td>\n",
       "    </tr>\n",
       "    <tr>\n",
       "      <th>7f56f9781ade7df8cecf1f5d280b0c84</th>\n",
       "      <th>4Qg/+UGDG0gqIs2jYeF/IA==</th>\n",
       "      <td>2021-07-18 12:06:01</td>\n",
       "      <td>2021-07-18 12:06:01</td>\n",
       "      <td>0 days 00:00:00</td>\n",
       "    </tr>\n",
       "    <tr>\n",
       "      <th>7f57099b67a3623de9cf233e2fef7885</th>\n",
       "      <th>DbAaH4KKFRNe+T4K/MdL9Q==</th>\n",
       "      <td>2021-06-25 00:36:13</td>\n",
       "      <td>2021-06-25 00:36:13</td>\n",
       "      <td>0 days 00:00:00</td>\n",
       "    </tr>\n",
       "    <tr>\n",
       "      <th>7f571704f69ec3d266c1a3be587b1371</th>\n",
       "      <th>yGBcq9NbtNisYP99xwQoZQ==</th>\n",
       "      <td>2021-07-12 14:48:43</td>\n",
       "      <td>2021-07-12 14:48:43</td>\n",
       "      <td>0 days 00:00:00</td>\n",
       "    </tr>\n",
       "    <tr>\n",
       "      <th>7f571d6ce0659021c1639c01fa07c1a4</th>\n",
       "      <th>TdRfjBiIy0DmI7PMAg0dZw==</th>\n",
       "      <td>2021-06-08 03:00:30</td>\n",
       "      <td>2021-06-08 03:00:30</td>\n",
       "      <td>0 days 00:00:00</td>\n",
       "    </tr>\n",
       "    <tr>\n",
       "      <th>fffffa6bed6b7780465149fab05cf406</th>\n",
       "      <th>Y/VM5guIXcj2B7GLnM5auw==</th>\n",
       "      <td>2021-07-25 15:41:11</td>\n",
       "      <td>2021-07-25 15:41:11</td>\n",
       "      <td>0 days 00:00:00</td>\n",
       "    </tr>\n",
       "  </tbody>\n",
       "</table>\n",
       "<p>1195434 rows × 3 columns</p>\n",
       "</div>"
      ],
      "text/plain": [
       "                                                                       latest  \\\n",
       "session_id                       user_no                                        \n",
       "eae91320e3b251f99996c16b28f1d828 UxbJuWLml+M4McU8Q5hNqA== 2021-06-24 21:51:24   \n",
       "e38978aa44622266a3412441108bdfab b2xZVfUtjyGsZckO7j6zkg== 2021-06-15 20:52:33   \n",
       "099ce696847bb8f6b81ff8007abcbf96 TCa03hH/TUb3KmtYOt2avQ== 2021-07-09 05:35:46   \n",
       "25e2e4f45831abf4a40216d7ab2e6135 b6cqBnzKGYriIJ3rgkGhZg== 2021-07-20 00:25:14   \n",
       "78e3eb0b90870bd078cc17e3b02d5922 b2xZVfUtjyGsZckO7j6zkg== 2021-07-04 01:04:45   \n",
       "...                                                                       ...   \n",
       "7f56f9781ade7df8cecf1f5d280b0c84 4Qg/+UGDG0gqIs2jYeF/IA== 2021-07-18 12:06:01   \n",
       "7f57099b67a3623de9cf233e2fef7885 DbAaH4KKFRNe+T4K/MdL9Q== 2021-06-25 00:36:13   \n",
       "7f571704f69ec3d266c1a3be587b1371 yGBcq9NbtNisYP99xwQoZQ== 2021-07-12 14:48:43   \n",
       "7f571d6ce0659021c1639c01fa07c1a4 TdRfjBiIy0DmI7PMAg0dZw== 2021-06-08 03:00:30   \n",
       "fffffa6bed6b7780465149fab05cf406 Y/VM5guIXcj2B7GLnM5auw== 2021-07-25 15:41:11   \n",
       "\n",
       "                                                                        start  \\\n",
       "session_id                       user_no                                        \n",
       "eae91320e3b251f99996c16b28f1d828 UxbJuWLml+M4McU8Q5hNqA== 2021-06-24 14:39:37   \n",
       "e38978aa44622266a3412441108bdfab b2xZVfUtjyGsZckO7j6zkg== 2021-06-15 13:51:38   \n",
       "099ce696847bb8f6b81ff8007abcbf96 TCa03hH/TUb3KmtYOt2avQ== 2021-07-08 23:02:54   \n",
       "25e2e4f45831abf4a40216d7ab2e6135 b6cqBnzKGYriIJ3rgkGhZg== 2021-07-19 18:24:36   \n",
       "78e3eb0b90870bd078cc17e3b02d5922 b2xZVfUtjyGsZckO7j6zkg== 2021-07-03 19:25:48   \n",
       "...                                                                       ...   \n",
       "7f56f9781ade7df8cecf1f5d280b0c84 4Qg/+UGDG0gqIs2jYeF/IA== 2021-07-18 12:06:01   \n",
       "7f57099b67a3623de9cf233e2fef7885 DbAaH4KKFRNe+T4K/MdL9Q== 2021-06-25 00:36:13   \n",
       "7f571704f69ec3d266c1a3be587b1371 yGBcq9NbtNisYP99xwQoZQ== 2021-07-12 14:48:43   \n",
       "7f571d6ce0659021c1639c01fa07c1a4 TdRfjBiIy0DmI7PMAg0dZw== 2021-06-08 03:00:30   \n",
       "fffffa6bed6b7780465149fab05cf406 Y/VM5guIXcj2B7GLnM5auw== 2021-07-25 15:41:11   \n",
       "\n",
       "                                                             session_time  \n",
       "session_id                       user_no                                   \n",
       "eae91320e3b251f99996c16b28f1d828 UxbJuWLml+M4McU8Q5hNqA== 0 days 07:11:47  \n",
       "e38978aa44622266a3412441108bdfab b2xZVfUtjyGsZckO7j6zkg== 0 days 07:00:55  \n",
       "099ce696847bb8f6b81ff8007abcbf96 TCa03hH/TUb3KmtYOt2avQ== 0 days 06:32:52  \n",
       "25e2e4f45831abf4a40216d7ab2e6135 b6cqBnzKGYriIJ3rgkGhZg== 0 days 06:00:38  \n",
       "78e3eb0b90870bd078cc17e3b02d5922 b2xZVfUtjyGsZckO7j6zkg== 0 days 05:38:57  \n",
       "...                                                                   ...  \n",
       "7f56f9781ade7df8cecf1f5d280b0c84 4Qg/+UGDG0gqIs2jYeF/IA== 0 days 00:00:00  \n",
       "7f57099b67a3623de9cf233e2fef7885 DbAaH4KKFRNe+T4K/MdL9Q== 0 days 00:00:00  \n",
       "7f571704f69ec3d266c1a3be587b1371 yGBcq9NbtNisYP99xwQoZQ== 0 days 00:00:00  \n",
       "7f571d6ce0659021c1639c01fa07c1a4 TdRfjBiIy0DmI7PMAg0dZw== 0 days 00:00:00  \n",
       "fffffa6bed6b7780465149fab05cf406 Y/VM5guIXcj2B7GLnM5auw== 0 days 00:00:00  \n",
       "\n",
       "[1195434 rows x 3 columns]"
      ]
     },
     "execution_count": 64,
     "metadata": {},
     "output_type": "execute_result"
    }
   ],
   "source": [
    "non_suc_data = total_df[total_df['event_name'] != 'purchase_success']\n",
    "\n",
    "non_suc_data['event_timestamp'] = pd.to_datetime(non_suc_data['event_timestamp'])\n",
    "non_suc_data['event_timestamp'] = non_suc_data['event_timestamp'].dt.strftime('%Y-%m-%d %H:%M:%S')\n",
    "non_suc_data['event_timestamp'] = pd.to_datetime(non_suc_data['event_timestamp'])\n",
    "\n",
    "max_group = non_suc_data.groupby(['session_id', 'user_no'])['event_timestamp'].max()\n",
    "min_group = non_suc_data.groupby(['session_id', 'user_no'])['event_timestamp'].min()\n",
    "\n",
    "max_time = pd.DataFrame(max_group)\n",
    "max_time.columns = ['latest']\n",
    "\n",
    "min_time = pd.DataFrame(min_group)\n",
    "min_time.columns = ['start']\n",
    "\n",
    "non_suc_max_min = pd.concat([max_time, min_time], axis=1)\n",
    "\n",
    "non_suc_max_min['session_time'] = non_suc_max_min['latest'] - non_suc_max_min['start']\n",
    "\n",
    "non_suc_max_min.sort_values(by='session_time', ascending=False)"
   ]
  },
  {
   "cell_type": "code",
   "execution_count": 65,
   "metadata": {},
   "outputs": [
    {
     "name": "stdout",
     "output_type": "stream",
     "text": [
      "0 days 00:05:36.305611183\n",
      "0 days 00:11:15.840391556\n",
      "0 days 00:01:01\n"
     ]
    }
   ],
   "source": [
    "print(non_suc_max_min['session_time'].mean())\n",
    "print(non_suc_max_min['session_time'].std())\n",
    "print(non_suc_max_min['session_time'].median())"
   ]
  },
  {
   "attachments": {},
   "cell_type": "markdown",
   "metadata": {},
   "source": [
    "# funnel 분석"
   ]
  },
  {
   "cell_type": "code",
   "execution_count": 67,
   "metadata": {},
   "outputs": [
    {
     "data": {
      "text/html": [
       "<div>\n",
       "<style scoped>\n",
       "    .dataframe tbody tr th:only-of-type {\n",
       "        vertical-align: middle;\n",
       "    }\n",
       "\n",
       "    .dataframe tbody tr th {\n",
       "        vertical-align: top;\n",
       "    }\n",
       "\n",
       "    .dataframe thead th {\n",
       "        text-align: right;\n",
       "    }\n",
       "</style>\n",
       "<table border=\"1\" class=\"dataframe\">\n",
       "  <thead>\n",
       "    <tr style=\"text-align: right;\">\n",
       "      <th></th>\n",
       "      <th>user_no</th>\n",
       "      <th>event_name</th>\n",
       "      <th>event_timestamp</th>\n",
       "    </tr>\n",
       "  </thead>\n",
       "  <tbody>\n",
       "    <tr>\n",
       "      <th>0</th>\n",
       "      <td>+9eODQMZ8YgXQZJJAo56nw==</td>\n",
       "      <td>click_item</td>\n",
       "      <td>2021-06-03 13:00:01</td>\n",
       "    </tr>\n",
       "    <tr>\n",
       "      <th>1</th>\n",
       "      <td>+9eODQMZ8YgXQZJJAo56nw==</td>\n",
       "      <td>click_item</td>\n",
       "      <td>2021-06-03 13:00:47</td>\n",
       "    </tr>\n",
       "    <tr>\n",
       "      <th>2</th>\n",
       "      <td>+9eODQMZ8YgXQZJJAo56nw==</td>\n",
       "      <td>click_item</td>\n",
       "      <td>2021-06-03 13:02:21</td>\n",
       "    </tr>\n",
       "    <tr>\n",
       "      <th>3</th>\n",
       "      <td>+9eODQMZ8YgXQZJJAo56nw==</td>\n",
       "      <td>click_item</td>\n",
       "      <td>2021-06-03 13:02:58</td>\n",
       "    </tr>\n",
       "    <tr>\n",
       "      <th>4</th>\n",
       "      <td>+9eODQMZ8YgXQZJJAo56nw==</td>\n",
       "      <td>add_to_cart</td>\n",
       "      <td>2021-06-10 12:15:42</td>\n",
       "    </tr>\n",
       "    <tr>\n",
       "      <th>...</th>\n",
       "      <td>...</td>\n",
       "      <td>...</td>\n",
       "      <td>...</td>\n",
       "    </tr>\n",
       "    <tr>\n",
       "      <th>5544525</th>\n",
       "      <td>gwqp3oI4ODVVnyxGZu9wFQ==</td>\n",
       "      <td>click_item</td>\n",
       "      <td>2021-08-04 11:00:51</td>\n",
       "    </tr>\n",
       "    <tr>\n",
       "      <th>5544526</th>\n",
       "      <td>8okJXtYVKYoBoBAG823v2Q==</td>\n",
       "      <td>purchase_success</td>\n",
       "      <td>2021-08-04 11:05:01</td>\n",
       "    </tr>\n",
       "    <tr>\n",
       "      <th>5544527</th>\n",
       "      <td>Ve1mEjXwrBP8YHdtNyHKxQ==</td>\n",
       "      <td>click_item</td>\n",
       "      <td>2021-08-04 11:23:06</td>\n",
       "    </tr>\n",
       "    <tr>\n",
       "      <th>5544528</th>\n",
       "      <td>vrE4nCVISqKLZ59f+eGRfA==</td>\n",
       "      <td>purchase_success</td>\n",
       "      <td>2021-08-04 12:26:44</td>\n",
       "    </tr>\n",
       "    <tr>\n",
       "      <th>5544529</th>\n",
       "      <td>IRWUNThkMgQZobEJm8OG1w==</td>\n",
       "      <td>click_item</td>\n",
       "      <td>2021-08-04 12:45:27</td>\n",
       "    </tr>\n",
       "  </tbody>\n",
       "</table>\n",
       "<p>5544530 rows × 3 columns</p>\n",
       "</div>"
      ],
      "text/plain": [
       "                          user_no        event_name     event_timestamp\n",
       "0        +9eODQMZ8YgXQZJJAo56nw==        click_item 2021-06-03 13:00:01\n",
       "1        +9eODQMZ8YgXQZJJAo56nw==        click_item 2021-06-03 13:00:47\n",
       "2        +9eODQMZ8YgXQZJJAo56nw==        click_item 2021-06-03 13:02:21\n",
       "3        +9eODQMZ8YgXQZJJAo56nw==        click_item 2021-06-03 13:02:58\n",
       "4        +9eODQMZ8YgXQZJJAo56nw==       add_to_cart 2021-06-10 12:15:42\n",
       "...                           ...               ...                 ...\n",
       "5544525  gwqp3oI4ODVVnyxGZu9wFQ==        click_item 2021-08-04 11:00:51\n",
       "5544526  8okJXtYVKYoBoBAG823v2Q==  purchase_success 2021-08-04 11:05:01\n",
       "5544527  Ve1mEjXwrBP8YHdtNyHKxQ==        click_item 2021-08-04 11:23:06\n",
       "5544528  vrE4nCVISqKLZ59f+eGRfA==  purchase_success 2021-08-04 12:26:44\n",
       "5544529  IRWUNThkMgQZobEJm8OG1w==        click_item 2021-08-04 12:45:27\n",
       "\n",
       "[5544530 rows x 3 columns]"
      ]
     },
     "execution_count": 67,
     "metadata": {},
     "output_type": "execute_result"
    }
   ],
   "source": [
    "funnel_df = total_df[['user_no', 'event_name', 'event_timestamp']]\n",
    "funnel_df"
   ]
  },
  {
   "cell_type": "code",
   "execution_count": 68,
   "metadata": {},
   "outputs": [
    {
     "data": {
      "text/plain": [
       "user_no                   event_name      \n",
       "+++T9c17sr6wEYOy9UFv3w==  add_to_cart        2021-06-19 19:38:20\n",
       "                          click_item         2021-06-16 15:27:52\n",
       "                          like_item          2021-07-08 07:28:24\n",
       "                          purchase_success   2021-06-15 16:07:45\n",
       "+++aQH5NnhiU/9qECKk3uQ==  click_item         2021-06-10 00:51:33\n",
       "                                                     ...        \n",
       "zzwYai1YDr0JZQwaTqc0mQ==  click_item         2021-07-09 18:02:45\n",
       "                          purchase_success   2021-07-04 20:40:01\n",
       "zzzTNW8escss3zrnpuGMhQ==  add_to_cart        2021-07-07 22:21:50\n",
       "zzzWx+6Z3L2IRJBTgvBs5g==  click_item         2021-07-02 23:13:04\n",
       "                          purchase_success   2021-06-15 17:04:26\n",
       "Name: event_timestamp, Length: 373328, dtype: datetime64[ns]"
      ]
     },
     "execution_count": 68,
     "metadata": {},
     "output_type": "execute_result"
    }
   ],
   "source": [
    "funnel_group = funnel_df.groupby(['user_no', 'event_name'])['event_timestamp'].min()\n",
    "funnel_group"
   ]
  },
  {
   "cell_type": "code",
   "execution_count": 69,
   "metadata": {},
   "outputs": [
    {
     "data": {
      "text/html": [
       "<div>\n",
       "<style scoped>\n",
       "    .dataframe tbody tr th:only-of-type {\n",
       "        vertical-align: middle;\n",
       "    }\n",
       "\n",
       "    .dataframe tbody tr th {\n",
       "        vertical-align: top;\n",
       "    }\n",
       "\n",
       "    .dataframe thead th {\n",
       "        text-align: right;\n",
       "    }\n",
       "</style>\n",
       "<table border=\"1\" class=\"dataframe\">\n",
       "  <thead>\n",
       "    <tr style=\"text-align: right;\">\n",
       "      <th></th>\n",
       "      <th>steps</th>\n",
       "    </tr>\n",
       "  </thead>\n",
       "  <tbody>\n",
       "    <tr>\n",
       "      <th>click_item</th>\n",
       "      <td>1</td>\n",
       "    </tr>\n",
       "    <tr>\n",
       "      <th>like_item</th>\n",
       "      <td>2</td>\n",
       "    </tr>\n",
       "    <tr>\n",
       "      <th>add_to_cart</th>\n",
       "      <td>3</td>\n",
       "    </tr>\n",
       "    <tr>\n",
       "      <th>purchase_success</th>\n",
       "      <td>4</td>\n",
       "    </tr>\n",
       "  </tbody>\n",
       "</table>\n",
       "</div>"
      ],
      "text/plain": [
       "                  steps\n",
       "click_item            1\n",
       "like_item             2\n",
       "add_to_cart           3\n",
       "purchase_success      4"
      ]
     },
     "execution_count": 69,
     "metadata": {},
     "output_type": "execute_result"
    }
   ],
   "source": [
    "funnel_steps = pd.DataFrame({'steps' : [1,2,3,4]}, index=['click_item', 'like_item', 'add_to_cart', 'purchase_success'])\n",
    "funnel_steps"
   ]
  },
  {
   "cell_type": "code",
   "execution_count": 70,
   "metadata": {},
   "outputs": [
    {
     "data": {
      "text/html": [
       "<div>\n",
       "<style scoped>\n",
       "    .dataframe tbody tr th:only-of-type {\n",
       "        vertical-align: middle;\n",
       "    }\n",
       "\n",
       "    .dataframe tbody tr th {\n",
       "        vertical-align: top;\n",
       "    }\n",
       "\n",
       "    .dataframe thead th {\n",
       "        text-align: right;\n",
       "    }\n",
       "</style>\n",
       "<table border=\"1\" class=\"dataframe\">\n",
       "  <thead>\n",
       "    <tr style=\"text-align: right;\">\n",
       "      <th></th>\n",
       "      <th></th>\n",
       "      <th>event_timestamp</th>\n",
       "      <th>steps</th>\n",
       "    </tr>\n",
       "    <tr>\n",
       "      <th>user_no</th>\n",
       "      <th>event_name</th>\n",
       "      <th></th>\n",
       "      <th></th>\n",
       "    </tr>\n",
       "  </thead>\n",
       "  <tbody>\n",
       "    <tr>\n",
       "      <th>+++T9c17sr6wEYOy9UFv3w==</th>\n",
       "      <th>add_to_cart</th>\n",
       "      <td>2021-06-19 19:38:20</td>\n",
       "      <td>3</td>\n",
       "    </tr>\n",
       "    <tr>\n",
       "      <th>++C4Jco6ku9bc5GwwNuByQ==</th>\n",
       "      <th>add_to_cart</th>\n",
       "      <td>2021-06-05 18:32:23</td>\n",
       "      <td>3</td>\n",
       "    </tr>\n",
       "    <tr>\n",
       "      <th>++CuzDl5Lxcu5t1eDIRu+A==</th>\n",
       "      <th>add_to_cart</th>\n",
       "      <td>2021-06-04 22:34:58</td>\n",
       "      <td>3</td>\n",
       "    </tr>\n",
       "    <tr>\n",
       "      <th>++FBFfYZThncncIvHjLbKQ==</th>\n",
       "      <th>add_to_cart</th>\n",
       "      <td>2021-06-05 22:17:42</td>\n",
       "      <td>3</td>\n",
       "    </tr>\n",
       "    <tr>\n",
       "      <th>++GVOXP4cXADbykjQID0Xw==</th>\n",
       "      <th>add_to_cart</th>\n",
       "      <td>2021-06-07 05:14:40</td>\n",
       "      <td>3</td>\n",
       "    </tr>\n",
       "    <tr>\n",
       "      <th>...</th>\n",
       "      <th>...</th>\n",
       "      <td>...</td>\n",
       "      <td>...</td>\n",
       "    </tr>\n",
       "    <tr>\n",
       "      <th>zzq8skPzbmsxokOi5tkZQQ==</th>\n",
       "      <th>purchase_success</th>\n",
       "      <td>2021-06-25 20:13:49</td>\n",
       "      <td>4</td>\n",
       "    </tr>\n",
       "    <tr>\n",
       "      <th>zzrBh62TO71nt1GQm+jMjA==</th>\n",
       "      <th>purchase_success</th>\n",
       "      <td>2021-07-27 22:25:33</td>\n",
       "      <td>4</td>\n",
       "    </tr>\n",
       "    <tr>\n",
       "      <th>zzuJMnncH5Wrn/GUA7nqTg==</th>\n",
       "      <th>purchase_success</th>\n",
       "      <td>2021-07-23 20:01:48</td>\n",
       "      <td>4</td>\n",
       "    </tr>\n",
       "    <tr>\n",
       "      <th>zzwYai1YDr0JZQwaTqc0mQ==</th>\n",
       "      <th>purchase_success</th>\n",
       "      <td>2021-07-04 20:40:01</td>\n",
       "      <td>4</td>\n",
       "    </tr>\n",
       "    <tr>\n",
       "      <th>zzzWx+6Z3L2IRJBTgvBs5g==</th>\n",
       "      <th>purchase_success</th>\n",
       "      <td>2021-06-15 17:04:26</td>\n",
       "      <td>4</td>\n",
       "    </tr>\n",
       "  </tbody>\n",
       "</table>\n",
       "<p>373328 rows × 2 columns</p>\n",
       "</div>"
      ],
      "text/plain": [
       "                                              event_timestamp  steps\n",
       "user_no                  event_name                                 \n",
       "+++T9c17sr6wEYOy9UFv3w== add_to_cart      2021-06-19 19:38:20      3\n",
       "++C4Jco6ku9bc5GwwNuByQ== add_to_cart      2021-06-05 18:32:23      3\n",
       "++CuzDl5Lxcu5t1eDIRu+A== add_to_cart      2021-06-04 22:34:58      3\n",
       "++FBFfYZThncncIvHjLbKQ== add_to_cart      2021-06-05 22:17:42      3\n",
       "++GVOXP4cXADbykjQID0Xw== add_to_cart      2021-06-07 05:14:40      3\n",
       "...                                                       ...    ...\n",
       "zzq8skPzbmsxokOi5tkZQQ== purchase_success 2021-06-25 20:13:49      4\n",
       "zzrBh62TO71nt1GQm+jMjA== purchase_success 2021-07-27 22:25:33      4\n",
       "zzuJMnncH5Wrn/GUA7nqTg== purchase_success 2021-07-23 20:01:48      4\n",
       "zzwYai1YDr0JZQwaTqc0mQ== purchase_success 2021-07-04 20:40:01      4\n",
       "zzzWx+6Z3L2IRJBTgvBs5g== purchase_success 2021-06-15 17:04:26      4\n",
       "\n",
       "[373328 rows x 2 columns]"
      ]
     },
     "execution_count": 70,
     "metadata": {},
     "output_type": "execute_result"
    }
   ],
   "source": [
    "funnel_group = pd.DataFrame(funnel_group).merge(funnel_steps, left_on='event_name', right_index=True)\n",
    "funnel_group"
   ]
  },
  {
   "cell_type": "code",
   "execution_count": 71,
   "metadata": {},
   "outputs": [
    {
     "data": {
      "text/html": [
       "<div>\n",
       "<style scoped>\n",
       "    .dataframe tbody tr th:only-of-type {\n",
       "        vertical-align: middle;\n",
       "    }\n",
       "\n",
       "    .dataframe tbody tr th {\n",
       "        vertical-align: top;\n",
       "    }\n",
       "\n",
       "    .dataframe thead th {\n",
       "        text-align: right;\n",
       "    }\n",
       "</style>\n",
       "<table border=\"1\" class=\"dataframe\">\n",
       "  <thead>\n",
       "    <tr style=\"text-align: right;\">\n",
       "      <th></th>\n",
       "      <th>click_item</th>\n",
       "      <th>like_item</th>\n",
       "      <th>add_to_cart</th>\n",
       "      <th>purchase_success</th>\n",
       "    </tr>\n",
       "    <tr>\n",
       "      <th>user_no</th>\n",
       "      <th></th>\n",
       "      <th></th>\n",
       "      <th></th>\n",
       "      <th></th>\n",
       "    </tr>\n",
       "  </thead>\n",
       "  <tbody>\n",
       "    <tr>\n",
       "      <th>+++T9c17sr6wEYOy9UFv3w==</th>\n",
       "      <td>2021-06-16 15:27:52</td>\n",
       "      <td>2021-07-08 07:28:24</td>\n",
       "      <td>2021-06-19 19:38:20</td>\n",
       "      <td>2021-06-15 16:07:45</td>\n",
       "    </tr>\n",
       "    <tr>\n",
       "      <th>+++aQH5NnhiU/9qECKk3uQ==</th>\n",
       "      <td>2021-06-10 00:51:33</td>\n",
       "      <td>NaT</td>\n",
       "      <td>NaT</td>\n",
       "      <td>2021-06-10 05:28:41</td>\n",
       "    </tr>\n",
       "    <tr>\n",
       "      <th>++0bwiYVJ/TAsCpxI4UCuw==</th>\n",
       "      <td>2021-06-14 23:09:25</td>\n",
       "      <td>2021-07-06 11:47:53</td>\n",
       "      <td>NaT</td>\n",
       "      <td>2021-07-27 14:33:20</td>\n",
       "    </tr>\n",
       "    <tr>\n",
       "      <th>++1HN9s1imztN8ftPCt3LA==</th>\n",
       "      <td>NaT</td>\n",
       "      <td>NaT</td>\n",
       "      <td>NaT</td>\n",
       "      <td>2021-06-10 09:24:07</td>\n",
       "    </tr>\n",
       "    <tr>\n",
       "      <th>++292nTvV+bCI1Diuw96GA==</th>\n",
       "      <td>2021-07-08 23:54:15</td>\n",
       "      <td>NaT</td>\n",
       "      <td>NaT</td>\n",
       "      <td>NaT</td>\n",
       "    </tr>\n",
       "    <tr>\n",
       "      <th>...</th>\n",
       "      <td>...</td>\n",
       "      <td>...</td>\n",
       "      <td>...</td>\n",
       "      <td>...</td>\n",
       "    </tr>\n",
       "    <tr>\n",
       "      <th>zzwOfX9q6MNyni9Ff8Ws6A==</th>\n",
       "      <td>2021-07-09 14:53:28</td>\n",
       "      <td>NaT</td>\n",
       "      <td>NaT</td>\n",
       "      <td>NaT</td>\n",
       "    </tr>\n",
       "    <tr>\n",
       "      <th>zzwQnhNQeYnzcsjywnIh3g==</th>\n",
       "      <td>2021-07-11 15:41:42</td>\n",
       "      <td>NaT</td>\n",
       "      <td>NaT</td>\n",
       "      <td>NaT</td>\n",
       "    </tr>\n",
       "    <tr>\n",
       "      <th>zzwYai1YDr0JZQwaTqc0mQ==</th>\n",
       "      <td>2021-07-09 18:02:45</td>\n",
       "      <td>NaT</td>\n",
       "      <td>NaT</td>\n",
       "      <td>2021-07-04 20:40:01</td>\n",
       "    </tr>\n",
       "    <tr>\n",
       "      <th>zzzTNW8escss3zrnpuGMhQ==</th>\n",
       "      <td>NaT</td>\n",
       "      <td>NaT</td>\n",
       "      <td>2021-07-07 22:21:50</td>\n",
       "      <td>NaT</td>\n",
       "    </tr>\n",
       "    <tr>\n",
       "      <th>zzzWx+6Z3L2IRJBTgvBs5g==</th>\n",
       "      <td>2021-07-02 23:13:04</td>\n",
       "      <td>NaT</td>\n",
       "      <td>NaT</td>\n",
       "      <td>2021-06-15 17:04:26</td>\n",
       "    </tr>\n",
       "  </tbody>\n",
       "</table>\n",
       "<p>228035 rows × 4 columns</p>\n",
       "</div>"
      ],
      "text/plain": [
       "                                  click_item           like_item  \\\n",
       "user_no                                                            \n",
       "+++T9c17sr6wEYOy9UFv3w== 2021-06-16 15:27:52 2021-07-08 07:28:24   \n",
       "+++aQH5NnhiU/9qECKk3uQ== 2021-06-10 00:51:33                 NaT   \n",
       "++0bwiYVJ/TAsCpxI4UCuw== 2021-06-14 23:09:25 2021-07-06 11:47:53   \n",
       "++1HN9s1imztN8ftPCt3LA==                 NaT                 NaT   \n",
       "++292nTvV+bCI1Diuw96GA== 2021-07-08 23:54:15                 NaT   \n",
       "...                                      ...                 ...   \n",
       "zzwOfX9q6MNyni9Ff8Ws6A== 2021-07-09 14:53:28                 NaT   \n",
       "zzwQnhNQeYnzcsjywnIh3g== 2021-07-11 15:41:42                 NaT   \n",
       "zzwYai1YDr0JZQwaTqc0mQ== 2021-07-09 18:02:45                 NaT   \n",
       "zzzTNW8escss3zrnpuGMhQ==                 NaT                 NaT   \n",
       "zzzWx+6Z3L2IRJBTgvBs5g== 2021-07-02 23:13:04                 NaT   \n",
       "\n",
       "                                 add_to_cart    purchase_success  \n",
       "user_no                                                           \n",
       "+++T9c17sr6wEYOy9UFv3w== 2021-06-19 19:38:20 2021-06-15 16:07:45  \n",
       "+++aQH5NnhiU/9qECKk3uQ==                 NaT 2021-06-10 05:28:41  \n",
       "++0bwiYVJ/TAsCpxI4UCuw==                 NaT 2021-07-27 14:33:20  \n",
       "++1HN9s1imztN8ftPCt3LA==                 NaT 2021-06-10 09:24:07  \n",
       "++292nTvV+bCI1Diuw96GA==                 NaT                 NaT  \n",
       "...                                      ...                 ...  \n",
       "zzwOfX9q6MNyni9Ff8Ws6A==                 NaT                 NaT  \n",
       "zzwQnhNQeYnzcsjywnIh3g==                 NaT                 NaT  \n",
       "zzwYai1YDr0JZQwaTqc0mQ==                 NaT 2021-07-04 20:40:01  \n",
       "zzzTNW8escss3zrnpuGMhQ== 2021-07-07 22:21:50                 NaT  \n",
       "zzzWx+6Z3L2IRJBTgvBs5g==                 NaT 2021-06-15 17:04:26  \n",
       "\n",
       "[228035 rows x 4 columns]"
      ]
     },
     "execution_count": 71,
     "metadata": {},
     "output_type": "execute_result"
    }
   ],
   "source": [
    "funnel = funnel_group.reset_index().pivot(index='user_no', columns='steps', values='event_timestamp')\n",
    "funnel.columns = funnel_steps.index\n",
    "funnel"
   ]
  },
  {
   "cell_type": "code",
   "execution_count": 72,
   "metadata": {},
   "outputs": [
    {
     "data": {
      "text/plain": [
       "[180605, 22599, 35383, 134741]"
      ]
     },
     "execution_count": 72,
     "metadata": {},
     "output_type": "execute_result"
    }
   ],
   "source": [
    "step_values = [funnel[column].notnull().sum() for column in funnel.columns]\n",
    "step_values"
   ]
  },
  {
   "cell_type": "code",
   "execution_count": 73,
   "metadata": {},
   "outputs": [
    {
     "data": {
      "application/vnd.plotly.v1+json": {
       "config": {
        "plotlyServerURL": "https://plot.ly"
       },
       "data": [
        {
         "hovertemplate": "number=%{x}<br>stage=%{y}<extra></extra>",
         "legendgroup": "",
         "marker": {
          "color": "#636efa"
         },
         "name": "",
         "orientation": "h",
         "showlegend": false,
         "type": "funnel",
         "x": [
          180605,
          22599,
          35383,
          134741
         ],
         "xaxis": "x",
         "y": [
          "click_item",
          "like_item",
          "add_to_cart",
          "purchase_success"
         ],
         "yaxis": "y"
        }
       ],
       "layout": {
        "legend": {
         "tracegroupgap": 0
        },
        "margin": {
         "t": 60
        },
        "template": {
         "data": {
          "bar": [
           {
            "error_x": {
             "color": "#2a3f5f"
            },
            "error_y": {
             "color": "#2a3f5f"
            },
            "marker": {
             "line": {
              "color": "#E5ECF6",
              "width": 0.5
             },
             "pattern": {
              "fillmode": "overlay",
              "size": 10,
              "solidity": 0.2
             }
            },
            "type": "bar"
           }
          ],
          "barpolar": [
           {
            "marker": {
             "line": {
              "color": "#E5ECF6",
              "width": 0.5
             },
             "pattern": {
              "fillmode": "overlay",
              "size": 10,
              "solidity": 0.2
             }
            },
            "type": "barpolar"
           }
          ],
          "carpet": [
           {
            "aaxis": {
             "endlinecolor": "#2a3f5f",
             "gridcolor": "white",
             "linecolor": "white",
             "minorgridcolor": "white",
             "startlinecolor": "#2a3f5f"
            },
            "baxis": {
             "endlinecolor": "#2a3f5f",
             "gridcolor": "white",
             "linecolor": "white",
             "minorgridcolor": "white",
             "startlinecolor": "#2a3f5f"
            },
            "type": "carpet"
           }
          ],
          "choropleth": [
           {
            "colorbar": {
             "outlinewidth": 0,
             "ticks": ""
            },
            "type": "choropleth"
           }
          ],
          "contour": [
           {
            "colorbar": {
             "outlinewidth": 0,
             "ticks": ""
            },
            "colorscale": [
             [
              0,
              "#0d0887"
             ],
             [
              0.1111111111111111,
              "#46039f"
             ],
             [
              0.2222222222222222,
              "#7201a8"
             ],
             [
              0.3333333333333333,
              "#9c179e"
             ],
             [
              0.4444444444444444,
              "#bd3786"
             ],
             [
              0.5555555555555556,
              "#d8576b"
             ],
             [
              0.6666666666666666,
              "#ed7953"
             ],
             [
              0.7777777777777778,
              "#fb9f3a"
             ],
             [
              0.8888888888888888,
              "#fdca26"
             ],
             [
              1,
              "#f0f921"
             ]
            ],
            "type": "contour"
           }
          ],
          "contourcarpet": [
           {
            "colorbar": {
             "outlinewidth": 0,
             "ticks": ""
            },
            "type": "contourcarpet"
           }
          ],
          "heatmap": [
           {
            "colorbar": {
             "outlinewidth": 0,
             "ticks": ""
            },
            "colorscale": [
             [
              0,
              "#0d0887"
             ],
             [
              0.1111111111111111,
              "#46039f"
             ],
             [
              0.2222222222222222,
              "#7201a8"
             ],
             [
              0.3333333333333333,
              "#9c179e"
             ],
             [
              0.4444444444444444,
              "#bd3786"
             ],
             [
              0.5555555555555556,
              "#d8576b"
             ],
             [
              0.6666666666666666,
              "#ed7953"
             ],
             [
              0.7777777777777778,
              "#fb9f3a"
             ],
             [
              0.8888888888888888,
              "#fdca26"
             ],
             [
              1,
              "#f0f921"
             ]
            ],
            "type": "heatmap"
           }
          ],
          "heatmapgl": [
           {
            "colorbar": {
             "outlinewidth": 0,
             "ticks": ""
            },
            "colorscale": [
             [
              0,
              "#0d0887"
             ],
             [
              0.1111111111111111,
              "#46039f"
             ],
             [
              0.2222222222222222,
              "#7201a8"
             ],
             [
              0.3333333333333333,
              "#9c179e"
             ],
             [
              0.4444444444444444,
              "#bd3786"
             ],
             [
              0.5555555555555556,
              "#d8576b"
             ],
             [
              0.6666666666666666,
              "#ed7953"
             ],
             [
              0.7777777777777778,
              "#fb9f3a"
             ],
             [
              0.8888888888888888,
              "#fdca26"
             ],
             [
              1,
              "#f0f921"
             ]
            ],
            "type": "heatmapgl"
           }
          ],
          "histogram": [
           {
            "marker": {
             "pattern": {
              "fillmode": "overlay",
              "size": 10,
              "solidity": 0.2
             }
            },
            "type": "histogram"
           }
          ],
          "histogram2d": [
           {
            "colorbar": {
             "outlinewidth": 0,
             "ticks": ""
            },
            "colorscale": [
             [
              0,
              "#0d0887"
             ],
             [
              0.1111111111111111,
              "#46039f"
             ],
             [
              0.2222222222222222,
              "#7201a8"
             ],
             [
              0.3333333333333333,
              "#9c179e"
             ],
             [
              0.4444444444444444,
              "#bd3786"
             ],
             [
              0.5555555555555556,
              "#d8576b"
             ],
             [
              0.6666666666666666,
              "#ed7953"
             ],
             [
              0.7777777777777778,
              "#fb9f3a"
             ],
             [
              0.8888888888888888,
              "#fdca26"
             ],
             [
              1,
              "#f0f921"
             ]
            ],
            "type": "histogram2d"
           }
          ],
          "histogram2dcontour": [
           {
            "colorbar": {
             "outlinewidth": 0,
             "ticks": ""
            },
            "colorscale": [
             [
              0,
              "#0d0887"
             ],
             [
              0.1111111111111111,
              "#46039f"
             ],
             [
              0.2222222222222222,
              "#7201a8"
             ],
             [
              0.3333333333333333,
              "#9c179e"
             ],
             [
              0.4444444444444444,
              "#bd3786"
             ],
             [
              0.5555555555555556,
              "#d8576b"
             ],
             [
              0.6666666666666666,
              "#ed7953"
             ],
             [
              0.7777777777777778,
              "#fb9f3a"
             ],
             [
              0.8888888888888888,
              "#fdca26"
             ],
             [
              1,
              "#f0f921"
             ]
            ],
            "type": "histogram2dcontour"
           }
          ],
          "mesh3d": [
           {
            "colorbar": {
             "outlinewidth": 0,
             "ticks": ""
            },
            "type": "mesh3d"
           }
          ],
          "parcoords": [
           {
            "line": {
             "colorbar": {
              "outlinewidth": 0,
              "ticks": ""
             }
            },
            "type": "parcoords"
           }
          ],
          "pie": [
           {
            "automargin": true,
            "type": "pie"
           }
          ],
          "scatter": [
           {
            "fillpattern": {
             "fillmode": "overlay",
             "size": 10,
             "solidity": 0.2
            },
            "type": "scatter"
           }
          ],
          "scatter3d": [
           {
            "line": {
             "colorbar": {
              "outlinewidth": 0,
              "ticks": ""
             }
            },
            "marker": {
             "colorbar": {
              "outlinewidth": 0,
              "ticks": ""
             }
            },
            "type": "scatter3d"
           }
          ],
          "scattercarpet": [
           {
            "marker": {
             "colorbar": {
              "outlinewidth": 0,
              "ticks": ""
             }
            },
            "type": "scattercarpet"
           }
          ],
          "scattergeo": [
           {
            "marker": {
             "colorbar": {
              "outlinewidth": 0,
              "ticks": ""
             }
            },
            "type": "scattergeo"
           }
          ],
          "scattergl": [
           {
            "marker": {
             "colorbar": {
              "outlinewidth": 0,
              "ticks": ""
             }
            },
            "type": "scattergl"
           }
          ],
          "scattermapbox": [
           {
            "marker": {
             "colorbar": {
              "outlinewidth": 0,
              "ticks": ""
             }
            },
            "type": "scattermapbox"
           }
          ],
          "scatterpolar": [
           {
            "marker": {
             "colorbar": {
              "outlinewidth": 0,
              "ticks": ""
             }
            },
            "type": "scatterpolar"
           }
          ],
          "scatterpolargl": [
           {
            "marker": {
             "colorbar": {
              "outlinewidth": 0,
              "ticks": ""
             }
            },
            "type": "scatterpolargl"
           }
          ],
          "scatterternary": [
           {
            "marker": {
             "colorbar": {
              "outlinewidth": 0,
              "ticks": ""
             }
            },
            "type": "scatterternary"
           }
          ],
          "surface": [
           {
            "colorbar": {
             "outlinewidth": 0,
             "ticks": ""
            },
            "colorscale": [
             [
              0,
              "#0d0887"
             ],
             [
              0.1111111111111111,
              "#46039f"
             ],
             [
              0.2222222222222222,
              "#7201a8"
             ],
             [
              0.3333333333333333,
              "#9c179e"
             ],
             [
              0.4444444444444444,
              "#bd3786"
             ],
             [
              0.5555555555555556,
              "#d8576b"
             ],
             [
              0.6666666666666666,
              "#ed7953"
             ],
             [
              0.7777777777777778,
              "#fb9f3a"
             ],
             [
              0.8888888888888888,
              "#fdca26"
             ],
             [
              1,
              "#f0f921"
             ]
            ],
            "type": "surface"
           }
          ],
          "table": [
           {
            "cells": {
             "fill": {
              "color": "#EBF0F8"
             },
             "line": {
              "color": "white"
             }
            },
            "header": {
             "fill": {
              "color": "#C8D4E3"
             },
             "line": {
              "color": "white"
             }
            },
            "type": "table"
           }
          ]
         },
         "layout": {
          "annotationdefaults": {
           "arrowcolor": "#2a3f5f",
           "arrowhead": 0,
           "arrowwidth": 1
          },
          "autotypenumbers": "strict",
          "coloraxis": {
           "colorbar": {
            "outlinewidth": 0,
            "ticks": ""
           }
          },
          "colorscale": {
           "diverging": [
            [
             0,
             "#8e0152"
            ],
            [
             0.1,
             "#c51b7d"
            ],
            [
             0.2,
             "#de77ae"
            ],
            [
             0.3,
             "#f1b6da"
            ],
            [
             0.4,
             "#fde0ef"
            ],
            [
             0.5,
             "#f7f7f7"
            ],
            [
             0.6,
             "#e6f5d0"
            ],
            [
             0.7,
             "#b8e186"
            ],
            [
             0.8,
             "#7fbc41"
            ],
            [
             0.9,
             "#4d9221"
            ],
            [
             1,
             "#276419"
            ]
           ],
           "sequential": [
            [
             0,
             "#0d0887"
            ],
            [
             0.1111111111111111,
             "#46039f"
            ],
            [
             0.2222222222222222,
             "#7201a8"
            ],
            [
             0.3333333333333333,
             "#9c179e"
            ],
            [
             0.4444444444444444,
             "#bd3786"
            ],
            [
             0.5555555555555556,
             "#d8576b"
            ],
            [
             0.6666666666666666,
             "#ed7953"
            ],
            [
             0.7777777777777778,
             "#fb9f3a"
            ],
            [
             0.8888888888888888,
             "#fdca26"
            ],
            [
             1,
             "#f0f921"
            ]
           ],
           "sequentialminus": [
            [
             0,
             "#0d0887"
            ],
            [
             0.1111111111111111,
             "#46039f"
            ],
            [
             0.2222222222222222,
             "#7201a8"
            ],
            [
             0.3333333333333333,
             "#9c179e"
            ],
            [
             0.4444444444444444,
             "#bd3786"
            ],
            [
             0.5555555555555556,
             "#d8576b"
            ],
            [
             0.6666666666666666,
             "#ed7953"
            ],
            [
             0.7777777777777778,
             "#fb9f3a"
            ],
            [
             0.8888888888888888,
             "#fdca26"
            ],
            [
             1,
             "#f0f921"
            ]
           ]
          },
          "colorway": [
           "#636efa",
           "#EF553B",
           "#00cc96",
           "#ab63fa",
           "#FFA15A",
           "#19d3f3",
           "#FF6692",
           "#B6E880",
           "#FF97FF",
           "#FECB52"
          ],
          "font": {
           "color": "#2a3f5f"
          },
          "geo": {
           "bgcolor": "white",
           "lakecolor": "white",
           "landcolor": "#E5ECF6",
           "showlakes": true,
           "showland": true,
           "subunitcolor": "white"
          },
          "hoverlabel": {
           "align": "left"
          },
          "hovermode": "closest",
          "mapbox": {
           "style": "light"
          },
          "paper_bgcolor": "white",
          "plot_bgcolor": "#E5ECF6",
          "polar": {
           "angularaxis": {
            "gridcolor": "white",
            "linecolor": "white",
            "ticks": ""
           },
           "bgcolor": "#E5ECF6",
           "radialaxis": {
            "gridcolor": "white",
            "linecolor": "white",
            "ticks": ""
           }
          },
          "scene": {
           "xaxis": {
            "backgroundcolor": "#E5ECF6",
            "gridcolor": "white",
            "gridwidth": 2,
            "linecolor": "white",
            "showbackground": true,
            "ticks": "",
            "zerolinecolor": "white"
           },
           "yaxis": {
            "backgroundcolor": "#E5ECF6",
            "gridcolor": "white",
            "gridwidth": 2,
            "linecolor": "white",
            "showbackground": true,
            "ticks": "",
            "zerolinecolor": "white"
           },
           "zaxis": {
            "backgroundcolor": "#E5ECF6",
            "gridcolor": "white",
            "gridwidth": 2,
            "linecolor": "white",
            "showbackground": true,
            "ticks": "",
            "zerolinecolor": "white"
           }
          },
          "shapedefaults": {
           "line": {
            "color": "#2a3f5f"
           }
          },
          "ternary": {
           "aaxis": {
            "gridcolor": "white",
            "linecolor": "white",
            "ticks": ""
           },
           "baxis": {
            "gridcolor": "white",
            "linecolor": "white",
            "ticks": ""
           },
           "bgcolor": "#E5ECF6",
           "caxis": {
            "gridcolor": "white",
            "linecolor": "white",
            "ticks": ""
           }
          },
          "title": {
           "x": 0.05
          },
          "xaxis": {
           "automargin": true,
           "gridcolor": "white",
           "linecolor": "white",
           "ticks": "",
           "title": {
            "standoff": 15
           },
           "zerolinecolor": "white",
           "zerolinewidth": 2
          },
          "yaxis": {
           "automargin": true,
           "gridcolor": "white",
           "linecolor": "white",
           "ticks": "",
           "title": {
            "standoff": 15
           },
           "zerolinecolor": "white",
           "zerolinewidth": 2
          }
         }
        },
        "xaxis": {
         "anchor": "y",
         "domain": [
          0,
          1
         ],
         "title": {
          "text": "number"
         }
        },
        "yaxis": {
         "anchor": "x",
         "domain": [
          0,
          1
         ],
         "title": {
          "text": "stage"
         }
        }
       }
      }
     },
     "metadata": {},
     "output_type": "display_data"
    }
   ],
   "source": [
    "import plotly.express as px\n",
    "data = dict(\n",
    "        number = [180605, 22599, 35383, 134741],\n",
    "        stage = ['click_item', 'like_item', 'add_to_cart', 'purchase_success'])\n",
    "fig = px.funnel(data, x='number', y='stage')\n",
    "fig.show()"
   ]
  },
  {
   "cell_type": "code",
   "execution_count": 83,
   "metadata": {},
   "outputs": [
    {
     "data": {
      "text/plain": [
       "0.7460535422607347"
      ]
     },
     "execution_count": 83,
     "metadata": {},
     "output_type": "execute_result"
    }
   ],
   "source": [
    "134741/180605"
   ]
  },
  {
   "cell_type": "code",
   "execution_count": 85,
   "metadata": {},
   "outputs": [
    {
     "data": {
      "text/plain": [
       "0.5647457740782188"
      ]
     },
     "execution_count": 85,
     "metadata": {},
     "output_type": "execute_result"
    }
   ],
   "source": [
    "134741 / (180605+22599+35383)"
   ]
  },
  {
   "cell_type": "code",
   "execution_count": 86,
   "metadata": {},
   "outputs": [
    {
     "data": {
      "text/plain": [
       "0.36091854883641195"
      ]
     },
     "execution_count": 86,
     "metadata": {},
     "output_type": "execute_result"
    }
   ],
   "source": [
    "134741 / (180605+22599+35383+134741)"
   ]
  },
  {
   "attachments": {},
   "cell_type": "markdown",
   "metadata": {},
   "source": [
    "## DAU 가장높은, 가장낮은 그룹 퍼널"
   ]
  },
  {
   "cell_type": "code",
   "execution_count": 74,
   "metadata": {},
   "outputs": [
    {
     "data": {
      "text/plain": [
       "[18592, 1422, 2435, 4169]"
      ]
     },
     "execution_count": 74,
     "metadata": {},
     "output_type": "execute_result"
    }
   ],
   "source": [
    "# 7월 11일\n",
    "funnel_df_0711 = total_df[['user_no', 'event_name', 'event_timestamp','event_timestamp_month', 'event_timestamp_day']]\n",
    "\n",
    "funnel_df_0711 = funnel_df_0711[funnel_df_0711['event_timestamp_month'] == 7]\n",
    "funnel_df_0711 = funnel_df_0711[funnel_df_0711['event_timestamp_day'] == 11]\n",
    "\n",
    "funnel_group_0711 = funnel_df_0711.groupby(['user_no', 'event_name'])['event_timestamp'].min()\n",
    "\n",
    "funnel_steps_0711 = pd.DataFrame({'steps' : [1,2,3,4]}, index=['click_item', 'like_item', 'add_to_cart', 'purchase_success'])\n",
    "\n",
    "funnel_group_0711 = pd.DataFrame(funnel_group_0711).merge(funnel_steps_0711, left_on='event_name', right_index=True)\n",
    "\n",
    "funnel_0711 = funnel_group_0711.reset_index().pivot(index='user_no', columns='steps', values='event_timestamp')\n",
    "funnel_0711.columns = funnel_steps_0711.index\n",
    "\n",
    "step_values_0711 = [funnel_0711[column].notnull().sum() for column in funnel_0711.columns]\n",
    "step_values_0711"
   ]
  },
  {
   "cell_type": "code",
   "execution_count": 75,
   "metadata": {},
   "outputs": [
    {
     "data": {
      "application/vnd.plotly.v1+json": {
       "config": {
        "plotlyServerURL": "https://plot.ly"
       },
       "data": [
        {
         "hovertemplate": "number=%{x}<br>stage=%{y}<extra></extra>",
         "legendgroup": "",
         "marker": {
          "color": "#636efa"
         },
         "name": "",
         "orientation": "h",
         "showlegend": false,
         "type": "funnel",
         "x": [
          18592,
          1422,
          2435,
          4169
         ],
         "xaxis": "x",
         "y": [
          "click_item",
          "like_item",
          "add_to_cart",
          "purchase_success"
         ],
         "yaxis": "y"
        }
       ],
       "layout": {
        "legend": {
         "tracegroupgap": 0
        },
        "margin": {
         "t": 60
        },
        "template": {
         "data": {
          "bar": [
           {
            "error_x": {
             "color": "#2a3f5f"
            },
            "error_y": {
             "color": "#2a3f5f"
            },
            "marker": {
             "line": {
              "color": "#E5ECF6",
              "width": 0.5
             },
             "pattern": {
              "fillmode": "overlay",
              "size": 10,
              "solidity": 0.2
             }
            },
            "type": "bar"
           }
          ],
          "barpolar": [
           {
            "marker": {
             "line": {
              "color": "#E5ECF6",
              "width": 0.5
             },
             "pattern": {
              "fillmode": "overlay",
              "size": 10,
              "solidity": 0.2
             }
            },
            "type": "barpolar"
           }
          ],
          "carpet": [
           {
            "aaxis": {
             "endlinecolor": "#2a3f5f",
             "gridcolor": "white",
             "linecolor": "white",
             "minorgridcolor": "white",
             "startlinecolor": "#2a3f5f"
            },
            "baxis": {
             "endlinecolor": "#2a3f5f",
             "gridcolor": "white",
             "linecolor": "white",
             "minorgridcolor": "white",
             "startlinecolor": "#2a3f5f"
            },
            "type": "carpet"
           }
          ],
          "choropleth": [
           {
            "colorbar": {
             "outlinewidth": 0,
             "ticks": ""
            },
            "type": "choropleth"
           }
          ],
          "contour": [
           {
            "colorbar": {
             "outlinewidth": 0,
             "ticks": ""
            },
            "colorscale": [
             [
              0,
              "#0d0887"
             ],
             [
              0.1111111111111111,
              "#46039f"
             ],
             [
              0.2222222222222222,
              "#7201a8"
             ],
             [
              0.3333333333333333,
              "#9c179e"
             ],
             [
              0.4444444444444444,
              "#bd3786"
             ],
             [
              0.5555555555555556,
              "#d8576b"
             ],
             [
              0.6666666666666666,
              "#ed7953"
             ],
             [
              0.7777777777777778,
              "#fb9f3a"
             ],
             [
              0.8888888888888888,
              "#fdca26"
             ],
             [
              1,
              "#f0f921"
             ]
            ],
            "type": "contour"
           }
          ],
          "contourcarpet": [
           {
            "colorbar": {
             "outlinewidth": 0,
             "ticks": ""
            },
            "type": "contourcarpet"
           }
          ],
          "heatmap": [
           {
            "colorbar": {
             "outlinewidth": 0,
             "ticks": ""
            },
            "colorscale": [
             [
              0,
              "#0d0887"
             ],
             [
              0.1111111111111111,
              "#46039f"
             ],
             [
              0.2222222222222222,
              "#7201a8"
             ],
             [
              0.3333333333333333,
              "#9c179e"
             ],
             [
              0.4444444444444444,
              "#bd3786"
             ],
             [
              0.5555555555555556,
              "#d8576b"
             ],
             [
              0.6666666666666666,
              "#ed7953"
             ],
             [
              0.7777777777777778,
              "#fb9f3a"
             ],
             [
              0.8888888888888888,
              "#fdca26"
             ],
             [
              1,
              "#f0f921"
             ]
            ],
            "type": "heatmap"
           }
          ],
          "heatmapgl": [
           {
            "colorbar": {
             "outlinewidth": 0,
             "ticks": ""
            },
            "colorscale": [
             [
              0,
              "#0d0887"
             ],
             [
              0.1111111111111111,
              "#46039f"
             ],
             [
              0.2222222222222222,
              "#7201a8"
             ],
             [
              0.3333333333333333,
              "#9c179e"
             ],
             [
              0.4444444444444444,
              "#bd3786"
             ],
             [
              0.5555555555555556,
              "#d8576b"
             ],
             [
              0.6666666666666666,
              "#ed7953"
             ],
             [
              0.7777777777777778,
              "#fb9f3a"
             ],
             [
              0.8888888888888888,
              "#fdca26"
             ],
             [
              1,
              "#f0f921"
             ]
            ],
            "type": "heatmapgl"
           }
          ],
          "histogram": [
           {
            "marker": {
             "pattern": {
              "fillmode": "overlay",
              "size": 10,
              "solidity": 0.2
             }
            },
            "type": "histogram"
           }
          ],
          "histogram2d": [
           {
            "colorbar": {
             "outlinewidth": 0,
             "ticks": ""
            },
            "colorscale": [
             [
              0,
              "#0d0887"
             ],
             [
              0.1111111111111111,
              "#46039f"
             ],
             [
              0.2222222222222222,
              "#7201a8"
             ],
             [
              0.3333333333333333,
              "#9c179e"
             ],
             [
              0.4444444444444444,
              "#bd3786"
             ],
             [
              0.5555555555555556,
              "#d8576b"
             ],
             [
              0.6666666666666666,
              "#ed7953"
             ],
             [
              0.7777777777777778,
              "#fb9f3a"
             ],
             [
              0.8888888888888888,
              "#fdca26"
             ],
             [
              1,
              "#f0f921"
             ]
            ],
            "type": "histogram2d"
           }
          ],
          "histogram2dcontour": [
           {
            "colorbar": {
             "outlinewidth": 0,
             "ticks": ""
            },
            "colorscale": [
             [
              0,
              "#0d0887"
             ],
             [
              0.1111111111111111,
              "#46039f"
             ],
             [
              0.2222222222222222,
              "#7201a8"
             ],
             [
              0.3333333333333333,
              "#9c179e"
             ],
             [
              0.4444444444444444,
              "#bd3786"
             ],
             [
              0.5555555555555556,
              "#d8576b"
             ],
             [
              0.6666666666666666,
              "#ed7953"
             ],
             [
              0.7777777777777778,
              "#fb9f3a"
             ],
             [
              0.8888888888888888,
              "#fdca26"
             ],
             [
              1,
              "#f0f921"
             ]
            ],
            "type": "histogram2dcontour"
           }
          ],
          "mesh3d": [
           {
            "colorbar": {
             "outlinewidth": 0,
             "ticks": ""
            },
            "type": "mesh3d"
           }
          ],
          "parcoords": [
           {
            "line": {
             "colorbar": {
              "outlinewidth": 0,
              "ticks": ""
             }
            },
            "type": "parcoords"
           }
          ],
          "pie": [
           {
            "automargin": true,
            "type": "pie"
           }
          ],
          "scatter": [
           {
            "fillpattern": {
             "fillmode": "overlay",
             "size": 10,
             "solidity": 0.2
            },
            "type": "scatter"
           }
          ],
          "scatter3d": [
           {
            "line": {
             "colorbar": {
              "outlinewidth": 0,
              "ticks": ""
             }
            },
            "marker": {
             "colorbar": {
              "outlinewidth": 0,
              "ticks": ""
             }
            },
            "type": "scatter3d"
           }
          ],
          "scattercarpet": [
           {
            "marker": {
             "colorbar": {
              "outlinewidth": 0,
              "ticks": ""
             }
            },
            "type": "scattercarpet"
           }
          ],
          "scattergeo": [
           {
            "marker": {
             "colorbar": {
              "outlinewidth": 0,
              "ticks": ""
             }
            },
            "type": "scattergeo"
           }
          ],
          "scattergl": [
           {
            "marker": {
             "colorbar": {
              "outlinewidth": 0,
              "ticks": ""
             }
            },
            "type": "scattergl"
           }
          ],
          "scattermapbox": [
           {
            "marker": {
             "colorbar": {
              "outlinewidth": 0,
              "ticks": ""
             }
            },
            "type": "scattermapbox"
           }
          ],
          "scatterpolar": [
           {
            "marker": {
             "colorbar": {
              "outlinewidth": 0,
              "ticks": ""
             }
            },
            "type": "scatterpolar"
           }
          ],
          "scatterpolargl": [
           {
            "marker": {
             "colorbar": {
              "outlinewidth": 0,
              "ticks": ""
             }
            },
            "type": "scatterpolargl"
           }
          ],
          "scatterternary": [
           {
            "marker": {
             "colorbar": {
              "outlinewidth": 0,
              "ticks": ""
             }
            },
            "type": "scatterternary"
           }
          ],
          "surface": [
           {
            "colorbar": {
             "outlinewidth": 0,
             "ticks": ""
            },
            "colorscale": [
             [
              0,
              "#0d0887"
             ],
             [
              0.1111111111111111,
              "#46039f"
             ],
             [
              0.2222222222222222,
              "#7201a8"
             ],
             [
              0.3333333333333333,
              "#9c179e"
             ],
             [
              0.4444444444444444,
              "#bd3786"
             ],
             [
              0.5555555555555556,
              "#d8576b"
             ],
             [
              0.6666666666666666,
              "#ed7953"
             ],
             [
              0.7777777777777778,
              "#fb9f3a"
             ],
             [
              0.8888888888888888,
              "#fdca26"
             ],
             [
              1,
              "#f0f921"
             ]
            ],
            "type": "surface"
           }
          ],
          "table": [
           {
            "cells": {
             "fill": {
              "color": "#EBF0F8"
             },
             "line": {
              "color": "white"
             }
            },
            "header": {
             "fill": {
              "color": "#C8D4E3"
             },
             "line": {
              "color": "white"
             }
            },
            "type": "table"
           }
          ]
         },
         "layout": {
          "annotationdefaults": {
           "arrowcolor": "#2a3f5f",
           "arrowhead": 0,
           "arrowwidth": 1
          },
          "autotypenumbers": "strict",
          "coloraxis": {
           "colorbar": {
            "outlinewidth": 0,
            "ticks": ""
           }
          },
          "colorscale": {
           "diverging": [
            [
             0,
             "#8e0152"
            ],
            [
             0.1,
             "#c51b7d"
            ],
            [
             0.2,
             "#de77ae"
            ],
            [
             0.3,
             "#f1b6da"
            ],
            [
             0.4,
             "#fde0ef"
            ],
            [
             0.5,
             "#f7f7f7"
            ],
            [
             0.6,
             "#e6f5d0"
            ],
            [
             0.7,
             "#b8e186"
            ],
            [
             0.8,
             "#7fbc41"
            ],
            [
             0.9,
             "#4d9221"
            ],
            [
             1,
             "#276419"
            ]
           ],
           "sequential": [
            [
             0,
             "#0d0887"
            ],
            [
             0.1111111111111111,
             "#46039f"
            ],
            [
             0.2222222222222222,
             "#7201a8"
            ],
            [
             0.3333333333333333,
             "#9c179e"
            ],
            [
             0.4444444444444444,
             "#bd3786"
            ],
            [
             0.5555555555555556,
             "#d8576b"
            ],
            [
             0.6666666666666666,
             "#ed7953"
            ],
            [
             0.7777777777777778,
             "#fb9f3a"
            ],
            [
             0.8888888888888888,
             "#fdca26"
            ],
            [
             1,
             "#f0f921"
            ]
           ],
           "sequentialminus": [
            [
             0,
             "#0d0887"
            ],
            [
             0.1111111111111111,
             "#46039f"
            ],
            [
             0.2222222222222222,
             "#7201a8"
            ],
            [
             0.3333333333333333,
             "#9c179e"
            ],
            [
             0.4444444444444444,
             "#bd3786"
            ],
            [
             0.5555555555555556,
             "#d8576b"
            ],
            [
             0.6666666666666666,
             "#ed7953"
            ],
            [
             0.7777777777777778,
             "#fb9f3a"
            ],
            [
             0.8888888888888888,
             "#fdca26"
            ],
            [
             1,
             "#f0f921"
            ]
           ]
          },
          "colorway": [
           "#636efa",
           "#EF553B",
           "#00cc96",
           "#ab63fa",
           "#FFA15A",
           "#19d3f3",
           "#FF6692",
           "#B6E880",
           "#FF97FF",
           "#FECB52"
          ],
          "font": {
           "color": "#2a3f5f"
          },
          "geo": {
           "bgcolor": "white",
           "lakecolor": "white",
           "landcolor": "#E5ECF6",
           "showlakes": true,
           "showland": true,
           "subunitcolor": "white"
          },
          "hoverlabel": {
           "align": "left"
          },
          "hovermode": "closest",
          "mapbox": {
           "style": "light"
          },
          "paper_bgcolor": "white",
          "plot_bgcolor": "#E5ECF6",
          "polar": {
           "angularaxis": {
            "gridcolor": "white",
            "linecolor": "white",
            "ticks": ""
           },
           "bgcolor": "#E5ECF6",
           "radialaxis": {
            "gridcolor": "white",
            "linecolor": "white",
            "ticks": ""
           }
          },
          "scene": {
           "xaxis": {
            "backgroundcolor": "#E5ECF6",
            "gridcolor": "white",
            "gridwidth": 2,
            "linecolor": "white",
            "showbackground": true,
            "ticks": "",
            "zerolinecolor": "white"
           },
           "yaxis": {
            "backgroundcolor": "#E5ECF6",
            "gridcolor": "white",
            "gridwidth": 2,
            "linecolor": "white",
            "showbackground": true,
            "ticks": "",
            "zerolinecolor": "white"
           },
           "zaxis": {
            "backgroundcolor": "#E5ECF6",
            "gridcolor": "white",
            "gridwidth": 2,
            "linecolor": "white",
            "showbackground": true,
            "ticks": "",
            "zerolinecolor": "white"
           }
          },
          "shapedefaults": {
           "line": {
            "color": "#2a3f5f"
           }
          },
          "ternary": {
           "aaxis": {
            "gridcolor": "white",
            "linecolor": "white",
            "ticks": ""
           },
           "baxis": {
            "gridcolor": "white",
            "linecolor": "white",
            "ticks": ""
           },
           "bgcolor": "#E5ECF6",
           "caxis": {
            "gridcolor": "white",
            "linecolor": "white",
            "ticks": ""
           }
          },
          "title": {
           "x": 0.05
          },
          "xaxis": {
           "automargin": true,
           "gridcolor": "white",
           "linecolor": "white",
           "ticks": "",
           "title": {
            "standoff": 15
           },
           "zerolinecolor": "white",
           "zerolinewidth": 2
          },
          "yaxis": {
           "automargin": true,
           "gridcolor": "white",
           "linecolor": "white",
           "ticks": "",
           "title": {
            "standoff": 15
           },
           "zerolinecolor": "white",
           "zerolinewidth": 2
          }
         }
        },
        "xaxis": {
         "anchor": "y",
         "domain": [
          0,
          1
         ],
         "title": {
          "text": "number"
         }
        },
        "yaxis": {
         "anchor": "x",
         "domain": [
          0,
          1
         ],
         "title": {
          "text": "stage"
         }
        }
       }
      }
     },
     "metadata": {},
     "output_type": "display_data"
    }
   ],
   "source": [
    "import plotly.express as px\n",
    "data = dict(\n",
    "        number = [18592, 1422, 2435, 4169],\n",
    "        stage = ['click_item', 'like_item', 'add_to_cart', 'purchase_success'])\n",
    "fig = px.funnel(data, x='number', y='stage')\n",
    "fig.show()"
   ]
  },
  {
   "cell_type": "code",
   "execution_count": 88,
   "metadata": {},
   "outputs": [
    {
     "data": {
      "text/plain": [
       "0.15662333759110375"
      ]
     },
     "execution_count": 88,
     "metadata": {},
     "output_type": "execute_result"
    }
   ],
   "source": [
    " 4169 / (18592+1422+2435+4169)"
   ]
  },
  {
   "cell_type": "code",
   "execution_count": 89,
   "metadata": {},
   "outputs": [
    {
     "data": {
      "text/plain": [
       "0.18570983117288076"
      ]
     },
     "execution_count": 89,
     "metadata": {},
     "output_type": "execute_result"
    }
   ],
   "source": [
    "4169 / (18592+1422+2435)"
   ]
  },
  {
   "cell_type": "code",
   "execution_count": 90,
   "metadata": {},
   "outputs": [
    {
     "data": {
      "text/plain": [
       "0.22423623063683304"
      ]
     },
     "execution_count": 90,
     "metadata": {},
     "output_type": "execute_result"
    }
   ],
   "source": [
    "4169 / 18592"
   ]
  },
  {
   "cell_type": "code",
   "execution_count": 76,
   "metadata": {},
   "outputs": [
    {
     "data": {
      "text/plain": [
       "[6157, 521, 837, 1339]"
      ]
     },
     "execution_count": 76,
     "metadata": {},
     "output_type": "execute_result"
    }
   ],
   "source": [
    "# 8월 4일\n",
    "funnel_df_0804 = total_df[['user_no', 'event_name', 'event_timestamp','event_timestamp_month', 'event_timestamp_day']]\n",
    "\n",
    "funnel_df_0804 = funnel_df_0804[funnel_df_0804['event_timestamp_month'] == 8]\n",
    "funnel_df_0804 = funnel_df_0804[funnel_df_0804['event_timestamp_day'] == 4]\n",
    "\n",
    "funnel_group_0804 = funnel_df_0804.groupby(['user_no', 'event_name'])['event_timestamp'].min()\n",
    "\n",
    "funnel_steps_0804 = pd.DataFrame({'steps' : [1,2,3,4]}, index=['click_item', 'like_item', 'add_to_cart', 'purchase_success'])\n",
    "\n",
    "funnel_group_0804 = pd.DataFrame(funnel_group_0804).merge(funnel_steps_0804, left_on='event_name', right_index=True)\n",
    "\n",
    "funnel_0804 = funnel_group_0804.reset_index().pivot(index='user_no', columns='steps', values='event_timestamp')\n",
    "funnel_0804.columns = funnel_steps_0804.index\n",
    "\n",
    "step_values_0804 = [funnel_0804[column].notnull().sum() for column in funnel_0804.columns]\n",
    "step_values_0804"
   ]
  },
  {
   "cell_type": "code",
   "execution_count": 77,
   "metadata": {},
   "outputs": [
    {
     "data": {
      "application/vnd.plotly.v1+json": {
       "config": {
        "plotlyServerURL": "https://plot.ly"
       },
       "data": [
        {
         "hovertemplate": "number=%{x}<br>stage=%{y}<extra></extra>",
         "legendgroup": "",
         "marker": {
          "color": "#636efa"
         },
         "name": "",
         "orientation": "h",
         "showlegend": false,
         "type": "funnel",
         "x": [
          6157,
          521,
          837,
          1339
         ],
         "xaxis": "x",
         "y": [
          "click_item",
          "like_item",
          "add_to_cart",
          "purchase_success"
         ],
         "yaxis": "y"
        }
       ],
       "layout": {
        "legend": {
         "tracegroupgap": 0
        },
        "margin": {
         "t": 60
        },
        "template": {
         "data": {
          "bar": [
           {
            "error_x": {
             "color": "#2a3f5f"
            },
            "error_y": {
             "color": "#2a3f5f"
            },
            "marker": {
             "line": {
              "color": "#E5ECF6",
              "width": 0.5
             },
             "pattern": {
              "fillmode": "overlay",
              "size": 10,
              "solidity": 0.2
             }
            },
            "type": "bar"
           }
          ],
          "barpolar": [
           {
            "marker": {
             "line": {
              "color": "#E5ECF6",
              "width": 0.5
             },
             "pattern": {
              "fillmode": "overlay",
              "size": 10,
              "solidity": 0.2
             }
            },
            "type": "barpolar"
           }
          ],
          "carpet": [
           {
            "aaxis": {
             "endlinecolor": "#2a3f5f",
             "gridcolor": "white",
             "linecolor": "white",
             "minorgridcolor": "white",
             "startlinecolor": "#2a3f5f"
            },
            "baxis": {
             "endlinecolor": "#2a3f5f",
             "gridcolor": "white",
             "linecolor": "white",
             "minorgridcolor": "white",
             "startlinecolor": "#2a3f5f"
            },
            "type": "carpet"
           }
          ],
          "choropleth": [
           {
            "colorbar": {
             "outlinewidth": 0,
             "ticks": ""
            },
            "type": "choropleth"
           }
          ],
          "contour": [
           {
            "colorbar": {
             "outlinewidth": 0,
             "ticks": ""
            },
            "colorscale": [
             [
              0,
              "#0d0887"
             ],
             [
              0.1111111111111111,
              "#46039f"
             ],
             [
              0.2222222222222222,
              "#7201a8"
             ],
             [
              0.3333333333333333,
              "#9c179e"
             ],
             [
              0.4444444444444444,
              "#bd3786"
             ],
             [
              0.5555555555555556,
              "#d8576b"
             ],
             [
              0.6666666666666666,
              "#ed7953"
             ],
             [
              0.7777777777777778,
              "#fb9f3a"
             ],
             [
              0.8888888888888888,
              "#fdca26"
             ],
             [
              1,
              "#f0f921"
             ]
            ],
            "type": "contour"
           }
          ],
          "contourcarpet": [
           {
            "colorbar": {
             "outlinewidth": 0,
             "ticks": ""
            },
            "type": "contourcarpet"
           }
          ],
          "heatmap": [
           {
            "colorbar": {
             "outlinewidth": 0,
             "ticks": ""
            },
            "colorscale": [
             [
              0,
              "#0d0887"
             ],
             [
              0.1111111111111111,
              "#46039f"
             ],
             [
              0.2222222222222222,
              "#7201a8"
             ],
             [
              0.3333333333333333,
              "#9c179e"
             ],
             [
              0.4444444444444444,
              "#bd3786"
             ],
             [
              0.5555555555555556,
              "#d8576b"
             ],
             [
              0.6666666666666666,
              "#ed7953"
             ],
             [
              0.7777777777777778,
              "#fb9f3a"
             ],
             [
              0.8888888888888888,
              "#fdca26"
             ],
             [
              1,
              "#f0f921"
             ]
            ],
            "type": "heatmap"
           }
          ],
          "heatmapgl": [
           {
            "colorbar": {
             "outlinewidth": 0,
             "ticks": ""
            },
            "colorscale": [
             [
              0,
              "#0d0887"
             ],
             [
              0.1111111111111111,
              "#46039f"
             ],
             [
              0.2222222222222222,
              "#7201a8"
             ],
             [
              0.3333333333333333,
              "#9c179e"
             ],
             [
              0.4444444444444444,
              "#bd3786"
             ],
             [
              0.5555555555555556,
              "#d8576b"
             ],
             [
              0.6666666666666666,
              "#ed7953"
             ],
             [
              0.7777777777777778,
              "#fb9f3a"
             ],
             [
              0.8888888888888888,
              "#fdca26"
             ],
             [
              1,
              "#f0f921"
             ]
            ],
            "type": "heatmapgl"
           }
          ],
          "histogram": [
           {
            "marker": {
             "pattern": {
              "fillmode": "overlay",
              "size": 10,
              "solidity": 0.2
             }
            },
            "type": "histogram"
           }
          ],
          "histogram2d": [
           {
            "colorbar": {
             "outlinewidth": 0,
             "ticks": ""
            },
            "colorscale": [
             [
              0,
              "#0d0887"
             ],
             [
              0.1111111111111111,
              "#46039f"
             ],
             [
              0.2222222222222222,
              "#7201a8"
             ],
             [
              0.3333333333333333,
              "#9c179e"
             ],
             [
              0.4444444444444444,
              "#bd3786"
             ],
             [
              0.5555555555555556,
              "#d8576b"
             ],
             [
              0.6666666666666666,
              "#ed7953"
             ],
             [
              0.7777777777777778,
              "#fb9f3a"
             ],
             [
              0.8888888888888888,
              "#fdca26"
             ],
             [
              1,
              "#f0f921"
             ]
            ],
            "type": "histogram2d"
           }
          ],
          "histogram2dcontour": [
           {
            "colorbar": {
             "outlinewidth": 0,
             "ticks": ""
            },
            "colorscale": [
             [
              0,
              "#0d0887"
             ],
             [
              0.1111111111111111,
              "#46039f"
             ],
             [
              0.2222222222222222,
              "#7201a8"
             ],
             [
              0.3333333333333333,
              "#9c179e"
             ],
             [
              0.4444444444444444,
              "#bd3786"
             ],
             [
              0.5555555555555556,
              "#d8576b"
             ],
             [
              0.6666666666666666,
              "#ed7953"
             ],
             [
              0.7777777777777778,
              "#fb9f3a"
             ],
             [
              0.8888888888888888,
              "#fdca26"
             ],
             [
              1,
              "#f0f921"
             ]
            ],
            "type": "histogram2dcontour"
           }
          ],
          "mesh3d": [
           {
            "colorbar": {
             "outlinewidth": 0,
             "ticks": ""
            },
            "type": "mesh3d"
           }
          ],
          "parcoords": [
           {
            "line": {
             "colorbar": {
              "outlinewidth": 0,
              "ticks": ""
             }
            },
            "type": "parcoords"
           }
          ],
          "pie": [
           {
            "automargin": true,
            "type": "pie"
           }
          ],
          "scatter": [
           {
            "fillpattern": {
             "fillmode": "overlay",
             "size": 10,
             "solidity": 0.2
            },
            "type": "scatter"
           }
          ],
          "scatter3d": [
           {
            "line": {
             "colorbar": {
              "outlinewidth": 0,
              "ticks": ""
             }
            },
            "marker": {
             "colorbar": {
              "outlinewidth": 0,
              "ticks": ""
             }
            },
            "type": "scatter3d"
           }
          ],
          "scattercarpet": [
           {
            "marker": {
             "colorbar": {
              "outlinewidth": 0,
              "ticks": ""
             }
            },
            "type": "scattercarpet"
           }
          ],
          "scattergeo": [
           {
            "marker": {
             "colorbar": {
              "outlinewidth": 0,
              "ticks": ""
             }
            },
            "type": "scattergeo"
           }
          ],
          "scattergl": [
           {
            "marker": {
             "colorbar": {
              "outlinewidth": 0,
              "ticks": ""
             }
            },
            "type": "scattergl"
           }
          ],
          "scattermapbox": [
           {
            "marker": {
             "colorbar": {
              "outlinewidth": 0,
              "ticks": ""
             }
            },
            "type": "scattermapbox"
           }
          ],
          "scatterpolar": [
           {
            "marker": {
             "colorbar": {
              "outlinewidth": 0,
              "ticks": ""
             }
            },
            "type": "scatterpolar"
           }
          ],
          "scatterpolargl": [
           {
            "marker": {
             "colorbar": {
              "outlinewidth": 0,
              "ticks": ""
             }
            },
            "type": "scatterpolargl"
           }
          ],
          "scatterternary": [
           {
            "marker": {
             "colorbar": {
              "outlinewidth": 0,
              "ticks": ""
             }
            },
            "type": "scatterternary"
           }
          ],
          "surface": [
           {
            "colorbar": {
             "outlinewidth": 0,
             "ticks": ""
            },
            "colorscale": [
             [
              0,
              "#0d0887"
             ],
             [
              0.1111111111111111,
              "#46039f"
             ],
             [
              0.2222222222222222,
              "#7201a8"
             ],
             [
              0.3333333333333333,
              "#9c179e"
             ],
             [
              0.4444444444444444,
              "#bd3786"
             ],
             [
              0.5555555555555556,
              "#d8576b"
             ],
             [
              0.6666666666666666,
              "#ed7953"
             ],
             [
              0.7777777777777778,
              "#fb9f3a"
             ],
             [
              0.8888888888888888,
              "#fdca26"
             ],
             [
              1,
              "#f0f921"
             ]
            ],
            "type": "surface"
           }
          ],
          "table": [
           {
            "cells": {
             "fill": {
              "color": "#EBF0F8"
             },
             "line": {
              "color": "white"
             }
            },
            "header": {
             "fill": {
              "color": "#C8D4E3"
             },
             "line": {
              "color": "white"
             }
            },
            "type": "table"
           }
          ]
         },
         "layout": {
          "annotationdefaults": {
           "arrowcolor": "#2a3f5f",
           "arrowhead": 0,
           "arrowwidth": 1
          },
          "autotypenumbers": "strict",
          "coloraxis": {
           "colorbar": {
            "outlinewidth": 0,
            "ticks": ""
           }
          },
          "colorscale": {
           "diverging": [
            [
             0,
             "#8e0152"
            ],
            [
             0.1,
             "#c51b7d"
            ],
            [
             0.2,
             "#de77ae"
            ],
            [
             0.3,
             "#f1b6da"
            ],
            [
             0.4,
             "#fde0ef"
            ],
            [
             0.5,
             "#f7f7f7"
            ],
            [
             0.6,
             "#e6f5d0"
            ],
            [
             0.7,
             "#b8e186"
            ],
            [
             0.8,
             "#7fbc41"
            ],
            [
             0.9,
             "#4d9221"
            ],
            [
             1,
             "#276419"
            ]
           ],
           "sequential": [
            [
             0,
             "#0d0887"
            ],
            [
             0.1111111111111111,
             "#46039f"
            ],
            [
             0.2222222222222222,
             "#7201a8"
            ],
            [
             0.3333333333333333,
             "#9c179e"
            ],
            [
             0.4444444444444444,
             "#bd3786"
            ],
            [
             0.5555555555555556,
             "#d8576b"
            ],
            [
             0.6666666666666666,
             "#ed7953"
            ],
            [
             0.7777777777777778,
             "#fb9f3a"
            ],
            [
             0.8888888888888888,
             "#fdca26"
            ],
            [
             1,
             "#f0f921"
            ]
           ],
           "sequentialminus": [
            [
             0,
             "#0d0887"
            ],
            [
             0.1111111111111111,
             "#46039f"
            ],
            [
             0.2222222222222222,
             "#7201a8"
            ],
            [
             0.3333333333333333,
             "#9c179e"
            ],
            [
             0.4444444444444444,
             "#bd3786"
            ],
            [
             0.5555555555555556,
             "#d8576b"
            ],
            [
             0.6666666666666666,
             "#ed7953"
            ],
            [
             0.7777777777777778,
             "#fb9f3a"
            ],
            [
             0.8888888888888888,
             "#fdca26"
            ],
            [
             1,
             "#f0f921"
            ]
           ]
          },
          "colorway": [
           "#636efa",
           "#EF553B",
           "#00cc96",
           "#ab63fa",
           "#FFA15A",
           "#19d3f3",
           "#FF6692",
           "#B6E880",
           "#FF97FF",
           "#FECB52"
          ],
          "font": {
           "color": "#2a3f5f"
          },
          "geo": {
           "bgcolor": "white",
           "lakecolor": "white",
           "landcolor": "#E5ECF6",
           "showlakes": true,
           "showland": true,
           "subunitcolor": "white"
          },
          "hoverlabel": {
           "align": "left"
          },
          "hovermode": "closest",
          "mapbox": {
           "style": "light"
          },
          "paper_bgcolor": "white",
          "plot_bgcolor": "#E5ECF6",
          "polar": {
           "angularaxis": {
            "gridcolor": "white",
            "linecolor": "white",
            "ticks": ""
           },
           "bgcolor": "#E5ECF6",
           "radialaxis": {
            "gridcolor": "white",
            "linecolor": "white",
            "ticks": ""
           }
          },
          "scene": {
           "xaxis": {
            "backgroundcolor": "#E5ECF6",
            "gridcolor": "white",
            "gridwidth": 2,
            "linecolor": "white",
            "showbackground": true,
            "ticks": "",
            "zerolinecolor": "white"
           },
           "yaxis": {
            "backgroundcolor": "#E5ECF6",
            "gridcolor": "white",
            "gridwidth": 2,
            "linecolor": "white",
            "showbackground": true,
            "ticks": "",
            "zerolinecolor": "white"
           },
           "zaxis": {
            "backgroundcolor": "#E5ECF6",
            "gridcolor": "white",
            "gridwidth": 2,
            "linecolor": "white",
            "showbackground": true,
            "ticks": "",
            "zerolinecolor": "white"
           }
          },
          "shapedefaults": {
           "line": {
            "color": "#2a3f5f"
           }
          },
          "ternary": {
           "aaxis": {
            "gridcolor": "white",
            "linecolor": "white",
            "ticks": ""
           },
           "baxis": {
            "gridcolor": "white",
            "linecolor": "white",
            "ticks": ""
           },
           "bgcolor": "#E5ECF6",
           "caxis": {
            "gridcolor": "white",
            "linecolor": "white",
            "ticks": ""
           }
          },
          "title": {
           "x": 0.05
          },
          "xaxis": {
           "automargin": true,
           "gridcolor": "white",
           "linecolor": "white",
           "ticks": "",
           "title": {
            "standoff": 15
           },
           "zerolinecolor": "white",
           "zerolinewidth": 2
          },
          "yaxis": {
           "automargin": true,
           "gridcolor": "white",
           "linecolor": "white",
           "ticks": "",
           "title": {
            "standoff": 15
           },
           "zerolinecolor": "white",
           "zerolinewidth": 2
          }
         }
        },
        "xaxis": {
         "anchor": "y",
         "domain": [
          0,
          1
         ],
         "title": {
          "text": "number"
         }
        },
        "yaxis": {
         "anchor": "x",
         "domain": [
          0,
          1
         ],
         "title": {
          "text": "stage"
         }
        }
       }
      }
     },
     "metadata": {},
     "output_type": "display_data"
    }
   ],
   "source": [
    "import plotly.express as px\n",
    "data = dict(\n",
    "        number = [6157, 521, 837, 1339],\n",
    "        stage = ['click_item', 'like_item', 'add_to_cart', 'purchase_success'])\n",
    "fig = px.funnel(data, x='number', y='stage')\n",
    "fig.show()"
   ]
  },
  {
   "cell_type": "code",
   "execution_count": 91,
   "metadata": {},
   "outputs": [
    {
     "data": {
      "text/plain": [
       "0.15123108199683757"
      ]
     },
     "execution_count": 91,
     "metadata": {},
     "output_type": "execute_result"
    }
   ],
   "source": [
    "1339 / (6157+521+837+1339)"
   ]
  },
  {
   "cell_type": "code",
   "execution_count": 92,
   "metadata": {},
   "outputs": [
    {
     "data": {
      "text/plain": [
       "0.17817697937458415"
      ]
     },
     "execution_count": 92,
     "metadata": {},
     "output_type": "execute_result"
    }
   ],
   "source": [
    "1339 / (6157+521+837)"
   ]
  },
  {
   "cell_type": "code",
   "execution_count": 93,
   "metadata": {},
   "outputs": [
    {
     "data": {
      "text/plain": [
       "0.21747604352769206"
      ]
     },
     "execution_count": 93,
     "metadata": {},
     "output_type": "execute_result"
    }
   ],
   "source": [
    "1339 / (6157)"
   ]
  }
 ],
 "metadata": {
  "kernelspec": {
   "display_name": "base",
   "language": "python",
   "name": "python3"
  },
  "language_info": {
   "codemirror_mode": {
    "name": "ipython",
    "version": 3
   },
   "file_extension": ".py",
   "mimetype": "text/x-python",
   "name": "python",
   "nbconvert_exporter": "python",
   "pygments_lexer": "ipython3",
   "version": "3.10.9"
  },
  "orig_nbformat": 4
 },
 "nbformat": 4,
 "nbformat_minor": 2
}
