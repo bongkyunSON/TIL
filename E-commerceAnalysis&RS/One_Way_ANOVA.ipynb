{
 "cells": [
  {
   "cell_type": "code",
   "execution_count": 1,
   "metadata": {},
   "outputs": [],
   "source": [
    "import pandas as pd\n",
    "import matplotlib as mpl\n",
    "import matplotlib.pyplot as plt\n",
    "import seaborn as sns\n",
    "import numpy as np"
   ]
  },
  {
   "cell_type": "code",
   "execution_count": 2,
   "metadata": {},
   "outputs": [],
   "source": [
    "FILES_DIR = './files/'\n",
    "total = pd.read_csv(FILES_DIR + 'total.csv')"
   ]
  },
  {
   "cell_type": "code",
   "execution_count": 3,
   "metadata": {},
   "outputs": [],
   "source": [
    "total_df = total.copy()"
   ]
  },
  {
   "cell_type": "code",
   "execution_count": 36,
   "metadata": {},
   "outputs": [
    {
     "data": {
      "text/plain": [
       "173"
      ]
     },
     "execution_count": 36,
     "metadata": {},
     "output_type": "execute_result"
    }
   ],
   "source": [
    "total_df.region.nunique()"
   ]
  },
  {
   "cell_type": "code",
   "execution_count": 32,
   "metadata": {},
   "outputs": [
    {
     "data": {
      "text/plain": [
       "Index(['Unnamed: 0', 'session_id', 'event_timestamp', 'event_name', 'user_no',\n",
       "       'item_no', 'device_type', 'operating_system_version', 'country',\n",
       "       'region', 'platform', 'event_timestamp_year', 'event_timestamp_month',\n",
       "       'event_timestamp_day', 'event_timestamp_hour', 'event_timestamp_minute',\n",
       "       'ostype', 'osversion(number)', 'item_name', 'image_name', 'price',\n",
       "       'category1_code', 'category1_name', 'category2_code', 'category2_name',\n",
       "       'category3_code', 'category3_name', 'brand_no', 'brand_name',\n",
       "       'birth_date', 'gender', 'age'],\n",
       "      dtype='object')"
      ]
     },
     "execution_count": 32,
     "metadata": {},
     "output_type": "execute_result"
    }
   ],
   "source": [
    "total_df.columns"
   ]
  },
  {
   "cell_type": "code",
   "execution_count": 37,
   "metadata": {},
   "outputs": [
    {
     "data": {
      "text/html": [
       "<div>\n",
       "<style scoped>\n",
       "    .dataframe tbody tr th:only-of-type {\n",
       "        vertical-align: middle;\n",
       "    }\n",
       "\n",
       "    .dataframe tbody tr th {\n",
       "        vertical-align: top;\n",
       "    }\n",
       "\n",
       "    .dataframe thead th {\n",
       "        text-align: right;\n",
       "    }\n",
       "</style>\n",
       "<table border=\"1\" class=\"dataframe\">\n",
       "  <thead>\n",
       "    <tr style=\"text-align: right;\">\n",
       "      <th></th>\n",
       "      <th>age</th>\n",
       "      <th>age(Group)</th>\n",
       "    </tr>\n",
       "  </thead>\n",
       "  <tbody>\n",
       "    <tr>\n",
       "      <th>0</th>\n",
       "      <td>54</td>\n",
       "      <td>45 ~ 54</td>\n",
       "    </tr>\n",
       "    <tr>\n",
       "      <th>1</th>\n",
       "      <td>54</td>\n",
       "      <td>45 ~ 54</td>\n",
       "    </tr>\n",
       "    <tr>\n",
       "      <th>2</th>\n",
       "      <td>54</td>\n",
       "      <td>45 ~ 54</td>\n",
       "    </tr>\n",
       "    <tr>\n",
       "      <th>3</th>\n",
       "      <td>54</td>\n",
       "      <td>45 ~ 54</td>\n",
       "    </tr>\n",
       "    <tr>\n",
       "      <th>4</th>\n",
       "      <td>54</td>\n",
       "      <td>45 ~ 54</td>\n",
       "    </tr>\n",
       "    <tr>\n",
       "      <th>...</th>\n",
       "      <td>...</td>\n",
       "      <td>...</td>\n",
       "    </tr>\n",
       "    <tr>\n",
       "      <th>5544525</th>\n",
       "      <td>38</td>\n",
       "      <td>36 ~ 44</td>\n",
       "    </tr>\n",
       "    <tr>\n",
       "      <th>5544526</th>\n",
       "      <td>32</td>\n",
       "      <td>25 ~ 35</td>\n",
       "    </tr>\n",
       "    <tr>\n",
       "      <th>5544527</th>\n",
       "      <td>28</td>\n",
       "      <td>25 ~ 35</td>\n",
       "    </tr>\n",
       "    <tr>\n",
       "      <th>5544528</th>\n",
       "      <td>34</td>\n",
       "      <td>25 ~ 35</td>\n",
       "    </tr>\n",
       "    <tr>\n",
       "      <th>5544529</th>\n",
       "      <td>23</td>\n",
       "      <td>18 ~ 24</td>\n",
       "    </tr>\n",
       "  </tbody>\n",
       "</table>\n",
       "<p>5544530 rows × 2 columns</p>\n",
       "</div>"
      ],
      "text/plain": [
       "         age age(Group)\n",
       "0         54    45 ~ 54\n",
       "1         54    45 ~ 54\n",
       "2         54    45 ~ 54\n",
       "3         54    45 ~ 54\n",
       "4         54    45 ~ 54\n",
       "...      ...        ...\n",
       "5544525   38    36 ~ 44\n",
       "5544526   32    25 ~ 35\n",
       "5544527   28    25 ~ 35\n",
       "5544528   34    25 ~ 35\n",
       "5544529   23    18 ~ 24\n",
       "\n",
       "[5544530 rows x 2 columns]"
      ]
     },
     "execution_count": 37,
     "metadata": {},
     "output_type": "execute_result"
    }
   ],
   "source": [
    "# 나이(age)가 17세 이하인 사용자를 찾아서 age(Group) 컬럼에 \"00 ~ 17\"이라는 값을 넣어줍니다\n",
    "total_df.loc[total_df['age'] <= 17, 'age(Group)'] = \"00 ~ 17\"\n",
    "\n",
    "# 위 방식에 따라 나이 설정 값으로 지정해줍니다\n",
    "total_df.loc[(total_df['age'] >= 18) &\\\n",
    "               (total_df['age'] <= 24), 'age(Group)'] = \"18 ~ 24\"\n",
    "\n",
    "total_df.loc[(total_df['age'] >= 25) &\\\n",
    "               (total_df['age'] <= 35), 'age(Group)'] = \"25 ~ 35\"\n",
    "\n",
    "total_df.loc[(total_df['age'] >= 36) &\\\n",
    "               (total_df['age'] <= 44), 'age(Group)'] = \"36 ~ 44\"\n",
    "\n",
    "total_df.loc[(total_df['age'] >= 45) &\\\n",
    "               (total_df['age'] <= 54), 'age(Group)'] = \"45 ~ 54\"\n",
    "\n",
    "total_df.loc[total_df['age'] >= 55, 'age(Group)'] = \"55 ~ 99\"\n",
    "\n",
    "# 데이터를 정리 후 아래 2개 컬럼 내용을 확인합니다\n",
    "total_df[['age','age(Group)']]"
   ]
  },
  {
   "cell_type": "code",
   "execution_count": 38,
   "metadata": {},
   "outputs": [],
   "source": [
    "suc_data = total_df[total_df['event_name'] == 'purchase_success']"
   ]
  },
  {
   "cell_type": "code",
   "execution_count": 39,
   "metadata": {},
   "outputs": [
    {
     "data": {
      "text/plain": [
       "array(['45 ~ 54', '36 ~ 44', '25 ~ 35', '18 ~ 24', '55 ~ 99', '00 ~ 17'],\n",
       "      dtype=object)"
      ]
     },
     "execution_count": 39,
     "metadata": {},
     "output_type": "execute_result"
    }
   ],
   "source": [
    "suc_data['age(Group)'].unique()"
   ]
  },
  {
   "cell_type": "code",
   "execution_count": null,
   "metadata": {},
   "outputs": [],
   "source": [
    "# cat1 = suc_data[suc_data['category1_name'] == '의류']['price']\n",
    "# cat2 = suc_data[suc_data['category1_name'] == '잡화']['price']\n",
    "# cat3 = suc_data[suc_data['category1_name'] == '가구/인테리어']['price']\n",
    "# cat4 = suc_data[suc_data['category1_name'] == '디지털/가전']['price']\n",
    "# cat5 = suc_data[suc_data['category1_name'] == '생활/건강']['price']\n",
    "# cat6 = suc_data[suc_data['category1_name'] == '성년의날']['price']\n",
    "# cat7 = suc_data[suc_data['category1_name'] == '스포츠/레저']['price']\n",
    "# cat8 = suc_data[suc_data['category1_name'] == '키즈']['price']\n",
    "# cat9 = suc_data[suc_data['category1_name'] == '컬처']['price']\n",
    "# cat10 = suc_data[suc_data['category1_name'] == '화장품/미용']['price']\n",
    "# cat11 = suc_data[suc_data['category1_name'] == '반려동물']['price']"
   ]
  },
  {
   "cell_type": "code",
   "execution_count": 40,
   "metadata": {},
   "outputs": [],
   "source": [
    "age1 = suc_data[suc_data['age(Group)'] == '00 ~ 17']['price']\n",
    "age2 = suc_data[suc_data['age(Group)'] == '18 ~ 24']['price']\n",
    "age3 = suc_data[suc_data['age(Group)'] == '25 ~ 35']['price']\n",
    "age4 = suc_data[suc_data['age(Group)'] == '36 ~ 44']['price']\n",
    "age5 = suc_data[suc_data['age(Group)'] == '45 ~ 54']['price']\n",
    "age6 = suc_data[suc_data['age(Group)'] == '55 ~ 99']['price']"
   ]
  },
  {
   "cell_type": "code",
   "execution_count": 47,
   "metadata": {},
   "outputs": [
    {
     "data": {
      "text/plain": [
       "array(['IOS', 'ANDROID'], dtype=object)"
      ]
     },
     "execution_count": 47,
     "metadata": {},
     "output_type": "execute_result"
    }
   ],
   "source": [
    "suc_data.platform.unique()"
   ]
  },
  {
   "cell_type": "code",
   "execution_count": 49,
   "metadata": {},
   "outputs": [],
   "source": [
    "plat1 = suc_data[suc_data['platform'] == 'IOS']['price']\n",
    "plat2 = suc_data[suc_data['platform'] == 'ANDROID']['price']"
   ]
  },
  {
   "cell_type": "code",
   "execution_count": 50,
   "metadata": {},
   "outputs": [
    {
     "data": {
      "text/plain": [
       "BartlettResult(statistic=1433.5057897689167, pvalue=0.0)"
      ]
     },
     "execution_count": 50,
     "metadata": {},
     "output_type": "execute_result"
    }
   ],
   "source": [
    "## 등분산성 검정\n",
    "## Bartlett’s test tests the null hypothesis that all input samples are from populations with equal variances.\n",
    "## So best case scenario is not to reject null hypothesis.\n",
    "import scipy.stats as stats\n",
    "from scipy.stats import bartlett\n",
    "stats.bartlett(plat1,plat2)\n"
   ]
  },
  {
   "cell_type": "code",
   "execution_count": 51,
   "metadata": {},
   "outputs": [
    {
     "data": {
      "text/plain": [
       "LeveneResult(statistic=7.987915740612693, pvalue=0.004709273584442476)"
      ]
     },
     "execution_count": 51,
     "metadata": {},
     "output_type": "execute_result"
    }
   ],
   "source": [
    "stats.levene(plat1,plat2)"
   ]
  },
  {
   "cell_type": "code",
   "execution_count": 53,
   "metadata": {},
   "outputs": [
    {
     "name": "stdout",
     "output_type": "stream",
     "text": [
      "ShapiroResult(statistic=0.5585371255874634, pvalue=0.0)\n",
      "skewness test: 12.135158134747202\n"
     ]
    },
    {
     "name": "stderr",
     "output_type": "stream",
     "text": [
      "c:\\Users\\bongkyun\\anaconda3\\lib\\site-packages\\scipy\\stats\\_morestats.py:1816: UserWarning: p-value may not be accurate for N > 5000.\n",
      "  warnings.warn(\"p-value may not be accurate for N > 5000.\")\n"
     ]
    }
   ],
   "source": [
    "import scipy.stats as stats\n",
    "## 정규성 검정 & 왜도 검사\n",
    "print( ##Shaprio 검정\n",
    "stats.shapiro(plat2)\n",
    "## 왜도 측정\n",
    "      , 'skewness test: {}'.format( abs(stats.skew(plat2 , bias = False) ) ) \n",
    "      , sep = '\\n'\n",
    "     )\n"
   ]
  }
 ],
 "metadata": {
  "kernelspec": {
   "display_name": "base",
   "language": "python",
   "name": "python3"
  },
  "language_info": {
   "codemirror_mode": {
    "name": "ipython",
    "version": 3
   },
   "file_extension": ".py",
   "mimetype": "text/x-python",
   "name": "python",
   "nbconvert_exporter": "python",
   "pygments_lexer": "ipython3",
   "version": "3.10.9"
  },
  "orig_nbformat": 4
 },
 "nbformat": 4,
 "nbformat_minor": 2
}
