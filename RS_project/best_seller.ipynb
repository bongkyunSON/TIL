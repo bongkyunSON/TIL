{
 "cells": [
  {
   "attachments": {},
   "cell_type": "markdown",
   "metadata": {},
   "source": [
    "# Data import"
   ]
  },
  {
   "cell_type": "code",
   "execution_count": 18,
   "metadata": {},
   "outputs": [],
   "source": [
    "import pandas as pd\n",
    "import numpy as np\n",
    "import matplotlib.pyplot as plt\n",
    "import seaborn as sns\n",
    "import datetime\n",
    "\n",
    "from scipy.sparse import csr_matrix\n",
    "from sklearn.metrics.pairwise import cosine_similarity\n",
    "from math import sqrt\n",
    "from tqdm import tqdm_notebook as tqdm\n",
    "from sklearn.model_selection import train_test_split\n",
    "from sklearn.metrics import mean_squared_error\n",
    "from sklearn.feature_extraction.text import TfidfVectorizer"
   ]
  },
  {
   "cell_type": "code",
   "execution_count": 31,
   "metadata": {},
   "outputs": [],
   "source": [
    "FILES_DIR = './files/'\n",
    "Eco_df = pd.read_csv(FILES_DIR + 'Eco_df.csv')\n"
   ]
  },
  {
   "attachments": {},
   "cell_type": "markdown",
   "metadata": {},
   "source": [
    "## 전체데이터"
   ]
  },
  {
   "cell_type": "code",
   "execution_count": 35,
   "metadata": {},
   "outputs": [
    {
     "data": {
      "text/plain": [
       "2172                                       주차번호판_2\n",
       "657                      (m) Royal Blue Pajama Set\n",
       "11917           [온앤온]Frill-Collar Blouse NW1MWB255\n",
       "7285     [Elizabeth Moments] Large Satin Scrunchie\n",
       "1549                             [SHINJEO] Seaside\n",
       "10090             Half Sleeved Collar Knit (Black)\n",
       "5177                         볼륨 소매 원피스_V214MOP212W\n",
       "2986                  DON'T BE LATE! T-shirts Gray\n",
       "11200                 Charm bucket bag pearl cream\n",
       "630                 [무료배송] 크롭 기장 슬림핏 긴팔티 (6colors)\n",
       "Name: item_name, dtype: object"
      ]
     },
     "execution_count": 35,
     "metadata": {},
     "output_type": "execute_result"
    }
   ],
   "source": [
    "def recom_item(item):\n",
    "    return Eco_df.loc[product_mean.sort_values(by='rating', ascending=False)[:item].index]['item_name']\n",
    "\n",
    "product_mean = Eco_df.groupby(['item_no'])['rating'].mean()\n",
    "product_mean = product_mean.reset_index()\n",
    "recom_item(10)"
   ]
  },
  {
   "cell_type": "code",
   "execution_count": 33,
   "metadata": {},
   "outputs": [],
   "source": [
    "# train, test split\n",
    "x = Eco_df.copy()\n",
    "y = Eco_df['rating']\n",
    "\n",
    "x_train, x_test, y_train, y_test = train_test_split(x, y, test_size=0.25, random_state=42)\n",
    "\n",
    "\n",
    "def RMSE(y_true, y_pred):\n",
    "  return np.sqrt(np.mean(np.power(np.array(y_true)-np.array(y_pred), 2)))\n",
    "\n",
    "def score(model):\n",
    "  id_pairs = zip(x_test['session_id'], x_test['item_no'])\n",
    "  y_pred = np.array([model(session_id, item) for (session_id, item) in id_pairs])\n",
    "  y_true = np.array(x_test['rating'])\n",
    "  return RMSE(y_true, y_pred)"
   ]
  },
  {
   "cell_type": "code",
   "execution_count": 34,
   "metadata": {},
   "outputs": [
    {
     "name": "stdout",
     "output_type": "stream",
     "text": [
      "best-seller 방식의 정확도: 0.5726839380338429\n"
     ]
    }
   ],
   "source": [
    "def best_seller(session_id, item_no):\n",
    "  try:\n",
    "    rating = train_mean[item_no]\n",
    "  except KeyError:\n",
    "    rating = 0.8\n",
    "  return rating\n",
    "\n",
    "train_mean = x_train.groupby(['item_no'])['rating'].mean()\n",
    "print('best-seller 방식의 정확도:', score(best_seller))"
   ]
  }
 ],
 "metadata": {
  "kernelspec": {
   "display_name": "Python 3 (ipykernel)",
   "language": "python",
   "name": "python3"
  },
  "language_info": {
   "codemirror_mode": {
    "name": "ipython",
    "version": 3
   },
   "file_extension": ".py",
   "mimetype": "text/x-python",
   "name": "python",
   "nbconvert_exporter": "python",
   "pygments_lexer": "ipython3",
   "version": "3.10.9"
  }
 },
 "nbformat": 4,
 "nbformat_minor": 2
}
