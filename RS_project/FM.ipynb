{
 "cells": [
  {
   "cell_type": "code",
   "execution_count": 1,
   "metadata": {},
   "outputs": [],
   "source": [
    "import pandas as pd\n",
    "import numpy as np\n",
    "import matplotlib.pyplot as plt\n",
    "import seaborn as sns\n",
    "import datetime\n",
    "\n",
    "from datetime import datetime, date\n",
    "from scipy.sparse import csr_matrix\n",
    "from sklearn.metrics.pairwise import cosine_similarity\n",
    "from math import sqrt\n",
    "from tqdm import tqdm_notebook as tqdm\n",
    "from sklearn.model_selection import train_test_split\n",
    "from sklearn.metrics import mean_squared_error\n",
    "from sklearn.feature_extraction.text import TfidfVectorizer\n",
    "from sklearn.utils import shuffle"
   ]
  },
  {
   "cell_type": "code",
   "execution_count": 2,
   "metadata": {},
   "outputs": [],
   "source": [
    "FILES_DIR = './files/'\n",
    "Eco_df = pd.read_csv(FILES_DIR + 'Eco_df.csv')"
   ]
  },
  {
   "cell_type": "code",
   "execution_count": 3,
   "metadata": {},
   "outputs": [],
   "source": [
    "Eco_df.drop('Unnamed: 0', axis=1, inplace=True)"
   ]
  },
  {
   "cell_type": "code",
   "execution_count": 4,
   "metadata": {},
   "outputs": [
    {
     "data": {
      "text/plain": [
       "Index(['session_id', 'event_timestamp', 'event_name', 'user_no', 'item_no',\n",
       "       'device_type', 'country', 'region', 'platform', 'rating', 'birth_date',\n",
       "       'gender', 'age', 'item_name', 'image_name', 'price', 'category1_code',\n",
       "       'category1_name', 'category2_code', 'category2_name', 'category3_code',\n",
       "       'category3_name', 'brand_no', 'brand_name', 'dayname', 'korea',\n",
       "       'cor_cat1', 'cor_region', 'Hour', 'time_1', 'time_2', 'time_3'],\n",
       "      dtype='object')"
      ]
     },
     "execution_count": 4,
     "metadata": {},
     "output_type": "execute_result"
    }
   ],
   "source": [
    "Eco_df.columns"
   ]
  },
  {
   "cell_type": "code",
   "execution_count": 5,
   "metadata": {},
   "outputs": [
    {
     "data": {
      "text/plain": [
       "0        1\n",
       "1        1\n",
       "2        1\n",
       "3        1\n",
       "4        1\n",
       "        ..\n",
       "16364    1\n",
       "16365    1\n",
       "16366    1\n",
       "16367    1\n",
       "16368    1\n",
       "Name: korea, Length: 16369, dtype: int64"
      ]
     },
     "execution_count": 5,
     "metadata": {},
     "output_type": "execute_result"
    }
   ],
   "source": [
    "Eco_df['korea']"
   ]
  },
  {
   "cell_type": "code",
   "execution_count": 6,
   "metadata": {},
   "outputs": [],
   "source": [
    "session_id = [(list(set(x['item_no'].values))[0], '/'.join(x['session_id'].values)) for index, x in Eco_df.groupby('item_no')]\n",
    "session_id_df = pd.DataFrame(data=session_id, columns=['item_no', 'session_id'])\n",
    "session_id_df = session_id_df.set_index('item_no')\n",
    "\n",
    "user_no = [(list(set(x['item_no'].values))[0], '/'.join(x['user_no'].values)) for index, x in Eco_df.groupby('item_no')]\n",
    "user_no_df = pd.DataFrame(data=user_no, columns=['item_no', 'user_no'])\n",
    "user_no_df = user_no_df.set_index('item_no')\n",
    "\n",
    "device_type_group = [(list(set(x['item_no'].values))[0], '/'.join(x['device_type'].values)) \n",
    "                     for index, x in Eco_df.groupby('item_no')]\n",
    "device_type_group_df = pd.DataFrame(data=device_type_group, columns=['item_no', 'device_type'])\n",
    "device_type_group_df = device_type_group_df.set_index('item_no')\n",
    "\n",
    "country_group = [(list(set(x['item_no'].values))[0], '/'.join(x['country'].values)) \n",
    "                 for index, x in Eco_df.groupby('item_no')]\n",
    "country_group_df = pd.DataFrame(data=country_group, columns=['item_no', 'country'])\n",
    "country_group_df = country_group_df.set_index('item_no')\n",
    "\n",
    "gender = [(list(set(x['item_no'].values))[0], ','.join(x['gender'].values)) for index, x in Eco_df.groupby('item_no')]\n",
    "gender_df = pd.DataFrame(data=gender, columns=['item_no', 'gender'])\n",
    "gender_df = gender_df.set_index('item_no')\n",
    "\n",
    "platform = [(list(set(x['item_no'].values))[0], ','.join(x['platform'].values)) for index, x in Eco_df.groupby('item_no')]\n",
    "platform_df = pd.DataFrame(data=platform, columns=['item_no', 'platform'])\n",
    "platform_df = platform_df.set_index('item_no')\n",
    "\n",
    "age_group = [(list(set(x['item_no'].values))[0], ','.join(x['age'].astype(str).values)) for index, x in Eco_df.groupby('item_no')]\n",
    "age_group_df = pd.DataFrame(data=age_group, columns=['item_no', 'age'])\n",
    "age_group_df = age_group_df.set_index('item_no')\n",
    "\n",
    "price_group = [(list(set(x['item_no'].values))[0], ','.join(x['price'].astype(str).values)) for index, x in Eco_df.groupby('item_no')]\n",
    "price_group_df = pd.DataFrame(data=price_group, columns=['item_no', 'price'])\n",
    "price_group_df = price_group_df.set_index('item_no')\n",
    "\n",
    "cat1_group = [(list(set(x['item_no'].values))[0], ','.join(x['category1_name'].values)) \n",
    "               for index, x in Eco_df.groupby('item_no')]\n",
    "cat1_group_df = pd.DataFrame(data=cat1_group, columns=['item_no', 'category1_name'])\n",
    "cat1_group_df = cat1_group_df.set_index('item_no')\n",
    "\n",
    "cat2_group = [(list(set(x['item_no'].values))[0], ','.join(x['category2_name'].values)) \n",
    "               for index, x in Eco_df.groupby('item_no')]\n",
    "cat2_group_df = pd.DataFrame(data=cat2_group, columns=['item_no', 'category2_name'])\n",
    "cat2_group_df = cat2_group_df.set_index('item_no')\n",
    "\n",
    "day_group = [(list(set(x['item_no'].values))[0], ','.join(x['dayname'].values)) \n",
    "               for index, x in Eco_df.groupby('item_no')]\n",
    "day_group_df = pd.DataFrame(data=day_group, columns=['item_no', 'dayname'])\n",
    "day_group_df = day_group_df.set_index('item_no')\n",
    "\n",
    "korea_group = [(list(set(x['item_no'].values))[0], ','.join(x['korea'].astype(str).values)) \n",
    "               for index, x in Eco_df.groupby('item_no')]\n",
    "korea_group_df = pd.DataFrame(data=korea_group, columns=['item_no', 'korea'])\n",
    "korea_group_df = korea_group_df.set_index('item_no')\n",
    "\n",
    "corr_cat_group = [(list(set(x['item_no'].values))[0], ','.join(x['cor_cat1'].astype(str).values)) \n",
    "               for index, x in Eco_df.groupby('item_no')]\n",
    "corr_cat_group_df = pd.DataFrame(data=corr_cat_group, columns=['item_no', 'cor_cat1'])\n",
    "corr_cat_group_df = corr_cat_group_df.set_index('item_no')\n",
    "\n",
    "corr_region_group = [(list(set(x['item_no'].values))[0], ','.join(x['cor_region'].astype(str).values)) \n",
    "               for index, x in Eco_df.groupby('item_no')]\n",
    "corr_region_group_df = pd.DataFrame(data=corr_region_group, columns=['item_no', 'cor_region'])\n",
    "corr_region_group_df = corr_region_group_df.set_index('item_no')\n",
    "\n",
    "hour_group = [(list(set(x['item_no'].values))[0], ','.join(x['Hour'].astype(str).values)) \n",
    "               for index, x in Eco_df.groupby('item_no')]\n",
    "hour_group_df = pd.DataFrame(data=hour_group, columns=['item_no', 'Hour'])\n",
    "hour_group_df = hour_group_df.set_index('item_no')\n",
    "\n",
    "time1_group = [(list(set(x['item_no'].values))[0], ','.join(x['time_1'].astype(str).values)) \n",
    "               for index, x in Eco_df.groupby('item_no')]\n",
    "time1_group_df = pd.DataFrame(data=time1_group, columns=['item_no', 'time_1'])\n",
    "time1_group_df = time1_group_df.set_index('item_no')\n",
    "\n",
    "time2_group = [(list(set(x['item_no'].values))[0], ','.join(x['time_2'].astype(str).values)) \n",
    "               for index, x in Eco_df.groupby('item_no')]\n",
    "time2_group_df = pd.DataFrame(data=time2_group, columns=['item_no', 'time_2'])\n",
    "time2_group_df = time2_group_df.set_index('item_no')\n",
    "\n",
    "time3_group = [(list(set(x['item_no'].values))[0], ','.join(x['time_3'].astype(str).values)) \n",
    "               for index, x in Eco_df.groupby('item_no')]\n",
    "time3_group_df = pd.DataFrame(data=time3_group, columns=['item_no', 'time_3'])\n",
    "time3_group_df = time3_group_df.set_index('item_no')\n"
   ]
  },
  {
   "cell_type": "code",
   "execution_count": 7,
   "metadata": {},
   "outputs": [
    {
     "name": "stdout",
     "output_type": "stream",
     "text": [
      "(12400, 18)\n"
     ]
    }
   ],
   "source": [
    "total_df = pd.merge(session_id_df, user_no_df, on='item_no', how='inner')\n",
    "total_df = pd.merge(total_df, device_type_group_df, on='item_no', how='inner')\n",
    "total_df = pd.merge(total_df, country_group_df, on='item_no', how='inner')\n",
    "total_df = pd.merge(total_df, gender_df, on='item_no', how='inner')\n",
    "total_df = pd.merge(total_df, platform_df, on='item_no', how='inner')\n",
    "total_df = pd.merge(total_df, age_group_df, on='item_no', how='inner')\n",
    "total_df = pd.merge(total_df, price_group_df, on='item_no', how='inner')\n",
    "total_df = pd.merge(total_df, cat1_group_df, on='item_no', how='inner')\n",
    "total_df = pd.merge(total_df, cat2_group_df, on='item_no', how='inner')\n",
    "total_df = pd.merge(total_df, day_group_df, on='item_no', how='inner')\n",
    "total_df = pd.merge(total_df, korea_group_df, on='item_no', how='inner')\n",
    "total_df = pd.merge(total_df, corr_cat_group_df, on='item_no', how='inner')\n",
    "total_df = pd.merge(total_df, corr_region_group_df, on='item_no', how='inner')\n",
    "total_df = pd.merge(total_df, hour_group_df, on='item_no', how='inner')\n",
    "total_df = pd.merge(total_df, time1_group_df, on='item_no', how='inner')\n",
    "total_df = pd.merge(total_df, time2_group_df, on='item_no', how='inner')\n",
    "total_df = pd.merge(total_df, time3_group_df, on='item_no', how='inner')\n",
    "\n",
    "print(total_df.shape)"
   ]
  },
  {
   "cell_type": "code",
   "execution_count": 8,
   "metadata": {},
   "outputs": [],
   "source": [
    "dummy1 = total_df['session_id'].str.get_dummies(sep=',')\n",
    "\n",
    "dummy2 = total_df['user_no'].str.get_dummies(sep=',')\n",
    "\n",
    "dummy3 = total_df['device_type'].str.get_dummies(sep=',')\n",
    "\n",
    "dummy4 = total_df['country'].str.get_dummies(sep=',')\n",
    "\n",
    "dummy5 = total_df['platform'].str.get_dummies(sep=',')\n",
    "\n",
    "dummy6 = total_df['gender'].str.get_dummies(sep=',')\n",
    "\n",
    "dummy7 = total_df['age'].str.get_dummies(sep=',')\n",
    "\n",
    "dummy8 = total_df['price'].str.get_dummies(sep=',')\n",
    "\n",
    "dummy9 = total_df['category1_name'].str.get_dummies(sep=',')\n",
    "\n",
    "dummy10 = total_df['category2_name'].str.get_dummies(sep=',')\n",
    "\n",
    "dummy11 = total_df['dayname'].str.get_dummies(sep=',')\n",
    "\n",
    "dummy12 = total_df['korea'].str.get_dummies(sep=',')\n",
    "\n",
    "dummy13 = total_df['cor_cat1'].str.get_dummies(sep=',')\n",
    "\n",
    "dummy14 = total_df['cor_region'].str.get_dummies(sep=',')\n",
    "\n",
    "dummy15 = total_df['Hour'].str.get_dummies(sep=',')\n",
    "\n",
    "dummy16 = total_df['time_1'].str.get_dummies(sep=',')\n",
    "\n",
    "dummy17 = total_df['time_2'].str.get_dummies(sep=',')\n",
    "\n",
    "dummy18 = total_df['time_3'].str.get_dummies(sep=',')"
   ]
  },
  {
   "cell_type": "code",
   "execution_count": 9,
   "metadata": {},
   "outputs": [
    {
     "name": "stdout",
     "output_type": "stream",
     "text": [
      "(12276, 32)\n",
      "(4093, 32)\n"
     ]
    }
   ],
   "source": [
    "train_df, test_df = train_test_split(Eco_df, test_size=0.25, random_state=42)\n",
    "\n",
    "print(train_df.shape)\n",
    "print(test_df.shape)"
   ]
  },
  {
   "cell_type": "code",
   "execution_count": 10,
   "metadata": {},
   "outputs": [
    {
     "name": "stdout",
     "output_type": "stream",
     "text": [
      "(12276,)\n"
     ]
    }
   ],
   "source": [
    "y_train = train_df['rating']\n",
    "print(y_train.shape)"
   ]
  },
  {
   "cell_type": "code",
   "execution_count": 12,
   "metadata": {},
   "outputs": [
    {
     "ename": "MemoryError",
     "evalue": "Unable to allocate 96.0 KiB for an array with shape (12287,) and data type int64",
     "output_type": "error",
     "traceback": [
      "\u001b[1;31m---------------------------------------------------------------------------\u001b[0m",
      "\u001b[1;31mMemoryError\u001b[0m                               Traceback (most recent call last)",
      "Cell \u001b[1;32mIn[12], line 2\u001b[0m\n\u001b[0;32m      1\u001b[0m X_train \u001b[39m=\u001b[39m pd\u001b[39m.\u001b[39mconcat([pd\u001b[39m.\u001b[39mget_dummies(train_df[\u001b[39m'\u001b[39m\u001b[39muser_no\u001b[39m\u001b[39m'\u001b[39m], prefix\u001b[39m=\u001b[39m\u001b[39m'\u001b[39m\u001b[39muser_no\u001b[39m\u001b[39m'\u001b[39m),\n\u001b[1;32m----> 2\u001b[0m            train_df[\u001b[39m'\u001b[39;49m\u001b[39mitem_no\u001b[39;49m\u001b[39m'\u001b[39;49m]\u001b[39m.\u001b[39;49mapply(\u001b[39mlambda\u001b[39;49;00m x: dummy1\u001b[39m.\u001b[39;49mloc[x]),\n\u001b[0;32m      3\u001b[0m            train_df[\u001b[39m'\u001b[39m\u001b[39mitem_no\u001b[39m\u001b[39m'\u001b[39m]\u001b[39m.\u001b[39mapply(\u001b[39mlambda\u001b[39;00m x: dummy2\u001b[39m.\u001b[39mloc[x]), \n\u001b[0;32m      4\u001b[0m            train_df[\u001b[39m'\u001b[39m\u001b[39mitem_no\u001b[39m\u001b[39m'\u001b[39m]\u001b[39m.\u001b[39mapply(\u001b[39mlambda\u001b[39;00m x: dummy3\u001b[39m.\u001b[39mloc[x]),\n\u001b[0;32m      5\u001b[0m            train_df[\u001b[39m'\u001b[39m\u001b[39mitem_no\u001b[39m\u001b[39m'\u001b[39m]\u001b[39m.\u001b[39mapply(\u001b[39mlambda\u001b[39;00m x: dummy4\u001b[39m.\u001b[39mloc[x]),\n\u001b[0;32m      6\u001b[0m            train_df[\u001b[39m'\u001b[39m\u001b[39mitem_no\u001b[39m\u001b[39m'\u001b[39m]\u001b[39m.\u001b[39mapply(\u001b[39mlambda\u001b[39;00m x: dummy5\u001b[39m.\u001b[39mloc[x]),\n\u001b[0;32m      7\u001b[0m            train_df[\u001b[39m'\u001b[39m\u001b[39mitem_no\u001b[39m\u001b[39m'\u001b[39m]\u001b[39m.\u001b[39mapply(\u001b[39mlambda\u001b[39;00m x: dummy6\u001b[39m.\u001b[39mloc[x]),\n\u001b[0;32m      8\u001b[0m            train_df[\u001b[39m'\u001b[39m\u001b[39mitem_no\u001b[39m\u001b[39m'\u001b[39m]\u001b[39m.\u001b[39mapply(\u001b[39mlambda\u001b[39;00m x: dummy7\u001b[39m.\u001b[39mloc[x]),\n\u001b[0;32m      9\u001b[0m            train_df[\u001b[39m'\u001b[39m\u001b[39mitem_no\u001b[39m\u001b[39m'\u001b[39m]\u001b[39m.\u001b[39mapply(\u001b[39mlambda\u001b[39;00m x: dummy8\u001b[39m.\u001b[39mloc[x]),\n\u001b[0;32m     10\u001b[0m            train_df[\u001b[39m'\u001b[39m\u001b[39mitem_no\u001b[39m\u001b[39m'\u001b[39m]\u001b[39m.\u001b[39mapply(\u001b[39mlambda\u001b[39;00m x: dummy9\u001b[39m.\u001b[39mloc[x]),\n\u001b[0;32m     11\u001b[0m            train_df[\u001b[39m'\u001b[39m\u001b[39mitem_no\u001b[39m\u001b[39m'\u001b[39m]\u001b[39m.\u001b[39mapply(\u001b[39mlambda\u001b[39;00m x: dummy10\u001b[39m.\u001b[39mloc[x]),\n\u001b[0;32m     12\u001b[0m            train_df[\u001b[39m'\u001b[39m\u001b[39mitem_no\u001b[39m\u001b[39m'\u001b[39m]\u001b[39m.\u001b[39mapply(\u001b[39mlambda\u001b[39;00m x: dummy11\u001b[39m.\u001b[39mloc[x]),\n\u001b[0;32m     13\u001b[0m            train_df[\u001b[39m'\u001b[39m\u001b[39mitem_no\u001b[39m\u001b[39m'\u001b[39m]\u001b[39m.\u001b[39mapply(\u001b[39mlambda\u001b[39;00m x: dummy12\u001b[39m.\u001b[39mloc[x]),\n\u001b[0;32m     14\u001b[0m            train_df[\u001b[39m'\u001b[39m\u001b[39mitem_no\u001b[39m\u001b[39m'\u001b[39m]\u001b[39m.\u001b[39mapply(\u001b[39mlambda\u001b[39;00m x: dummy13\u001b[39m.\u001b[39mloc[x]),\n\u001b[0;32m     15\u001b[0m            train_df[\u001b[39m'\u001b[39m\u001b[39mitem_no\u001b[39m\u001b[39m'\u001b[39m]\u001b[39m.\u001b[39mapply(\u001b[39mlambda\u001b[39;00m x: dummy14\u001b[39m.\u001b[39mloc[x]),\n\u001b[0;32m     16\u001b[0m            train_df[\u001b[39m'\u001b[39m\u001b[39mitem_no\u001b[39m\u001b[39m'\u001b[39m]\u001b[39m.\u001b[39mapply(\u001b[39mlambda\u001b[39;00m x: dummy15\u001b[39m.\u001b[39mloc[x]),\n\u001b[0;32m     17\u001b[0m            train_df[\u001b[39m'\u001b[39m\u001b[39mitem_no\u001b[39m\u001b[39m'\u001b[39m]\u001b[39m.\u001b[39mapply(\u001b[39mlambda\u001b[39;00m x: dummy16\u001b[39m.\u001b[39mloc[x]),\n\u001b[0;32m     18\u001b[0m            train_df[\u001b[39m'\u001b[39m\u001b[39mitem_no\u001b[39m\u001b[39m'\u001b[39m]\u001b[39m.\u001b[39mapply(\u001b[39mlambda\u001b[39;00m x: dummy17\u001b[39m.\u001b[39mloc[x]),\n\u001b[0;32m     19\u001b[0m            train_df[\u001b[39m'\u001b[39m\u001b[39mitem_no\u001b[39m\u001b[39m'\u001b[39m]\u001b[39m.\u001b[39mapply(\u001b[39mlambda\u001b[39;00m x: dummy18\u001b[39m.\u001b[39mloc[x])], axis\u001b[39m=\u001b[39m\u001b[39m1\u001b[39m)\n",
      "File \u001b[1;32mc:\\Users\\bongkyun\\anaconda3\\lib\\site-packages\\pandas\\core\\series.py:4771\u001b[0m, in \u001b[0;36mSeries.apply\u001b[1;34m(self, func, convert_dtype, args, **kwargs)\u001b[0m\n\u001b[0;32m   4661\u001b[0m \u001b[39mdef\u001b[39;00m \u001b[39mapply\u001b[39m(\n\u001b[0;32m   4662\u001b[0m     \u001b[39mself\u001b[39m,\n\u001b[0;32m   4663\u001b[0m     func: AggFuncType,\n\u001b[1;32m   (...)\u001b[0m\n\u001b[0;32m   4666\u001b[0m     \u001b[39m*\u001b[39m\u001b[39m*\u001b[39mkwargs,\n\u001b[0;32m   4667\u001b[0m ) \u001b[39m-\u001b[39m\u001b[39m>\u001b[39m DataFrame \u001b[39m|\u001b[39m Series:\n\u001b[0;32m   4668\u001b[0m     \u001b[39m\"\"\"\u001b[39;00m\n\u001b[0;32m   4669\u001b[0m \u001b[39m    Invoke function on values of Series.\u001b[39;00m\n\u001b[0;32m   4670\u001b[0m \n\u001b[1;32m   (...)\u001b[0m\n\u001b[0;32m   4769\u001b[0m \u001b[39m    dtype: float64\u001b[39;00m\n\u001b[0;32m   4770\u001b[0m \u001b[39m    \"\"\"\u001b[39;00m\n\u001b[1;32m-> 4771\u001b[0m     \u001b[39mreturn\u001b[39;00m SeriesApply(\u001b[39mself\u001b[39;49m, func, convert_dtype, args, kwargs)\u001b[39m.\u001b[39;49mapply()\n",
      "File \u001b[1;32mc:\\Users\\bongkyun\\anaconda3\\lib\\site-packages\\pandas\\core\\apply.py:1123\u001b[0m, in \u001b[0;36mSeriesApply.apply\u001b[1;34m(self)\u001b[0m\n\u001b[0;32m   1120\u001b[0m     \u001b[39mreturn\u001b[39;00m \u001b[39mself\u001b[39m\u001b[39m.\u001b[39mapply_str()\n\u001b[0;32m   1122\u001b[0m \u001b[39m# self.f is Callable\u001b[39;00m\n\u001b[1;32m-> 1123\u001b[0m \u001b[39mreturn\u001b[39;00m \u001b[39mself\u001b[39;49m\u001b[39m.\u001b[39;49mapply_standard()\n",
      "File \u001b[1;32mc:\\Users\\bongkyun\\anaconda3\\lib\\site-packages\\pandas\\core\\apply.py:1183\u001b[0m, in \u001b[0;36mSeriesApply.apply_standard\u001b[1;34m(self)\u001b[0m\n\u001b[0;32m   1174\u001b[0m         mapped \u001b[39m=\u001b[39m lib\u001b[39m.\u001b[39mmap_infer(\n\u001b[0;32m   1175\u001b[0m             values,\n\u001b[0;32m   1176\u001b[0m             f,\n\u001b[0;32m   1177\u001b[0m             convert\u001b[39m=\u001b[39m\u001b[39mself\u001b[39m\u001b[39m.\u001b[39mconvert_dtype,\n\u001b[0;32m   1178\u001b[0m         )\n\u001b[0;32m   1180\u001b[0m \u001b[39mif\u001b[39;00m \u001b[39mlen\u001b[39m(mapped) \u001b[39mand\u001b[39;00m \u001b[39misinstance\u001b[39m(mapped[\u001b[39m0\u001b[39m], ABCSeries):\n\u001b[0;32m   1181\u001b[0m     \u001b[39m# GH#43986 Need to do list(mapped) in order to get treated as nested\u001b[39;00m\n\u001b[0;32m   1182\u001b[0m     \u001b[39m#  See also GH#25959 regarding EA support\u001b[39;00m\n\u001b[1;32m-> 1183\u001b[0m     \u001b[39mreturn\u001b[39;00m obj\u001b[39m.\u001b[39;49m_constructor_expanddim(\u001b[39mlist\u001b[39;49m(mapped), index\u001b[39m=\u001b[39;49mobj\u001b[39m.\u001b[39;49mindex)\n\u001b[0;32m   1184\u001b[0m \u001b[39melse\u001b[39;00m:\n\u001b[0;32m   1185\u001b[0m     \u001b[39mreturn\u001b[39;00m obj\u001b[39m.\u001b[39m_constructor(mapped, index\u001b[39m=\u001b[39mobj\u001b[39m.\u001b[39mindex)\u001b[39m.\u001b[39m__finalize__(\n\u001b[0;32m   1186\u001b[0m         obj, method\u001b[39m=\u001b[39m\u001b[39m\"\u001b[39m\u001b[39mapply\u001b[39m\u001b[39m\"\u001b[39m\n\u001b[0;32m   1187\u001b[0m     )\n",
      "File \u001b[1;32mc:\\Users\\bongkyun\\anaconda3\\lib\\site-packages\\pandas\\core\\frame.py:746\u001b[0m, in \u001b[0;36mDataFrame.__init__\u001b[1;34m(self, data, index, columns, dtype, copy)\u001b[0m\n\u001b[0;32m    744\u001b[0m     \u001b[39mif\u001b[39;00m columns \u001b[39mis\u001b[39;00m \u001b[39mnot\u001b[39;00m \u001b[39mNone\u001b[39;00m:\n\u001b[0;32m    745\u001b[0m         columns \u001b[39m=\u001b[39m ensure_index(columns)\n\u001b[1;32m--> 746\u001b[0m     arrays, columns, index \u001b[39m=\u001b[39m nested_data_to_arrays(\n\u001b[0;32m    747\u001b[0m         \u001b[39m# error: Argument 3 to \"nested_data_to_arrays\" has incompatible\u001b[39;49;00m\n\u001b[0;32m    748\u001b[0m         \u001b[39m# type \"Optional[Collection[Any]]\"; expected \"Optional[Index]\"\u001b[39;49;00m\n\u001b[0;32m    749\u001b[0m         data,\n\u001b[0;32m    750\u001b[0m         columns,\n\u001b[0;32m    751\u001b[0m         index,  \u001b[39m# type: ignore[arg-type]\u001b[39;49;00m\n\u001b[0;32m    752\u001b[0m         dtype,\n\u001b[0;32m    753\u001b[0m     )\n\u001b[0;32m    754\u001b[0m     mgr \u001b[39m=\u001b[39m arrays_to_mgr(\n\u001b[0;32m    755\u001b[0m         arrays,\n\u001b[0;32m    756\u001b[0m         columns,\n\u001b[1;32m   (...)\u001b[0m\n\u001b[0;32m    759\u001b[0m         typ\u001b[39m=\u001b[39mmanager,\n\u001b[0;32m    760\u001b[0m     )\n\u001b[0;32m    761\u001b[0m \u001b[39melse\u001b[39;00m:\n",
      "File \u001b[1;32mc:\\Users\\bongkyun\\anaconda3\\lib\\site-packages\\pandas\\core\\internals\\construction.py:510\u001b[0m, in \u001b[0;36mnested_data_to_arrays\u001b[1;34m(data, columns, index, dtype)\u001b[0m\n\u001b[0;32m    507\u001b[0m \u001b[39mif\u001b[39;00m is_named_tuple(data[\u001b[39m0\u001b[39m]) \u001b[39mand\u001b[39;00m columns \u001b[39mis\u001b[39;00m \u001b[39mNone\u001b[39;00m:\n\u001b[0;32m    508\u001b[0m     columns \u001b[39m=\u001b[39m ensure_index(data[\u001b[39m0\u001b[39m]\u001b[39m.\u001b[39m_fields)\n\u001b[1;32m--> 510\u001b[0m arrays, columns \u001b[39m=\u001b[39m to_arrays(data, columns, dtype\u001b[39m=\u001b[39;49mdtype)\n\u001b[0;32m    511\u001b[0m columns \u001b[39m=\u001b[39m ensure_index(columns)\n\u001b[0;32m    513\u001b[0m \u001b[39mif\u001b[39;00m index \u001b[39mis\u001b[39;00m \u001b[39mNone\u001b[39;00m:\n",
      "File \u001b[1;32mc:\\Users\\bongkyun\\anaconda3\\lib\\site-packages\\pandas\\core\\internals\\construction.py:869\u001b[0m, in \u001b[0;36mto_arrays\u001b[1;34m(data, columns, dtype)\u001b[0m\n\u001b[0;32m    867\u001b[0m     arr, columns \u001b[39m=\u001b[39m _list_of_dict_to_arrays(data, columns)\n\u001b[0;32m    868\u001b[0m \u001b[39melif\u001b[39;00m \u001b[39misinstance\u001b[39m(data[\u001b[39m0\u001b[39m], ABCSeries):\n\u001b[1;32m--> 869\u001b[0m     arr, columns \u001b[39m=\u001b[39m _list_of_series_to_arrays(data, columns)\n\u001b[0;32m    870\u001b[0m \u001b[39melse\u001b[39;00m:\n\u001b[0;32m    871\u001b[0m     \u001b[39m# last ditch effort\u001b[39;00m\n\u001b[0;32m    872\u001b[0m     data \u001b[39m=\u001b[39m [\u001b[39mtuple\u001b[39m(x) \u001b[39mfor\u001b[39;00m x \u001b[39min\u001b[39;00m data]\n",
      "File \u001b[1;32mc:\\Users\\bongkyun\\anaconda3\\lib\\site-packages\\pandas\\core\\internals\\construction.py:915\u001b[0m, in \u001b[0;36m_list_of_series_to_arrays\u001b[1;34m(data, columns)\u001b[0m\n\u001b[0;32m    912\u001b[0m         indexer \u001b[39m=\u001b[39m indexer_cache[\u001b[39mid\u001b[39m(index)] \u001b[39m=\u001b[39m index\u001b[39m.\u001b[39mget_indexer(columns)\n\u001b[0;32m    914\u001b[0m     values \u001b[39m=\u001b[39m extract_array(s, extract_numpy\u001b[39m=\u001b[39m\u001b[39mTrue\u001b[39;00m)\n\u001b[1;32m--> 915\u001b[0m     aligned_values\u001b[39m.\u001b[39mappend(algorithms\u001b[39m.\u001b[39;49mtake_nd(values, indexer))\n\u001b[0;32m    917\u001b[0m content \u001b[39m=\u001b[39m np\u001b[39m.\u001b[39mvstack(aligned_values)\n\u001b[0;32m    918\u001b[0m \u001b[39mreturn\u001b[39;00m content, columns\n",
      "File \u001b[1;32mc:\\Users\\bongkyun\\anaconda3\\lib\\site-packages\\pandas\\core\\array_algos\\take.py:117\u001b[0m, in \u001b[0;36mtake_nd\u001b[1;34m(arr, indexer, axis, fill_value, allow_fill)\u001b[0m\n\u001b[0;32m    114\u001b[0m     \u001b[39mreturn\u001b[39;00m arr\u001b[39m.\u001b[39mtake(indexer, fill_value\u001b[39m=\u001b[39mfill_value, allow_fill\u001b[39m=\u001b[39mallow_fill)\n\u001b[0;32m    116\u001b[0m arr \u001b[39m=\u001b[39m np\u001b[39m.\u001b[39masarray(arr)\n\u001b[1;32m--> 117\u001b[0m \u001b[39mreturn\u001b[39;00m _take_nd_ndarray(arr, indexer, axis, fill_value, allow_fill)\n",
      "File \u001b[1;32mc:\\Users\\bongkyun\\anaconda3\\lib\\site-packages\\pandas\\core\\array_algos\\take.py:156\u001b[0m, in \u001b[0;36m_take_nd_ndarray\u001b[1;34m(arr, indexer, axis, fill_value, allow_fill)\u001b[0m\n\u001b[0;32m    150\u001b[0m out_shape \u001b[39m=\u001b[39m \u001b[39mtuple\u001b[39m(out_shape_)\n\u001b[0;32m    151\u001b[0m \u001b[39mif\u001b[39;00m arr\u001b[39m.\u001b[39mflags\u001b[39m.\u001b[39mf_contiguous \u001b[39mand\u001b[39;00m axis \u001b[39m==\u001b[39m arr\u001b[39m.\u001b[39mndim \u001b[39m-\u001b[39m \u001b[39m1\u001b[39m:\n\u001b[0;32m    152\u001b[0m     \u001b[39m# minor tweak that can make an order-of-magnitude difference\u001b[39;00m\n\u001b[0;32m    153\u001b[0m     \u001b[39m# for dataframes initialized directly from 2-d ndarrays\u001b[39;00m\n\u001b[0;32m    154\u001b[0m     \u001b[39m# (s.t. df.values is c-contiguous and df._mgr.blocks[0] is its\u001b[39;00m\n\u001b[0;32m    155\u001b[0m     \u001b[39m# f-contiguous transpose)\u001b[39;00m\n\u001b[1;32m--> 156\u001b[0m     out \u001b[39m=\u001b[39m np\u001b[39m.\u001b[39;49mempty(out_shape, dtype\u001b[39m=\u001b[39;49mdtype, order\u001b[39m=\u001b[39;49m\u001b[39m\"\u001b[39;49m\u001b[39mF\u001b[39;49m\u001b[39m\"\u001b[39;49m)\n\u001b[0;32m    157\u001b[0m \u001b[39melse\u001b[39;00m:\n\u001b[0;32m    158\u001b[0m     out \u001b[39m=\u001b[39m np\u001b[39m.\u001b[39mempty(out_shape, dtype\u001b[39m=\u001b[39mdtype)\n",
      "\u001b[1;31mMemoryError\u001b[0m: Unable to allocate 96.0 KiB for an array with shape (12287,) and data type int64"
     ]
    }
   ],
   "source": [
    "X_train = pd.concat([pd.get_dummies(train_df['user_no'], prefix='user_no'),\n",
    "           train_df['item_no'].apply(lambda x: dummy1.loc[x]),\n",
    "           train_df['item_no'].apply(lambda x: dummy2.loc[x]), \n",
    "           train_df['item_no'].apply(lambda x: dummy3.loc[x]),\n",
    "           train_df['item_no'].apply(lambda x: dummy4.loc[x]),\n",
    "           train_df['item_no'].apply(lambda x: dummy5.loc[x]),\n",
    "           train_df['item_no'].apply(lambda x: dummy6.loc[x]),\n",
    "           train_df['item_no'].apply(lambda x: dummy7.loc[x]),\n",
    "           train_df['item_no'].apply(lambda x: dummy8.loc[x]),\n",
    "           train_df['item_no'].apply(lambda x: dummy9.loc[x]),\n",
    "           train_df['item_no'].apply(lambda x: dummy10.loc[x]),\n",
    "           train_df['item_no'].apply(lambda x: dummy11.loc[x]),\n",
    "           train_df['item_no'].apply(lambda x: dummy12.loc[x]),\n",
    "           train_df['item_no'].apply(lambda x: dummy13.loc[x]),\n",
    "           train_df['item_no'].apply(lambda x: dummy14.loc[x]),\n",
    "           train_df['item_no'].apply(lambda x: dummy15.loc[x]),\n",
    "           train_df['item_no'].apply(lambda x: dummy16.loc[x]),\n",
    "           train_df['item_no'].apply(lambda x: dummy17.loc[x]),\n",
    "           train_df['item_no'].apply(lambda x: dummy18.loc[x])], axis=1)\n"
   ]
  },
  {
   "cell_type": "code",
   "execution_count": null,
   "metadata": {},
   "outputs": [],
   "source": [
    "import scipy\n",
    "X_train_sparse = scipy.sparse.csr_matrix(X_train.values)"
   ]
  },
  {
   "cell_type": "code",
   "execution_count": null,
   "metadata": {},
   "outputs": [],
   "source": [
    "def log_loss(pred, y):\n",
    "    return np.log(np.exp(-pred * y) + 1.0)\n",
    "\n",
    "\n",
    "# Update gradients\n",
    "def sgd(X, y, n_samples, n_features,\n",
    "                w0, w, v, n_factors, learning_rate, reg_w, reg_v):\n",
    "    data = X.data\n",
    "    indptr = X.indptr\n",
    "    indices = X.indices\n",
    "    loss = 0.0\n",
    "\n",
    "    for i in range(n_samples):\n",
    "        pred, summed = predict(X, w0, w, v, n_factors, i)\n",
    "        \n",
    "        # calculate loss and its gradient\n",
    "        loss += log_loss(pred, y[i])\n",
    "        loss_gradient = -y[i] / (np.exp(y[i] * pred) + 1.0)\n",
    "    \n",
    "        # update bias/intercept term\n",
    "        w0 -= learning_rate * loss_gradient\n",
    "\n",
    "        # update weight\n",
    "        for index in range(indptr[i], indptr[i + 1]):\n",
    "            feature = indices[index]\n",
    "            w[feature] -= learning_rate * (loss_gradient * data[index] + 2 * reg_w * w[feature])\n",
    "\n",
    "        # update factor\n",
    "        for factor in range(n_factors):\n",
    "            for index in range(indptr[i], indptr[i + 1]):\n",
    "                feature = indices[index]\n",
    "                term = summed[factor] - v[factor, feature] * data[index]\n",
    "                v_gradient = loss_gradient * data[index] * term\n",
    "                v[factor, feature] -= learning_rate * (v_gradient + 2 * reg_v * v[factor, feature])\n",
    "    \n",
    "    loss /= n_samples\n",
    "    return loss\n",
    "\n",
    "\n",
    "\n",
    "\n",
    "def predict(X, w0, w, v, n_factors, i):\n",
    "    data = X.data\n",
    "    indptr = X.indptr\n",
    "    indices = X.indices\n",
    "    \"\"\"predicting a single instance\"\"\"\n",
    "    summed = np.zeros(n_factors)\n",
    "    summed_squared = np.zeros(n_factors)\n",
    "\n",
    "    # linear output w * x\n",
    "    pred = w0\n",
    "    for index in range(indptr[i], indptr[i + 1]):\n",
    "        feature = indices[index]\n",
    "        pred += w[feature] * data[index]\n",
    "\n",
    "    # factor output\n",
    "    for factor in range(n_factors):\n",
    "        for index in range(indptr[i], indptr[i + 1]):\n",
    "            feature = indices[index]\n",
    "            term = v[factor, feature] * data[index]\n",
    "            summed[factor] += term\n",
    "            summed_squared[factor] += term * term\n",
    "\n",
    "        pred += 0.5 * (summed[factor] * summed[factor] - summed_squared[factor])\n",
    "\n",
    "    # gradient update할 때, summed는 독립이므로 re-use 가능\n",
    "    return pred, summed\n",
    "\n",
    "\n",
    "\n",
    "\n",
    "# Train Factorization Machine\n",
    "# X -> sparse csr_matrix, y -> label\n",
    "def fit(X, y, config):\n",
    "    epochs = config['num_epochs']\n",
    "    num_factors = config['num_factors']\n",
    "    learning_rate = config['learning_rate']\n",
    "    reg_weights = config['reg_weights']\n",
    "    reg_features = config['reg_features']\n",
    "\n",
    "    num_samples, num_features = X.shape\n",
    "    weights = np.zeros(num_features) # -> w\n",
    "    global_bias = 0.0 # -> w0\n",
    "    \n",
    "    # latent factors for all features -> v\n",
    "    feature_factors = np.random.normal(size = (num_factors, num_features))\n",
    "\n",
    "    epoch_loss = []\n",
    "    for epoch in range(epochs):\n",
    "        loss = sgd(X, y, num_samples, num_features,\n",
    "                            global_bias, weights,\n",
    "                            feature_factors, num_factors,\n",
    "                            learning_rate, reg_weights, reg_features)\n",
    "        print(f'[epoch: {epoch+1}], loss: {loss}')\n",
    "\n",
    "        epoch_loss.append(loss)\n",
    "      \n",
    "    return epoch_loss\n"
   ]
  },
  {
   "cell_type": "code",
   "execution_count": null,
   "metadata": {},
   "outputs": [],
   "source": [
    "config = {\n",
    "    \"num_epochs\": 10,\n",
    "    \"num_factors\": 10,\n",
    "    \"learning_rate\": 0.1,\n",
    "    \"reg_weights\": 0.01,\n",
    "    \"reg_features\": 0.01\n",
    "}"
   ]
  },
  {
   "cell_type": "code",
   "execution_count": null,
   "metadata": {},
   "outputs": [
    {
     "name": "stdout",
     "output_type": "stream",
     "text": [
      "[epoch: 1], loss: 0.02930935031646616\n",
      "[epoch: 2], loss: 0.021602971564442856\n",
      "[epoch: 3], loss: 0.02007602668709834\n",
      "[epoch: 4], loss: 0.019516409590357074\n",
      "[epoch: 5], loss: 0.01908783498813367\n",
      "[epoch: 6], loss: 0.018742805637123605\n",
      "[epoch: 7], loss: 0.01845421787068493\n",
      "[epoch: 8], loss: 0.018205804660975537\n",
      "[epoch: 9], loss: 0.017987356693023406\n",
      "[epoch: 10], loss: 0.017792146019958297\n"
     ]
    }
   ],
   "source": [
    "epoch_loss = fit(X_train_sparse, y_train.values, config)"
   ]
  },
  {
   "cell_type": "code",
   "execution_count": null,
   "metadata": {},
   "outputs": [
    {
     "data": {
      "image/png": "[encoded data removed]",
      "text/plain": [
       "<Figure size 640x480 with 1 Axes>"
      ]
     },
     "metadata": {},
     "output_type": "display_data"
    }
   ],
   "source": [
    "plt.plot(epoch_loss)\n",
    "plt.title('Loss per epoch')\n",
    "plt.show()"
   ]
  },
  {
   "cell_type": "code",
   "execution_count": null,
   "metadata": {},
   "outputs": [],
   "source": []
  }
 ],
 "metadata": {
  "kernelspec": {
   "display_name": "base",
   "language": "python",
   "name": "python3"
  },
  "language_info": {
   "codemirror_mode": {
    "name": "ipython",
    "version": 3
   },
   "file_extension": ".py",
   "mimetype": "text/x-python",
   "name": "python",
   "nbconvert_exporter": "python",
   "pygments_lexer": "ipython3",
   "version": "3.10.9"
  },
  "orig_nbformat": 4
 },
 "nbformat": 4,
 "nbformat_minor": 2
}
