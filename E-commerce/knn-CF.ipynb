{
 "cells": [
  {
   "cell_type": "code",
   "execution_count": null,
   "metadata": {},
   "outputs": [],
   "source": [
    "import pandas as pd\n",
    "import numpy as np\n",
    "import matplotlib.pyplot as plt\n",
    "import seaborn as sns\n",
    "import datetime\n",
    "\n",
    "from datetime import datetime, date\n",
    "from scipy.sparse import csr_matrix\n",
    "from sklearn.metrics.pairwise import cosine_similarity\n",
    "from math import sqrt\n",
    "from tqdm import tqdm_notebook as tqdm\n",
    "from sklearn.model_selection import train_test_split\n",
    "from sklearn.metrics import mean_squared_error\n",
    "from sklearn.feature_extraction.text import TfidfVectorizer"
   ]
  },
  {
   "cell_type": "code",
   "execution_count": null,
   "metadata": {},
   "outputs": [],
   "source": [
    "FILES_DIR = './files/'\n",
    "events = pd.read_csv(FILES_DIR + 'sampled_events.csv')\n",
    "product = pd.read_csv(FILES_DIR + 'sampled_products.csv')\n",
    "users = pd.read_csv(FILES_DIR + 'sampled_users.csv')"
   ]
  },
  {
   "cell_type": "code",
   "execution_count": null,
   "metadata": {},
   "outputs": [],
   "source": [
    "drop_events = events.copy()\n",
    "drop_events['mobile_brand_name'].fillna('un_brand_name', inplace=True)\n",
    "drop_events.drop('mobile_marketing_name', axis=1, inplace=True)\n",
    "drop_events.drop('mobile_model_name', axis=1, inplace=True)\n",
    "drop_events.drop('operating_system_version', axis=1, inplace=True)\n",
    "drop_events['rating'] = drop_events['event_name']\n",
    "re_name = {'rating' : {'click_item':1, 'like_item':2, 'add_to_cart':3, 'purchase_success':4}}\n",
    "drop_events = drop_events.replace(re_name)\n",
    "drop_events.dropna(axis=0, inplace=True)\n",
    "df_events = drop_events.copy()\n",
    "\n",
    "total_df = pd.merge(df_events, users)\n",
    "total_df = pd.merge(total_df, product)\n",
    "total_df['birth_date'].fillna('un_birth_date', inplace=True)\n",
    "total_df['gender'].fillna('un_gender', inplace=True)\n",
    "total_df = total_df.dropna()\n",
    "total_df.isnull().sum()"
   ]
  },
  {
   "attachments": {},
   "cell_type": "markdown",
   "metadata": {},
   "source": [
    "# session_id"
   ]
  },
  {
   "cell_type": "code",
   "execution_count": null,
   "metadata": {},
   "outputs": [],
   "source": [
    "session_group = pd.DataFrame({'count': total_df.groupby(['session_id', 'item_no']).size()})\n",
    "session_group = session_group.reset_index()\n",
    "\n",
    "session_group2 = total_df.groupby('session_id')['rating'].mean().reset_index()\n",
    "\n",
    "session_group3 = pd.merge(session_group, session_group2, on='session_id', how='inner')\n",
    "\n",
    "session_group3 = session_group3\n",
    "\n",
    "session_group_df = session_group3.sort_values(by='rating', ascending=False)\n",
    "\n",
    "# session_group_df = session_group_df.drop_duplicates(subset='session_id', keep='first')\n",
    "\n",
    "session_group_df = session_group_df[session_group_df['count'] == 1]\n",
    "\n",
    "session_group_df"
   ]
  },
  {
   "cell_type": "code",
   "execution_count": null,
   "metadata": {},
   "outputs": [],
   "source": [
    "session_group_df = session_group_df.sample(frac=0.003, random_state=42)\n",
    "session_group_df.shape"
   ]
  },
  {
   "cell_type": "code",
   "execution_count": null,
   "metadata": {},
   "outputs": [],
   "source": [
    "# train, test split\n",
    "x = session_group_df.copy()\n",
    "y = session_group_df['session_id']\n",
    "\n",
    "x_train, x_test, y_train, y_test = train_test_split(x, y, test_size=0.25, random_state=42)\n",
    "\n",
    "# x_train.drop_duplicates(subset=['session_id', 'item_no'], inplace=True)\n",
    "\n",
    "\n",
    "def RMSE(y_true, y_pred):\n",
    "  return np.sqrt(np.mean(np.power(np.array(y_true)-np.array(y_pred), 2)))\n",
    "\n",
    "def score(model, neighbor_size=0): # neighbor_size 파라미터 추가\n",
    "  id_pairs = zip(x_test['session_id'], x_test['item_no'])\n",
    "  y_pred = np.array([model(user, item, neighbor_size) for (user, item) in id_pairs])\n",
    "  y_true = np.array(x_test['rating'])\n",
    "  return RMSE(y_true, y_pred)\n"
   ]
  },
  {
   "cell_type": "code",
   "execution_count": null,
   "metadata": {},
   "outputs": [],
   "source": [
    "rating_matrix = session_group_df.pivot_table(index='session_id', columns='item_no', values='rating') \n",
    "matrix_dummy = rating_matrix.copy().fillna(0)\n",
    "user_similarity = pd.DataFrame(cosine_similarity(matrix_dummy), index=rating_matrix.index, columns=rating_matrix.index)"
   ]
  },
  {
   "cell_type": "code",
   "execution_count": null,
   "metadata": {},
   "outputs": [],
   "source": [
    "def CF_knn(session_id, item_no, neighbor_size=0):\n",
    "  if item_no in rating_matrix:\n",
    "    sim_scores = user_similarity[session_id].copy()\n",
    "    itme_ratings = rating_matrix[item_no].copy()\n",
    "    none_rating_idx = itme_ratings[itme_ratings.isnull()].index \n",
    "    itme_ratings = itme_ratings.dropna()\n",
    "    sim_scores = sim_scores.drop(none_rating_idx)\n",
    "    \n",
    "    if neighbor_size == 0:\n",
    "      mean_rating = np.dot(sim_scores, itme_ratings) / sim_scores.sum()\n",
    "    else:\n",
    "      if len(sim_scores) > 1:\n",
    "        neighbor_size = min(neighbor_size, len(sim_scores))\n",
    "        sim_scores = np.array(sim_scores)\n",
    "        itme_ratings = np.array(itme_ratings)\n",
    "        user_idx = np.argsort(sim_scores)\n",
    "        sim_scores = sim_scores[user_idx][-neighbor_size:]\n",
    "        itme_ratings = itme_ratings[user_idx][-neighbor_size:]\n",
    "        mean_rating = np.dot(sim_scores, itme_ratings) / sim_scores.sum()\n",
    "      else:\n",
    "        mean_rating = 2.5\n",
    "\n",
    "  else:\n",
    "    mean_rating = 2.5\n",
    "  \n",
    "  return mean_rating\n",
    "\n",
    "print('KNN 방식의 정확도:', score(CF_knn, neighbor_size=5))"
   ]
  },
  {
   "cell_type": "code",
   "execution_count": null,
   "metadata": {},
   "outputs": [],
   "source": [
    "for neighbor_size in [10, 20, 30, 40, 50]:\n",
    "  print(\"이웃의 크기 = %d : RMSE = %.4f\" % (neighbor_size, score(CF_knn, neighbor_size)))"
   ]
  },
  {
   "attachments": {},
   "cell_type": "markdown",
   "metadata": {},
   "source": [
    "# user_no"
   ]
  },
  {
   "cell_type": "code",
   "execution_count": null,
   "metadata": {},
   "outputs": [],
   "source": [
    "session_group = pd.DataFrame({'count': total_df.groupby(['user_no', 'item_no']).size()})\n",
    "session_group = session_group.reset_index()\n",
    "\n",
    "session_group2 = total_df.groupby('user_no')['rating'].mean().reset_index()\n",
    "\n",
    "session_group3 = pd.merge(session_group, session_group2, on='user_no', how='inner')\n",
    "\n",
    "session_group3 = session_group3\n",
    "\n",
    "session_group_df = session_group3.sort_values(by='rating', ascending=False)\n",
    "\n",
    "# session_group_df = session_group_df.drop_duplicates(subset='user_no', keep='first')\n",
    "\n",
    "session_group_df = session_group_df[session_group_df['count'] == 1]\n",
    "\n",
    "session_group_df"
   ]
  },
  {
   "cell_type": "code",
   "execution_count": null,
   "metadata": {},
   "outputs": [],
   "source": [
    "session_group_df = session_group_df.sample(frac=0.003, random_state=42)\n",
    "session_group_df.shape"
   ]
  },
  {
   "cell_type": "code",
   "execution_count": null,
   "metadata": {},
   "outputs": [],
   "source": [
    "# train, test split\n",
    "x = session_group_df.copy()\n",
    "y = session_group_df['user_no']\n",
    "\n",
    "x_train, x_test, y_train, y_test = train_test_split(x, y, test_size=0.25, random_state=42)\n",
    "\n",
    "# x_train.drop_duplicates(subset=['user_no', 'item_no'], inplace=True)\n",
    "\n",
    "\n",
    "def RMSE(y_true, y_pred):\n",
    "  return np.sqrt(np.mean(np.power(np.array(y_true)-np.array(y_pred), 2)))\n",
    "\n",
    "def score(model, neighbor_size=0): # neighbor_size 파라미터 추가\n",
    "  id_pairs = zip(x_test['user_no'], x_test['item_no'])\n",
    "  y_pred = np.array([model(user, item, neighbor_size) for (user, item) in id_pairs])\n",
    "  y_true = np.array(x_test['rating'])\n",
    "  return RMSE(y_true, y_pred)\n"
   ]
  },
  {
   "cell_type": "code",
   "execution_count": null,
   "metadata": {},
   "outputs": [],
   "source": [
    "rating_matrix = session_group_df.pivot_table(index='user_no', columns='item_no', values='rating') \n",
    "matrix_dummy = rating_matrix.copy().fillna(0)\n",
    "user_similarity = pd.DataFrame(cosine_similarity(matrix_dummy), index=rating_matrix.index, columns=rating_matrix.index)"
   ]
  },
  {
   "cell_type": "code",
   "execution_count": 32,
   "metadata": {},
   "outputs": [],
   "source": [
    "rating_matrix = session_group_df.pivot_table(index='user_no', columns='item_no', values='rating') \n",
    "rating_matrix = rating_matrix.copy().fillna(0)\n",
    "user_similarity = pd.DataFrame(cosine_similarity(rating_matrix), index=rating_matrix.index, columns=rating_matrix.index)"
   ]
  },
  {
   "cell_type": "code",
   "execution_count": 33,
   "metadata": {},
   "outputs": [
    {
     "name": "stdout",
     "output_type": "stream",
     "text": [
      "KNN 방식의 정확도: 0.24818138689439453\n"
     ]
    }
   ],
   "source": [
    "def CF_knn(user_no, item_no, neighbor_size=0):\n",
    "  if item_no in rating_matrix:\n",
    "    sim_scores = user_similarity[user_no].copy()\n",
    "    itme_ratings = rating_matrix[item_no].copy()\n",
    "    none_rating_idx = itme_ratings[itme_ratings.isnull()].index \n",
    "    itme_ratings = itme_ratings.dropna()\n",
    "    sim_scores = sim_scores.drop(none_rating_idx)\n",
    "    \n",
    "    if neighbor_size == 0:\n",
    "      mean_rating = np.dot(sim_scores, itme_ratings) / sim_scores.sum()\n",
    "    else:\n",
    "      if len(sim_scores) > 1:\n",
    "        neighbor_size = min(neighbor_size, len(sim_scores))\n",
    "        sim_scores = np.array(sim_scores)\n",
    "        itme_ratings = np.array(itme_ratings)\n",
    "        user_idx = np.argsort(sim_scores)\n",
    "        sim_scores = sim_scores[user_idx][-neighbor_size:]\n",
    "        itme_ratings = itme_ratings[user_idx][-neighbor_size:]\n",
    "        mean_rating = np.dot(sim_scores, itme_ratings) / sim_scores.sum()\n",
    "      else:\n",
    "        mean_rating = 2.5\n",
    "\n",
    "  else:\n",
    "    mean_rating = 2.5\n",
    "  \n",
    "  return mean_rating\n",
    "\n",
    "print('KNN 방식의 정확도:', score(CF_knn, neighbor_size=5))"
   ]
  },
  {
   "cell_type": "code",
   "execution_count": null,
   "metadata": {},
   "outputs": [],
   "source": [
    "for neighbor_size in [10, 20, 30, 40, 50]:\n",
    "  print(\"이웃의 크기 = %d : RMSE = %.4f\" % (neighbor_size, score(CF_knn, neighbor_size)))"
   ]
  },
  {
   "cell_type": "code",
   "execution_count": 35,
   "metadata": {},
   "outputs": [],
   "source": [
    "# 각 사용자의 평점평균 구하기\n",
    "rating_mean = rating_matrix.mean(axis=1)\n",
    "# 각 아이템의 평점을 각 사용자의 평균에서의 차이로 변환하기\n",
    "rating_bias = (rating_matrix.T - rating_mean).T\n",
    "\n",
    "\n",
    "rating_binary1 = np.array((rating_matrix>0).astype(float))\n",
    "rating_binary2 = rating_binary1.T\n",
    "counts = pd.DataFrame(np.dot(rating_binary1, rating_binary2), \n",
    "                      index=rating_matrix.index, columns=rating_matrix.index).fillna(0)"
   ]
  },
  {
   "cell_type": "code",
   "execution_count": 37,
   "metadata": {},
   "outputs": [
    {
     "name": "stdout",
     "output_type": "stream",
     "text": [
      "최종 예측 값 수정한 협업 필터링 방식의 정확도: 0.623972759798011\n"
     ]
    }
   ],
   "source": [
    "def CF_knn_bias_sig_adj(user_no, item_no, neighbor_size=0):\n",
    "  if item_no in rating_bias:\n",
    "    sim_scores = user_similarity[user_no].copy()\n",
    "    item_ratings = rating_bias[item_no].copy()\n",
    "    \n",
    "    no_rating = item_ratings.isnull() # 해당 영화에 대해 평가하지 않은 사용자를 True로 표시\n",
    "    common_counts = counts[user_no]\n",
    "    low_significance = common_counts < SIG_LEVEL # 추천 대상과의 공통 평가 영화수가 SIG_LEVEL보다 낮은 사용자를 True 표시 \n",
    "    none_rating_idx = item_ratings[no_rating | low_significance].index # no_rating이 True이거나 low_significance가 True인 사용자 표시\n",
    "    \n",
    "    item_ratings = item_ratings.dropna()\n",
    "    sim_scores = sim_scores.drop(none_rating_idx)\n",
    "    \n",
    "    if neighbor_size == 0:\n",
    "      prediction = np.dot(sim_scores, item_ratings) / sim_scores.sum()\n",
    "      prediction = prediction + rating_mean[user_no]\n",
    "\n",
    "    else:\n",
    "      if len(sim_scores) > MIN_RATINGS: # 해당 영화를 평가한 사용자 수가 MIN_RATINGS보다 큰 경우 예측값 계산\n",
    "        neighbor_size = min(neighbor_size, len(sim_scores))\n",
    "        sim_scores = np.array(sim_scores)\n",
    "        item_ratings = np.array(item_ratings)\n",
    "        user_idx = np.argsort(sim_scores)\n",
    "        sim_scores = sim_scores[user_idx][-neighbor_size:]\n",
    "        item_ratings = item_ratings[user_idx][-neighbor_size:]\n",
    "        prediction = np.dot(sim_scores, item_ratings) / sim_scores.sum()\n",
    "        prediction = prediction + rating_mean[user_no]\n",
    "      else:\n",
    "        prediction = rating_mean[user_no]\n",
    "\n",
    "  else:\n",
    "    prediction = rating_mean[user_no]\n",
    "  \n",
    "  # 이 부분 추가\n",
    "  if prediction < 1.0:\t\n",
    "    prediction = 1.0\n",
    "  elif prediction > 4.0:\n",
    "    prediction = 4.0\n",
    "    \n",
    "  return prediction\n",
    "  \n",
    "SIG_LEVEL = 3\n",
    "MIN_RATINGS = 2\n",
    "print('최종 예측 값 수정한 협업 필터링 방식의 정확도:', score(CF_knn_bias_sig_adj, 10))"
   ]
  },
  {
   "cell_type": "code",
   "execution_count": null,
   "metadata": {},
   "outputs": [],
   "source": []
  },
  {
   "cell_type": "code",
   "execution_count": null,
   "metadata": {},
   "outputs": [],
   "source": []
  },
  {
   "cell_type": "code",
   "execution_count": null,
   "metadata": {},
   "outputs": [],
   "source": []
  }
 ],
 "metadata": {
  "kernelspec": {
   "display_name": "base",
   "language": "python",
   "name": "python3"
  },
  "language_info": {
   "codemirror_mode": {
    "name": "ipython",
    "version": 3
   },
   "file_extension": ".py",
   "mimetype": "text/x-python",
   "name": "python",
   "nbconvert_exporter": "python",
   "pygments_lexer": "ipython3",
   "version": "3.10.9"
  },
  "orig_nbformat": 4
 },
 "nbformat": 4,
 "nbformat_minor": 2
}
