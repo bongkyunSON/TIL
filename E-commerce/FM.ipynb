{
 "cells": [
  {
   "cell_type": "code",
   "execution_count": 1,
   "metadata": {},
   "outputs": [],
   "source": [
    "import pandas as pd\n",
    "import numpy as np\n",
    "import matplotlib.pyplot as plt\n",
    "import seaborn as sns\n",
    "import datetime\n",
    "\n",
    "from datetime import datetime, date\n",
    "from scipy.sparse import csr_matrix\n",
    "from sklearn.metrics.pairwise import cosine_similarity\n",
    "from math import sqrt\n",
    "from tqdm import tqdm_notebook as tqdm\n",
    "from sklearn.model_selection import train_test_split\n",
    "from sklearn.metrics import mean_squared_error\n",
    "from sklearn.feature_extraction.text import TfidfVectorizer\n",
    "from sklearn.utils import shuffle"
   ]
  },
  {
   "cell_type": "code",
   "execution_count": 2,
   "metadata": {},
   "outputs": [],
   "source": [
    "FILES_DIR = './files/'\n",
    "Eco_df = pd.read_csv(FILES_DIR + 'Eco_df.csv')"
   ]
  },
  {
   "cell_type": "code",
   "execution_count": 3,
   "metadata": {},
   "outputs": [],
   "source": [
    "Eco_df.drop('Unnamed: 0', axis=1, inplace=True)"
   ]
  },
  {
   "cell_type": "code",
   "execution_count": 27,
   "metadata": {},
   "outputs": [],
   "source": [
    "session_id = [(list(set(x['item_no'].values))[0], '/'.join(x['session_id'].values)) for index, x in Eco_df.groupby('item_no')]\n",
    "session_id_df = pd.DataFrame(data=session_id, columns=['item_no', 'session_id'])\n",
    "session_id_df = session_id_df.set_index('item_no')\n",
    "\n",
    "user_no = [(list(set(x['item_no'].values))[0], '/'.join(x['user_no'].values)) for index, x in Eco_df.groupby('item_no')]\n",
    "user_no_df = pd.DataFrame(data=user_no, columns=['item_no', 'user_no'])\n",
    "user_no_df = user_no_df.set_index('item_no')"
   ]
  },
  {
   "cell_type": "code",
   "execution_count": 13,
   "metadata": {},
   "outputs": [],
   "source": [
    "session_id = [(list(set(x['item_no'].values))[0], '/'.join(x['session_id'].values)) for index, x in Eco_df.groupby('item_no')]\n",
    "session_id_df = pd.DataFrame(data=session_id, columns=['item_no', 'session_id'])\n",
    "session_id_df = session_id_df.set_index('item_no')\n",
    "\n",
    "user_no = [(list(set(x['item_no'].values))[0], '/'.join(x['user_no'].values)) for index, x in Eco_df.groupby('item_no')]\n",
    "user_no_df = pd.DataFrame(data=user_no, columns=['item_no', 'user_no'])\n",
    "user_no_df = user_no_df.set_index('item_no')\n",
    "\n",
    "device_type_group = [(list(set(x['item_no'].values))[0], '/'.join(x['device_type'].values)) \n",
    "                     for index, x in Eco_df.groupby('item_no')]\n",
    "device_type_group_df = pd.DataFrame(data=device_type_group, columns=['item_no', 'device_type'])\n",
    "device_type_group_df = device_type_group_df.set_index('item_no')\n",
    "\n",
    "country_group = [(list(set(x['item_no'].values))[0], '/'.join(x['country'].values)) \n",
    "                 for index, x in Eco_df.groupby('item_no')]\n",
    "country_group_df = pd.DataFrame(data=country_group, columns=['item_no', 'country'])\n",
    "country_group_df = country_group_df.set_index('item_no')\n",
    "\n",
    "gender = [(list(set(x['item_no'].values))[0], ','.join(x['gender'].values)) for index, x in Eco_df.groupby('item_no')]\n",
    "gender_df = pd.DataFrame(data=gender, columns=['item_no', 'gender'])\n",
    "gender_df = gender_df.set_index('item_no')\n",
    "\n",
    "platform = [(list(set(x['item_no'].values))[0], ','.join(x['platform'].values)) for index, x in Eco_df.groupby('item_no')]\n",
    "platform_df = pd.DataFrame(data=platform, columns=['item_no', 'platform'])\n",
    "platform_df = platform_df.set_index('item_no')\n",
    "\n",
    "age_group = [(list(set(x['item_no'].values))[0], ','.join(x['age'].astype(str).values)) for index, x in Eco_df.groupby('item_no')]\n",
    "age_group_df = pd.DataFrame(data=age_group, columns=['item_no', 'age'])\n",
    "age_group_df = age_group_df.set_index('item_no')\n",
    "\n",
    "price_group = [(list(set(x['item_no'].values))[0], ','.join(x['price'].astype(str).values)) for index, x in Eco_df.groupby('item_no')]\n",
    "price_group_df = pd.DataFrame(data=price_group, columns=['item_no', 'price'])\n",
    "price_group_df = price_group_df.set_index('item_no')\n",
    "\n",
    "cat1_group = [(list(set(x['item_no'].values))[0], ','.join(x['category1_name'].values)) \n",
    "               for index, x in Eco_df.groupby('item_no')]\n",
    "cat1_group_df = pd.DataFrame(data=cat1_group, columns=['item_no', 'category1_name'])\n",
    "cat1_group_df = cat1_group_df.set_index('item_no')\n",
    "\n",
    "cat2_group = [(list(set(x['item_no'].values))[0], ','.join(x['category2_name'].values)) \n",
    "               for index, x in Eco_df.groupby('item_no')]\n",
    "cat2_group_df = pd.DataFrame(data=cat2_group, columns=['item_no', 'category2_name'])\n",
    "cat2_group_df = cat2_group_df.set_index('item_no')\n",
    "\n",
    "# day_group = [(list(set(x['item_no'].values))[0], ','.join(x['day_group'].values)) \n",
    "#                for index, x in Eco_df.groupby('item_no')]\n",
    "# day_group_df = pd.DataFrame(data=day_group, columns=['item_no', 'day_group'])\n",
    "# day_group_df = day_group_df.set_index('item_no')\n",
    "\n",
    "# korea_group = [(list(set(x['item_no'].values))[0], ','.join(x['korea_group'].values)) \n",
    "#                for index, x in Eco_df.groupby('item_no')]\n",
    "# korea_group_df = pd.DataFrame(data=korea_group, columns=['item_no', 'korea_group'])\n",
    "# korea_group_df = korea_group_df.set_index('item_no')\n",
    "\n",
    "# corr_cat_group = [(list(set(x['item_no'].values))[0], ','.join(x['corr_cat_group'].values)) \n",
    "#                for index, x in Eco_df.groupby('item_no')]\n",
    "# corr_cat_group_df = pd.DataFrame(data=corr_cat_group, columns=['item_no', 'corr_cat_group'])\n",
    "# corr_cat_group_df = corr_cat_group_df.set_index('item_no')\n",
    "\n",
    "# corr_region_group = [(list(set(x['item_no'].values))[0], ','.join(x['corr_region_group'].values)) \n",
    "#                for index, x in Eco_df.groupby('item_no')]\n",
    "# corr_region_group_df = pd.DataFrame(data=corr_region_group, columns=['item_no', 'corr_region_group'])\n",
    "# corr_region_group_df = corr_region_group_df.set_index('item_no')\n",
    "\n",
    "# hour_group = [(list(set(x['item_no'].values))[0], ','.join(x['hour_group'].values)) \n",
    "#                for index, x in Eco_df.groupby('item_no')]\n",
    "# hour_group_df = pd.DataFrame(data=hour_group, columns=['item_no', 'hour_group'])\n",
    "# hour_group_df = hour_group_df.set_index('item_no')\n",
    "\n",
    "# time1_group = [(list(set(x['item_no'].values))[0], ','.join(x['time1_group'].values)) \n",
    "#                for index, x in Eco_df.groupby('item_no')]\n",
    "# time1_group_df = pd.DataFrame(data=time1_group, columns=['item_no', 'time1_group'])\n",
    "# time1_group_df = time1_group_df.set_index('item_no')\n",
    "\n",
    "# time2_group = [(list(set(x['item_no'].values))[0], ','.join(x['time2_group'].values)) \n",
    "#                for index, x in Eco_df.groupby('item_no')]\n",
    "# time2_group_df = pd.DataFrame(data=time2_group, columns=['item_no', 'time2_group'])\n",
    "# time2_group_df = time2_group_df.set_index('item_no')\n",
    "\n",
    "# time3_group = [(list(set(x['item_no'].values))[0], ','.join(x['time3_group'].values)) \n",
    "#                for index, x in Eco_df.groupby('item_no')]\n",
    "# time3_group_df = pd.DataFrame(data=time3_group, columns=['item_no', 'time3_group'])\n",
    "# time3_group_df = time3_group_df.set_index('item_no')\n"
   ]
  },
  {
   "cell_type": "code",
   "execution_count": 15,
   "metadata": {},
   "outputs": [
    {
     "name": "stdout",
     "output_type": "stream",
     "text": [
      "(12400, 10)\n"
     ]
    }
   ],
   "source": [
    "total_df = pd.merge(session_id_df, user_no_df, on='item_no', how='inner')\n",
    "total_df = pd.merge(total_df, device_type_group_df, on='item_no', how='inner')\n",
    "total_df = pd.merge(total_df, country_group_df, on='item_no', how='inner')\n",
    "total_df = pd.merge(total_df, gender_df, on='item_no', how='inner')\n",
    "total_df = pd.merge(total_df, platform_df, on='item_no', how='inner')\n",
    "total_df = pd.merge(total_df, age_group_df, on='item_no', how='inner')\n",
    "total_df = pd.merge(total_df, price_group_df, on='item_no', how='inner')\n",
    "total_df = pd.merge(total_df, cat1_group_df, on='item_no', how='inner')\n",
    "total_df = pd.merge(total_df, cat2_group_df, on='item_no', how='inner')\n",
    "# total_df = pd.merge(total_df, day_group_df, on='item_no', how='inner')\n",
    "# total_df = pd.merge(total_df, korea_group_df, on='item_no', how='inner')\n",
    "# total_df = pd.merge(total_df, corr_cat_group_df, on='item_no', how='inner')\n",
    "# total_df = pd.merge(total_df, corr_region_group_df, on='item_no', how='inner')\n",
    "# total_df = pd.merge(total_df, hour_group_df, on='item_no', how='inner')\n",
    "# total_df = pd.merge(total_df, time1_group_df, on='item_no', how='inner')\n",
    "# total_df = pd.merge(total_df, time2_group_df, on='item_no', how='inner')\n",
    "# total_df = pd.merge(total_df, time3_group_df, on='item_no', how='inner')\n",
    "\n",
    "print(total_df.shape)"
   ]
  },
  {
   "cell_type": "code",
   "execution_count": 19,
   "metadata": {},
   "outputs": [],
   "source": [
    "dummy1 = total_df['session_id'].str.get_dummies(sep=',')\n",
    "\n",
    "dummy2 = total_df['user_no'].str.get_dummies(sep=',')\n",
    "\n",
    "dummy3 = total_df['device_type'].str.get_dummies(sep=',')\n",
    "\n",
    "dummy4 = total_df['country'].str.get_dummies(sep=',')\n",
    "\n",
    "dummy5 = total_df['platform'].str.get_dummies(sep=',')\n",
    "\n",
    "dummy6 = total_df['gender'].str.get_dummies(sep=',')\n",
    "\n",
    "dummy7 = total_df['age'].str.get_dummies(sep=',')\n",
    "\n",
    "dummy8 = total_df['price'].str.get_dummies(sep=',')\n",
    "\n",
    "dummy9 = total_df['category1_name'].str.get_dummies(sep=',')\n",
    "\n",
    "dummy10 = total_df['category2_name'].str.get_dummies(sep=',')\n",
    "\n",
    "# dummy11 = total_df['dayname'].str.get_dummies(sep=',')\n",
    "\n",
    "# dummy12 = total_df['korea'].str.get_dummies(sep=',')\n",
    "\n",
    "# dummy13 = total_df['cor_cat1'].str.get_dummies(sep=',')\n",
    "\n",
    "# dummy14 = total_df['cor_region'].str.get_dummies(sep=',')\n",
    "\n",
    "# dummy15 = total_df['Hour'].str.get_dummies(sep=',')\n",
    "\n",
    "# dummy16 = total_df['time_1'].str.get_dummies(sep=',')\n",
    "\n",
    "# dummy17 = total_df['time_2'].str.get_dummies(sep=',')\n",
    "\n",
    "# dummy18 = total_df['time_3'].str.get_dummies(sep=',')"
   ]
  },
  {
   "cell_type": "code",
   "execution_count": null,
   "metadata": {},
   "outputs": [],
   "source": [
    "train_df, test_df = train_test_split(Eco_df, test_size=0.25, random_state=42)\n",
    "\n",
    "print(train_df.shape)\n",
    "print(test_df.shape)"
   ]
  },
  {
   "cell_type": "code",
   "execution_count": null,
   "metadata": {},
   "outputs": [],
   "source": [
    "y_train = train_df['rating']\n",
    "print(X_train.shape)\n",
    "print(y_train.shape)"
   ]
  },
  {
   "cell_type": "code",
   "execution_count": 20,
   "metadata": {},
   "outputs": [],
   "source": [
    "X_train = pd.concat([pd.get_dummies(train_df['user_no'], prefix='user_no'),\n",
    "           train_df['item_no'].apply(lambda x: dummy1.loc[x]),\n",
    "           train_df['item_no'].apply(lambda x: dummy2.loc[x]),\n",
    "           train_df['item_no'].apply(lambda x: dummy3.loc[x]),\n",
    "           train_df['item_no'].apply(lambda x: dummy4.loc[x]),\n",
    "           train_df['item_no'].apply(lambda x: dummy5.loc[x]),\n",
    "           train_df['item_no'].apply(lambda x: dummy6.loc[x]),\n",
    "           train_df['item_no'].apply(lambda x: dummy7.loc[x]),\n",
    "           train_df['item_no'].apply(lambda x: dummy8.loc[x]),\n",
    "           train_df['item_no'].apply(lambda x: dummy9.loc[x]),\n",
    "           train_df['item_no'].apply(lambda x: dummy10.loc[x])], axis=1)"
   ]
  },
  {
   "cell_type": "code",
   "execution_count": 21,
   "metadata": {},
   "outputs": [
    {
     "name": "stdout",
     "output_type": "stream",
     "text": [
      "(12276, 35320)\n",
      "(12276,)\n"
     ]
    }
   ],
   "source": []
  },
  {
   "cell_type": "code",
   "execution_count": 33,
   "metadata": {},
   "outputs": [],
   "source": [
    "import scipy\n",
    "X_train_sparse = scipy.sparse.csr_matrix(X_train.values)"
   ]
  },
  {
   "cell_type": "code",
   "execution_count": 34,
   "metadata": {},
   "outputs": [],
   "source": [
    "def log_loss(pred, y):\n",
    "    return np.log(np.exp(-pred * y) + 1.0)\n",
    "\n",
    "\n",
    "# Update gradients\n",
    "def sgd(X, y, n_samples, n_features,\n",
    "                w0, w, v, n_factors, learning_rate, reg_w, reg_v):\n",
    "    data = X.data\n",
    "    indptr = X.indptr\n",
    "    indices = X.indices\n",
    "    loss = 0.0\n",
    "\n",
    "    for i in range(n_samples):\n",
    "        pred, summed = predict(X, w0, w, v, n_factors, i)\n",
    "        \n",
    "        # calculate loss and its gradient\n",
    "        loss += log_loss(pred, y[i])\n",
    "        loss_gradient = -y[i] / (np.exp(y[i] * pred) + 1.0)\n",
    "    \n",
    "        # update bias/intercept term\n",
    "        w0 -= learning_rate * loss_gradient\n",
    "\n",
    "        # update weight\n",
    "        for index in range(indptr[i], indptr[i + 1]):\n",
    "            feature = indices[index]\n",
    "            w[feature] -= learning_rate * (loss_gradient * data[index] + 2 * reg_w * w[feature])\n",
    "\n",
    "        # update factor\n",
    "        for factor in range(n_factors):\n",
    "            for index in range(indptr[i], indptr[i + 1]):\n",
    "                feature = indices[index]\n",
    "                term = summed[factor] - v[factor, feature] * data[index]\n",
    "                v_gradient = loss_gradient * data[index] * term\n",
    "                v[factor, feature] -= learning_rate * (v_gradient + 2 * reg_v * v[factor, feature])\n",
    "    \n",
    "    loss /= n_samples\n",
    "    return loss\n",
    "\n",
    "\n",
    "\n",
    "\n",
    "def predict(X, w0, w, v, n_factors, i):\n",
    "    data = X.data\n",
    "    indptr = X.indptr\n",
    "    indices = X.indices\n",
    "    \"\"\"predicting a single instance\"\"\"\n",
    "    summed = np.zeros(n_factors)\n",
    "    summed_squared = np.zeros(n_factors)\n",
    "\n",
    "    # linear output w * x\n",
    "    pred = w0\n",
    "    for index in range(indptr[i], indptr[i + 1]):\n",
    "        feature = indices[index]\n",
    "        pred += w[feature] * data[index]\n",
    "\n",
    "    # factor output\n",
    "    for factor in range(n_factors):\n",
    "        for index in range(indptr[i], indptr[i + 1]):\n",
    "            feature = indices[index]\n",
    "            term = v[factor, feature] * data[index]\n",
    "            summed[factor] += term\n",
    "            summed_squared[factor] += term * term\n",
    "\n",
    "        pred += 0.5 * (summed[factor] * summed[factor] - summed_squared[factor])\n",
    "\n",
    "    # gradient update할 때, summed는 독립이므로 re-use 가능\n",
    "    return pred, summed\n",
    "\n",
    "\n",
    "\n",
    "\n",
    "# Train Factorization Machine\n",
    "# X -> sparse csr_matrix, y -> label\n",
    "def fit(X, y, config):\n",
    "    epochs = config['num_epochs']\n",
    "    num_factors = config['num_factors']\n",
    "    learning_rate = config['learning_rate']\n",
    "    reg_weights = config['reg_weights']\n",
    "    reg_features = config['reg_features']\n",
    "\n",
    "    num_samples, num_features = X.shape\n",
    "    weights = np.zeros(num_features) # -> w\n",
    "    global_bias = 0.0 # -> w0\n",
    "    \n",
    "    # latent factors for all features -> v\n",
    "    feature_factors = np.random.normal(size = (num_factors, num_features))\n",
    "\n",
    "    epoch_loss = []\n",
    "    for epoch in range(epochs):\n",
    "        loss = sgd(X, y, num_samples, num_features,\n",
    "                            global_bias, weights,\n",
    "                            feature_factors, num_factors,\n",
    "                            learning_rate, reg_weights, reg_features)\n",
    "        print(f'[epoch: {epoch+1}], loss: {loss}')\n",
    "\n",
    "        epoch_loss.append(loss)\n",
    "      \n",
    "    return epoch_loss\n"
   ]
  },
  {
   "cell_type": "code",
   "execution_count": 35,
   "metadata": {},
   "outputs": [],
   "source": [
    "config = {\n",
    "    \"num_epochs\": 10,\n",
    "    \"num_factors\": 10,\n",
    "    \"learning_rate\": 0.1,\n",
    "    \"reg_weights\": 0.01,\n",
    "    \"reg_features\": 0.01\n",
    "}"
   ]
  },
  {
   "cell_type": "code",
   "execution_count": 36,
   "metadata": {},
   "outputs": [
    {
     "name": "stdout",
     "output_type": "stream",
     "text": [
      "[epoch: 1], loss: 0.19898322782544844\n",
      "[epoch: 2], loss: 0.20397133288400454\n",
      "[epoch: 3], loss: 0.206245072677414\n",
      "[epoch: 4], loss: 0.2065379149780845\n",
      "[epoch: 5], loss: 0.20586874541927663\n",
      "[epoch: 6], loss: 0.20492171654358263\n",
      "[epoch: 7], loss: 0.20385254709864278\n",
      "[epoch: 8], loss: 0.20272119818031228\n",
      "[epoch: 9], loss: 0.2015564892749194\n",
      "[epoch: 10], loss: 0.20037455808646285\n"
     ]
    }
   ],
   "source": [
    "epoch_loss = fit(X_train_sparse, y_train.values, config)"
   ]
  },
  {
   "cell_type": "code",
   "execution_count": 37,
   "metadata": {},
   "outputs": [
    {
     "data": {
      "image/png": "[encoded data removed]",
      "text/plain": [
       "<Figure size 640x480 with 1 Axes>"
      ]
     },
     "metadata": {},
     "output_type": "display_data"
    }
   ],
   "source": [
    "plt.plot(epoch_loss)\n",
    "plt.title('Loss per epoch')\n",
    "plt.show()"
   ]
  },
  {
   "cell_type": "code",
   "execution_count": null,
   "metadata": {},
   "outputs": [],
   "source": []
  }
 ],
 "metadata": {
  "kernelspec": {
   "display_name": "base",
   "language": "python",
   "name": "python3"
  },
  "language_info": {
   "codemirror_mode": {
    "name": "ipython",
    "version": 3
   },
   "file_extension": ".py",
   "mimetype": "text/x-python",
   "name": "python",
   "nbconvert_exporter": "python",
   "pygments_lexer": "ipython3",
   "version": "3.10.9"
  },
  "orig_nbformat": 4
 },
 "nbformat": 4,
 "nbformat_minor": 2
}
