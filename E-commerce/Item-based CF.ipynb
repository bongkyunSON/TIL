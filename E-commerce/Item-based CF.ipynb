{
 "cells": [
  {
   "cell_type": "code",
   "execution_count": 3,
   "metadata": {},
   "outputs": [],
   "source": [
    "import pandas as pd\n",
    "import numpy as np\n",
    "import matplotlib.pyplot as plt\n",
    "import seaborn as sns\n",
    "import datetime\n",
    "\n",
    "from datetime import datetime, date\n",
    "from scipy.sparse import csr_matrix\n",
    "from sklearn.metrics.pairwise import cosine_similarity\n",
    "from math import sqrt\n",
    "from tqdm import tqdm_notebook as tqdm\n",
    "from sklearn.model_selection import train_test_split\n",
    "from sklearn.metrics import mean_squared_error\n",
    "from sklearn.feature_extraction.text import TfidfVectorizer"
   ]
  },
  {
   "cell_type": "code",
   "execution_count": 4,
   "metadata": {},
   "outputs": [],
   "source": [
    "FILES_DIR = './files/'\n",
    "events = pd.read_csv(FILES_DIR + 'sampled_events.csv')\n",
    "product = pd.read_csv(FILES_DIR + 'sampled_products.csv')\n",
    "users = pd.read_csv(FILES_DIR + 'sampled_users.csv')"
   ]
  },
  {
   "cell_type": "code",
   "execution_count": 5,
   "metadata": {},
   "outputs": [
    {
     "data": {
      "text/plain": [
       "session_id           0\n",
       "event_timestamp      0\n",
       "event_name           0\n",
       "user_no              0\n",
       "item_no              0\n",
       "device_type          0\n",
       "mobile_brand_name    0\n",
       "country              0\n",
       "region               0\n",
       "platform             0\n",
       "rating               0\n",
       "birth_date           0\n",
       "gender               0\n",
       "item_name            0\n",
       "image_name           0\n",
       "price                0\n",
       "category1_code       0\n",
       "category1_name       0\n",
       "category2_code       0\n",
       "category2_name       0\n",
       "category3_code       0\n",
       "category3_name       0\n",
       "brand_no             0\n",
       "brand_name           0\n",
       "dtype: int64"
      ]
     },
     "execution_count": 5,
     "metadata": {},
     "output_type": "execute_result"
    }
   ],
   "source": [
    "drop_events = events.copy()\n",
    "drop_events['mobile_brand_name'].fillna('un_brand_name', inplace=True)\n",
    "drop_events.drop('mobile_marketing_name', axis=1, inplace=True)\n",
    "drop_events.drop('mobile_model_name', axis=1, inplace=True)\n",
    "drop_events.drop('operating_system_version', axis=1, inplace=True)\n",
    "drop_events['rating'] = drop_events['event_name']\n",
    "re_name = {'rating' : {'click_item':1, 'like_item':2, 'add_to_cart':3, 'purchase_success':4}}\n",
    "drop_events = drop_events.replace(re_name)\n",
    "drop_events.dropna(axis=0, inplace=True)\n",
    "df_events = drop_events.copy()\n",
    "\n",
    "total_df = pd.merge(df_events, users)\n",
    "total_df = pd.merge(total_df, product)\n",
    "total_df['birth_date'].fillna('un_birth_date', inplace=True)\n",
    "total_df['gender'].fillna('un_gender', inplace=True)\n",
    "total_df = total_df.dropna()\n",
    "total_df.isnull().sum()"
   ]
  },
  {
   "cell_type": "code",
   "execution_count": 6,
   "metadata": {},
   "outputs": [
    {
     "data": {
      "text/html": [
       "<div>\n",
       "<style scoped>\n",
       "    .dataframe tbody tr th:only-of-type {\n",
       "        vertical-align: middle;\n",
       "    }\n",
       "\n",
       "    .dataframe tbody tr th {\n",
       "        vertical-align: top;\n",
       "    }\n",
       "\n",
       "    .dataframe thead th {\n",
       "        text-align: right;\n",
       "    }\n",
       "</style>\n",
       "<table border=\"1\" class=\"dataframe\">\n",
       "  <thead>\n",
       "    <tr style=\"text-align: right;\">\n",
       "      <th></th>\n",
       "      <th>user_no</th>\n",
       "      <th>item_no</th>\n",
       "      <th>count</th>\n",
       "      <th>rating</th>\n",
       "    </tr>\n",
       "  </thead>\n",
       "  <tbody>\n",
       "    <tr>\n",
       "      <th>118897</th>\n",
       "      <td>/e8MGKbl2wrC6qVJH+xM0Q==</td>\n",
       "      <td>Q0FgPI5gYPwi7sDRXYc2MA==</td>\n",
       "      <td>1</td>\n",
       "      <td>4.0</td>\n",
       "    </tr>\n",
       "    <tr>\n",
       "      <th>2878860</th>\n",
       "      <td>cJAyFas00J9NS0TrZfxu6Q==</td>\n",
       "      <td>1XZmTSXmTqyJd/e6YBpmJA==</td>\n",
       "      <td>1</td>\n",
       "      <td>4.0</td>\n",
       "    </tr>\n",
       "    <tr>\n",
       "      <th>2879605</th>\n",
       "      <td>cJrsLRCgtjdx7xT/V7vXuA==</td>\n",
       "      <td>/Ey/MRX6ThAjT9sGJfzGcw==</td>\n",
       "      <td>1</td>\n",
       "      <td>4.0</td>\n",
       "    </tr>\n",
       "    <tr>\n",
       "      <th>2879604</th>\n",
       "      <td>cJrCXqJAGsZtlVUpoeXtIg==</td>\n",
       "      <td>lEvGMbq4GpxxBdkFj317yQ==</td>\n",
       "      <td>1</td>\n",
       "      <td>4.0</td>\n",
       "    </tr>\n",
       "    <tr>\n",
       "      <th>2879571</th>\n",
       "      <td>cJmct2gEhoQu7nznOUXQwg==</td>\n",
       "      <td>/xeYMMr7eiWkLBXdjUetxg==</td>\n",
       "      <td>1</td>\n",
       "      <td>4.0</td>\n",
       "    </tr>\n",
       "    <tr>\n",
       "      <th>...</th>\n",
       "      <td>...</td>\n",
       "      <td>...</td>\n",
       "      <td>...</td>\n",
       "      <td>...</td>\n",
       "    </tr>\n",
       "    <tr>\n",
       "      <th>399349</th>\n",
       "      <td>3bh7V6rsJGrL4UwBOncvXA==</td>\n",
       "      <td>40hT9tQe+16oGaGgcNxnVg==</td>\n",
       "      <td>1</td>\n",
       "      <td>1.0</td>\n",
       "    </tr>\n",
       "    <tr>\n",
       "      <th>399351</th>\n",
       "      <td>3bh7V6rsJGrL4UwBOncvXA==</td>\n",
       "      <td>5JxTT0eYwoTJZUNinqmjzg==</td>\n",
       "      <td>1</td>\n",
       "      <td>1.0</td>\n",
       "    </tr>\n",
       "    <tr>\n",
       "      <th>399352</th>\n",
       "      <td>3bh7V6rsJGrL4UwBOncvXA==</td>\n",
       "      <td>5hZ+SkJkBUlB6WCwADoagg==</td>\n",
       "      <td>1</td>\n",
       "      <td>1.0</td>\n",
       "    </tr>\n",
       "    <tr>\n",
       "      <th>399353</th>\n",
       "      <td>3bh7V6rsJGrL4UwBOncvXA==</td>\n",
       "      <td>61p1cujNu2KF5DJqsvlCWA==</td>\n",
       "      <td>1</td>\n",
       "      <td>1.0</td>\n",
       "    </tr>\n",
       "    <tr>\n",
       "      <th>59586</th>\n",
       "      <td>+n5kBrsvro7xf1TMC5JIzQ==</td>\n",
       "      <td>LsN3MG4x96dVNllcdvhjnQ==</td>\n",
       "      <td>1</td>\n",
       "      <td>1.0</td>\n",
       "    </tr>\n",
       "  </tbody>\n",
       "</table>\n",
       "<p>3722709 rows × 4 columns</p>\n",
       "</div>"
      ],
      "text/plain": [
       "                          user_no                   item_no  count  rating\n",
       "118897   /e8MGKbl2wrC6qVJH+xM0Q==  Q0FgPI5gYPwi7sDRXYc2MA==      1     4.0\n",
       "2878860  cJAyFas00J9NS0TrZfxu6Q==  1XZmTSXmTqyJd/e6YBpmJA==      1     4.0\n",
       "2879605  cJrsLRCgtjdx7xT/V7vXuA==  /Ey/MRX6ThAjT9sGJfzGcw==      1     4.0\n",
       "2879604  cJrCXqJAGsZtlVUpoeXtIg==  lEvGMbq4GpxxBdkFj317yQ==      1     4.0\n",
       "2879571  cJmct2gEhoQu7nznOUXQwg==  /xeYMMr7eiWkLBXdjUetxg==      1     4.0\n",
       "...                           ...                       ...    ...     ...\n",
       "399349   3bh7V6rsJGrL4UwBOncvXA==  40hT9tQe+16oGaGgcNxnVg==      1     1.0\n",
       "399351   3bh7V6rsJGrL4UwBOncvXA==  5JxTT0eYwoTJZUNinqmjzg==      1     1.0\n",
       "399352   3bh7V6rsJGrL4UwBOncvXA==  5hZ+SkJkBUlB6WCwADoagg==      1     1.0\n",
       "399353   3bh7V6rsJGrL4UwBOncvXA==  61p1cujNu2KF5DJqsvlCWA==      1     1.0\n",
       "59586    +n5kBrsvro7xf1TMC5JIzQ==  LsN3MG4x96dVNllcdvhjnQ==      1     1.0\n",
       "\n",
       "[3722709 rows x 4 columns]"
      ]
     },
     "execution_count": 6,
     "metadata": {},
     "output_type": "execute_result"
    }
   ],
   "source": [
    "user_no_group = pd.DataFrame({'count': total_df.groupby(['user_no', 'item_no']).size()})\n",
    "user_no_group = user_no_group.reset_index()\n",
    "\n",
    "user_no_group2 = total_df.groupby('user_no')['rating'].mean().reset_index()\n",
    "\n",
    "user_no_group3 = pd.merge(user_no_group, user_no_group2, on='user_no', how='inner')\n",
    "\n",
    "user_no_group3 = user_no_group3\n",
    "\n",
    "user_no_group_df = user_no_group3.sort_values(by='rating', ascending=False)\n",
    "\n",
    "# user_no_group_df = user_no_group_df.drop_duplicates(subset='user_no', keep='first')\n",
    "\n",
    "user_no_group_df = user_no_group_df[user_no_group_df['count'] == 1]\n",
    "\n",
    "user_no_group_df"
   ]
  },
  {
   "cell_type": "code",
   "execution_count": 10,
   "metadata": {},
   "outputs": [
    {
     "data": {
      "text/plain": [
       "(11168, 4)"
      ]
     },
     "execution_count": 10,
     "metadata": {},
     "output_type": "execute_result"
    }
   ],
   "source": [
    "user_no_group_df = user_no_group_df.sample(frac=0.003, random_state=42)\n",
    "user_no_group_df.shape"
   ]
  },
  {
   "cell_type": "code",
   "execution_count": 11,
   "metadata": {},
   "outputs": [],
   "source": [
    "# train, test split\n",
    "x = user_no_group_df.copy()\n",
    "y = user_no_group_df['user_no']\n",
    "\n",
    "x_train, x_test, y_train, y_test = train_test_split(x, y, test_size=0.25, random_state=42)\n",
    "\n",
    "# x_train.drop_duplicates(subset=['user_no', 'item_no'], inplace=True)\n",
    "\n",
    "\n",
    "def RMSE(y_true, y_pred):\n",
    "  return np.sqrt(np.mean(np.power(np.array(y_true)-np.array(y_pred), 2)))\n",
    "\n",
    "def score(model):\n",
    "  id_pairs = zip(x_test['user_no'], x_test['item_no'])\n",
    "  y_pred = np.array([model(user, item) for (user, item) in id_pairs])\n",
    "  y_true = np.array(x_test['rating'])\n",
    "  return RMSE(y_true, y_pred)\n"
   ]
  },
  {
   "cell_type": "code",
   "execution_count": 13,
   "metadata": {},
   "outputs": [
    {
     "name": "stdout",
     "output_type": "stream",
     "text": [
      "아이템 기반 협업 필터링 방식의 정확도: 3.4906560976408407e-17\n"
     ]
    }
   ],
   "source": [
    "\n",
    "\n",
    "rating_matrix = user_no_group_df.pivot(index='user_no', columns='item_no', values='rating')\n",
    "# 아이템 기반 유사도 측정\n",
    "rating_matrix_t = np.transpose(rating_matrix)\n",
    "matrix_dummy = rating_matrix_t.copy().fillna(0)\n",
    "item_similarity = pd.DataFrame(cosine_similarity(matrix_dummy), index=rating_matrix_t.index, columns=rating_matrix_t.index)\n",
    "\n",
    "def CF_IBCF(user_no, item_no):\n",
    "  if item_no in item_similarity:\n",
    "    sim_scores = item_similarity[item_no]\n",
    "    user_rating = rating_matrix_t[user_no]\n",
    "    non_rating_idx = user_rating[user_rating.isnull()].index\n",
    "    user_rating = user_rating.dropna()\n",
    "    sim_scores = sim_scores.drop(non_rating_idx)\n",
    "    mean_rating = np.dot(sim_scores, user_rating) / sim_scores.sum()\n",
    "  else:\n",
    "    mean_rating = 2.5\n",
    "  \n",
    "  return mean_rating\n",
    "  \n",
    "print('아이템 기반 협업 필터링 방식의 정확도:', score(CF_IBCF))"
   ]
  }
 ],
 "metadata": {
  "kernelspec": {
   "display_name": "base",
   "language": "python",
   "name": "python3"
  },
  "language_info": {
   "codemirror_mode": {
    "name": "ipython",
    "version": 3
   },
   "file_extension": ".py",
   "mimetype": "text/x-python",
   "name": "python",
   "nbconvert_exporter": "python",
   "pygments_lexer": "ipython3",
   "version": "3.10.9"
  },
  "orig_nbformat": 4
 },
 "nbformat": 4,
 "nbformat_minor": 2
}
