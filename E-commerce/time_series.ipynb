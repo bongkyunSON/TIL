{
 "cells": [
  {
   "attachments": {},
   "cell_type": "markdown",
   "metadata": {},
   "source": [
    "# Data import"
   ]
  },
  {
   "cell_type": "code",
   "execution_count": 29,
   "metadata": {},
   "outputs": [],
   "source": [
    "import pandas as pd\n",
    "import numpy as np\n",
    "import matplotlib.pyplot as plt\n",
    "import seaborn as sns\n",
    "import holidays\n",
    "\n",
    "\n",
    "from prophet import Prophet\n",
    "from prophet.diagnostics import cross_validation\n",
    "from prophet.diagnostics import performance_metrics\n",
    "from prophet.plot import plot_cross_validation_metric\n",
    "from prophet.plot import add_changepoints_to_plot\n",
    "from prophet.plot import plot_plotly, plot_components_plotly\n",
    "from prophet.plot import add_changepoints_to_plot\n",
    "from plotnine import *"
   ]
  },
  {
   "cell_type": "code",
   "execution_count": 30,
   "metadata": {},
   "outputs": [],
   "source": [
    "total = pd.read_csv('./files/tatol.csv')"
   ]
  },
  {
   "attachments": {},
   "cell_type": "markdown",
   "metadata": {},
   "source": [
    "# 데이터 시간대별 처리"
   ]
  },
  {
   "cell_type": "code",
   "execution_count": 31,
   "metadata": {},
   "outputs": [
    {
     "data": {
      "text/html": [
       "<div>\n",
       "<style scoped>\n",
       "    .dataframe tbody tr th:only-of-type {\n",
       "        vertical-align: middle;\n",
       "    }\n",
       "\n",
       "    .dataframe tbody tr th {\n",
       "        vertical-align: top;\n",
       "    }\n",
       "\n",
       "    .dataframe thead th {\n",
       "        text-align: right;\n",
       "    }\n",
       "</style>\n",
       "<table border=\"1\" class=\"dataframe\">\n",
       "  <thead>\n",
       "    <tr style=\"text-align: right;\">\n",
       "      <th></th>\n",
       "      <th>Unnamed: 0</th>\n",
       "      <th>session_id</th>\n",
       "      <th>event_name</th>\n",
       "      <th>user_no</th>\n",
       "      <th>item_no</th>\n",
       "      <th>device_type</th>\n",
       "      <th>region</th>\n",
       "      <th>platform</th>\n",
       "      <th>rating</th>\n",
       "      <th>birth_date</th>\n",
       "      <th>...</th>\n",
       "      <th>image_name</th>\n",
       "      <th>price</th>\n",
       "      <th>category1_code</th>\n",
       "      <th>category1_name</th>\n",
       "      <th>category2_code</th>\n",
       "      <th>category2_name</th>\n",
       "      <th>category3_code</th>\n",
       "      <th>category3_name</th>\n",
       "      <th>brand_no</th>\n",
       "      <th>brand_name</th>\n",
       "    </tr>\n",
       "    <tr>\n",
       "      <th>event_timestamp</th>\n",
       "      <th></th>\n",
       "      <th></th>\n",
       "      <th></th>\n",
       "      <th></th>\n",
       "      <th></th>\n",
       "      <th></th>\n",
       "      <th></th>\n",
       "      <th></th>\n",
       "      <th></th>\n",
       "      <th></th>\n",
       "      <th></th>\n",
       "      <th></th>\n",
       "      <th></th>\n",
       "      <th></th>\n",
       "      <th></th>\n",
       "      <th></th>\n",
       "      <th></th>\n",
       "      <th></th>\n",
       "      <th></th>\n",
       "      <th></th>\n",
       "      <th></th>\n",
       "    </tr>\n",
       "  </thead>\n",
       "  <tbody>\n",
       "    <tr>\n",
       "      <th>2021-06-11 00:36:40.265024</th>\n",
       "      <td>2255797</td>\n",
       "      <td>c8c66cdfc2286951af36bd11f26575f2</td>\n",
       "      <td>click_item</td>\n",
       "      <td>5cDoQ298+z7/vx/fNVoZFw==</td>\n",
       "      <td>NdCPDxLau3caXTbPoO2KFA==</td>\n",
       "      <td>mobile</td>\n",
       "      <td>Seoul</td>\n",
       "      <td>IOS</td>\n",
       "      <td>1</td>\n",
       "      <td>1976-05-10</td>\n",
       "      <td>...</td>\n",
       "      <td>0e8ff9cc6221b8c4c060786c1c2e0bc5</td>\n",
       "      <td>198000.0</td>\n",
       "      <td>243100100</td>\n",
       "      <td>의류</td>\n",
       "      <td>243103100</td>\n",
       "      <td>원피스/점프수트</td>\n",
       "      <td>243103101</td>\n",
       "      <td>원피스</td>\n",
       "      <td>3739.0</td>\n",
       "      <td>avamolli</td>\n",
       "    </tr>\n",
       "    <tr>\n",
       "      <th>2021-06-29 11:47:03.741037</th>\n",
       "      <td>4183409</td>\n",
       "      <td>35101c1b373142946d4ab22787a809b9</td>\n",
       "      <td>click_item</td>\n",
       "      <td>moLuwbMr1ZLKJoBHmRgCqg==</td>\n",
       "      <td>9viu9/Vp1NMnPXgmvxKdrw==</td>\n",
       "      <td>mobile</td>\n",
       "      <td>Seoul</td>\n",
       "      <td>ANDROID</td>\n",
       "      <td>1</td>\n",
       "      <td>1961-03-20</td>\n",
       "      <td>...</td>\n",
       "      <td>a6997ae34edb96e42ffbbccdd1a1b00a</td>\n",
       "      <td>58000.0</td>\n",
       "      <td>243100100</td>\n",
       "      <td>의류</td>\n",
       "      <td>243104100</td>\n",
       "      <td>하의</td>\n",
       "      <td>243104101</td>\n",
       "      <td>바지</td>\n",
       "      <td>13865.0</td>\n",
       "      <td>ucberkeley</td>\n",
       "    </tr>\n",
       "    <tr>\n",
       "      <th>2021-07-11 22:31:42.904002</th>\n",
       "      <td>375000</td>\n",
       "      <td>5c901cfba8cf2c4d25b638aef513a52a</td>\n",
       "      <td>click_item</td>\n",
       "      <td>QA9tQMeKUyUIgAKlbSfpYw==</td>\n",
       "      <td>1B4CTtvF1BeNFZzrdtx4vQ==</td>\n",
       "      <td>mobile</td>\n",
       "      <td>Gangwon-do</td>\n",
       "      <td>IOS</td>\n",
       "      <td>1</td>\n",
       "      <td>1987-09-23</td>\n",
       "      <td>...</td>\n",
       "      <td>dc38dced60dfa3a5ac19d367bb10a3c5</td>\n",
       "      <td>67500.0</td>\n",
       "      <td>243100100</td>\n",
       "      <td>의류</td>\n",
       "      <td>243104100</td>\n",
       "      <td>하의</td>\n",
       "      <td>243104101</td>\n",
       "      <td>바지</td>\n",
       "      <td>2649.0</td>\n",
       "      <td>THOMASMORE</td>\n",
       "    </tr>\n",
       "    <tr>\n",
       "      <th>2021-08-02 19:09:15.173024</th>\n",
       "      <td>5456436</td>\n",
       "      <td>58ac3e65ccf2eb4988b58208f252d359</td>\n",
       "      <td>click_item</td>\n",
       "      <td>bCMrhzWWzYxzqInKRUFzew==</td>\n",
       "      <td>ZnZNKHuqlz863Bo1wkKcLw==</td>\n",
       "      <td>mobile</td>\n",
       "      <td>Daegu</td>\n",
       "      <td>IOS</td>\n",
       "      <td>1</td>\n",
       "      <td>2000-03-28</td>\n",
       "      <td>...</td>\n",
       "      <td>ada54816bc84fde22196b7df843ed754</td>\n",
       "      <td>39900.0</td>\n",
       "      <td>244100100</td>\n",
       "      <td>잡화</td>\n",
       "      <td>244106100</td>\n",
       "      <td>주얼리</td>\n",
       "      <td>244106103</td>\n",
       "      <td>목걸이</td>\n",
       "      <td>11744.0</td>\n",
       "      <td>CLUE</td>\n",
       "    </tr>\n",
       "    <tr>\n",
       "      <th>2021-07-18 16:15:52.274029</th>\n",
       "      <td>4704356</td>\n",
       "      <td>990ecc138c1cbd618aca7cfd08cd1aa8</td>\n",
       "      <td>click_item</td>\n",
       "      <td>/B+O3jb7d/LeH4nKOZDpKg==</td>\n",
       "      <td>11ZJqzJf0OKHy5xVWscPrw==</td>\n",
       "      <td>mobile</td>\n",
       "      <td>Gyeongsangnam-do</td>\n",
       "      <td>IOS</td>\n",
       "      <td>1</td>\n",
       "      <td>1982-04-16</td>\n",
       "      <td>...</td>\n",
       "      <td>913e07943fe547acfdd1be8939c10e9b</td>\n",
       "      <td>59000.0</td>\n",
       "      <td>248100100</td>\n",
       "      <td>가구/인테리어</td>\n",
       "      <td>248112100</td>\n",
       "      <td>커튼/블라인드</td>\n",
       "      <td>248112102</td>\n",
       "      <td>커튼/로만세트</td>\n",
       "      <td>7726.0</td>\n",
       "      <td>에이미루시</td>\n",
       "    </tr>\n",
       "    <tr>\n",
       "      <th>...</th>\n",
       "      <td>...</td>\n",
       "      <td>...</td>\n",
       "      <td>...</td>\n",
       "      <td>...</td>\n",
       "      <td>...</td>\n",
       "      <td>...</td>\n",
       "      <td>...</td>\n",
       "      <td>...</td>\n",
       "      <td>...</td>\n",
       "      <td>...</td>\n",
       "      <td>...</td>\n",
       "      <td>...</td>\n",
       "      <td>...</td>\n",
       "      <td>...</td>\n",
       "      <td>...</td>\n",
       "      <td>...</td>\n",
       "      <td>...</td>\n",
       "      <td>...</td>\n",
       "      <td>...</td>\n",
       "      <td>...</td>\n",
       "      <td>...</td>\n",
       "    </tr>\n",
       "    <tr>\n",
       "      <th>2021-07-15 18:54:19.918064</th>\n",
       "      <td>5061676</td>\n",
       "      <td>010a10c3d038a9778b054616988a3840</td>\n",
       "      <td>click_item</td>\n",
       "      <td>OKOXQiBMaEet0w4tVwlrCw==</td>\n",
       "      <td>bMgc9d9iMOXMI1H+JkdHYw==</td>\n",
       "      <td>mobile</td>\n",
       "      <td>Seoul</td>\n",
       "      <td>IOS</td>\n",
       "      <td>1</td>\n",
       "      <td>1994-01-22</td>\n",
       "      <td>...</td>\n",
       "      <td>dedbd76d8592b0e91b1786b8f329c106</td>\n",
       "      <td>49900.0</td>\n",
       "      <td>243100100</td>\n",
       "      <td>의류</td>\n",
       "      <td>243102100</td>\n",
       "      <td>상의</td>\n",
       "      <td>243102103</td>\n",
       "      <td>티셔츠</td>\n",
       "      <td>13304.0</td>\n",
       "      <td>polham</td>\n",
       "    </tr>\n",
       "    <tr>\n",
       "      <th>2021-06-23 18:10:56.236026</th>\n",
       "      <td>3202842</td>\n",
       "      <td>bfdb2e825c648d3153a5709492f925a0</td>\n",
       "      <td>click_item</td>\n",
       "      <td>DYhM5p/b/7nkhUZCJvXj5A==</td>\n",
       "      <td>z10Ej/yvd1gRFxX6rl0XKQ==</td>\n",
       "      <td>mobile</td>\n",
       "      <td>Seoul</td>\n",
       "      <td>IOS</td>\n",
       "      <td>1</td>\n",
       "      <td>1991-03-14</td>\n",
       "      <td>...</td>\n",
       "      <td>5dec0844e00c4b5266d97d331d972e85</td>\n",
       "      <td>33220.0</td>\n",
       "      <td>243100100</td>\n",
       "      <td>의류</td>\n",
       "      <td>243104100</td>\n",
       "      <td>하의</td>\n",
       "      <td>243104101</td>\n",
       "      <td>바지</td>\n",
       "      <td>6632.0</td>\n",
       "      <td>toii</td>\n",
       "    </tr>\n",
       "    <tr>\n",
       "      <th>2021-07-31 12:40:03.685106</th>\n",
       "      <td>3483006</td>\n",
       "      <td>e7cee6d0db15ce5cf52189c0053a93e8</td>\n",
       "      <td>click_item</td>\n",
       "      <td>9j/RJVy3uuEiJ7NBZlZAYQ==</td>\n",
       "      <td>OWkbrvUMsJWYui+puYQhog==</td>\n",
       "      <td>mobile</td>\n",
       "      <td>Seoul</td>\n",
       "      <td>IOS</td>\n",
       "      <td>1</td>\n",
       "      <td>1998-12-16</td>\n",
       "      <td>...</td>\n",
       "      <td>2914aa53f6b0a5a5f57975a56b95f89d</td>\n",
       "      <td>85000.0</td>\n",
       "      <td>243100100</td>\n",
       "      <td>의류</td>\n",
       "      <td>243103100</td>\n",
       "      <td>원피스/점프수트</td>\n",
       "      <td>243103101</td>\n",
       "      <td>원피스</td>\n",
       "      <td>6513.0</td>\n",
       "      <td>LOEIL</td>\n",
       "    </tr>\n",
       "    <tr>\n",
       "      <th>2021-06-17 23:39:19.132287</th>\n",
       "      <td>4850591</td>\n",
       "      <td>0adcbc4783699832ad6b28be1c43ba2e</td>\n",
       "      <td>click_item</td>\n",
       "      <td>IQK+nUnF4vCXQvmQynWMxA==</td>\n",
       "      <td>cGRjS4mif2FbMt2O3ON1QA==</td>\n",
       "      <td>mobile</td>\n",
       "      <td>Gyeonggi-do</td>\n",
       "      <td>IOS</td>\n",
       "      <td>1</td>\n",
       "      <td>1993-03-30</td>\n",
       "      <td>...</td>\n",
       "      <td>6ba8a2c057d662d2f2ea9808b781d45b</td>\n",
       "      <td>42000.0</td>\n",
       "      <td>243100100</td>\n",
       "      <td>의류</td>\n",
       "      <td>243102100</td>\n",
       "      <td>상의</td>\n",
       "      <td>243102103</td>\n",
       "      <td>티셔츠</td>\n",
       "      <td>4630.0</td>\n",
       "      <td>Un Bon Collector</td>\n",
       "    </tr>\n",
       "    <tr>\n",
       "      <th>2021-07-02 17:08:40.662000</th>\n",
       "      <td>902998</td>\n",
       "      <td>88df0561785fa31ca5b4008fb6ac338e</td>\n",
       "      <td>click_item</td>\n",
       "      <td>lGNZ4iQDeguZfCnq1NOX/w==</td>\n",
       "      <td>S5z29Twus+D0oDpzEfiZvg==</td>\n",
       "      <td>mobile</td>\n",
       "      <td>Daejeon</td>\n",
       "      <td>IOS</td>\n",
       "      <td>1</td>\n",
       "      <td>1996-06-16</td>\n",
       "      <td>...</td>\n",
       "      <td>e3e1dffe0759797eca6065e5d4414415</td>\n",
       "      <td>129000.0</td>\n",
       "      <td>243100100</td>\n",
       "      <td>의류</td>\n",
       "      <td>243104100</td>\n",
       "      <td>하의</td>\n",
       "      <td>243104101</td>\n",
       "      <td>바지</td>\n",
       "      <td>9294.0</td>\n",
       "      <td>LOEUVRE RTW</td>\n",
       "    </tr>\n",
       "  </tbody>\n",
       "</table>\n",
       "<p>16628 rows × 23 columns</p>\n",
       "</div>"
      ],
      "text/plain": [
       "                            Unnamed: 0                        session_id  \\\n",
       "event_timestamp                                                            \n",
       "2021-06-11 00:36:40.265024     2255797  c8c66cdfc2286951af36bd11f26575f2   \n",
       "2021-06-29 11:47:03.741037     4183409  35101c1b373142946d4ab22787a809b9   \n",
       "2021-07-11 22:31:42.904002      375000  5c901cfba8cf2c4d25b638aef513a52a   \n",
       "2021-08-02 19:09:15.173024     5456436  58ac3e65ccf2eb4988b58208f252d359   \n",
       "2021-07-18 16:15:52.274029     4704356  990ecc138c1cbd618aca7cfd08cd1aa8   \n",
       "...                                ...                               ...   \n",
       "2021-07-15 18:54:19.918064     5061676  010a10c3d038a9778b054616988a3840   \n",
       "2021-06-23 18:10:56.236026     3202842  bfdb2e825c648d3153a5709492f925a0   \n",
       "2021-07-31 12:40:03.685106     3483006  e7cee6d0db15ce5cf52189c0053a93e8   \n",
       "2021-06-17 23:39:19.132287     4850591  0adcbc4783699832ad6b28be1c43ba2e   \n",
       "2021-07-02 17:08:40.662000      902998  88df0561785fa31ca5b4008fb6ac338e   \n",
       "\n",
       "                            event_name                   user_no  \\\n",
       "event_timestamp                                                    \n",
       "2021-06-11 00:36:40.265024  click_item  5cDoQ298+z7/vx/fNVoZFw==   \n",
       "2021-06-29 11:47:03.741037  click_item  moLuwbMr1ZLKJoBHmRgCqg==   \n",
       "2021-07-11 22:31:42.904002  click_item  QA9tQMeKUyUIgAKlbSfpYw==   \n",
       "2021-08-02 19:09:15.173024  click_item  bCMrhzWWzYxzqInKRUFzew==   \n",
       "2021-07-18 16:15:52.274029  click_item  /B+O3jb7d/LeH4nKOZDpKg==   \n",
       "...                                ...                       ...   \n",
       "2021-07-15 18:54:19.918064  click_item  OKOXQiBMaEet0w4tVwlrCw==   \n",
       "2021-06-23 18:10:56.236026  click_item  DYhM5p/b/7nkhUZCJvXj5A==   \n",
       "2021-07-31 12:40:03.685106  click_item  9j/RJVy3uuEiJ7NBZlZAYQ==   \n",
       "2021-06-17 23:39:19.132287  click_item  IQK+nUnF4vCXQvmQynWMxA==   \n",
       "2021-07-02 17:08:40.662000  click_item  lGNZ4iQDeguZfCnq1NOX/w==   \n",
       "\n",
       "                                             item_no device_type  \\\n",
       "event_timestamp                                                    \n",
       "2021-06-11 00:36:40.265024  NdCPDxLau3caXTbPoO2KFA==      mobile   \n",
       "2021-06-29 11:47:03.741037  9viu9/Vp1NMnPXgmvxKdrw==      mobile   \n",
       "2021-07-11 22:31:42.904002  1B4CTtvF1BeNFZzrdtx4vQ==      mobile   \n",
       "2021-08-02 19:09:15.173024  ZnZNKHuqlz863Bo1wkKcLw==      mobile   \n",
       "2021-07-18 16:15:52.274029  11ZJqzJf0OKHy5xVWscPrw==      mobile   \n",
       "...                                              ...         ...   \n",
       "2021-07-15 18:54:19.918064  bMgc9d9iMOXMI1H+JkdHYw==      mobile   \n",
       "2021-06-23 18:10:56.236026  z10Ej/yvd1gRFxX6rl0XKQ==      mobile   \n",
       "2021-07-31 12:40:03.685106  OWkbrvUMsJWYui+puYQhog==      mobile   \n",
       "2021-06-17 23:39:19.132287  cGRjS4mif2FbMt2O3ON1QA==      mobile   \n",
       "2021-07-02 17:08:40.662000  S5z29Twus+D0oDpzEfiZvg==      mobile   \n",
       "\n",
       "                                      region platform  rating  birth_date  \\\n",
       "event_timestamp                                                             \n",
       "2021-06-11 00:36:40.265024             Seoul      IOS       1  1976-05-10   \n",
       "2021-06-29 11:47:03.741037             Seoul  ANDROID       1  1961-03-20   \n",
       "2021-07-11 22:31:42.904002        Gangwon-do      IOS       1  1987-09-23   \n",
       "2021-08-02 19:09:15.173024             Daegu      IOS       1  2000-03-28   \n",
       "2021-07-18 16:15:52.274029  Gyeongsangnam-do      IOS       1  1982-04-16   \n",
       "...                                      ...      ...     ...         ...   \n",
       "2021-07-15 18:54:19.918064             Seoul      IOS       1  1994-01-22   \n",
       "2021-06-23 18:10:56.236026             Seoul      IOS       1  1991-03-14   \n",
       "2021-07-31 12:40:03.685106             Seoul      IOS       1  1998-12-16   \n",
       "2021-06-17 23:39:19.132287       Gyeonggi-do      IOS       1  1993-03-30   \n",
       "2021-07-02 17:08:40.662000           Daejeon      IOS       1  1996-06-16   \n",
       "\n",
       "                            ...                        image_name     price  \\\n",
       "event_timestamp             ...                                               \n",
       "2021-06-11 00:36:40.265024  ...  0e8ff9cc6221b8c4c060786c1c2e0bc5  198000.0   \n",
       "2021-06-29 11:47:03.741037  ...  a6997ae34edb96e42ffbbccdd1a1b00a   58000.0   \n",
       "2021-07-11 22:31:42.904002  ...  dc38dced60dfa3a5ac19d367bb10a3c5   67500.0   \n",
       "2021-08-02 19:09:15.173024  ...  ada54816bc84fde22196b7df843ed754   39900.0   \n",
       "2021-07-18 16:15:52.274029  ...  913e07943fe547acfdd1be8939c10e9b   59000.0   \n",
       "...                         ...                               ...       ...   \n",
       "2021-07-15 18:54:19.918064  ...  dedbd76d8592b0e91b1786b8f329c106   49900.0   \n",
       "2021-06-23 18:10:56.236026  ...  5dec0844e00c4b5266d97d331d972e85   33220.0   \n",
       "2021-07-31 12:40:03.685106  ...  2914aa53f6b0a5a5f57975a56b95f89d   85000.0   \n",
       "2021-06-17 23:39:19.132287  ...  6ba8a2c057d662d2f2ea9808b781d45b   42000.0   \n",
       "2021-07-02 17:08:40.662000  ...  e3e1dffe0759797eca6065e5d4414415  129000.0   \n",
       "\n",
       "                           category1_code category1_name  category2_code  \\\n",
       "event_timestamp                                                            \n",
       "2021-06-11 00:36:40.265024      243100100             의류       243103100   \n",
       "2021-06-29 11:47:03.741037      243100100             의류       243104100   \n",
       "2021-07-11 22:31:42.904002      243100100             의류       243104100   \n",
       "2021-08-02 19:09:15.173024      244100100             잡화       244106100   \n",
       "2021-07-18 16:15:52.274029      248100100        가구/인테리어       248112100   \n",
       "...                                   ...            ...             ...   \n",
       "2021-07-15 18:54:19.918064      243100100             의류       243102100   \n",
       "2021-06-23 18:10:56.236026      243100100             의류       243104100   \n",
       "2021-07-31 12:40:03.685106      243100100             의류       243103100   \n",
       "2021-06-17 23:39:19.132287      243100100             의류       243102100   \n",
       "2021-07-02 17:08:40.662000      243100100             의류       243104100   \n",
       "\n",
       "                            category2_name category3_code  category3_name  \\\n",
       "event_timestamp                                                             \n",
       "2021-06-11 00:36:40.265024        원피스/점프수트      243103101             원피스   \n",
       "2021-06-29 11:47:03.741037              하의      243104101              바지   \n",
       "2021-07-11 22:31:42.904002              하의      243104101              바지   \n",
       "2021-08-02 19:09:15.173024             주얼리      244106103             목걸이   \n",
       "2021-07-18 16:15:52.274029         커튼/블라인드      248112102         커튼/로만세트   \n",
       "...                                    ...            ...             ...   \n",
       "2021-07-15 18:54:19.918064              상의      243102103             티셔츠   \n",
       "2021-06-23 18:10:56.236026              하의      243104101              바지   \n",
       "2021-07-31 12:40:03.685106        원피스/점프수트      243103101             원피스   \n",
       "2021-06-17 23:39:19.132287              상의      243102103             티셔츠   \n",
       "2021-07-02 17:08:40.662000              하의      243104101              바지   \n",
       "\n",
       "                           brand_no        brand_name  \n",
       "event_timestamp                                        \n",
       "2021-06-11 00:36:40.265024   3739.0          avamolli  \n",
       "2021-06-29 11:47:03.741037  13865.0        ucberkeley  \n",
       "2021-07-11 22:31:42.904002   2649.0        THOMASMORE  \n",
       "2021-08-02 19:09:15.173024  11744.0              CLUE  \n",
       "2021-07-18 16:15:52.274029   7726.0             에이미루시  \n",
       "...                             ...               ...  \n",
       "2021-07-15 18:54:19.918064  13304.0            polham  \n",
       "2021-06-23 18:10:56.236026   6632.0              toii  \n",
       "2021-07-31 12:40:03.685106   6513.0             LOEIL  \n",
       "2021-06-17 23:39:19.132287   4630.0  Un Bon Collector  \n",
       "2021-07-02 17:08:40.662000   9294.0       LOEUVRE RTW  \n",
       "\n",
       "[16628 rows x 23 columns]"
      ]
     },
     "execution_count": 31,
     "metadata": {},
     "output_type": "execute_result"
    }
   ],
   "source": [
    "def _trans_date_time(df):\n",
    "    df.index = pd.to_datetime(df['event_timestamp'], infer_datetime_format=True)\n",
    "    df.drop('event_timestamp', axis=1, inplace=True)\n",
    "    return df\n",
    "\n",
    "_trans_date_time(total)"
   ]
  },
  {
   "cell_type": "code",
   "execution_count": 32,
   "metadata": {},
   "outputs": [],
   "source": [
    "total[\"Year\"] = total.index.year \n",
    "total[\"Month\"] = total.index.month\n",
    "total[\"Day\"] = total.index.day\n",
    "total[\"Hour\"] = total.index.hour\n",
    "total['Minute'] = total.index.minute\n",
    "total[\"Date\"] = pd.DatetimeIndex(total.index).date"
   ]
  },
  {
   "cell_type": "code",
   "execution_count": 33,
   "metadata": {},
   "outputs": [
    {
     "data": {
      "text/html": [
       "<div>\n",
       "<style scoped>\n",
       "    .dataframe tbody tr th:only-of-type {\n",
       "        vertical-align: middle;\n",
       "    }\n",
       "\n",
       "    .dataframe tbody tr th {\n",
       "        vertical-align: top;\n",
       "    }\n",
       "\n",
       "    .dataframe thead th {\n",
       "        text-align: right;\n",
       "    }\n",
       "</style>\n",
       "<table border=\"1\" class=\"dataframe\">\n",
       "  <thead>\n",
       "    <tr style=\"text-align: right;\">\n",
       "      <th></th>\n",
       "      <th>Unnamed: 0</th>\n",
       "      <th>session_id</th>\n",
       "      <th>event_name</th>\n",
       "      <th>user_no</th>\n",
       "      <th>item_no</th>\n",
       "      <th>device_type</th>\n",
       "      <th>region</th>\n",
       "      <th>platform</th>\n",
       "      <th>rating</th>\n",
       "      <th>birth_date</th>\n",
       "      <th>...</th>\n",
       "      <th>category3_code</th>\n",
       "      <th>category3_name</th>\n",
       "      <th>brand_no</th>\n",
       "      <th>brand_name</th>\n",
       "      <th>Year</th>\n",
       "      <th>Month</th>\n",
       "      <th>Day</th>\n",
       "      <th>Hour</th>\n",
       "      <th>Minute</th>\n",
       "      <th>Date</th>\n",
       "    </tr>\n",
       "    <tr>\n",
       "      <th>event_timestamp</th>\n",
       "      <th></th>\n",
       "      <th></th>\n",
       "      <th></th>\n",
       "      <th></th>\n",
       "      <th></th>\n",
       "      <th></th>\n",
       "      <th></th>\n",
       "      <th></th>\n",
       "      <th></th>\n",
       "      <th></th>\n",
       "      <th></th>\n",
       "      <th></th>\n",
       "      <th></th>\n",
       "      <th></th>\n",
       "      <th></th>\n",
       "      <th></th>\n",
       "      <th></th>\n",
       "      <th></th>\n",
       "      <th></th>\n",
       "      <th></th>\n",
       "      <th></th>\n",
       "    </tr>\n",
       "  </thead>\n",
       "  <tbody>\n",
       "    <tr>\n",
       "      <th>2021-06-11 00:36:40.265024</th>\n",
       "      <td>2255797</td>\n",
       "      <td>c8c66cdfc2286951af36bd11f26575f2</td>\n",
       "      <td>click_item</td>\n",
       "      <td>5cDoQ298+z7/vx/fNVoZFw==</td>\n",
       "      <td>NdCPDxLau3caXTbPoO2KFA==</td>\n",
       "      <td>mobile</td>\n",
       "      <td>Seoul</td>\n",
       "      <td>IOS</td>\n",
       "      <td>1</td>\n",
       "      <td>1976-05-10</td>\n",
       "      <td>...</td>\n",
       "      <td>243103101</td>\n",
       "      <td>원피스</td>\n",
       "      <td>3739.0</td>\n",
       "      <td>avamolli</td>\n",
       "      <td>2021</td>\n",
       "      <td>6</td>\n",
       "      <td>11</td>\n",
       "      <td>0</td>\n",
       "      <td>36</td>\n",
       "      <td>2021-06-11</td>\n",
       "    </tr>\n",
       "    <tr>\n",
       "      <th>2021-06-29 11:47:03.741037</th>\n",
       "      <td>4183409</td>\n",
       "      <td>35101c1b373142946d4ab22787a809b9</td>\n",
       "      <td>click_item</td>\n",
       "      <td>moLuwbMr1ZLKJoBHmRgCqg==</td>\n",
       "      <td>9viu9/Vp1NMnPXgmvxKdrw==</td>\n",
       "      <td>mobile</td>\n",
       "      <td>Seoul</td>\n",
       "      <td>ANDROID</td>\n",
       "      <td>1</td>\n",
       "      <td>1961-03-20</td>\n",
       "      <td>...</td>\n",
       "      <td>243104101</td>\n",
       "      <td>바지</td>\n",
       "      <td>13865.0</td>\n",
       "      <td>ucberkeley</td>\n",
       "      <td>2021</td>\n",
       "      <td>6</td>\n",
       "      <td>29</td>\n",
       "      <td>11</td>\n",
       "      <td>47</td>\n",
       "      <td>2021-06-29</td>\n",
       "    </tr>\n",
       "    <tr>\n",
       "      <th>2021-07-11 22:31:42.904002</th>\n",
       "      <td>375000</td>\n",
       "      <td>5c901cfba8cf2c4d25b638aef513a52a</td>\n",
       "      <td>click_item</td>\n",
       "      <td>QA9tQMeKUyUIgAKlbSfpYw==</td>\n",
       "      <td>1B4CTtvF1BeNFZzrdtx4vQ==</td>\n",
       "      <td>mobile</td>\n",
       "      <td>Gangwon-do</td>\n",
       "      <td>IOS</td>\n",
       "      <td>1</td>\n",
       "      <td>1987-09-23</td>\n",
       "      <td>...</td>\n",
       "      <td>243104101</td>\n",
       "      <td>바지</td>\n",
       "      <td>2649.0</td>\n",
       "      <td>THOMASMORE</td>\n",
       "      <td>2021</td>\n",
       "      <td>7</td>\n",
       "      <td>11</td>\n",
       "      <td>22</td>\n",
       "      <td>31</td>\n",
       "      <td>2021-07-11</td>\n",
       "    </tr>\n",
       "    <tr>\n",
       "      <th>2021-08-02 19:09:15.173024</th>\n",
       "      <td>5456436</td>\n",
       "      <td>58ac3e65ccf2eb4988b58208f252d359</td>\n",
       "      <td>click_item</td>\n",
       "      <td>bCMrhzWWzYxzqInKRUFzew==</td>\n",
       "      <td>ZnZNKHuqlz863Bo1wkKcLw==</td>\n",
       "      <td>mobile</td>\n",
       "      <td>Daegu</td>\n",
       "      <td>IOS</td>\n",
       "      <td>1</td>\n",
       "      <td>2000-03-28</td>\n",
       "      <td>...</td>\n",
       "      <td>244106103</td>\n",
       "      <td>목걸이</td>\n",
       "      <td>11744.0</td>\n",
       "      <td>CLUE</td>\n",
       "      <td>2021</td>\n",
       "      <td>8</td>\n",
       "      <td>2</td>\n",
       "      <td>19</td>\n",
       "      <td>9</td>\n",
       "      <td>2021-08-02</td>\n",
       "    </tr>\n",
       "    <tr>\n",
       "      <th>2021-07-18 16:15:52.274029</th>\n",
       "      <td>4704356</td>\n",
       "      <td>990ecc138c1cbd618aca7cfd08cd1aa8</td>\n",
       "      <td>click_item</td>\n",
       "      <td>/B+O3jb7d/LeH4nKOZDpKg==</td>\n",
       "      <td>11ZJqzJf0OKHy5xVWscPrw==</td>\n",
       "      <td>mobile</td>\n",
       "      <td>Gyeongsangnam-do</td>\n",
       "      <td>IOS</td>\n",
       "      <td>1</td>\n",
       "      <td>1982-04-16</td>\n",
       "      <td>...</td>\n",
       "      <td>248112102</td>\n",
       "      <td>커튼/로만세트</td>\n",
       "      <td>7726.0</td>\n",
       "      <td>에이미루시</td>\n",
       "      <td>2021</td>\n",
       "      <td>7</td>\n",
       "      <td>18</td>\n",
       "      <td>16</td>\n",
       "      <td>15</td>\n",
       "      <td>2021-07-18</td>\n",
       "    </tr>\n",
       "  </tbody>\n",
       "</table>\n",
       "<p>5 rows × 29 columns</p>\n",
       "</div>"
      ],
      "text/plain": [
       "                            Unnamed: 0                        session_id  \\\n",
       "event_timestamp                                                            \n",
       "2021-06-11 00:36:40.265024     2255797  c8c66cdfc2286951af36bd11f26575f2   \n",
       "2021-06-29 11:47:03.741037     4183409  35101c1b373142946d4ab22787a809b9   \n",
       "2021-07-11 22:31:42.904002      375000  5c901cfba8cf2c4d25b638aef513a52a   \n",
       "2021-08-02 19:09:15.173024     5456436  58ac3e65ccf2eb4988b58208f252d359   \n",
       "2021-07-18 16:15:52.274029     4704356  990ecc138c1cbd618aca7cfd08cd1aa8   \n",
       "\n",
       "                            event_name                   user_no  \\\n",
       "event_timestamp                                                    \n",
       "2021-06-11 00:36:40.265024  click_item  5cDoQ298+z7/vx/fNVoZFw==   \n",
       "2021-06-29 11:47:03.741037  click_item  moLuwbMr1ZLKJoBHmRgCqg==   \n",
       "2021-07-11 22:31:42.904002  click_item  QA9tQMeKUyUIgAKlbSfpYw==   \n",
       "2021-08-02 19:09:15.173024  click_item  bCMrhzWWzYxzqInKRUFzew==   \n",
       "2021-07-18 16:15:52.274029  click_item  /B+O3jb7d/LeH4nKOZDpKg==   \n",
       "\n",
       "                                             item_no device_type  \\\n",
       "event_timestamp                                                    \n",
       "2021-06-11 00:36:40.265024  NdCPDxLau3caXTbPoO2KFA==      mobile   \n",
       "2021-06-29 11:47:03.741037  9viu9/Vp1NMnPXgmvxKdrw==      mobile   \n",
       "2021-07-11 22:31:42.904002  1B4CTtvF1BeNFZzrdtx4vQ==      mobile   \n",
       "2021-08-02 19:09:15.173024  ZnZNKHuqlz863Bo1wkKcLw==      mobile   \n",
       "2021-07-18 16:15:52.274029  11ZJqzJf0OKHy5xVWscPrw==      mobile   \n",
       "\n",
       "                                      region platform  rating  birth_date  \\\n",
       "event_timestamp                                                             \n",
       "2021-06-11 00:36:40.265024             Seoul      IOS       1  1976-05-10   \n",
       "2021-06-29 11:47:03.741037             Seoul  ANDROID       1  1961-03-20   \n",
       "2021-07-11 22:31:42.904002        Gangwon-do      IOS       1  1987-09-23   \n",
       "2021-08-02 19:09:15.173024             Daegu      IOS       1  2000-03-28   \n",
       "2021-07-18 16:15:52.274029  Gyeongsangnam-do      IOS       1  1982-04-16   \n",
       "\n",
       "                            ... category3_code  category3_name brand_no  \\\n",
       "event_timestamp             ...                                           \n",
       "2021-06-11 00:36:40.265024  ...      243103101             원피스   3739.0   \n",
       "2021-06-29 11:47:03.741037  ...      243104101              바지  13865.0   \n",
       "2021-07-11 22:31:42.904002  ...      243104101              바지   2649.0   \n",
       "2021-08-02 19:09:15.173024  ...      244106103             목걸이  11744.0   \n",
       "2021-07-18 16:15:52.274029  ...      248112102         커튼/로만세트   7726.0   \n",
       "\n",
       "                            brand_name  Year  Month Day  Hour Minute  \\\n",
       "event_timestamp                                                        \n",
       "2021-06-11 00:36:40.265024    avamolli  2021      6  11     0     36   \n",
       "2021-06-29 11:47:03.741037  ucberkeley  2021      6  29    11     47   \n",
       "2021-07-11 22:31:42.904002  THOMASMORE  2021      7  11    22     31   \n",
       "2021-08-02 19:09:15.173024        CLUE  2021      8   2    19      9   \n",
       "2021-07-18 16:15:52.274029       에이미루시  2021      7  18    16     15   \n",
       "\n",
       "                                  Date  \n",
       "event_timestamp                         \n",
       "2021-06-11 00:36:40.265024  2021-06-11  \n",
       "2021-06-29 11:47:03.741037  2021-06-29  \n",
       "2021-07-11 22:31:42.904002  2021-07-11  \n",
       "2021-08-02 19:09:15.173024  2021-08-02  \n",
       "2021-07-18 16:15:52.274029  2021-07-18  \n",
       "\n",
       "[5 rows x 29 columns]"
      ]
     },
     "execution_count": 33,
     "metadata": {},
     "output_type": "execute_result"
    }
   ],
   "source": [
    "total.head()"
   ]
  },
  {
   "cell_type": "code",
   "execution_count": 34,
   "metadata": {},
   "outputs": [
    {
     "data": {
      "text/plain": [
       "22    0.086120\n",
       "23    0.085158\n",
       "0     0.070965\n",
       "21    0.066153\n",
       "20    0.054366\n",
       "1     0.049675\n",
       "16    0.045526\n",
       "19    0.045465\n",
       "15    0.043300\n",
       "13    0.042699\n",
       "12    0.042038\n",
       "17    0.041316\n",
       "10    0.040895\n",
       "14    0.040895\n",
       "18    0.040835\n",
       "11    0.040474\n",
       "9     0.034280\n",
       "8     0.033798\n",
       "2     0.029529\n",
       "3     0.019425\n",
       "7     0.018282\n",
       "6     0.010885\n",
       "4     0.009201\n",
       "5     0.008720\n",
       "Name: Hour, dtype: float64"
      ]
     },
     "metadata": {},
     "output_type": "display_data"
    },
    {
     "data": {
      "image/png": "[encoded data removed]",
      "text/plain": [
       "<Figure size 1600x400 with 1 Axes>"
      ]
     },
     "metadata": {},
     "output_type": "display_data"
    }
   ],
   "source": [
    "plt.figure(figsize=(16, 4))\n",
    "display(total[\"Hour\"].value_counts(normalize=True))\n",
    "sns.countplot(data=total, x=\"Hour\", palette='cool')\n",
    "# sns.set_palette('Paired', 9)\n",
    "plt.title('total')\n",
    "plt.xticks()\n",
    "sns.despine()"
   ]
  },
  {
   "attachments": {},
   "cell_type": "markdown",
   "metadata": {},
   "source": [
    "## 메인시간대와, 서브시간대 분석"
   ]
  },
  {
   "cell_type": "code",
   "execution_count": 35,
   "metadata": {},
   "outputs": [],
   "source": [
    "total['Hour'] = total['Hour'].replace(0, 24)"
   ]
  },
  {
   "cell_type": "code",
   "execution_count": 37,
   "metadata": {},
   "outputs": [],
   "source": [
    "main_time = total[total['Hour'] > 19]\n",
    "sub_time = total[total['Hour'] <= 19]"
   ]
  },
  {
   "cell_type": "code",
   "execution_count": 40,
   "metadata": {},
   "outputs": [
    {
     "data": {
      "text/plain": [
       "Index(['Unnamed: 0', 'session_id', 'event_name', 'user_no', 'item_no',\n",
       "       'device_type', 'region', 'platform', 'rating', 'birth_date', 'gender',\n",
       "       'age', 'item_name', 'image_name', 'price', 'category1_code',\n",
       "       'category1_name', 'category2_code', 'category2_name', 'category3_code',\n",
       "       'category3_name', 'brand_no', 'brand_name', 'Year', 'Month', 'Day',\n",
       "       'Hour', 'Minute', 'Date'],\n",
       "      dtype='object')"
      ]
     },
     "execution_count": 40,
     "metadata": {},
     "output_type": "execute_result"
    }
   ],
   "source": [
    "main_time.columns"
   ]
  },
  {
   "cell_type": "code",
   "execution_count": 47,
   "metadata": {},
   "outputs": [
    {
     "data": {
      "text/html": [
       "<div>\n",
       "<style scoped>\n",
       "    .dataframe tbody tr th:only-of-type {\n",
       "        vertical-align: middle;\n",
       "    }\n",
       "\n",
       "    .dataframe tbody tr th {\n",
       "        vertical-align: top;\n",
       "    }\n",
       "\n",
       "    .dataframe thead th {\n",
       "        text-align: right;\n",
       "    }\n",
       "</style>\n",
       "<table border=\"1\" class=\"dataframe\">\n",
       "  <thead>\n",
       "    <tr style=\"text-align: right;\">\n",
       "      <th></th>\n",
       "      <th>brand_name</th>\n",
       "      <th>event_name</th>\n",
       "      <th>count</th>\n",
       "    </tr>\n",
       "  </thead>\n",
       "  <tbody>\n",
       "    <tr>\n",
       "      <th>6</th>\n",
       "      <td>ALVINCLO</td>\n",
       "      <td>purchase_success</td>\n",
       "      <td>9</td>\n",
       "    </tr>\n",
       "    <tr>\n",
       "      <th>8</th>\n",
       "      <td>ANOTHEROFFICE</td>\n",
       "      <td>purchase_success</td>\n",
       "      <td>4</td>\n",
       "    </tr>\n",
       "    <tr>\n",
       "      <th>3</th>\n",
       "      <td>ABONNE</td>\n",
       "      <td>purchase_success</td>\n",
       "      <td>3</td>\n",
       "    </tr>\n",
       "    <tr>\n",
       "      <th>0</th>\n",
       "      <td>1507</td>\n",
       "      <td>purchase_success</td>\n",
       "      <td>2</td>\n",
       "    </tr>\n",
       "    <tr>\n",
       "      <th>7</th>\n",
       "      <td>ANEDIT</td>\n",
       "      <td>purchase_success</td>\n",
       "      <td>2</td>\n",
       "    </tr>\n",
       "    <tr>\n",
       "      <th>1</th>\n",
       "      <td>210edit</td>\n",
       "      <td>purchase_success</td>\n",
       "      <td>1</td>\n",
       "    </tr>\n",
       "    <tr>\n",
       "      <th>2</th>\n",
       "      <td>38comeoncommon</td>\n",
       "      <td>purchase_success</td>\n",
       "      <td>1</td>\n",
       "    </tr>\n",
       "    <tr>\n",
       "      <th>4</th>\n",
       "      <td>ADIDAS_비비엘유이</td>\n",
       "      <td>purchase_success</td>\n",
       "      <td>1</td>\n",
       "    </tr>\n",
       "    <tr>\n",
       "      <th>5</th>\n",
       "      <td>AHE</td>\n",
       "      <td>purchase_success</td>\n",
       "      <td>1</td>\n",
       "    </tr>\n",
       "    <tr>\n",
       "      <th>9</th>\n",
       "      <td>ARETHAT</td>\n",
       "      <td>purchase_success</td>\n",
       "      <td>1</td>\n",
       "    </tr>\n",
       "  </tbody>\n",
       "</table>\n",
       "</div>"
      ],
      "text/plain": [
       "       brand_name        event_name  count\n",
       "6        ALVINCLO  purchase_success      9\n",
       "8   ANOTHEROFFICE  purchase_success      4\n",
       "3          ABONNE  purchase_success      3\n",
       "0            1507  purchase_success      2\n",
       "7          ANEDIT  purchase_success      2\n",
       "1         210edit  purchase_success      1\n",
       "2  38comeoncommon  purchase_success      1\n",
       "4    ADIDAS_비비엘유이  purchase_success      1\n",
       "5             AHE  purchase_success      1\n",
       "9         ARETHAT  purchase_success      1"
      ]
     },
     "execution_count": 47,
     "metadata": {},
     "output_type": "execute_result"
    }
   ],
   "source": [
    "# 메인 시간대 (20 ~ 24)\n",
    "success = main_time[main_time['event_name'] == 'purchase_success'] # click_item, purchase_success\n",
    "\n",
    "userid_rating_df = pd.DataFrame({'count': success.groupby(['brand_name', 'event_name']).size()}) \n",
    "userid_rating_df = userid_rating_df.reset_index()\n",
    "userid_rating_df.head(10).sort_values(by='count', ascending=False)\n",
    "\n",
    "# 각 컬럼별로 특징을 찾으려고 했지만 찾지못했다"
   ]
  },
  {
   "cell_type": "code",
   "execution_count": 53,
   "metadata": {},
   "outputs": [
    {
     "data": {
      "text/html": [
       "<div>\n",
       "<style scoped>\n",
       "    .dataframe tbody tr th:only-of-type {\n",
       "        vertical-align: middle;\n",
       "    }\n",
       "\n",
       "    .dataframe tbody tr th {\n",
       "        vertical-align: top;\n",
       "    }\n",
       "\n",
       "    .dataframe thead th {\n",
       "        text-align: right;\n",
       "    }\n",
       "</style>\n",
       "<table border=\"1\" class=\"dataframe\">\n",
       "  <thead>\n",
       "    <tr style=\"text-align: right;\">\n",
       "      <th></th>\n",
       "      <th>brand_name</th>\n",
       "      <th>event_name</th>\n",
       "      <th>count</th>\n",
       "    </tr>\n",
       "  </thead>\n",
       "  <tbody>\n",
       "    <tr>\n",
       "      <th>0</th>\n",
       "      <td>1507</td>\n",
       "      <td>purchase_success</td>\n",
       "      <td>8</td>\n",
       "    </tr>\n",
       "    <tr>\n",
       "      <th>2</th>\n",
       "      <td>38comeoncommon</td>\n",
       "      <td>purchase_success</td>\n",
       "      <td>3</td>\n",
       "    </tr>\n",
       "    <tr>\n",
       "      <th>1</th>\n",
       "      <td>210edit</td>\n",
       "      <td>purchase_success</td>\n",
       "      <td>1</td>\n",
       "    </tr>\n",
       "    <tr>\n",
       "      <th>3</th>\n",
       "      <td>3FISH</td>\n",
       "      <td>purchase_success</td>\n",
       "      <td>1</td>\n",
       "    </tr>\n",
       "    <tr>\n",
       "      <th>4</th>\n",
       "      <td>47brand_이든</td>\n",
       "      <td>purchase_success</td>\n",
       "      <td>1</td>\n",
       "    </tr>\n",
       "    <tr>\n",
       "      <th>5</th>\n",
       "      <td>A.P.C._마이트레이딩홀딩스</td>\n",
       "      <td>purchase_success</td>\n",
       "      <td>1</td>\n",
       "    </tr>\n",
       "    <tr>\n",
       "      <th>6</th>\n",
       "      <td>A.P.C._이랜드리테일</td>\n",
       "      <td>purchase_success</td>\n",
       "      <td>1</td>\n",
       "    </tr>\n",
       "    <tr>\n",
       "      <th>7</th>\n",
       "      <td>AAA</td>\n",
       "      <td>purchase_success</td>\n",
       "      <td>1</td>\n",
       "    </tr>\n",
       "    <tr>\n",
       "      <th>8</th>\n",
       "      <td>ABONNE</td>\n",
       "      <td>purchase_success</td>\n",
       "      <td>1</td>\n",
       "    </tr>\n",
       "    <tr>\n",
       "      <th>9</th>\n",
       "      <td>ADIDAS_한아</td>\n",
       "      <td>purchase_success</td>\n",
       "      <td>1</td>\n",
       "    </tr>\n",
       "  </tbody>\n",
       "</table>\n",
       "</div>"
      ],
      "text/plain": [
       "         brand_name        event_name  count\n",
       "0              1507  purchase_success      8\n",
       "2    38comeoncommon  purchase_success      3\n",
       "1           210edit  purchase_success      1\n",
       "3             3FISH  purchase_success      1\n",
       "4        47brand_이든  purchase_success      1\n",
       "5  A.P.C._마이트레이딩홀딩스  purchase_success      1\n",
       "6     A.P.C._이랜드리테일  purchase_success      1\n",
       "7               AAA  purchase_success      1\n",
       "8            ABONNE  purchase_success      1\n",
       "9         ADIDAS_한아  purchase_success      1"
      ]
     },
     "execution_count": 53,
     "metadata": {},
     "output_type": "execute_result"
    }
   ],
   "source": [
    "# 서브 시간대 (1 ~ 19)\n",
    "success = sub_time[sub_time['event_name'] == 'purchase_success'] # click_item\n",
    "\n",
    "userid_rating_df = pd.DataFrame({'count': success.groupby(['brand_name', 'event_name']).size()}) #category1_name, category3_name\n",
    "userid_rating_df = userid_rating_df.reset_index()\n",
    "userid_rating_df.head(10).sort_values(by='count', ascending=False)\n",
    "\n",
    "# 각 컬럼별로 특징을 찾으려고 했지만 찾지못했다"
   ]
  },
  {
   "attachments": {},
   "cell_type": "markdown",
   "metadata": {},
   "source": [
    "# Prophet"
   ]
  },
  {
   "cell_type": "code",
   "execution_count": 57,
   "metadata": {},
   "outputs": [
    {
     "data": {
      "text/plain": [
       "Index(['Unnamed: 0', 'session_id', 'event_name', 'user_no', 'item_no',\n",
       "       'device_type', 'region', 'platform', 'rating', 'birth_date', 'gender',\n",
       "       'age', 'item_name', 'image_name', 'price', 'category1_code',\n",
       "       'category1_name', 'category2_code', 'category2_name', 'category3_code',\n",
       "       'category3_name', 'brand_no', 'brand_name', 'Year', 'Month', 'Day',\n",
       "       'Hour', 'Minute', 'Date'],\n",
       "      dtype='object')"
      ]
     },
     "execution_count": 57,
     "metadata": {},
     "output_type": "execute_result"
    }
   ],
   "source": [
    "total.columns"
   ]
  },
  {
   "cell_type": "code",
   "execution_count": 58,
   "metadata": {},
   "outputs": [],
   "source": [
    "click_item = total[total['event_name'] == 'click_item']\n",
    "purchase_success = total[total['event_name'] == 'purchase_success']\n",
    "add_to_cart = total[total['event_name'] == 'add_to_cart']\n",
    "like_item = total[total['event_name'] == 'like_item']"
   ]
  },
  {
   "attachments": {},
   "cell_type": "markdown",
   "metadata": {},
   "source": [
    "## click_item"
   ]
  },
  {
   "cell_type": "code",
   "execution_count": 64,
   "metadata": {},
   "outputs": [
    {
     "name": "stderr",
     "output_type": "stream",
     "text": [
      "C:\\Users\\bongkyun\\AppData\\Local\\Temp\\ipykernel_12956\\2375326242.py:6: FutureWarning: The frame.append method is deprecated and will be removed from pandas in a future version. Use pandas.concat instead.\n",
      "C:\\Users\\bongkyun\\AppData\\Local\\Temp\\ipykernel_12956\\2375326242.py:6: FutureWarning: The frame.append method is deprecated and will be removed from pandas in a future version. Use pandas.concat instead.\n",
      "C:\\Users\\bongkyun\\AppData\\Local\\Temp\\ipykernel_12956\\2375326242.py:6: FutureWarning: The frame.append method is deprecated and will be removed from pandas in a future version. Use pandas.concat instead.\n",
      "C:\\Users\\bongkyun\\AppData\\Local\\Temp\\ipykernel_12956\\2375326242.py:6: FutureWarning: The frame.append method is deprecated and will be removed from pandas in a future version. Use pandas.concat instead.\n",
      "C:\\Users\\bongkyun\\AppData\\Local\\Temp\\ipykernel_12956\\2375326242.py:6: FutureWarning: The frame.append method is deprecated and will be removed from pandas in a future version. Use pandas.concat instead.\n",
      "C:\\Users\\bongkyun\\AppData\\Local\\Temp\\ipykernel_12956\\2375326242.py:6: FutureWarning: The frame.append method is deprecated and will be removed from pandas in a future version. Use pandas.concat instead.\n",
      "C:\\Users\\bongkyun\\AppData\\Local\\Temp\\ipykernel_12956\\2375326242.py:6: FutureWarning: The frame.append method is deprecated and will be removed from pandas in a future version. Use pandas.concat instead.\n",
      "C:\\Users\\bongkyun\\AppData\\Local\\Temp\\ipykernel_12956\\2375326242.py:6: FutureWarning: The frame.append method is deprecated and will be removed from pandas in a future version. Use pandas.concat instead.\n",
      "C:\\Users\\bongkyun\\AppData\\Local\\Temp\\ipykernel_12956\\2375326242.py:6: FutureWarning: The frame.append method is deprecated and will be removed from pandas in a future version. Use pandas.concat instead.\n",
      "C:\\Users\\bongkyun\\AppData\\Local\\Temp\\ipykernel_12956\\2375326242.py:6: FutureWarning: The frame.append method is deprecated and will be removed from pandas in a future version. Use pandas.concat instead.\n",
      "C:\\Users\\bongkyun\\AppData\\Local\\Temp\\ipykernel_12956\\2375326242.py:6: FutureWarning: The frame.append method is deprecated and will be removed from pandas in a future version. Use pandas.concat instead.\n",
      "C:\\Users\\bongkyun\\AppData\\Local\\Temp\\ipykernel_12956\\2375326242.py:6: FutureWarning: The frame.append method is deprecated and will be removed from pandas in a future version. Use pandas.concat instead.\n",
      "C:\\Users\\bongkyun\\AppData\\Local\\Temp\\ipykernel_12956\\2375326242.py:6: FutureWarning: The frame.append method is deprecated and will be removed from pandas in a future version. Use pandas.concat instead.\n",
      "C:\\Users\\bongkyun\\AppData\\Local\\Temp\\ipykernel_12956\\2375326242.py:6: FutureWarning: The frame.append method is deprecated and will be removed from pandas in a future version. Use pandas.concat instead.\n",
      "C:\\Users\\bongkyun\\AppData\\Local\\Temp\\ipykernel_12956\\2375326242.py:6: FutureWarning: The frame.append method is deprecated and will be removed from pandas in a future version. Use pandas.concat instead.\n",
      "C:\\Users\\bongkyun\\AppData\\Local\\Temp\\ipykernel_12956\\2375326242.py:6: FutureWarning: The frame.append method is deprecated and will be removed from pandas in a future version. Use pandas.concat instead.\n",
      "C:\\Users\\bongkyun\\AppData\\Local\\Temp\\ipykernel_12956\\2375326242.py:6: FutureWarning: The frame.append method is deprecated and will be removed from pandas in a future version. Use pandas.concat instead.\n",
      "C:\\Users\\bongkyun\\AppData\\Local\\Temp\\ipykernel_12956\\2375326242.py:6: FutureWarning: The frame.append method is deprecated and will be removed from pandas in a future version. Use pandas.concat instead.\n",
      "C:\\Users\\bongkyun\\AppData\\Local\\Temp\\ipykernel_12956\\2375326242.py:6: FutureWarning: The frame.append method is deprecated and will be removed from pandas in a future version. Use pandas.concat instead.\n",
      "C:\\Users\\bongkyun\\AppData\\Local\\Temp\\ipykernel_12956\\2375326242.py:6: FutureWarning: The frame.append method is deprecated and will be removed from pandas in a future version. Use pandas.concat instead.\n",
      "C:\\Users\\bongkyun\\AppData\\Local\\Temp\\ipykernel_12956\\2375326242.py:6: FutureWarning: The frame.append method is deprecated and will be removed from pandas in a future version. Use pandas.concat instead.\n",
      "C:\\Users\\bongkyun\\AppData\\Local\\Temp\\ipykernel_12956\\2375326242.py:6: FutureWarning: The frame.append method is deprecated and will be removed from pandas in a future version. Use pandas.concat instead.\n",
      "C:\\Users\\bongkyun\\AppData\\Local\\Temp\\ipykernel_12956\\2375326242.py:6: FutureWarning: The frame.append method is deprecated and will be removed from pandas in a future version. Use pandas.concat instead.\n",
      "C:\\Users\\bongkyun\\AppData\\Local\\Temp\\ipykernel_12956\\2375326242.py:6: FutureWarning: The frame.append method is deprecated and will be removed from pandas in a future version. Use pandas.concat instead.\n",
      "C:\\Users\\bongkyun\\AppData\\Local\\Temp\\ipykernel_12956\\2375326242.py:6: FutureWarning: The frame.append method is deprecated and will be removed from pandas in a future version. Use pandas.concat instead.\n",
      "C:\\Users\\bongkyun\\AppData\\Local\\Temp\\ipykernel_12956\\2375326242.py:6: FutureWarning: The frame.append method is deprecated and will be removed from pandas in a future version. Use pandas.concat instead.\n",
      "C:\\Users\\bongkyun\\AppData\\Local\\Temp\\ipykernel_12956\\2375326242.py:6: FutureWarning: The frame.append method is deprecated and will be removed from pandas in a future version. Use pandas.concat instead.\n",
      "C:\\Users\\bongkyun\\AppData\\Local\\Temp\\ipykernel_12956\\2375326242.py:6: FutureWarning: The frame.append method is deprecated and will be removed from pandas in a future version. Use pandas.concat instead.\n",
      "C:\\Users\\bongkyun\\AppData\\Local\\Temp\\ipykernel_12956\\2375326242.py:6: FutureWarning: The frame.append method is deprecated and will be removed from pandas in a future version. Use pandas.concat instead.\n",
      "C:\\Users\\bongkyun\\AppData\\Local\\Temp\\ipykernel_12956\\2375326242.py:6: FutureWarning: The frame.append method is deprecated and will be removed from pandas in a future version. Use pandas.concat instead.\n",
      "C:\\Users\\bongkyun\\AppData\\Local\\Temp\\ipykernel_12956\\2375326242.py:6: FutureWarning: The frame.append method is deprecated and will be removed from pandas in a future version. Use pandas.concat instead.\n",
      "C:\\Users\\bongkyun\\AppData\\Local\\Temp\\ipykernel_12956\\2375326242.py:6: FutureWarning: The frame.append method is deprecated and will be removed from pandas in a future version. Use pandas.concat instead.\n",
      "C:\\Users\\bongkyun\\AppData\\Local\\Temp\\ipykernel_12956\\2375326242.py:6: FutureWarning: The frame.append method is deprecated and will be removed from pandas in a future version. Use pandas.concat instead.\n",
      "C:\\Users\\bongkyun\\AppData\\Local\\Temp\\ipykernel_12956\\2375326242.py:6: FutureWarning: The frame.append method is deprecated and will be removed from pandas in a future version. Use pandas.concat instead.\n",
      "C:\\Users\\bongkyun\\AppData\\Local\\Temp\\ipykernel_12956\\2375326242.py:6: FutureWarning: The frame.append method is deprecated and will be removed from pandas in a future version. Use pandas.concat instead.\n",
      "C:\\Users\\bongkyun\\AppData\\Local\\Temp\\ipykernel_12956\\2375326242.py:6: FutureWarning: The frame.append method is deprecated and will be removed from pandas in a future version. Use pandas.concat instead.\n",
      "C:\\Users\\bongkyun\\AppData\\Local\\Temp\\ipykernel_12956\\2375326242.py:6: FutureWarning: The frame.append method is deprecated and will be removed from pandas in a future version. Use pandas.concat instead.\n",
      "C:\\Users\\bongkyun\\AppData\\Local\\Temp\\ipykernel_12956\\2375326242.py:6: FutureWarning: The frame.append method is deprecated and will be removed from pandas in a future version. Use pandas.concat instead.\n",
      "C:\\Users\\bongkyun\\AppData\\Local\\Temp\\ipykernel_12956\\2375326242.py:6: FutureWarning: The frame.append method is deprecated and will be removed from pandas in a future version. Use pandas.concat instead.\n",
      "C:\\Users\\bongkyun\\AppData\\Local\\Temp\\ipykernel_12956\\2375326242.py:6: FutureWarning: The frame.append method is deprecated and will be removed from pandas in a future version. Use pandas.concat instead.\n",
      "C:\\Users\\bongkyun\\AppData\\Local\\Temp\\ipykernel_12956\\2375326242.py:6: FutureWarning: The frame.append method is deprecated and will be removed from pandas in a future version. Use pandas.concat instead.\n",
      "C:\\Users\\bongkyun\\AppData\\Local\\Temp\\ipykernel_12956\\2375326242.py:6: FutureWarning: The frame.append method is deprecated and will be removed from pandas in a future version. Use pandas.concat instead.\n",
      "C:\\Users\\bongkyun\\AppData\\Local\\Temp\\ipykernel_12956\\2375326242.py:6: FutureWarning: The frame.append method is deprecated and will be removed from pandas in a future version. Use pandas.concat instead.\n",
      "C:\\Users\\bongkyun\\AppData\\Local\\Temp\\ipykernel_12956\\2375326242.py:6: FutureWarning: The frame.append method is deprecated and will be removed from pandas in a future version. Use pandas.concat instead.\n",
      "C:\\Users\\bongkyun\\AppData\\Local\\Temp\\ipykernel_12956\\2375326242.py:6: FutureWarning: The frame.append method is deprecated and will be removed from pandas in a future version. Use pandas.concat instead.\n",
      "C:\\Users\\bongkyun\\AppData\\Local\\Temp\\ipykernel_12956\\2375326242.py:6: FutureWarning: The frame.append method is deprecated and will be removed from pandas in a future version. Use pandas.concat instead.\n",
      "C:\\Users\\bongkyun\\AppData\\Local\\Temp\\ipykernel_12956\\2375326242.py:6: FutureWarning: The frame.append method is deprecated and will be removed from pandas in a future version. Use pandas.concat instead.\n",
      "C:\\Users\\bongkyun\\AppData\\Local\\Temp\\ipykernel_12956\\2375326242.py:6: FutureWarning: The frame.append method is deprecated and will be removed from pandas in a future version. Use pandas.concat instead.\n",
      "C:\\Users\\bongkyun\\AppData\\Local\\Temp\\ipykernel_12956\\2375326242.py:6: FutureWarning: The frame.append method is deprecated and will be removed from pandas in a future version. Use pandas.concat instead.\n",
      "C:\\Users\\bongkyun\\AppData\\Local\\Temp\\ipykernel_12956\\2375326242.py:6: FutureWarning: The frame.append method is deprecated and will be removed from pandas in a future version. Use pandas.concat instead.\n",
      "C:\\Users\\bongkyun\\AppData\\Local\\Temp\\ipykernel_12956\\2375326242.py:6: FutureWarning: The frame.append method is deprecated and will be removed from pandas in a future version. Use pandas.concat instead.\n",
      "C:\\Users\\bongkyun\\AppData\\Local\\Temp\\ipykernel_12956\\2375326242.py:6: FutureWarning: The frame.append method is deprecated and will be removed from pandas in a future version. Use pandas.concat instead.\n",
      "C:\\Users\\bongkyun\\AppData\\Local\\Temp\\ipykernel_12956\\2375326242.py:6: FutureWarning: The frame.append method is deprecated and will be removed from pandas in a future version. Use pandas.concat instead.\n",
      "C:\\Users\\bongkyun\\AppData\\Local\\Temp\\ipykernel_12956\\2375326242.py:6: FutureWarning: The frame.append method is deprecated and will be removed from pandas in a future version. Use pandas.concat instead.\n",
      "C:\\Users\\bongkyun\\AppData\\Local\\Temp\\ipykernel_12956\\2375326242.py:6: FutureWarning: The frame.append method is deprecated and will be removed from pandas in a future version. Use pandas.concat instead.\n",
      "C:\\Users\\bongkyun\\AppData\\Local\\Temp\\ipykernel_12956\\2375326242.py:6: FutureWarning: The frame.append method is deprecated and will be removed from pandas in a future version. Use pandas.concat instead.\n",
      "C:\\Users\\bongkyun\\AppData\\Local\\Temp\\ipykernel_12956\\2375326242.py:6: FutureWarning: The frame.append method is deprecated and will be removed from pandas in a future version. Use pandas.concat instead.\n",
      "C:\\Users\\bongkyun\\AppData\\Local\\Temp\\ipykernel_12956\\2375326242.py:6: FutureWarning: The frame.append method is deprecated and will be removed from pandas in a future version. Use pandas.concat instead.\n",
      "C:\\Users\\bongkyun\\AppData\\Local\\Temp\\ipykernel_12956\\2375326242.py:6: FutureWarning: The frame.append method is deprecated and will be removed from pandas in a future version. Use pandas.concat instead.\n",
      "C:\\Users\\bongkyun\\AppData\\Local\\Temp\\ipykernel_12956\\2375326242.py:6: FutureWarning: The frame.append method is deprecated and will be removed from pandas in a future version. Use pandas.concat instead.\n",
      "C:\\Users\\bongkyun\\AppData\\Local\\Temp\\ipykernel_12956\\2375326242.py:6: FutureWarning: The frame.append method is deprecated and will be removed from pandas in a future version. Use pandas.concat instead.\n",
      "C:\\Users\\bongkyun\\AppData\\Local\\Temp\\ipykernel_12956\\2375326242.py:6: FutureWarning: The frame.append method is deprecated and will be removed from pandas in a future version. Use pandas.concat instead.\n",
      "C:\\Users\\bongkyun\\AppData\\Local\\Temp\\ipykernel_12956\\2375326242.py:6: FutureWarning: The frame.append method is deprecated and will be removed from pandas in a future version. Use pandas.concat instead.\n"
     ]
    },
    {
     "data": {
      "text/html": [
       "<div>\n",
       "<style scoped>\n",
       "    .dataframe tbody tr th:only-of-type {\n",
       "        vertical-align: middle;\n",
       "    }\n",
       "\n",
       "    .dataframe tbody tr th {\n",
       "        vertical-align: top;\n",
       "    }\n",
       "\n",
       "    .dataframe thead th {\n",
       "        text-align: right;\n",
       "    }\n",
       "</style>\n",
       "<table border=\"1\" class=\"dataframe\">\n",
       "  <thead>\n",
       "    <tr style=\"text-align: right;\">\n",
       "      <th></th>\n",
       "      <th>ds</th>\n",
       "      <th>y</th>\n",
       "    </tr>\n",
       "  </thead>\n",
       "  <tbody>\n",
       "    <tr>\n",
       "      <th>0</th>\n",
       "      <td>2021-06-16</td>\n",
       "      <td>234</td>\n",
       "    </tr>\n",
       "    <tr>\n",
       "      <th>1</th>\n",
       "      <td>2021-06-27</td>\n",
       "      <td>246</td>\n",
       "    </tr>\n",
       "    <tr>\n",
       "      <th>2</th>\n",
       "      <td>2021-07-06</td>\n",
       "      <td>232</td>\n",
       "    </tr>\n",
       "    <tr>\n",
       "      <th>3</th>\n",
       "      <td>2021-06-19</td>\n",
       "      <td>236</td>\n",
       "    </tr>\n",
       "    <tr>\n",
       "      <th>4</th>\n",
       "      <td>2021-07-01</td>\n",
       "      <td>264</td>\n",
       "    </tr>\n",
       "    <tr>\n",
       "      <th>...</th>\n",
       "      <td>...</td>\n",
       "      <td>...</td>\n",
       "    </tr>\n",
       "    <tr>\n",
       "      <th>58</th>\n",
       "      <td>2021-07-14</td>\n",
       "      <td>228</td>\n",
       "    </tr>\n",
       "    <tr>\n",
       "      <th>59</th>\n",
       "      <td>2021-06-14</td>\n",
       "      <td>143</td>\n",
       "    </tr>\n",
       "    <tr>\n",
       "      <th>60</th>\n",
       "      <td>2021-07-02</td>\n",
       "      <td>244</td>\n",
       "    </tr>\n",
       "    <tr>\n",
       "      <th>61</th>\n",
       "      <td>2021-06-04</td>\n",
       "      <td>177</td>\n",
       "    </tr>\n",
       "    <tr>\n",
       "      <th>62</th>\n",
       "      <td>2021-07-17</td>\n",
       "      <td>261</td>\n",
       "    </tr>\n",
       "  </tbody>\n",
       "</table>\n",
       "<p>63 rows × 2 columns</p>\n",
       "</div>"
      ],
      "text/plain": [
       "            ds    y\n",
       "0   2021-06-16  234\n",
       "1   2021-06-27  246\n",
       "2   2021-07-06  232\n",
       "3   2021-06-19  236\n",
       "4   2021-07-01  264\n",
       "..         ...  ...\n",
       "58  2021-07-14  228\n",
       "59  2021-06-14  143\n",
       "60  2021-07-02  244\n",
       "61  2021-06-04  177\n",
       "62  2021-07-17  261\n",
       "\n",
       "[63 rows x 2 columns]"
      ]
     },
     "execution_count": 64,
     "metadata": {},
     "output_type": "execute_result"
    }
   ],
   "source": [
    "date_list = list(set(click_item['Date']))\n",
    "columns = ['ds', 'y']                 \n",
    "rating_mean = pd.DataFrame(columns=columns)\n",
    "for date in date_list:\n",
    "    rating = click_item.loc[click_item['Date'] == date]\n",
    "    rating_mean = rating_mean.append(pd.DataFrame([[date, rating['rating'].sum()]], columns=columns), ignore_index=True)\n",
    "rating_mean"
   ]
  },
  {
   "cell_type": "code",
   "execution_count": 65,
   "metadata": {},
   "outputs": [
    {
     "name": "stderr",
     "output_type": "stream",
     "text": [
      "02:05:34 - cmdstanpy - INFO - Chain [1] start processing\n",
      "02:05:34 - cmdstanpy - INFO - Chain [1] done processing\n"
     ]
    },
    {
     "data": {
      "image/png": "[encoded data removed]",
      "text/plain": [
       "<Figure size 900x600 with 2 Axes>"
      ]
     },
     "metadata": {},
     "output_type": "display_data"
    }
   ],
   "source": [
    "prophet = Prophet()\n",
    "prophet.fit(rating_mean)\n",
    "\n",
    "\n",
    "future = prophet.make_future_dataframe(periods=7, freq = 'D')\n",
    "forecast = prophet.predict(future)\n",
    "\n",
    "fig2 = prophet.plot_components(forecast)\n",
    "plt.show()"
   ]
  },
  {
   "cell_type": "code",
   "execution_count": 66,
   "metadata": {},
   "outputs": [
    {
     "data": {
      "application/vnd.plotly.v1+json": {
       "config": {
        "plotlyServerURL": "https://plot.ly"
       },
       "data": [
        {
         "marker": {
          "color": "black",
          "size": 4
         },
         "mode": "markers",
         "name": "Actual",
         "type": "scatter",
         "x": [
          "2021-06-03T00:00:00",
          "2021-06-04T00:00:00",
          "2021-06-05T00:00:00",
          "2021-06-06T00:00:00",
          "2021-06-07T00:00:00",
          "2021-06-08T00:00:00",
          "2021-06-09T00:00:00",
          "2021-06-10T00:00:00",
          "2021-06-11T00:00:00",
          "2021-06-12T00:00:00",
          "2021-06-13T00:00:00",
          "2021-06-14T00:00:00",
          "2021-06-15T00:00:00",
          "2021-06-16T00:00:00",
          "2021-06-17T00:00:00",
          "2021-06-18T00:00:00",
          "2021-06-19T00:00:00",
          "2021-06-20T00:00:00",
          "2021-06-21T00:00:00",
          "2021-06-22T00:00:00",
          "2021-06-23T00:00:00",
          "2021-06-24T00:00:00",
          "2021-06-25T00:00:00",
          "2021-06-26T00:00:00",
          "2021-06-27T00:00:00",
          "2021-06-28T00:00:00",
          "2021-06-29T00:00:00",
          "2021-06-30T00:00:00",
          "2021-07-01T00:00:00",
          "2021-07-02T00:00:00",
          "2021-07-03T00:00:00",
          "2021-07-04T00:00:00",
          "2021-07-05T00:00:00",
          "2021-07-06T00:00:00",
          "2021-07-07T00:00:00",
          "2021-07-08T00:00:00",
          "2021-07-09T00:00:00",
          "2021-07-10T00:00:00",
          "2021-07-11T00:00:00",
          "2021-07-12T00:00:00",
          "2021-07-13T00:00:00",
          "2021-07-14T00:00:00",
          "2021-07-15T00:00:00",
          "2021-07-16T00:00:00",
          "2021-07-17T00:00:00",
          "2021-07-18T00:00:00",
          "2021-07-19T00:00:00",
          "2021-07-20T00:00:00",
          "2021-07-21T00:00:00",
          "2021-07-22T00:00:00",
          "2021-07-23T00:00:00",
          "2021-07-24T00:00:00",
          "2021-07-25T00:00:00",
          "2021-07-26T00:00:00",
          "2021-07-27T00:00:00",
          "2021-07-28T00:00:00",
          "2021-07-29T00:00:00",
          "2021-07-30T00:00:00",
          "2021-07-31T00:00:00",
          "2021-08-01T00:00:00",
          "2021-08-02T00:00:00",
          "2021-08-03T00:00:00",
          "2021-08-04T00:00:00"
         ],
         "y": [
          147,
          177,
          212,
          287,
          261,
          252,
          263,
          229,
          197,
          228,
          99,
          143,
          237,
          234,
          199,
          208,
          236,
          275,
          198,
          199,
          215,
          181,
          200,
          179,
          246,
          211,
          227,
          242,
          264,
          244,
          257,
          286,
          214,
          232,
          205,
          185,
          205,
          230,
          314,
          222,
          237,
          228,
          248,
          209,
          261,
          282,
          197,
          226,
          227,
          203,
          187,
          225,
          264,
          218,
          216,
          192,
          161,
          160,
          195,
          204,
          195,
          209,
          107
         ]
        },
        {
         "hoverinfo": "skip",
         "line": {
          "width": 0
         },
         "mode": "lines",
         "type": "scatter",
         "x": [
          "2021-06-03T00:00:00",
          "2021-06-04T00:00:00",
          "2021-06-05T00:00:00",
          "2021-06-06T00:00:00",
          "2021-06-07T00:00:00",
          "2021-06-08T00:00:00",
          "2021-06-09T00:00:00",
          "2021-06-10T00:00:00",
          "2021-06-11T00:00:00",
          "2021-06-12T00:00:00",
          "2021-06-13T00:00:00",
          "2021-06-14T00:00:00",
          "2021-06-15T00:00:00",
          "2021-06-16T00:00:00",
          "2021-06-17T00:00:00",
          "2021-06-18T00:00:00",
          "2021-06-19T00:00:00",
          "2021-06-20T00:00:00",
          "2021-06-21T00:00:00",
          "2021-06-22T00:00:00",
          "2021-06-23T00:00:00",
          "2021-06-24T00:00:00",
          "2021-06-25T00:00:00",
          "2021-06-26T00:00:00",
          "2021-06-27T00:00:00",
          "2021-06-28T00:00:00",
          "2021-06-29T00:00:00",
          "2021-06-30T00:00:00",
          "2021-07-01T00:00:00",
          "2021-07-02T00:00:00",
          "2021-07-03T00:00:00",
          "2021-07-04T00:00:00",
          "2021-07-05T00:00:00",
          "2021-07-06T00:00:00",
          "2021-07-07T00:00:00",
          "2021-07-08T00:00:00",
          "2021-07-09T00:00:00",
          "2021-07-10T00:00:00",
          "2021-07-11T00:00:00",
          "2021-07-12T00:00:00",
          "2021-07-13T00:00:00",
          "2021-07-14T00:00:00",
          "2021-07-15T00:00:00",
          "2021-07-16T00:00:00",
          "2021-07-17T00:00:00",
          "2021-07-18T00:00:00",
          "2021-07-19T00:00:00",
          "2021-07-20T00:00:00",
          "2021-07-21T00:00:00",
          "2021-07-22T00:00:00",
          "2021-07-23T00:00:00",
          "2021-07-24T00:00:00",
          "2021-07-25T00:00:00",
          "2021-07-26T00:00:00",
          "2021-07-27T00:00:00",
          "2021-07-28T00:00:00",
          "2021-07-29T00:00:00",
          "2021-07-30T00:00:00",
          "2021-07-31T00:00:00",
          "2021-08-01T00:00:00",
          "2021-08-02T00:00:00",
          "2021-08-03T00:00:00",
          "2021-08-04T00:00:00",
          "2021-08-05T00:00:00",
          "2021-08-06T00:00:00",
          "2021-08-07T00:00:00",
          "2021-08-08T00:00:00",
          "2021-08-09T00:00:00",
          "2021-08-10T00:00:00",
          "2021-08-11T00:00:00"
         ],
         "y": [
          158.84774391373148,
          161.68672131653372,
          184.58929895653185,
          210.60194310657803,
          168.57552820480777,
          187.21475427477566,
          175.3986803182609,
          162.2739203231437,
          157.75648698653535,
          187.2157796461083,
          208.54178103197728,
          166.47499784343887,
          187.5778080466328,
          169.0918294240411,
          160.3558504235187,
          156.38306088207224,
          183.5534495155501,
          209.5315960239469,
          161.84295451315566,
          186.97416209948065,
          170.8718364423133,
          153.10260798849302,
          151.60054031645558,
          177.4467703517881,
          205.4806291846925,
          163.86012130468828,
          183.803164835112,
          171.22593615744697,
          155.3145311247683,
          153.90775244398435,
          179.0265985822254,
          202.28046701539867,
          164.58328163994932,
          181.12131045929445,
          168.70549153603878,
          154.84600822330538,
          150.83379642091043,
          174.79183358037736,
          203.09023823676958,
          159.9139318061899,
          183.70073526517504,
          169.7383633870142,
          152.80979987880113,
          149.34576573500092,
          173.90755454747278,
          202.47272343645446,
          160.68712407617437,
          178.27698411365068,
          164.05263909531104,
          151.93249662317757,
          148.15158406536088,
          179.26943435683054,
          200.38873083635147,
          155.8806173535115,
          177.4016018012491,
          164.75617931532346,
          151.29151143001837,
          145.20577925157673,
          174.79577875107597,
          198.7192388791549,
          150.950803318352,
          173.73904770839673,
          158.890397919512,
          144.18817932388066,
          142.95577094090254,
          172.07806533820707,
          197.17147606507694,
          150.75742422212656,
          171.76748419985051,
          157.63104466222987
         ]
        },
        {
         "fill": "tonexty",
         "fillcolor": "rgba(0, 114, 178, 0.2)",
         "line": {
          "color": "#0072B2",
          "width": 2
         },
         "mode": "lines",
         "name": "Predicted",
         "type": "scatter",
         "x": [
          "2021-06-03T00:00:00",
          "2021-06-04T00:00:00",
          "2021-06-05T00:00:00",
          "2021-06-06T00:00:00",
          "2021-06-07T00:00:00",
          "2021-06-08T00:00:00",
          "2021-06-09T00:00:00",
          "2021-06-10T00:00:00",
          "2021-06-11T00:00:00",
          "2021-06-12T00:00:00",
          "2021-06-13T00:00:00",
          "2021-06-14T00:00:00",
          "2021-06-15T00:00:00",
          "2021-06-16T00:00:00",
          "2021-06-17T00:00:00",
          "2021-06-18T00:00:00",
          "2021-06-19T00:00:00",
          "2021-06-20T00:00:00",
          "2021-06-21T00:00:00",
          "2021-06-22T00:00:00",
          "2021-06-23T00:00:00",
          "2021-06-24T00:00:00",
          "2021-06-25T00:00:00",
          "2021-06-26T00:00:00",
          "2021-06-27T00:00:00",
          "2021-06-28T00:00:00",
          "2021-06-29T00:00:00",
          "2021-06-30T00:00:00",
          "2021-07-01T00:00:00",
          "2021-07-02T00:00:00",
          "2021-07-03T00:00:00",
          "2021-07-04T00:00:00",
          "2021-07-05T00:00:00",
          "2021-07-06T00:00:00",
          "2021-07-07T00:00:00",
          "2021-07-08T00:00:00",
          "2021-07-09T00:00:00",
          "2021-07-10T00:00:00",
          "2021-07-11T00:00:00",
          "2021-07-12T00:00:00",
          "2021-07-13T00:00:00",
          "2021-07-14T00:00:00",
          "2021-07-15T00:00:00",
          "2021-07-16T00:00:00",
          "2021-07-17T00:00:00",
          "2021-07-18T00:00:00",
          "2021-07-19T00:00:00",
          "2021-07-20T00:00:00",
          "2021-07-21T00:00:00",
          "2021-07-22T00:00:00",
          "2021-07-23T00:00:00",
          "2021-07-24T00:00:00",
          "2021-07-25T00:00:00",
          "2021-07-26T00:00:00",
          "2021-07-27T00:00:00",
          "2021-07-28T00:00:00",
          "2021-07-29T00:00:00",
          "2021-07-30T00:00:00",
          "2021-07-31T00:00:00",
          "2021-08-01T00:00:00",
          "2021-08-02T00:00:00",
          "2021-08-03T00:00:00",
          "2021-08-04T00:00:00",
          "2021-08-05T00:00:00",
          "2021-08-06T00:00:00",
          "2021-08-07T00:00:00",
          "2021-08-08T00:00:00",
          "2021-08-09T00:00:00",
          "2021-08-10T00:00:00",
          "2021-08-11T00:00:00"
         ],
         "y": [
          208.34005818000372,
          205.0093759944084,
          231.2347336047407,
          257.23799386800664,
          213.01826726548987,
          232.57716286585128,
          219.02466565624093,
          206.73558198768538,
          203.40489980113662,
          229.63025740732792,
          255.6335176660881,
          211.41379106182112,
          230.97268666347364,
          217.42018945472722,
          205.13110578587657,
          201.80042359522474,
          228.02578120043057,
          254.0290414601261,
          209.80931485411585,
          229.36821045365272,
          215.8157132432884,
          203.52662956764152,
          200.1959473737842,
          226.4213049705265,
          252.42456521956453,
          208.20469420609797,
          227.76342922804506,
          214.21077144009692,
          201.92055884637148,
          198.58874773432814,
          224.81203585131274,
          250.81322662091375,
          206.59128015014926,
          226.14795588519164,
          212.59293243438435,
          200.30132252347673,
          196.967455590545,
          223.18962845352584,
          249.1885257954382,
          204.9644362716642,
          224.51774757471182,
          210.95966606782363,
          198.66434753315667,
          195.32743048040575,
          221.54648462241727,
          247.54344141690376,
          203.31740084522767,
          222.86998247925257,
          209.31112424507268,
          197.01567955058312,
          193.6786363347761,
          219.89763291469228,
          245.8945321470784,
          201.6684445137955,
          221.22097908626816,
          207.66212084879956,
          195.36667615114362,
          192.02963293523453,
          218.2486295152841,
          244.24552874759274,
          200.0194411142984,
          219.57197568681838,
          206.0131174493229,
          193.71767275170413,
          190.38062953578662,
          216.59962611574514,
          242.5965253481071,
          198.3704377148041,
          217.92297228729186,
          204.3641140497843
         ]
        },
        {
         "fill": "tonexty",
         "fillcolor": "rgba(0, 114, 178, 0.2)",
         "hoverinfo": "skip",
         "line": {
          "width": 0
         },
         "mode": "lines",
         "type": "scatter",
         "x": [
          "2021-06-03T00:00:00",
          "2021-06-04T00:00:00",
          "2021-06-05T00:00:00",
          "2021-06-06T00:00:00",
          "2021-06-07T00:00:00",
          "2021-06-08T00:00:00",
          "2021-06-09T00:00:00",
          "2021-06-10T00:00:00",
          "2021-06-11T00:00:00",
          "2021-06-12T00:00:00",
          "2021-06-13T00:00:00",
          "2021-06-14T00:00:00",
          "2021-06-15T00:00:00",
          "2021-06-16T00:00:00",
          "2021-06-17T00:00:00",
          "2021-06-18T00:00:00",
          "2021-06-19T00:00:00",
          "2021-06-20T00:00:00",
          "2021-06-21T00:00:00",
          "2021-06-22T00:00:00",
          "2021-06-23T00:00:00",
          "2021-06-24T00:00:00",
          "2021-06-25T00:00:00",
          "2021-06-26T00:00:00",
          "2021-06-27T00:00:00",
          "2021-06-28T00:00:00",
          "2021-06-29T00:00:00",
          "2021-06-30T00:00:00",
          "2021-07-01T00:00:00",
          "2021-07-02T00:00:00",
          "2021-07-03T00:00:00",
          "2021-07-04T00:00:00",
          "2021-07-05T00:00:00",
          "2021-07-06T00:00:00",
          "2021-07-07T00:00:00",
          "2021-07-08T00:00:00",
          "2021-07-09T00:00:00",
          "2021-07-10T00:00:00",
          "2021-07-11T00:00:00",
          "2021-07-12T00:00:00",
          "2021-07-13T00:00:00",
          "2021-07-14T00:00:00",
          "2021-07-15T00:00:00",
          "2021-07-16T00:00:00",
          "2021-07-17T00:00:00",
          "2021-07-18T00:00:00",
          "2021-07-19T00:00:00",
          "2021-07-20T00:00:00",
          "2021-07-21T00:00:00",
          "2021-07-22T00:00:00",
          "2021-07-23T00:00:00",
          "2021-07-24T00:00:00",
          "2021-07-25T00:00:00",
          "2021-07-26T00:00:00",
          "2021-07-27T00:00:00",
          "2021-07-28T00:00:00",
          "2021-07-29T00:00:00",
          "2021-07-30T00:00:00",
          "2021-07-31T00:00:00",
          "2021-08-01T00:00:00",
          "2021-08-02T00:00:00",
          "2021-08-03T00:00:00",
          "2021-08-04T00:00:00",
          "2021-08-05T00:00:00",
          "2021-08-06T00:00:00",
          "2021-08-07T00:00:00",
          "2021-08-08T00:00:00",
          "2021-08-09T00:00:00",
          "2021-08-10T00:00:00",
          "2021-08-11T00:00:00"
         ],
         "y": [
          250.82972841664386,
          250.77732302893668,
          276.2872330322231,
          302.0498515056118,
          260.57678146502786,
          279.0132199275539,
          261.00341589796415,
          251.19469088112604,
          247.39224577243212,
          275.72765039060084,
          300.38713868950873,
          259.88589623915016,
          272.3398703628228,
          260.27432999583056,
          249.660780675874,
          244.75723334004724,
          272.90241025049676,
          298.0052941821459,
          251.8920055745772,
          275.472341091242,
          260.74110270297564,
          248.1300179327308,
          248.87227220742562,
          273.3563885977771,
          296.97214801375,
          250.75617852562078,
          272.55540508075006,
          258.27087978458803,
          244.5023775380475,
          248.86384051607942,
          269.3176230831068,
          295.3369037005294,
          253.57338517695936,
          270.82215556266897,
          255.64170371534593,
          244.99432316264313,
          243.27395571714706,
          268.7240755282898,
          293.9560918515607,
          250.60082027337856,
          270.72329068894703,
          259.2928790513521,
          243.57323914952,
          239.75661060370243,
          265.3504383586371,
          292.659773109868,
          249.46128651456993,
          265.8764047125463,
          249.84764257468703,
          242.6591632027868,
          239.5343252490266,
          265.45089479746474,
          292.9841557947531,
          248.23442878170343,
          264.8622815097664,
          253.44171007454568,
          240.0612434022385,
          237.30905261365953,
          264.2410962336062,
          290.3522557087968,
          245.1253535754571,
          266.3428022442126,
          250.83021665818416,
          240.73033588387435,
          234.94026771138095,
          264.8500156021713,
          288.63191449085576,
          239.17251632947782,
          264.5080367271605,
          250.8066303585769
         ]
        }
       ],
       "layout": {
        "height": 600,
        "showlegend": false,
        "template": {
         "data": {
          "bar": [
           {
            "error_x": {
             "color": "#2a3f5f"
            },
            "error_y": {
             "color": "#2a3f5f"
            },
            "marker": {
             "line": {
              "color": "#E5ECF6",
              "width": 0.5
             },
             "pattern": {
              "fillmode": "overlay",
              "size": 10,
              "solidity": 0.2
             }
            },
            "type": "bar"
           }
          ],
          "barpolar": [
           {
            "marker": {
             "line": {
              "color": "#E5ECF6",
              "width": 0.5
             },
             "pattern": {
              "fillmode": "overlay",
              "size": 10,
              "solidity": 0.2
             }
            },
            "type": "barpolar"
           }
          ],
          "carpet": [
           {
            "aaxis": {
             "endlinecolor": "#2a3f5f",
             "gridcolor": "white",
             "linecolor": "white",
             "minorgridcolor": "white",
             "startlinecolor": "#2a3f5f"
            },
            "baxis": {
             "endlinecolor": "#2a3f5f",
             "gridcolor": "white",
             "linecolor": "white",
             "minorgridcolor": "white",
             "startlinecolor": "#2a3f5f"
            },
            "type": "carpet"
           }
          ],
          "choropleth": [
           {
            "colorbar": {
             "outlinewidth": 0,
             "ticks": ""
            },
            "type": "choropleth"
           }
          ],
          "contour": [
           {
            "colorbar": {
             "outlinewidth": 0,
             "ticks": ""
            },
            "colorscale": [
             [
              0,
              "#0d0887"
             ],
             [
              0.1111111111111111,
              "#46039f"
             ],
             [
              0.2222222222222222,
              "#7201a8"
             ],
             [
              0.3333333333333333,
              "#9c179e"
             ],
             [
              0.4444444444444444,
              "#bd3786"
             ],
             [
              0.5555555555555556,
              "#d8576b"
             ],
             [
              0.6666666666666666,
              "#ed7953"
             ],
             [
              0.7777777777777778,
              "#fb9f3a"
             ],
             [
              0.8888888888888888,
              "#fdca26"
             ],
             [
              1,
              "#f0f921"
             ]
            ],
            "type": "contour"
           }
          ],
          "contourcarpet": [
           {
            "colorbar": {
             "outlinewidth": 0,
             "ticks": ""
            },
            "type": "contourcarpet"
           }
          ],
          "heatmap": [
           {
            "colorbar": {
             "outlinewidth": 0,
             "ticks": ""
            },
            "colorscale": [
             [
              0,
              "#0d0887"
             ],
             [
              0.1111111111111111,
              "#46039f"
             ],
             [
              0.2222222222222222,
              "#7201a8"
             ],
             [
              0.3333333333333333,
              "#9c179e"
             ],
             [
              0.4444444444444444,
              "#bd3786"
             ],
             [
              0.5555555555555556,
              "#d8576b"
             ],
             [
              0.6666666666666666,
              "#ed7953"
             ],
             [
              0.7777777777777778,
              "#fb9f3a"
             ],
             [
              0.8888888888888888,
              "#fdca26"
             ],
             [
              1,
              "#f0f921"
             ]
            ],
            "type": "heatmap"
           }
          ],
          "heatmapgl": [
           {
            "colorbar": {
             "outlinewidth": 0,
             "ticks": ""
            },
            "colorscale": [
             [
              0,
              "#0d0887"
             ],
             [
              0.1111111111111111,
              "#46039f"
             ],
             [
              0.2222222222222222,
              "#7201a8"
             ],
             [
              0.3333333333333333,
              "#9c179e"
             ],
             [
              0.4444444444444444,
              "#bd3786"
             ],
             [
              0.5555555555555556,
              "#d8576b"
             ],
             [
              0.6666666666666666,
              "#ed7953"
             ],
             [
              0.7777777777777778,
              "#fb9f3a"
             ],
             [
              0.8888888888888888,
              "#fdca26"
             ],
             [
              1,
              "#f0f921"
             ]
            ],
            "type": "heatmapgl"
           }
          ],
          "histogram": [
           {
            "marker": {
             "pattern": {
              "fillmode": "overlay",
              "size": 10,
              "solidity": 0.2
             }
            },
            "type": "histogram"
           }
          ],
          "histogram2d": [
           {
            "colorbar": {
             "outlinewidth": 0,
             "ticks": ""
            },
            "colorscale": [
             [
              0,
              "#0d0887"
             ],
             [
              0.1111111111111111,
              "#46039f"
             ],
             [
              0.2222222222222222,
              "#7201a8"
             ],
             [
              0.3333333333333333,
              "#9c179e"
             ],
             [
              0.4444444444444444,
              "#bd3786"
             ],
             [
              0.5555555555555556,
              "#d8576b"
             ],
             [
              0.6666666666666666,
              "#ed7953"
             ],
             [
              0.7777777777777778,
              "#fb9f3a"
             ],
             [
              0.8888888888888888,
              "#fdca26"
             ],
             [
              1,
              "#f0f921"
             ]
            ],
            "type": "histogram2d"
           }
          ],
          "histogram2dcontour": [
           {
            "colorbar": {
             "outlinewidth": 0,
             "ticks": ""
            },
            "colorscale": [
             [
              0,
              "#0d0887"
             ],
             [
              0.1111111111111111,
              "#46039f"
             ],
             [
              0.2222222222222222,
              "#7201a8"
             ],
             [
              0.3333333333333333,
              "#9c179e"
             ],
             [
              0.4444444444444444,
              "#bd3786"
             ],
             [
              0.5555555555555556,
              "#d8576b"
             ],
             [
              0.6666666666666666,
              "#ed7953"
             ],
             [
              0.7777777777777778,
              "#fb9f3a"
             ],
             [
              0.8888888888888888,
              "#fdca26"
             ],
             [
              1,
              "#f0f921"
             ]
            ],
            "type": "histogram2dcontour"
           }
          ],
          "mesh3d": [
           {
            "colorbar": {
             "outlinewidth": 0,
             "ticks": ""
            },
            "type": "mesh3d"
           }
          ],
          "parcoords": [
           {
            "line": {
             "colorbar": {
              "outlinewidth": 0,
              "ticks": ""
             }
            },
            "type": "parcoords"
           }
          ],
          "pie": [
           {
            "automargin": true,
            "type": "pie"
           }
          ],
          "scatter": [
           {
            "fillpattern": {
             "fillmode": "overlay",
             "size": 10,
             "solidity": 0.2
            },
            "type": "scatter"
           }
          ],
          "scatter3d": [
           {
            "line": {
             "colorbar": {
              "outlinewidth": 0,
              "ticks": ""
             }
            },
            "marker": {
             "colorbar": {
              "outlinewidth": 0,
              "ticks": ""
             }
            },
            "type": "scatter3d"
           }
          ],
          "scattercarpet": [
           {
            "marker": {
             "colorbar": {
              "outlinewidth": 0,
              "ticks": ""
             }
            },
            "type": "scattercarpet"
           }
          ],
          "scattergeo": [
           {
            "marker": {
             "colorbar": {
              "outlinewidth": 0,
              "ticks": ""
             }
            },
            "type": "scattergeo"
           }
          ],
          "scattergl": [
           {
            "marker": {
             "colorbar": {
              "outlinewidth": 0,
              "ticks": ""
             }
            },
            "type": "scattergl"
           }
          ],
          "scattermapbox": [
           {
            "marker": {
             "colorbar": {
              "outlinewidth": 0,
              "ticks": ""
             }
            },
            "type": "scattermapbox"
           }
          ],
          "scatterpolar": [
           {
            "marker": {
             "colorbar": {
              "outlinewidth": 0,
              "ticks": ""
             }
            },
            "type": "scatterpolar"
           }
          ],
          "scatterpolargl": [
           {
            "marker": {
             "colorbar": {
              "outlinewidth": 0,
              "ticks": ""
             }
            },
            "type": "scatterpolargl"
           }
          ],
          "scatterternary": [
           {
            "marker": {
             "colorbar": {
              "outlinewidth": 0,
              "ticks": ""
             }
            },
            "type": "scatterternary"
           }
          ],
          "surface": [
           {
            "colorbar": {
             "outlinewidth": 0,
             "ticks": ""
            },
            "colorscale": [
             [
              0,
              "#0d0887"
             ],
             [
              0.1111111111111111,
              "#46039f"
             ],
             [
              0.2222222222222222,
              "#7201a8"
             ],
             [
              0.3333333333333333,
              "#9c179e"
             ],
             [
              0.4444444444444444,
              "#bd3786"
             ],
             [
              0.5555555555555556,
              "#d8576b"
             ],
             [
              0.6666666666666666,
              "#ed7953"
             ],
             [
              0.7777777777777778,
              "#fb9f3a"
             ],
             [
              0.8888888888888888,
              "#fdca26"
             ],
             [
              1,
              "#f0f921"
             ]
            ],
            "type": "surface"
           }
          ],
          "table": [
           {
            "cells": {
             "fill": {
              "color": "#EBF0F8"
             },
             "line": {
              "color": "white"
             }
            },
            "header": {
             "fill": {
              "color": "#C8D4E3"
             },
             "line": {
              "color": "white"
             }
            },
            "type": "table"
           }
          ]
         },
         "layout": {
          "annotationdefaults": {
           "arrowcolor": "#2a3f5f",
           "arrowhead": 0,
           "arrowwidth": 1
          },
          "autotypenumbers": "strict",
          "coloraxis": {
           "colorbar": {
            "outlinewidth": 0,
            "ticks": ""
           }
          },
          "colorscale": {
           "diverging": [
            [
             0,
             "#8e0152"
            ],
            [
             0.1,
             "#c51b7d"
            ],
            [
             0.2,
             "#de77ae"
            ],
            [
             0.3,
             "#f1b6da"
            ],
            [
             0.4,
             "#fde0ef"
            ],
            [
             0.5,
             "#f7f7f7"
            ],
            [
             0.6,
             "#e6f5d0"
            ],
            [
             0.7,
             "#b8e186"
            ],
            [
             0.8,
             "#7fbc41"
            ],
            [
             0.9,
             "#4d9221"
            ],
            [
             1,
             "#276419"
            ]
           ],
           "sequential": [
            [
             0,
             "#0d0887"
            ],
            [
             0.1111111111111111,
             "#46039f"
            ],
            [
             0.2222222222222222,
             "#7201a8"
            ],
            [
             0.3333333333333333,
             "#9c179e"
            ],
            [
             0.4444444444444444,
             "#bd3786"
            ],
            [
             0.5555555555555556,
             "#d8576b"
            ],
            [
             0.6666666666666666,
             "#ed7953"
            ],
            [
             0.7777777777777778,
             "#fb9f3a"
            ],
            [
             0.8888888888888888,
             "#fdca26"
            ],
            [
             1,
             "#f0f921"
            ]
           ],
           "sequentialminus": [
            [
             0,
             "#0d0887"
            ],
            [
             0.1111111111111111,
             "#46039f"
            ],
            [
             0.2222222222222222,
             "#7201a8"
            ],
            [
             0.3333333333333333,
             "#9c179e"
            ],
            [
             0.4444444444444444,
             "#bd3786"
            ],
            [
             0.5555555555555556,
             "#d8576b"
            ],
            [
             0.6666666666666666,
             "#ed7953"
            ],
            [
             0.7777777777777778,
             "#fb9f3a"
            ],
            [
             0.8888888888888888,
             "#fdca26"
            ],
            [
             1,
             "#f0f921"
            ]
           ]
          },
          "colorway": [
           "#636efa",
           "#EF553B",
           "#00cc96",
           "#ab63fa",
           "#FFA15A",
           "#19d3f3",
           "#FF6692",
           "#B6E880",
           "#FF97FF",
           "#FECB52"
          ],
          "font": {
           "color": "#2a3f5f"
          },
          "geo": {
           "bgcolor": "white",
           "lakecolor": "white",
           "landcolor": "#E5ECF6",
           "showlakes": true,
           "showland": true,
           "subunitcolor": "white"
          },
          "hoverlabel": {
           "align": "left"
          },
          "hovermode": "closest",
          "mapbox": {
           "style": "light"
          },
          "paper_bgcolor": "white",
          "plot_bgcolor": "#E5ECF6",
          "polar": {
           "angularaxis": {
            "gridcolor": "white",
            "linecolor": "white",
            "ticks": ""
           },
           "bgcolor": "#E5ECF6",
           "radialaxis": {
            "gridcolor": "white",
            "linecolor": "white",
            "ticks": ""
           }
          },
          "scene": {
           "xaxis": {
            "backgroundcolor": "#E5ECF6",
            "gridcolor": "white",
            "gridwidth": 2,
            "linecolor": "white",
            "showbackground": true,
            "ticks": "",
            "zerolinecolor": "white"
           },
           "yaxis": {
            "backgroundcolor": "#E5ECF6",
            "gridcolor": "white",
            "gridwidth": 2,
            "linecolor": "white",
            "showbackground": true,
            "ticks": "",
            "zerolinecolor": "white"
           },
           "zaxis": {
            "backgroundcolor": "#E5ECF6",
            "gridcolor": "white",
            "gridwidth": 2,
            "linecolor": "white",
            "showbackground": true,
            "ticks": "",
            "zerolinecolor": "white"
           }
          },
          "shapedefaults": {
           "line": {
            "color": "#2a3f5f"
           }
          },
          "ternary": {
           "aaxis": {
            "gridcolor": "white",
            "linecolor": "white",
            "ticks": ""
           },
           "baxis": {
            "gridcolor": "white",
            "linecolor": "white",
            "ticks": ""
           },
           "bgcolor": "#E5ECF6",
           "caxis": {
            "gridcolor": "white",
            "linecolor": "white",
            "ticks": ""
           }
          },
          "title": {
           "x": 0.05
          },
          "xaxis": {
           "automargin": true,
           "gridcolor": "white",
           "linecolor": "white",
           "ticks": "",
           "title": {
            "standoff": 15
           },
           "zerolinecolor": "white",
           "zerolinewidth": 2
          },
          "yaxis": {
           "automargin": true,
           "gridcolor": "white",
           "linecolor": "white",
           "ticks": "",
           "title": {
            "standoff": 15
           },
           "zerolinecolor": "white",
           "zerolinewidth": 2
          }
         }
        },
        "width": 900,
        "xaxis": {
         "rangeselector": {
          "buttons": [
           {
            "count": 7,
            "label": "1w",
            "step": "day",
            "stepmode": "backward"
           },
           {
            "count": 1,
            "label": "1m",
            "step": "month",
            "stepmode": "backward"
           },
           {
            "count": 6,
            "label": "6m",
            "step": "month",
            "stepmode": "backward"
           },
           {
            "count": 1,
            "label": "1y",
            "step": "year",
            "stepmode": "backward"
           },
           {
            "step": "all"
           }
          ]
         },
         "rangeslider": {
          "visible": true
         },
         "title": {
          "text": "ds"
         },
         "type": "date"
        },
        "yaxis": {
         "title": {
          "text": "y"
         }
        }
       }
      }
     },
     "metadata": {},
     "output_type": "display_data"
    }
   ],
   "source": [
    "plot_plotly(prophet, forecast)"
   ]
  },
  {
   "cell_type": "code",
   "execution_count": 69,
   "metadata": {},
   "outputs": [
    {
     "data": {
      "application/vnd.jupyter.widget-view+json": {
       "model_id": "1dc5d58de86e42c38b08587e26de3e0b",
       "version_major": 2,
       "version_minor": 0
      },
      "text/plain": [
       "  0%|          | 0/2 [00:00<?, ?it/s]"
      ]
     },
     "metadata": {},
     "output_type": "display_data"
    },
    {
     "name": "stderr",
     "output_type": "stream",
     "text": [
      "02:18:50 - cmdstanpy - INFO - Chain [1] start processing\n",
      "02:18:50 - cmdstanpy - INFO - Chain [1] done processing\n",
      "02:18:51 - cmdstanpy - INFO - Chain [1] start processing\n",
      "02:18:51 - cmdstanpy - INFO - Chain [1] done processing\n"
     ]
    },
    {
     "data": {
      "text/html": [
       "<div>\n",
       "<style scoped>\n",
       "    .dataframe tbody tr th:only-of-type {\n",
       "        vertical-align: middle;\n",
       "    }\n",
       "\n",
       "    .dataframe tbody tr th {\n",
       "        vertical-align: top;\n",
       "    }\n",
       "\n",
       "    .dataframe thead th {\n",
       "        text-align: right;\n",
       "    }\n",
       "</style>\n",
       "<table border=\"1\" class=\"dataframe\">\n",
       "  <thead>\n",
       "    <tr style=\"text-align: right;\">\n",
       "      <th></th>\n",
       "      <th>horizon</th>\n",
       "      <th>mse</th>\n",
       "      <th>rmse</th>\n",
       "      <th>mae</th>\n",
       "      <th>mape</th>\n",
       "      <th>mdape</th>\n",
       "      <th>smape</th>\n",
       "      <th>coverage</th>\n",
       "    </tr>\n",
       "  </thead>\n",
       "  <tbody>\n",
       "    <tr>\n",
       "      <th>4</th>\n",
       "      <td>5 days</td>\n",
       "      <td>338.768584</td>\n",
       "      <td>18.405667</td>\n",
       "      <td>17.745269</td>\n",
       "      <td>0.080829</td>\n",
       "      <td>0.080829</td>\n",
       "      <td>0.078178</td>\n",
       "      <td>1.0</td>\n",
       "    </tr>\n",
       "    <tr>\n",
       "      <th>5</th>\n",
       "      <td>6 days</td>\n",
       "      <td>836.038432</td>\n",
       "      <td>28.914329</td>\n",
       "      <td>28.914313</td>\n",
       "      <td>0.142564</td>\n",
       "      <td>0.142564</td>\n",
       "      <td>0.133070</td>\n",
       "      <td>1.0</td>\n",
       "    </tr>\n",
       "    <tr>\n",
       "      <th>2</th>\n",
       "      <td>3 days</td>\n",
       "      <td>1026.732684</td>\n",
       "      <td>32.042670</td>\n",
       "      <td>28.519457</td>\n",
       "      <td>0.143864</td>\n",
       "      <td>0.143864</td>\n",
       "      <td>0.131781</td>\n",
       "      <td>1.0</td>\n",
       "    </tr>\n",
       "    <tr>\n",
       "      <th>0</th>\n",
       "      <td>1 days</td>\n",
       "      <td>1729.943639</td>\n",
       "      <td>41.592591</td>\n",
       "      <td>37.376787</td>\n",
       "      <td>0.214695</td>\n",
       "      <td>0.214695</td>\n",
       "      <td>0.187561</td>\n",
       "      <td>0.5</td>\n",
       "    </tr>\n",
       "    <tr>\n",
       "      <th>1</th>\n",
       "      <td>2 days</td>\n",
       "      <td>1837.981920</td>\n",
       "      <td>42.871691</td>\n",
       "      <td>41.222182</td>\n",
       "      <td>0.224988</td>\n",
       "      <td>0.224988</td>\n",
       "      <td>0.205201</td>\n",
       "      <td>0.5</td>\n",
       "    </tr>\n",
       "    <tr>\n",
       "      <th>3</th>\n",
       "      <td>4 days</td>\n",
       "      <td>2127.798465</td>\n",
       "      <td>46.128066</td>\n",
       "      <td>40.874670</td>\n",
       "      <td>0.189931</td>\n",
       "      <td>0.189931</td>\n",
       "      <td>0.171180</td>\n",
       "      <td>0.5</td>\n",
       "    </tr>\n",
       "    <tr>\n",
       "      <th>6</th>\n",
       "      <td>7 days</td>\n",
       "      <td>8496.013614</td>\n",
       "      <td>92.173823</td>\n",
       "      <td>75.472297</td>\n",
       "      <td>0.649845</td>\n",
       "      <td>0.649845</td>\n",
       "      <td>0.422510</td>\n",
       "      <td>0.5</td>\n",
       "    </tr>\n",
       "  </tbody>\n",
       "</table>\n",
       "</div>"
      ],
      "text/plain": [
       "  horizon          mse       rmse        mae      mape     mdape     smape  \\\n",
       "4  5 days   338.768584  18.405667  17.745269  0.080829  0.080829  0.078178   \n",
       "5  6 days   836.038432  28.914329  28.914313  0.142564  0.142564  0.133070   \n",
       "2  3 days  1026.732684  32.042670  28.519457  0.143864  0.143864  0.131781   \n",
       "0  1 days  1729.943639  41.592591  37.376787  0.214695  0.214695  0.187561   \n",
       "1  2 days  1837.981920  42.871691  41.222182  0.224988  0.224988  0.205201   \n",
       "3  4 days  2127.798465  46.128066  40.874670  0.189931  0.189931  0.171180   \n",
       "6  7 days  8496.013614  92.173823  75.472297  0.649845  0.649845  0.422510   \n",
       "\n",
       "   coverage  \n",
       "4       1.0  \n",
       "5       1.0  \n",
       "2       1.0  \n",
       "0       0.5  \n",
       "1       0.5  \n",
       "3       0.5  \n",
       "6       0.5  "
      ]
     },
     "execution_count": 69,
     "metadata": {},
     "output_type": "execute_result"
    }
   ],
   "source": [
    "evaluation_model = cross_validation(prophet, initial='30 days', period='15 days', horizon = '7 days')\n",
    "evaluation_metrix = performance_metrics(evaluation_model)\n",
    "evaluation_metrix.sort_values('rmse')"
   ]
  },
  {
   "attachments": {},
   "cell_type": "markdown",
   "metadata": {},
   "source": [
    "## purchase_success"
   ]
  },
  {
   "cell_type": "code",
   "execution_count": 70,
   "metadata": {},
   "outputs": [
    {
     "name": "stderr",
     "output_type": "stream",
     "text": [
      "C:\\Users\\bongkyun\\AppData\\Local\\Temp\\ipykernel_12956\\513555586.py:6: FutureWarning:\n",
      "\n",
      "The frame.append method is deprecated and will be removed from pandas in a future version. Use pandas.concat instead.\n",
      "\n",
      "C:\\Users\\bongkyun\\AppData\\Local\\Temp\\ipykernel_12956\\513555586.py:6: FutureWarning:\n",
      "\n",
      "The frame.append method is deprecated and will be removed from pandas in a future version. Use pandas.concat instead.\n",
      "\n",
      "C:\\Users\\bongkyun\\AppData\\Local\\Temp\\ipykernel_12956\\513555586.py:6: FutureWarning:\n",
      "\n",
      "The frame.append method is deprecated and will be removed from pandas in a future version. Use pandas.concat instead.\n",
      "\n",
      "C:\\Users\\bongkyun\\AppData\\Local\\Temp\\ipykernel_12956\\513555586.py:6: FutureWarning:\n",
      "\n",
      "The frame.append method is deprecated and will be removed from pandas in a future version. Use pandas.concat instead.\n",
      "\n",
      "C:\\Users\\bongkyun\\AppData\\Local\\Temp\\ipykernel_12956\\513555586.py:6: FutureWarning:\n",
      "\n",
      "The frame.append method is deprecated and will be removed from pandas in a future version. Use pandas.concat instead.\n",
      "\n",
      "C:\\Users\\bongkyun\\AppData\\Local\\Temp\\ipykernel_12956\\513555586.py:6: FutureWarning:\n",
      "\n",
      "The frame.append method is deprecated and will be removed from pandas in a future version. Use pandas.concat instead.\n",
      "\n",
      "C:\\Users\\bongkyun\\AppData\\Local\\Temp\\ipykernel_12956\\513555586.py:6: FutureWarning:\n",
      "\n",
      "The frame.append method is deprecated and will be removed from pandas in a future version. Use pandas.concat instead.\n",
      "\n",
      "C:\\Users\\bongkyun\\AppData\\Local\\Temp\\ipykernel_12956\\513555586.py:6: FutureWarning:\n",
      "\n",
      "The frame.append method is deprecated and will be removed from pandas in a future version. Use pandas.concat instead.\n",
      "\n",
      "C:\\Users\\bongkyun\\AppData\\Local\\Temp\\ipykernel_12956\\513555586.py:6: FutureWarning:\n",
      "\n",
      "The frame.append method is deprecated and will be removed from pandas in a future version. Use pandas.concat instead.\n",
      "\n",
      "C:\\Users\\bongkyun\\AppData\\Local\\Temp\\ipykernel_12956\\513555586.py:6: FutureWarning:\n",
      "\n",
      "The frame.append method is deprecated and will be removed from pandas in a future version. Use pandas.concat instead.\n",
      "\n",
      "C:\\Users\\bongkyun\\AppData\\Local\\Temp\\ipykernel_12956\\513555586.py:6: FutureWarning:\n",
      "\n",
      "The frame.append method is deprecated and will be removed from pandas in a future version. Use pandas.concat instead.\n",
      "\n",
      "C:\\Users\\bongkyun\\AppData\\Local\\Temp\\ipykernel_12956\\513555586.py:6: FutureWarning:\n",
      "\n",
      "The frame.append method is deprecated and will be removed from pandas in a future version. Use pandas.concat instead.\n",
      "\n",
      "C:\\Users\\bongkyun\\AppData\\Local\\Temp\\ipykernel_12956\\513555586.py:6: FutureWarning:\n",
      "\n",
      "The frame.append method is deprecated and will be removed from pandas in a future version. Use pandas.concat instead.\n",
      "\n",
      "C:\\Users\\bongkyun\\AppData\\Local\\Temp\\ipykernel_12956\\513555586.py:6: FutureWarning:\n",
      "\n",
      "The frame.append method is deprecated and will be removed from pandas in a future version. Use pandas.concat instead.\n",
      "\n",
      "C:\\Users\\bongkyun\\AppData\\Local\\Temp\\ipykernel_12956\\513555586.py:6: FutureWarning:\n",
      "\n",
      "The frame.append method is deprecated and will be removed from pandas in a future version. Use pandas.concat instead.\n",
      "\n",
      "C:\\Users\\bongkyun\\AppData\\Local\\Temp\\ipykernel_12956\\513555586.py:6: FutureWarning:\n",
      "\n",
      "The frame.append method is deprecated and will be removed from pandas in a future version. Use pandas.concat instead.\n",
      "\n",
      "C:\\Users\\bongkyun\\AppData\\Local\\Temp\\ipykernel_12956\\513555586.py:6: FutureWarning:\n",
      "\n",
      "The frame.append method is deprecated and will be removed from pandas in a future version. Use pandas.concat instead.\n",
      "\n",
      "C:\\Users\\bongkyun\\AppData\\Local\\Temp\\ipykernel_12956\\513555586.py:6: FutureWarning:\n",
      "\n",
      "The frame.append method is deprecated and will be removed from pandas in a future version. Use pandas.concat instead.\n",
      "\n",
      "C:\\Users\\bongkyun\\AppData\\Local\\Temp\\ipykernel_12956\\513555586.py:6: FutureWarning:\n",
      "\n",
      "The frame.append method is deprecated and will be removed from pandas in a future version. Use pandas.concat instead.\n",
      "\n",
      "C:\\Users\\bongkyun\\AppData\\Local\\Temp\\ipykernel_12956\\513555586.py:6: FutureWarning:\n",
      "\n",
      "The frame.append method is deprecated and will be removed from pandas in a future version. Use pandas.concat instead.\n",
      "\n",
      "C:\\Users\\bongkyun\\AppData\\Local\\Temp\\ipykernel_12956\\513555586.py:6: FutureWarning:\n",
      "\n",
      "The frame.append method is deprecated and will be removed from pandas in a future version. Use pandas.concat instead.\n",
      "\n",
      "C:\\Users\\bongkyun\\AppData\\Local\\Temp\\ipykernel_12956\\513555586.py:6: FutureWarning:\n",
      "\n",
      "The frame.append method is deprecated and will be removed from pandas in a future version. Use pandas.concat instead.\n",
      "\n",
      "C:\\Users\\bongkyun\\AppData\\Local\\Temp\\ipykernel_12956\\513555586.py:6: FutureWarning:\n",
      "\n",
      "The frame.append method is deprecated and will be removed from pandas in a future version. Use pandas.concat instead.\n",
      "\n",
      "C:\\Users\\bongkyun\\AppData\\Local\\Temp\\ipykernel_12956\\513555586.py:6: FutureWarning:\n",
      "\n",
      "The frame.append method is deprecated and will be removed from pandas in a future version. Use pandas.concat instead.\n",
      "\n",
      "C:\\Users\\bongkyun\\AppData\\Local\\Temp\\ipykernel_12956\\513555586.py:6: FutureWarning:\n",
      "\n",
      "The frame.append method is deprecated and will be removed from pandas in a future version. Use pandas.concat instead.\n",
      "\n",
      "C:\\Users\\bongkyun\\AppData\\Local\\Temp\\ipykernel_12956\\513555586.py:6: FutureWarning:\n",
      "\n",
      "The frame.append method is deprecated and will be removed from pandas in a future version. Use pandas.concat instead.\n",
      "\n",
      "C:\\Users\\bongkyun\\AppData\\Local\\Temp\\ipykernel_12956\\513555586.py:6: FutureWarning:\n",
      "\n",
      "The frame.append method is deprecated and will be removed from pandas in a future version. Use pandas.concat instead.\n",
      "\n",
      "C:\\Users\\bongkyun\\AppData\\Local\\Temp\\ipykernel_12956\\513555586.py:6: FutureWarning:\n",
      "\n",
      "The frame.append method is deprecated and will be removed from pandas in a future version. Use pandas.concat instead.\n",
      "\n",
      "C:\\Users\\bongkyun\\AppData\\Local\\Temp\\ipykernel_12956\\513555586.py:6: FutureWarning:\n",
      "\n",
      "The frame.append method is deprecated and will be removed from pandas in a future version. Use pandas.concat instead.\n",
      "\n",
      "C:\\Users\\bongkyun\\AppData\\Local\\Temp\\ipykernel_12956\\513555586.py:6: FutureWarning:\n",
      "\n",
      "The frame.append method is deprecated and will be removed from pandas in a future version. Use pandas.concat instead.\n",
      "\n",
      "C:\\Users\\bongkyun\\AppData\\Local\\Temp\\ipykernel_12956\\513555586.py:6: FutureWarning:\n",
      "\n",
      "The frame.append method is deprecated and will be removed from pandas in a future version. Use pandas.concat instead.\n",
      "\n",
      "C:\\Users\\bongkyun\\AppData\\Local\\Temp\\ipykernel_12956\\513555586.py:6: FutureWarning:\n",
      "\n",
      "The frame.append method is deprecated and will be removed from pandas in a future version. Use pandas.concat instead.\n",
      "\n",
      "C:\\Users\\bongkyun\\AppData\\Local\\Temp\\ipykernel_12956\\513555586.py:6: FutureWarning:\n",
      "\n",
      "The frame.append method is deprecated and will be removed from pandas in a future version. Use pandas.concat instead.\n",
      "\n",
      "C:\\Users\\bongkyun\\AppData\\Local\\Temp\\ipykernel_12956\\513555586.py:6: FutureWarning:\n",
      "\n",
      "The frame.append method is deprecated and will be removed from pandas in a future version. Use pandas.concat instead.\n",
      "\n",
      "C:\\Users\\bongkyun\\AppData\\Local\\Temp\\ipykernel_12956\\513555586.py:6: FutureWarning:\n",
      "\n",
      "The frame.append method is deprecated and will be removed from pandas in a future version. Use pandas.concat instead.\n",
      "\n",
      "C:\\Users\\bongkyun\\AppData\\Local\\Temp\\ipykernel_12956\\513555586.py:6: FutureWarning:\n",
      "\n",
      "The frame.append method is deprecated and will be removed from pandas in a future version. Use pandas.concat instead.\n",
      "\n",
      "C:\\Users\\bongkyun\\AppData\\Local\\Temp\\ipykernel_12956\\513555586.py:6: FutureWarning:\n",
      "\n",
      "The frame.append method is deprecated and will be removed from pandas in a future version. Use pandas.concat instead.\n",
      "\n",
      "C:\\Users\\bongkyun\\AppData\\Local\\Temp\\ipykernel_12956\\513555586.py:6: FutureWarning:\n",
      "\n",
      "The frame.append method is deprecated and will be removed from pandas in a future version. Use pandas.concat instead.\n",
      "\n",
      "C:\\Users\\bongkyun\\AppData\\Local\\Temp\\ipykernel_12956\\513555586.py:6: FutureWarning:\n",
      "\n",
      "The frame.append method is deprecated and will be removed from pandas in a future version. Use pandas.concat instead.\n",
      "\n",
      "C:\\Users\\bongkyun\\AppData\\Local\\Temp\\ipykernel_12956\\513555586.py:6: FutureWarning:\n",
      "\n",
      "The frame.append method is deprecated and will be removed from pandas in a future version. Use pandas.concat instead.\n",
      "\n",
      "C:\\Users\\bongkyun\\AppData\\Local\\Temp\\ipykernel_12956\\513555586.py:6: FutureWarning:\n",
      "\n",
      "The frame.append method is deprecated and will be removed from pandas in a future version. Use pandas.concat instead.\n",
      "\n",
      "C:\\Users\\bongkyun\\AppData\\Local\\Temp\\ipykernel_12956\\513555586.py:6: FutureWarning:\n",
      "\n",
      "The frame.append method is deprecated and will be removed from pandas in a future version. Use pandas.concat instead.\n",
      "\n",
      "C:\\Users\\bongkyun\\AppData\\Local\\Temp\\ipykernel_12956\\513555586.py:6: FutureWarning:\n",
      "\n",
      "The frame.append method is deprecated and will be removed from pandas in a future version. Use pandas.concat instead.\n",
      "\n",
      "C:\\Users\\bongkyun\\AppData\\Local\\Temp\\ipykernel_12956\\513555586.py:6: FutureWarning:\n",
      "\n",
      "The frame.append method is deprecated and will be removed from pandas in a future version. Use pandas.concat instead.\n",
      "\n",
      "C:\\Users\\bongkyun\\AppData\\Local\\Temp\\ipykernel_12956\\513555586.py:6: FutureWarning:\n",
      "\n",
      "The frame.append method is deprecated and will be removed from pandas in a future version. Use pandas.concat instead.\n",
      "\n",
      "C:\\Users\\bongkyun\\AppData\\Local\\Temp\\ipykernel_12956\\513555586.py:6: FutureWarning:\n",
      "\n",
      "The frame.append method is deprecated and will be removed from pandas in a future version. Use pandas.concat instead.\n",
      "\n",
      "C:\\Users\\bongkyun\\AppData\\Local\\Temp\\ipykernel_12956\\513555586.py:6: FutureWarning:\n",
      "\n",
      "The frame.append method is deprecated and will be removed from pandas in a future version. Use pandas.concat instead.\n",
      "\n",
      "C:\\Users\\bongkyun\\AppData\\Local\\Temp\\ipykernel_12956\\513555586.py:6: FutureWarning:\n",
      "\n",
      "The frame.append method is deprecated and will be removed from pandas in a future version. Use pandas.concat instead.\n",
      "\n",
      "C:\\Users\\bongkyun\\AppData\\Local\\Temp\\ipykernel_12956\\513555586.py:6: FutureWarning:\n",
      "\n",
      "The frame.append method is deprecated and will be removed from pandas in a future version. Use pandas.concat instead.\n",
      "\n",
      "C:\\Users\\bongkyun\\AppData\\Local\\Temp\\ipykernel_12956\\513555586.py:6: FutureWarning:\n",
      "\n",
      "The frame.append method is deprecated and will be removed from pandas in a future version. Use pandas.concat instead.\n",
      "\n",
      "C:\\Users\\bongkyun\\AppData\\Local\\Temp\\ipykernel_12956\\513555586.py:6: FutureWarning:\n",
      "\n",
      "The frame.append method is deprecated and will be removed from pandas in a future version. Use pandas.concat instead.\n",
      "\n",
      "C:\\Users\\bongkyun\\AppData\\Local\\Temp\\ipykernel_12956\\513555586.py:6: FutureWarning:\n",
      "\n",
      "The frame.append method is deprecated and will be removed from pandas in a future version. Use pandas.concat instead.\n",
      "\n",
      "C:\\Users\\bongkyun\\AppData\\Local\\Temp\\ipykernel_12956\\513555586.py:6: FutureWarning:\n",
      "\n",
      "The frame.append method is deprecated and will be removed from pandas in a future version. Use pandas.concat instead.\n",
      "\n",
      "C:\\Users\\bongkyun\\AppData\\Local\\Temp\\ipykernel_12956\\513555586.py:6: FutureWarning:\n",
      "\n",
      "The frame.append method is deprecated and will be removed from pandas in a future version. Use pandas.concat instead.\n",
      "\n",
      "C:\\Users\\bongkyun\\AppData\\Local\\Temp\\ipykernel_12956\\513555586.py:6: FutureWarning:\n",
      "\n",
      "The frame.append method is deprecated and will be removed from pandas in a future version. Use pandas.concat instead.\n",
      "\n",
      "C:\\Users\\bongkyun\\AppData\\Local\\Temp\\ipykernel_12956\\513555586.py:6: FutureWarning:\n",
      "\n",
      "The frame.append method is deprecated and will be removed from pandas in a future version. Use pandas.concat instead.\n",
      "\n",
      "C:\\Users\\bongkyun\\AppData\\Local\\Temp\\ipykernel_12956\\513555586.py:6: FutureWarning:\n",
      "\n",
      "The frame.append method is deprecated and will be removed from pandas in a future version. Use pandas.concat instead.\n",
      "\n",
      "C:\\Users\\bongkyun\\AppData\\Local\\Temp\\ipykernel_12956\\513555586.py:6: FutureWarning:\n",
      "\n",
      "The frame.append method is deprecated and will be removed from pandas in a future version. Use pandas.concat instead.\n",
      "\n",
      "C:\\Users\\bongkyun\\AppData\\Local\\Temp\\ipykernel_12956\\513555586.py:6: FutureWarning:\n",
      "\n",
      "The frame.append method is deprecated and will be removed from pandas in a future version. Use pandas.concat instead.\n",
      "\n",
      "C:\\Users\\bongkyun\\AppData\\Local\\Temp\\ipykernel_12956\\513555586.py:6: FutureWarning:\n",
      "\n",
      "The frame.append method is deprecated and will be removed from pandas in a future version. Use pandas.concat instead.\n",
      "\n",
      "C:\\Users\\bongkyun\\AppData\\Local\\Temp\\ipykernel_12956\\513555586.py:6: FutureWarning:\n",
      "\n",
      "The frame.append method is deprecated and will be removed from pandas in a future version. Use pandas.concat instead.\n",
      "\n",
      "C:\\Users\\bongkyun\\AppData\\Local\\Temp\\ipykernel_12956\\513555586.py:6: FutureWarning:\n",
      "\n",
      "The frame.append method is deprecated and will be removed from pandas in a future version. Use pandas.concat instead.\n",
      "\n",
      "C:\\Users\\bongkyun\\AppData\\Local\\Temp\\ipykernel_12956\\513555586.py:6: FutureWarning:\n",
      "\n",
      "The frame.append method is deprecated and will be removed from pandas in a future version. Use pandas.concat instead.\n",
      "\n"
     ]
    },
    {
     "data": {
      "text/html": [
       "<div>\n",
       "<style scoped>\n",
       "    .dataframe tbody tr th:only-of-type {\n",
       "        vertical-align: middle;\n",
       "    }\n",
       "\n",
       "    .dataframe tbody tr th {\n",
       "        vertical-align: top;\n",
       "    }\n",
       "\n",
       "    .dataframe thead th {\n",
       "        text-align: right;\n",
       "    }\n",
       "</style>\n",
       "<table border=\"1\" class=\"dataframe\">\n",
       "  <thead>\n",
       "    <tr style=\"text-align: right;\">\n",
       "      <th></th>\n",
       "      <th>ds</th>\n",
       "      <th>y</th>\n",
       "    </tr>\n",
       "  </thead>\n",
       "  <tbody>\n",
       "    <tr>\n",
       "      <th>0</th>\n",
       "      <td>2021-06-16</td>\n",
       "      <td>144</td>\n",
       "    </tr>\n",
       "    <tr>\n",
       "      <th>1</th>\n",
       "      <td>2021-06-27</td>\n",
       "      <td>72</td>\n",
       "    </tr>\n",
       "    <tr>\n",
       "      <th>2</th>\n",
       "      <td>2021-07-06</td>\n",
       "      <td>108</td>\n",
       "    </tr>\n",
       "    <tr>\n",
       "      <th>3</th>\n",
       "      <td>2021-06-19</td>\n",
       "      <td>56</td>\n",
       "    </tr>\n",
       "    <tr>\n",
       "      <th>4</th>\n",
       "      <td>2021-07-01</td>\n",
       "      <td>124</td>\n",
       "    </tr>\n",
       "    <tr>\n",
       "      <th>...</th>\n",
       "      <td>...</td>\n",
       "      <td>...</td>\n",
       "    </tr>\n",
       "    <tr>\n",
       "      <th>58</th>\n",
       "      <td>2021-06-14</td>\n",
       "      <td>84</td>\n",
       "    </tr>\n",
       "    <tr>\n",
       "      <th>59</th>\n",
       "      <td>2021-06-04</td>\n",
       "      <td>60</td>\n",
       "    </tr>\n",
       "    <tr>\n",
       "      <th>60</th>\n",
       "      <td>2021-07-02</td>\n",
       "      <td>152</td>\n",
       "    </tr>\n",
       "    <tr>\n",
       "      <th>61</th>\n",
       "      <td>2021-07-14</td>\n",
       "      <td>76</td>\n",
       "    </tr>\n",
       "    <tr>\n",
       "      <th>62</th>\n",
       "      <td>2021-06-21</td>\n",
       "      <td>84</td>\n",
       "    </tr>\n",
       "  </tbody>\n",
       "</table>\n",
       "<p>63 rows × 2 columns</p>\n",
       "</div>"
      ],
      "text/plain": [
       "            ds    y\n",
       "0   2021-06-16  144\n",
       "1   2021-06-27   72\n",
       "2   2021-07-06  108\n",
       "3   2021-06-19   56\n",
       "4   2021-07-01  124\n",
       "..         ...  ...\n",
       "58  2021-06-14   84\n",
       "59  2021-06-04   60\n",
       "60  2021-07-02  152\n",
       "61  2021-07-14   76\n",
       "62  2021-06-21   84\n",
       "\n",
       "[63 rows x 2 columns]"
      ]
     },
     "execution_count": 70,
     "metadata": {},
     "output_type": "execute_result"
    }
   ],
   "source": [
    "date_list = list(set(purchase_success['Date']))\n",
    "columns = ['ds', 'y']                 \n",
    "rating_mean = pd.DataFrame(columns=columns)\n",
    "for date in date_list:\n",
    "    rating = purchase_success.loc[purchase_success['Date'] == date]\n",
    "    rating_mean = rating_mean.append(pd.DataFrame([[date, rating['rating'].sum()]], columns=columns), ignore_index=True)\n",
    "rating_mean"
   ]
  },
  {
   "cell_type": "code",
   "execution_count": 71,
   "metadata": {},
   "outputs": [
    {
     "name": "stderr",
     "output_type": "stream",
     "text": [
      "02:22:57 - cmdstanpy - INFO - Chain [1] start processing\n",
      "02:22:57 - cmdstanpy - INFO - Chain [1] done processing\n"
     ]
    },
    {
     "data": {
      "image/png": "[encoded data removed]",
      "text/plain": [
       "<Figure size 900x600 with 2 Axes>"
      ]
     },
     "metadata": {},
     "output_type": "display_data"
    }
   ],
   "source": [
    "prophet = Prophet()\n",
    "prophet.fit(rating_mean)\n",
    "\n",
    "\n",
    "future = prophet.make_future_dataframe(periods=7, freq = 'D')\n",
    "forecast = prophet.predict(future)\n",
    "\n",
    "fig2 = prophet.plot_components(forecast)\n",
    "plt.show()"
   ]
  },
  {
   "cell_type": "code",
   "execution_count": 72,
   "metadata": {},
   "outputs": [
    {
     "data": {
      "application/vnd.plotly.v1+json": {
       "config": {
        "plotlyServerURL": "https://plot.ly"
       },
       "data": [
        {
         "marker": {
          "color": "black",
          "size": 4
         },
         "mode": "markers",
         "name": "Actual",
         "type": "scatter",
         "x": [
          "2021-06-03T00:00:00",
          "2021-06-04T00:00:00",
          "2021-06-05T00:00:00",
          "2021-06-06T00:00:00",
          "2021-06-07T00:00:00",
          "2021-06-08T00:00:00",
          "2021-06-09T00:00:00",
          "2021-06-10T00:00:00",
          "2021-06-11T00:00:00",
          "2021-06-12T00:00:00",
          "2021-06-13T00:00:00",
          "2021-06-14T00:00:00",
          "2021-06-15T00:00:00",
          "2021-06-16T00:00:00",
          "2021-06-17T00:00:00",
          "2021-06-18T00:00:00",
          "2021-06-19T00:00:00",
          "2021-06-20T00:00:00",
          "2021-06-21T00:00:00",
          "2021-06-22T00:00:00",
          "2021-06-23T00:00:00",
          "2021-06-24T00:00:00",
          "2021-06-25T00:00:00",
          "2021-06-26T00:00:00",
          "2021-06-27T00:00:00",
          "2021-06-28T00:00:00",
          "2021-06-29T00:00:00",
          "2021-06-30T00:00:00",
          "2021-07-01T00:00:00",
          "2021-07-02T00:00:00",
          "2021-07-03T00:00:00",
          "2021-07-04T00:00:00",
          "2021-07-05T00:00:00",
          "2021-07-06T00:00:00",
          "2021-07-07T00:00:00",
          "2021-07-08T00:00:00",
          "2021-07-09T00:00:00",
          "2021-07-10T00:00:00",
          "2021-07-11T00:00:00",
          "2021-07-12T00:00:00",
          "2021-07-13T00:00:00",
          "2021-07-14T00:00:00",
          "2021-07-15T00:00:00",
          "2021-07-16T00:00:00",
          "2021-07-17T00:00:00",
          "2021-07-18T00:00:00",
          "2021-07-19T00:00:00",
          "2021-07-20T00:00:00",
          "2021-07-21T00:00:00",
          "2021-07-22T00:00:00",
          "2021-07-23T00:00:00",
          "2021-07-24T00:00:00",
          "2021-07-25T00:00:00",
          "2021-07-26T00:00:00",
          "2021-07-27T00:00:00",
          "2021-07-28T00:00:00",
          "2021-07-29T00:00:00",
          "2021-07-30T00:00:00",
          "2021-07-31T00:00:00",
          "2021-08-01T00:00:00",
          "2021-08-02T00:00:00",
          "2021-08-03T00:00:00",
          "2021-08-04T00:00:00"
         ],
         "y": [
          40,
          60,
          72,
          116,
          120,
          80,
          112,
          92,
          64,
          64,
          16,
          84,
          84,
          144,
          96,
          44,
          56,
          132,
          84,
          116,
          64,
          68,
          52,
          36,
          72,
          92,
          104,
          136,
          124,
          152,
          64,
          132,
          112,
          108,
          68,
          96,
          72,
          88,
          120,
          100,
          88,
          76,
          132,
          44,
          88,
          80,
          124,
          68,
          88,
          88,
          88,
          72,
          88,
          52,
          76,
          64,
          64,
          60,
          44,
          116,
          84,
          76,
          20
         ]
        },
        {
         "hoverinfo": "skip",
         "line": {
          "width": 0
         },
         "mode": "lines",
         "type": "scatter",
         "x": [
          "2021-06-03T00:00:00",
          "2021-06-04T00:00:00",
          "2021-06-05T00:00:00",
          "2021-06-06T00:00:00",
          "2021-06-07T00:00:00",
          "2021-06-08T00:00:00",
          "2021-06-09T00:00:00",
          "2021-06-10T00:00:00",
          "2021-06-11T00:00:00",
          "2021-06-12T00:00:00",
          "2021-06-13T00:00:00",
          "2021-06-14T00:00:00",
          "2021-06-15T00:00:00",
          "2021-06-16T00:00:00",
          "2021-06-17T00:00:00",
          "2021-06-18T00:00:00",
          "2021-06-19T00:00:00",
          "2021-06-20T00:00:00",
          "2021-06-21T00:00:00",
          "2021-06-22T00:00:00",
          "2021-06-23T00:00:00",
          "2021-06-24T00:00:00",
          "2021-06-25T00:00:00",
          "2021-06-26T00:00:00",
          "2021-06-27T00:00:00",
          "2021-06-28T00:00:00",
          "2021-06-29T00:00:00",
          "2021-06-30T00:00:00",
          "2021-07-01T00:00:00",
          "2021-07-02T00:00:00",
          "2021-07-03T00:00:00",
          "2021-07-04T00:00:00",
          "2021-07-05T00:00:00",
          "2021-07-06T00:00:00",
          "2021-07-07T00:00:00",
          "2021-07-08T00:00:00",
          "2021-07-09T00:00:00",
          "2021-07-10T00:00:00",
          "2021-07-11T00:00:00",
          "2021-07-12T00:00:00",
          "2021-07-13T00:00:00",
          "2021-07-14T00:00:00",
          "2021-07-15T00:00:00",
          "2021-07-16T00:00:00",
          "2021-07-17T00:00:00",
          "2021-07-18T00:00:00",
          "2021-07-19T00:00:00",
          "2021-07-20T00:00:00",
          "2021-07-21T00:00:00",
          "2021-07-22T00:00:00",
          "2021-07-23T00:00:00",
          "2021-07-24T00:00:00",
          "2021-07-25T00:00:00",
          "2021-07-26T00:00:00",
          "2021-07-27T00:00:00",
          "2021-07-28T00:00:00",
          "2021-07-29T00:00:00",
          "2021-07-30T00:00:00",
          "2021-07-31T00:00:00",
          "2021-08-01T00:00:00",
          "2021-08-02T00:00:00",
          "2021-08-03T00:00:00",
          "2021-08-04T00:00:00",
          "2021-08-05T00:00:00",
          "2021-08-06T00:00:00",
          "2021-08-07T00:00:00",
          "2021-08-08T00:00:00",
          "2021-08-09T00:00:00",
          "2021-08-10T00:00:00",
          "2021-08-11T00:00:00"
         ],
         "y": [
          58.40694785053709,
          37.979316294441965,
          34.12752480858021,
          66.22666170824373,
          63.01904440948621,
          54.431132449993825,
          56.024894348368775,
          58.78906824389053,
          37.57163070708077,
          32.85796247831596,
          67.44917962617414,
          59.97488431408306,
          55.50990000454029,
          53.18613109575363,
          56.746089744760425,
          39.72454315397923,
          30.382888075987687,
          63.90953082625919,
          62.31722009638182,
          54.37287274136692,
          55.478011144893195,
          53.422030163763985,
          36.59511291469221,
          29.109289535479654,
          62.73643434593634,
          60.44085200445456,
          56.44115440032556,
          51.53940317721525,
          51.6900554703606,
          36.17679320049444,
          28.95140199423452,
          64.31022854242158,
          58.01485844984438,
          53.36265605841701,
          50.49955288099475,
          51.416941358997555,
          33.46557915666614,
          29.944161908689118,
          60.05871114252145,
          58.316671188491135,
          54.88136179245838,
          49.89804579930799,
          51.9646272132209,
          35.69036110112094,
          27.071459477620404,
          58.23527704930248,
          57.92922837717185,
          51.021971501843694,
          49.59585902690273,
          50.304322180059174,
          31.42256614103202,
          27.514008150248294,
          58.88140489169877,
          54.99211729271559,
          52.068030645770385,
          47.66593759336385,
          48.15071686791699,
          33.54972844455399,
          24.293392054560506,
          60.82907120918459,
          54.708516495492354,
          46.38957024807575,
          47.14948004177908,
          47.97242477104009,
          26.31813496799662,
          26.73578880855261,
          57.19297975956182,
          54.83581643386004,
          46.50630436333888,
          43.45956254988007
         ]
        },
        {
         "fill": "tonexty",
         "fillcolor": "rgba(0, 114, 178, 0.2)",
         "line": {
          "color": "#0072B2",
          "width": 2
         },
         "mode": "lines",
         "name": "Predicted",
         "type": "scatter",
         "x": [
          "2021-06-03T00:00:00",
          "2021-06-04T00:00:00",
          "2021-06-05T00:00:00",
          "2021-06-06T00:00:00",
          "2021-06-07T00:00:00",
          "2021-06-08T00:00:00",
          "2021-06-09T00:00:00",
          "2021-06-10T00:00:00",
          "2021-06-11T00:00:00",
          "2021-06-12T00:00:00",
          "2021-06-13T00:00:00",
          "2021-06-14T00:00:00",
          "2021-06-15T00:00:00",
          "2021-06-16T00:00:00",
          "2021-06-17T00:00:00",
          "2021-06-18T00:00:00",
          "2021-06-19T00:00:00",
          "2021-06-20T00:00:00",
          "2021-06-21T00:00:00",
          "2021-06-22T00:00:00",
          "2021-06-23T00:00:00",
          "2021-06-24T00:00:00",
          "2021-06-25T00:00:00",
          "2021-06-26T00:00:00",
          "2021-06-27T00:00:00",
          "2021-06-28T00:00:00",
          "2021-06-29T00:00:00",
          "2021-06-30T00:00:00",
          "2021-07-01T00:00:00",
          "2021-07-02T00:00:00",
          "2021-07-03T00:00:00",
          "2021-07-04T00:00:00",
          "2021-07-05T00:00:00",
          "2021-07-06T00:00:00",
          "2021-07-07T00:00:00",
          "2021-07-08T00:00:00",
          "2021-07-09T00:00:00",
          "2021-07-10T00:00:00",
          "2021-07-11T00:00:00",
          "2021-07-12T00:00:00",
          "2021-07-13T00:00:00",
          "2021-07-14T00:00:00",
          "2021-07-15T00:00:00",
          "2021-07-16T00:00:00",
          "2021-07-17T00:00:00",
          "2021-07-18T00:00:00",
          "2021-07-19T00:00:00",
          "2021-07-20T00:00:00",
          "2021-07-21T00:00:00",
          "2021-07-22T00:00:00",
          "2021-07-23T00:00:00",
          "2021-07-24T00:00:00",
          "2021-07-25T00:00:00",
          "2021-07-26T00:00:00",
          "2021-07-27T00:00:00",
          "2021-07-28T00:00:00",
          "2021-07-29T00:00:00",
          "2021-07-30T00:00:00",
          "2021-07-31T00:00:00",
          "2021-08-01T00:00:00",
          "2021-08-02T00:00:00",
          "2021-08-03T00:00:00",
          "2021-08-04T00:00:00",
          "2021-08-05T00:00:00",
          "2021-08-06T00:00:00",
          "2021-08-07T00:00:00",
          "2021-08-08T00:00:00",
          "2021-08-09T00:00:00",
          "2021-08-10T00:00:00",
          "2021-08-11T00:00:00"
         ],
         "y": [
          93.08730495999907,
          74.8665864253537,
          69.09196376565062,
          101.10037020314644,
          98.88201659911694,
          93.10787737011042,
          90.0008200273868,
          92.04900739575473,
          73.82828885206136,
          68.05366618193139,
          100.06207261234715,
          97.84371900463697,
          92.0695797751673,
          88.96252243452274,
          91.01070980763865,
          72.78999126898863,
          67.01536860514483,
          99.02377503970482,
          96.80542143268777,
          91.03128220581311,
          87.92422486520798,
          89.97241223876227,
          71.75169370024156,
          65.97707103572003,
          97.98547747174939,
          95.76712386457645,
          89.99298463528726,
          86.88592729230214,
          88.93411437669178,
          70.71339554895768,
          64.93877259353626,
          96.94717873881257,
          94.72882436165594,
          88.95468436275169,
          85.84762624646555,
          87.89581284390013,
          69.67509352380847,
          63.90047007863941,
          95.90887572840263,
          93.69052133646613,
          87.91638132420444,
          84.8093231982296,
          86.85750978250152,
          68.63679045464893,
          62.86216699823306,
          94.87057264245533,
          92.65221824315067,
          86.87807822207861,
          83.77102008361351,
          85.81920665884438,
          67.59848732418843,
          61.82386386447925,
          93.83226950528454,
          91.61391510456296,
          85.83977508198724,
          82.73271694576344,
          84.78090352325059,
          66.56018418864657,
          60.78556072889995,
          92.79396636969517,
          90.57561196894922,
          84.80147194638732,
          81.69441381016779,
          83.74260038765678,
          65.52188105303203,
          59.74725759328159,
          91.75566323410577,
          89.5373088333302,
          83.76316881080193,
          80.65611067454603
         ]
        },
        {
         "fill": "tonexty",
         "fillcolor": "rgba(0, 114, 178, 0.2)",
         "hoverinfo": "skip",
         "line": {
          "width": 0
         },
         "mode": "lines",
         "type": "scatter",
         "x": [
          "2021-06-03T00:00:00",
          "2021-06-04T00:00:00",
          "2021-06-05T00:00:00",
          "2021-06-06T00:00:00",
          "2021-06-07T00:00:00",
          "2021-06-08T00:00:00",
          "2021-06-09T00:00:00",
          "2021-06-10T00:00:00",
          "2021-06-11T00:00:00",
          "2021-06-12T00:00:00",
          "2021-06-13T00:00:00",
          "2021-06-14T00:00:00",
          "2021-06-15T00:00:00",
          "2021-06-16T00:00:00",
          "2021-06-17T00:00:00",
          "2021-06-18T00:00:00",
          "2021-06-19T00:00:00",
          "2021-06-20T00:00:00",
          "2021-06-21T00:00:00",
          "2021-06-22T00:00:00",
          "2021-06-23T00:00:00",
          "2021-06-24T00:00:00",
          "2021-06-25T00:00:00",
          "2021-06-26T00:00:00",
          "2021-06-27T00:00:00",
          "2021-06-28T00:00:00",
          "2021-06-29T00:00:00",
          "2021-06-30T00:00:00",
          "2021-07-01T00:00:00",
          "2021-07-02T00:00:00",
          "2021-07-03T00:00:00",
          "2021-07-04T00:00:00",
          "2021-07-05T00:00:00",
          "2021-07-06T00:00:00",
          "2021-07-07T00:00:00",
          "2021-07-08T00:00:00",
          "2021-07-09T00:00:00",
          "2021-07-10T00:00:00",
          "2021-07-11T00:00:00",
          "2021-07-12T00:00:00",
          "2021-07-13T00:00:00",
          "2021-07-14T00:00:00",
          "2021-07-15T00:00:00",
          "2021-07-16T00:00:00",
          "2021-07-17T00:00:00",
          "2021-07-18T00:00:00",
          "2021-07-19T00:00:00",
          "2021-07-20T00:00:00",
          "2021-07-21T00:00:00",
          "2021-07-22T00:00:00",
          "2021-07-23T00:00:00",
          "2021-07-24T00:00:00",
          "2021-07-25T00:00:00",
          "2021-07-26T00:00:00",
          "2021-07-27T00:00:00",
          "2021-07-28T00:00:00",
          "2021-07-29T00:00:00",
          "2021-07-30T00:00:00",
          "2021-07-31T00:00:00",
          "2021-08-01T00:00:00",
          "2021-08-02T00:00:00",
          "2021-08-03T00:00:00",
          "2021-08-04T00:00:00",
          "2021-08-05T00:00:00",
          "2021-08-06T00:00:00",
          "2021-08-07T00:00:00",
          "2021-08-08T00:00:00",
          "2021-08-09T00:00:00",
          "2021-08-10T00:00:00",
          "2021-08-11T00:00:00"
         ],
         "y": [
          125.02554344579937,
          108.1585170630074,
          104.08664327841032,
          138.59037199683195,
          131.12294786848628,
          128.32292603230238,
          123.56321603412805,
          123.76615318478844,
          109.43903905522048,
          103.0187258799997,
          134.1223331370496,
          130.9825554072745,
          126.91670063013669,
          125.45647289905011,
          124.68482895364592,
          109.03222785664703,
          102.90656783968338,
          133.72386989896538,
          131.70218948578147,
          124.81401796200264,
          125.68002418680216,
          122.06829226911734,
          105.23179785429333,
          101.17615330984331,
          131.48300251516338,
          129.12664036206672,
          128.01054227060683,
          124.07046492287192,
          124.02104866847678,
          108.07885932679679,
          100.15823640807679,
          132.08330045984465,
          130.68737919460955,
          124.46252397769166,
          121.65929068568656,
          122.72025288515282,
          106.00986495747408,
          99.44778324143884,
          131.17484933936655,
          128.68097929945105,
          122.02260744860126,
          122.98470336131162,
          119.61577611295424,
          103.01083626329066,
          97.32529569448552,
          128.56706557961158,
          130.13743705306396,
          121.37554813286519,
          118.46924868809062,
          121.26858066610968,
          101.95891247479636,
          96.97288838715531,
          131.02242070053256,
          125.83345243855628,
          120.73757002435799,
          116.29327749453302,
          117.72671963131954,
          102.09954434826604,
          93.39814158897049,
          128.42892900769354,
          125.47371320726164,
          117.94347732004763,
          118.39395571369553,
          117.0031145165679,
          97.03430418384595,
          93.64259631751837,
          125.73643709762088,
          124.27459491783628,
          118.75660727055626,
          115.07074738133497
         ]
        }
       ],
       "layout": {
        "height": 600,
        "showlegend": false,
        "template": {
         "data": {
          "bar": [
           {
            "error_x": {
             "color": "#2a3f5f"
            },
            "error_y": {
             "color": "#2a3f5f"
            },
            "marker": {
             "line": {
              "color": "#E5ECF6",
              "width": 0.5
             },
             "pattern": {
              "fillmode": "overlay",
              "size": 10,
              "solidity": 0.2
             }
            },
            "type": "bar"
           }
          ],
          "barpolar": [
           {
            "marker": {
             "line": {
              "color": "#E5ECF6",
              "width": 0.5
             },
             "pattern": {
              "fillmode": "overlay",
              "size": 10,
              "solidity": 0.2
             }
            },
            "type": "barpolar"
           }
          ],
          "carpet": [
           {
            "aaxis": {
             "endlinecolor": "#2a3f5f",
             "gridcolor": "white",
             "linecolor": "white",
             "minorgridcolor": "white",
             "startlinecolor": "#2a3f5f"
            },
            "baxis": {
             "endlinecolor": "#2a3f5f",
             "gridcolor": "white",
             "linecolor": "white",
             "minorgridcolor": "white",
             "startlinecolor": "#2a3f5f"
            },
            "type": "carpet"
           }
          ],
          "choropleth": [
           {
            "colorbar": {
             "outlinewidth": 0,
             "ticks": ""
            },
            "type": "choropleth"
           }
          ],
          "contour": [
           {
            "colorbar": {
             "outlinewidth": 0,
             "ticks": ""
            },
            "colorscale": [
             [
              0,
              "#0d0887"
             ],
             [
              0.1111111111111111,
              "#46039f"
             ],
             [
              0.2222222222222222,
              "#7201a8"
             ],
             [
              0.3333333333333333,
              "#9c179e"
             ],
             [
              0.4444444444444444,
              "#bd3786"
             ],
             [
              0.5555555555555556,
              "#d8576b"
             ],
             [
              0.6666666666666666,
              "#ed7953"
             ],
             [
              0.7777777777777778,
              "#fb9f3a"
             ],
             [
              0.8888888888888888,
              "#fdca26"
             ],
             [
              1,
              "#f0f921"
             ]
            ],
            "type": "contour"
           }
          ],
          "contourcarpet": [
           {
            "colorbar": {
             "outlinewidth": 0,
             "ticks": ""
            },
            "type": "contourcarpet"
           }
          ],
          "heatmap": [
           {
            "colorbar": {
             "outlinewidth": 0,
             "ticks": ""
            },
            "colorscale": [
             [
              0,
              "#0d0887"
             ],
             [
              0.1111111111111111,
              "#46039f"
             ],
             [
              0.2222222222222222,
              "#7201a8"
             ],
             [
              0.3333333333333333,
              "#9c179e"
             ],
             [
              0.4444444444444444,
              "#bd3786"
             ],
             [
              0.5555555555555556,
              "#d8576b"
             ],
             [
              0.6666666666666666,
              "#ed7953"
             ],
             [
              0.7777777777777778,
              "#fb9f3a"
             ],
             [
              0.8888888888888888,
              "#fdca26"
             ],
             [
              1,
              "#f0f921"
             ]
            ],
            "type": "heatmap"
           }
          ],
          "heatmapgl": [
           {
            "colorbar": {
             "outlinewidth": 0,
             "ticks": ""
            },
            "colorscale": [
             [
              0,
              "#0d0887"
             ],
             [
              0.1111111111111111,
              "#46039f"
             ],
             [
              0.2222222222222222,
              "#7201a8"
             ],
             [
              0.3333333333333333,
              "#9c179e"
             ],
             [
              0.4444444444444444,
              "#bd3786"
             ],
             [
              0.5555555555555556,
              "#d8576b"
             ],
             [
              0.6666666666666666,
              "#ed7953"
             ],
             [
              0.7777777777777778,
              "#fb9f3a"
             ],
             [
              0.8888888888888888,
              "#fdca26"
             ],
             [
              1,
              "#f0f921"
             ]
            ],
            "type": "heatmapgl"
           }
          ],
          "histogram": [
           {
            "marker": {
             "pattern": {
              "fillmode": "overlay",
              "size": 10,
              "solidity": 0.2
             }
            },
            "type": "histogram"
           }
          ],
          "histogram2d": [
           {
            "colorbar": {
             "outlinewidth": 0,
             "ticks": ""
            },
            "colorscale": [
             [
              0,
              "#0d0887"
             ],
             [
              0.1111111111111111,
              "#46039f"
             ],
             [
              0.2222222222222222,
              "#7201a8"
             ],
             [
              0.3333333333333333,
              "#9c179e"
             ],
             [
              0.4444444444444444,
              "#bd3786"
             ],
             [
              0.5555555555555556,
              "#d8576b"
             ],
             [
              0.6666666666666666,
              "#ed7953"
             ],
             [
              0.7777777777777778,
              "#fb9f3a"
             ],
             [
              0.8888888888888888,
              "#fdca26"
             ],
             [
              1,
              "#f0f921"
             ]
            ],
            "type": "histogram2d"
           }
          ],
          "histogram2dcontour": [
           {
            "colorbar": {
             "outlinewidth": 0,
             "ticks": ""
            },
            "colorscale": [
             [
              0,
              "#0d0887"
             ],
             [
              0.1111111111111111,
              "#46039f"
             ],
             [
              0.2222222222222222,
              "#7201a8"
             ],
             [
              0.3333333333333333,
              "#9c179e"
             ],
             [
              0.4444444444444444,
              "#bd3786"
             ],
             [
              0.5555555555555556,
              "#d8576b"
             ],
             [
              0.6666666666666666,
              "#ed7953"
             ],
             [
              0.7777777777777778,
              "#fb9f3a"
             ],
             [
              0.8888888888888888,
              "#fdca26"
             ],
             [
              1,
              "#f0f921"
             ]
            ],
            "type": "histogram2dcontour"
           }
          ],
          "mesh3d": [
           {
            "colorbar": {
             "outlinewidth": 0,
             "ticks": ""
            },
            "type": "mesh3d"
           }
          ],
          "parcoords": [
           {
            "line": {
             "colorbar": {
              "outlinewidth": 0,
              "ticks": ""
             }
            },
            "type": "parcoords"
           }
          ],
          "pie": [
           {
            "automargin": true,
            "type": "pie"
           }
          ],
          "scatter": [
           {
            "fillpattern": {
             "fillmode": "overlay",
             "size": 10,
             "solidity": 0.2
            },
            "type": "scatter"
           }
          ],
          "scatter3d": [
           {
            "line": {
             "colorbar": {
              "outlinewidth": 0,
              "ticks": ""
             }
            },
            "marker": {
             "colorbar": {
              "outlinewidth": 0,
              "ticks": ""
             }
            },
            "type": "scatter3d"
           }
          ],
          "scattercarpet": [
           {
            "marker": {
             "colorbar": {
              "outlinewidth": 0,
              "ticks": ""
             }
            },
            "type": "scattercarpet"
           }
          ],
          "scattergeo": [
           {
            "marker": {
             "colorbar": {
              "outlinewidth": 0,
              "ticks": ""
             }
            },
            "type": "scattergeo"
           }
          ],
          "scattergl": [
           {
            "marker": {
             "colorbar": {
              "outlinewidth": 0,
              "ticks": ""
             }
            },
            "type": "scattergl"
           }
          ],
          "scattermapbox": [
           {
            "marker": {
             "colorbar": {
              "outlinewidth": 0,
              "ticks": ""
             }
            },
            "type": "scattermapbox"
           }
          ],
          "scatterpolar": [
           {
            "marker": {
             "colorbar": {
              "outlinewidth": 0,
              "ticks": ""
             }
            },
            "type": "scatterpolar"
           }
          ],
          "scatterpolargl": [
           {
            "marker": {
             "colorbar": {
              "outlinewidth": 0,
              "ticks": ""
             }
            },
            "type": "scatterpolargl"
           }
          ],
          "scatterternary": [
           {
            "marker": {
             "colorbar": {
              "outlinewidth": 0,
              "ticks": ""
             }
            },
            "type": "scatterternary"
           }
          ],
          "surface": [
           {
            "colorbar": {
             "outlinewidth": 0,
             "ticks": ""
            },
            "colorscale": [
             [
              0,
              "#0d0887"
             ],
             [
              0.1111111111111111,
              "#46039f"
             ],
             [
              0.2222222222222222,
              "#7201a8"
             ],
             [
              0.3333333333333333,
              "#9c179e"
             ],
             [
              0.4444444444444444,
              "#bd3786"
             ],
             [
              0.5555555555555556,
              "#d8576b"
             ],
             [
              0.6666666666666666,
              "#ed7953"
             ],
             [
              0.7777777777777778,
              "#fb9f3a"
             ],
             [
              0.8888888888888888,
              "#fdca26"
             ],
             [
              1,
              "#f0f921"
             ]
            ],
            "type": "surface"
           }
          ],
          "table": [
           {
            "cells": {
             "fill": {
              "color": "#EBF0F8"
             },
             "line": {
              "color": "white"
             }
            },
            "header": {
             "fill": {
              "color": "#C8D4E3"
             },
             "line": {
              "color": "white"
             }
            },
            "type": "table"
           }
          ]
         },
         "layout": {
          "annotationdefaults": {
           "arrowcolor": "#2a3f5f",
           "arrowhead": 0,
           "arrowwidth": 1
          },
          "autotypenumbers": "strict",
          "coloraxis": {
           "colorbar": {
            "outlinewidth": 0,
            "ticks": ""
           }
          },
          "colorscale": {
           "diverging": [
            [
             0,
             "#8e0152"
            ],
            [
             0.1,
             "#c51b7d"
            ],
            [
             0.2,
             "#de77ae"
            ],
            [
             0.3,
             "#f1b6da"
            ],
            [
             0.4,
             "#fde0ef"
            ],
            [
             0.5,
             "#f7f7f7"
            ],
            [
             0.6,
             "#e6f5d0"
            ],
            [
             0.7,
             "#b8e186"
            ],
            [
             0.8,
             "#7fbc41"
            ],
            [
             0.9,
             "#4d9221"
            ],
            [
             1,
             "#276419"
            ]
           ],
           "sequential": [
            [
             0,
             "#0d0887"
            ],
            [
             0.1111111111111111,
             "#46039f"
            ],
            [
             0.2222222222222222,
             "#7201a8"
            ],
            [
             0.3333333333333333,
             "#9c179e"
            ],
            [
             0.4444444444444444,
             "#bd3786"
            ],
            [
             0.5555555555555556,
             "#d8576b"
            ],
            [
             0.6666666666666666,
             "#ed7953"
            ],
            [
             0.7777777777777778,
             "#fb9f3a"
            ],
            [
             0.8888888888888888,
             "#fdca26"
            ],
            [
             1,
             "#f0f921"
            ]
           ],
           "sequentialminus": [
            [
             0,
             "#0d0887"
            ],
            [
             0.1111111111111111,
             "#46039f"
            ],
            [
             0.2222222222222222,
             "#7201a8"
            ],
            [
             0.3333333333333333,
             "#9c179e"
            ],
            [
             0.4444444444444444,
             "#bd3786"
            ],
            [
             0.5555555555555556,
             "#d8576b"
            ],
            [
             0.6666666666666666,
             "#ed7953"
            ],
            [
             0.7777777777777778,
             "#fb9f3a"
            ],
            [
             0.8888888888888888,
             "#fdca26"
            ],
            [
             1,
             "#f0f921"
            ]
           ]
          },
          "colorway": [
           "#636efa",
           "#EF553B",
           "#00cc96",
           "#ab63fa",
           "#FFA15A",
           "#19d3f3",
           "#FF6692",
           "#B6E880",
           "#FF97FF",
           "#FECB52"
          ],
          "font": {
           "color": "#2a3f5f"
          },
          "geo": {
           "bgcolor": "white",
           "lakecolor": "white",
           "landcolor": "#E5ECF6",
           "showlakes": true,
           "showland": true,
           "subunitcolor": "white"
          },
          "hoverlabel": {
           "align": "left"
          },
          "hovermode": "closest",
          "mapbox": {
           "style": "light"
          },
          "paper_bgcolor": "white",
          "plot_bgcolor": "#E5ECF6",
          "polar": {
           "angularaxis": {
            "gridcolor": "white",
            "linecolor": "white",
            "ticks": ""
           },
           "bgcolor": "#E5ECF6",
           "radialaxis": {
            "gridcolor": "white",
            "linecolor": "white",
            "ticks": ""
           }
          },
          "scene": {
           "xaxis": {
            "backgroundcolor": "#E5ECF6",
            "gridcolor": "white",
            "gridwidth": 2,
            "linecolor": "white",
            "showbackground": true,
            "ticks": "",
            "zerolinecolor": "white"
           },
           "yaxis": {
            "backgroundcolor": "#E5ECF6",
            "gridcolor": "white",
            "gridwidth": 2,
            "linecolor": "white",
            "showbackground": true,
            "ticks": "",
            "zerolinecolor": "white"
           },
           "zaxis": {
            "backgroundcolor": "#E5ECF6",
            "gridcolor": "white",
            "gridwidth": 2,
            "linecolor": "white",
            "showbackground": true,
            "ticks": "",
            "zerolinecolor": "white"
           }
          },
          "shapedefaults": {
           "line": {
            "color": "#2a3f5f"
           }
          },
          "ternary": {
           "aaxis": {
            "gridcolor": "white",
            "linecolor": "white",
            "ticks": ""
           },
           "baxis": {
            "gridcolor": "white",
            "linecolor": "white",
            "ticks": ""
           },
           "bgcolor": "#E5ECF6",
           "caxis": {
            "gridcolor": "white",
            "linecolor": "white",
            "ticks": ""
           }
          },
          "title": {
           "x": 0.05
          },
          "xaxis": {
           "automargin": true,
           "gridcolor": "white",
           "linecolor": "white",
           "ticks": "",
           "title": {
            "standoff": 15
           },
           "zerolinecolor": "white",
           "zerolinewidth": 2
          },
          "yaxis": {
           "automargin": true,
           "gridcolor": "white",
           "linecolor": "white",
           "ticks": "",
           "title": {
            "standoff": 15
           },
           "zerolinecolor": "white",
           "zerolinewidth": 2
          }
         }
        },
        "width": 900,
        "xaxis": {
         "rangeselector": {
          "buttons": [
           {
            "count": 7,
            "label": "1w",
            "step": "day",
            "stepmode": "backward"
           },
           {
            "count": 1,
            "label": "1m",
            "step": "month",
            "stepmode": "backward"
           },
           {
            "count": 6,
            "label": "6m",
            "step": "month",
            "stepmode": "backward"
           },
           {
            "count": 1,
            "label": "1y",
            "step": "year",
            "stepmode": "backward"
           },
           {
            "step": "all"
           }
          ]
         },
         "rangeslider": {
          "visible": true
         },
         "title": {
          "text": "ds"
         },
         "type": "date"
        },
        "yaxis": {
         "title": {
          "text": "y"
         }
        }
       }
      }
     },
     "metadata": {},
     "output_type": "display_data"
    }
   ],
   "source": [
    "plot_plotly(prophet, forecast)"
   ]
  },
  {
   "cell_type": "code",
   "execution_count": 73,
   "metadata": {},
   "outputs": [
    {
     "data": {
      "application/vnd.jupyter.widget-view+json": {
       "model_id": "cd8143e0a9684bac9bb6728a08b29b56",
       "version_major": 2,
       "version_minor": 0
      },
      "text/plain": [
       "  0%|          | 0/2 [00:00<?, ?it/s]"
      ]
     },
     "metadata": {},
     "output_type": "display_data"
    },
    {
     "name": "stderr",
     "output_type": "stream",
     "text": [
      "02:22:58 - cmdstanpy - INFO - Chain [1] start processing\n",
      "02:22:58 - cmdstanpy - INFO - Chain [1] done processing\n",
      "02:22:58 - cmdstanpy - INFO - Chain [1] start processing\n",
      "02:22:58 - cmdstanpy - INFO - Chain [1] done processing\n"
     ]
    },
    {
     "data": {
      "text/html": [
       "<div>\n",
       "<style scoped>\n",
       "    .dataframe tbody tr th:only-of-type {\n",
       "        vertical-align: middle;\n",
       "    }\n",
       "\n",
       "    .dataframe tbody tr th {\n",
       "        vertical-align: top;\n",
       "    }\n",
       "\n",
       "    .dataframe thead th {\n",
       "        text-align: right;\n",
       "    }\n",
       "</style>\n",
       "<table border=\"1\" class=\"dataframe\">\n",
       "  <thead>\n",
       "    <tr style=\"text-align: right;\">\n",
       "      <th></th>\n",
       "      <th>horizon</th>\n",
       "      <th>mse</th>\n",
       "      <th>rmse</th>\n",
       "      <th>mae</th>\n",
       "      <th>mape</th>\n",
       "      <th>mdape</th>\n",
       "      <th>smape</th>\n",
       "      <th>coverage</th>\n",
       "    </tr>\n",
       "  </thead>\n",
       "  <tbody>\n",
       "    <tr>\n",
       "      <th>5</th>\n",
       "      <td>6 days</td>\n",
       "      <td>191.817451</td>\n",
       "      <td>13.849818</td>\n",
       "      <td>13.608023</td>\n",
       "      <td>0.150959</td>\n",
       "      <td>0.150959</td>\n",
       "      <td>0.142784</td>\n",
       "      <td>1.0</td>\n",
       "    </tr>\n",
       "    <tr>\n",
       "      <th>3</th>\n",
       "      <td>4 days</td>\n",
       "      <td>249.844711</td>\n",
       "      <td>15.806477</td>\n",
       "      <td>15.080445</td>\n",
       "      <td>0.144192</td>\n",
       "      <td>0.144192</td>\n",
       "      <td>0.155839</td>\n",
       "      <td>1.0</td>\n",
       "    </tr>\n",
       "    <tr>\n",
       "      <th>1</th>\n",
       "      <td>2 days</td>\n",
       "      <td>595.581743</td>\n",
       "      <td>24.404543</td>\n",
       "      <td>22.685105</td>\n",
       "      <td>0.234070</td>\n",
       "      <td>0.234070</td>\n",
       "      <td>0.238760</td>\n",
       "      <td>1.0</td>\n",
       "    </tr>\n",
       "    <tr>\n",
       "      <th>4</th>\n",
       "      <td>5 days</td>\n",
       "      <td>615.424331</td>\n",
       "      <td>24.807747</td>\n",
       "      <td>22.994351</td>\n",
       "      <td>0.283357</td>\n",
       "      <td>0.283357</td>\n",
       "      <td>0.243305</td>\n",
       "      <td>1.0</td>\n",
       "    </tr>\n",
       "    <tr>\n",
       "      <th>0</th>\n",
       "      <td>1 days</td>\n",
       "      <td>1283.221780</td>\n",
       "      <td>35.822085</td>\n",
       "      <td>35.368258</td>\n",
       "      <td>0.501989</td>\n",
       "      <td>0.501989</td>\n",
       "      <td>0.400900</td>\n",
       "      <td>0.5</td>\n",
       "    </tr>\n",
       "    <tr>\n",
       "      <th>2</th>\n",
       "      <td>3 days</td>\n",
       "      <td>1299.317206</td>\n",
       "      <td>36.046043</td>\n",
       "      <td>34.753540</td>\n",
       "      <td>0.789853</td>\n",
       "      <td>0.789853</td>\n",
       "      <td>0.557473</td>\n",
       "      <td>0.5</td>\n",
       "    </tr>\n",
       "    <tr>\n",
       "      <th>6</th>\n",
       "      <td>7 days</td>\n",
       "      <td>3787.129726</td>\n",
       "      <td>61.539660</td>\n",
       "      <td>59.325561</td>\n",
       "      <td>2.208040</td>\n",
       "      <td>2.208040</td>\n",
       "      <td>0.894314</td>\n",
       "      <td>0.0</td>\n",
       "    </tr>\n",
       "  </tbody>\n",
       "</table>\n",
       "</div>"
      ],
      "text/plain": [
       "  horizon          mse       rmse        mae      mape     mdape     smape  \\\n",
       "5  6 days   191.817451  13.849818  13.608023  0.150959  0.150959  0.142784   \n",
       "3  4 days   249.844711  15.806477  15.080445  0.144192  0.144192  0.155839   \n",
       "1  2 days   595.581743  24.404543  22.685105  0.234070  0.234070  0.238760   \n",
       "4  5 days   615.424331  24.807747  22.994351  0.283357  0.283357  0.243305   \n",
       "0  1 days  1283.221780  35.822085  35.368258  0.501989  0.501989  0.400900   \n",
       "2  3 days  1299.317206  36.046043  34.753540  0.789853  0.789853  0.557473   \n",
       "6  7 days  3787.129726  61.539660  59.325561  2.208040  2.208040  0.894314   \n",
       "\n",
       "   coverage  \n",
       "5       1.0  \n",
       "3       1.0  \n",
       "1       1.0  \n",
       "4       1.0  \n",
       "0       0.5  \n",
       "2       0.5  \n",
       "6       0.0  "
      ]
     },
     "execution_count": 73,
     "metadata": {},
     "output_type": "execute_result"
    }
   ],
   "source": [
    "evaluation_model = cross_validation(prophet, initial='30 days', period='15 days', horizon = '7 days')\n",
    "evaluation_metrix = performance_metrics(evaluation_model)\n",
    "evaluation_metrix.sort_values('rmse')"
   ]
  },
  {
   "attachments": {},
   "cell_type": "markdown",
   "metadata": {},
   "source": [
    "## add_to_cart"
   ]
  },
  {
   "cell_type": "code",
   "execution_count": 74,
   "metadata": {},
   "outputs": [
    {
     "name": "stderr",
     "output_type": "stream",
     "text": [
      "C:\\Users\\bongkyun\\AppData\\Local\\Temp\\ipykernel_12956\\3619248356.py:6: FutureWarning:\n",
      "\n",
      "The frame.append method is deprecated and will be removed from pandas in a future version. Use pandas.concat instead.\n",
      "\n",
      "C:\\Users\\bongkyun\\AppData\\Local\\Temp\\ipykernel_12956\\3619248356.py:6: FutureWarning:\n",
      "\n",
      "The frame.append method is deprecated and will be removed from pandas in a future version. Use pandas.concat instead.\n",
      "\n",
      "C:\\Users\\bongkyun\\AppData\\Local\\Temp\\ipykernel_12956\\3619248356.py:6: FutureWarning:\n",
      "\n",
      "The frame.append method is deprecated and will be removed from pandas in a future version. Use pandas.concat instead.\n",
      "\n",
      "C:\\Users\\bongkyun\\AppData\\Local\\Temp\\ipykernel_12956\\3619248356.py:6: FutureWarning:\n",
      "\n",
      "The frame.append method is deprecated and will be removed from pandas in a future version. Use pandas.concat instead.\n",
      "\n",
      "C:\\Users\\bongkyun\\AppData\\Local\\Temp\\ipykernel_12956\\3619248356.py:6: FutureWarning:\n",
      "\n",
      "The frame.append method is deprecated and will be removed from pandas in a future version. Use pandas.concat instead.\n",
      "\n",
      "C:\\Users\\bongkyun\\AppData\\Local\\Temp\\ipykernel_12956\\3619248356.py:6: FutureWarning:\n",
      "\n",
      "The frame.append method is deprecated and will be removed from pandas in a future version. Use pandas.concat instead.\n",
      "\n",
      "C:\\Users\\bongkyun\\AppData\\Local\\Temp\\ipykernel_12956\\3619248356.py:6: FutureWarning:\n",
      "\n",
      "The frame.append method is deprecated and will be removed from pandas in a future version. Use pandas.concat instead.\n",
      "\n",
      "C:\\Users\\bongkyun\\AppData\\Local\\Temp\\ipykernel_12956\\3619248356.py:6: FutureWarning:\n",
      "\n",
      "The frame.append method is deprecated and will be removed from pandas in a future version. Use pandas.concat instead.\n",
      "\n",
      "C:\\Users\\bongkyun\\AppData\\Local\\Temp\\ipykernel_12956\\3619248356.py:6: FutureWarning:\n",
      "\n",
      "The frame.append method is deprecated and will be removed from pandas in a future version. Use pandas.concat instead.\n",
      "\n",
      "C:\\Users\\bongkyun\\AppData\\Local\\Temp\\ipykernel_12956\\3619248356.py:6: FutureWarning:\n",
      "\n",
      "The frame.append method is deprecated and will be removed from pandas in a future version. Use pandas.concat instead.\n",
      "\n",
      "C:\\Users\\bongkyun\\AppData\\Local\\Temp\\ipykernel_12956\\3619248356.py:6: FutureWarning:\n",
      "\n",
      "The frame.append method is deprecated and will be removed from pandas in a future version. Use pandas.concat instead.\n",
      "\n",
      "C:\\Users\\bongkyun\\AppData\\Local\\Temp\\ipykernel_12956\\3619248356.py:6: FutureWarning:\n",
      "\n",
      "The frame.append method is deprecated and will be removed from pandas in a future version. Use pandas.concat instead.\n",
      "\n",
      "C:\\Users\\bongkyun\\AppData\\Local\\Temp\\ipykernel_12956\\3619248356.py:6: FutureWarning:\n",
      "\n",
      "The frame.append method is deprecated and will be removed from pandas in a future version. Use pandas.concat instead.\n",
      "\n",
      "C:\\Users\\bongkyun\\AppData\\Local\\Temp\\ipykernel_12956\\3619248356.py:6: FutureWarning:\n",
      "\n",
      "The frame.append method is deprecated and will be removed from pandas in a future version. Use pandas.concat instead.\n",
      "\n",
      "C:\\Users\\bongkyun\\AppData\\Local\\Temp\\ipykernel_12956\\3619248356.py:6: FutureWarning:\n",
      "\n",
      "The frame.append method is deprecated and will be removed from pandas in a future version. Use pandas.concat instead.\n",
      "\n",
      "C:\\Users\\bongkyun\\AppData\\Local\\Temp\\ipykernel_12956\\3619248356.py:6: FutureWarning:\n",
      "\n",
      "The frame.append method is deprecated and will be removed from pandas in a future version. Use pandas.concat instead.\n",
      "\n",
      "C:\\Users\\bongkyun\\AppData\\Local\\Temp\\ipykernel_12956\\3619248356.py:6: FutureWarning:\n",
      "\n",
      "The frame.append method is deprecated and will be removed from pandas in a future version. Use pandas.concat instead.\n",
      "\n",
      "C:\\Users\\bongkyun\\AppData\\Local\\Temp\\ipykernel_12956\\3619248356.py:6: FutureWarning:\n",
      "\n",
      "The frame.append method is deprecated and will be removed from pandas in a future version. Use pandas.concat instead.\n",
      "\n",
      "C:\\Users\\bongkyun\\AppData\\Local\\Temp\\ipykernel_12956\\3619248356.py:6: FutureWarning:\n",
      "\n",
      "The frame.append method is deprecated and will be removed from pandas in a future version. Use pandas.concat instead.\n",
      "\n",
      "C:\\Users\\bongkyun\\AppData\\Local\\Temp\\ipykernel_12956\\3619248356.py:6: FutureWarning:\n",
      "\n",
      "The frame.append method is deprecated and will be removed from pandas in a future version. Use pandas.concat instead.\n",
      "\n",
      "C:\\Users\\bongkyun\\AppData\\Local\\Temp\\ipykernel_12956\\3619248356.py:6: FutureWarning:\n",
      "\n",
      "The frame.append method is deprecated and will be removed from pandas in a future version. Use pandas.concat instead.\n",
      "\n",
      "C:\\Users\\bongkyun\\AppData\\Local\\Temp\\ipykernel_12956\\3619248356.py:6: FutureWarning:\n",
      "\n",
      "The frame.append method is deprecated and will be removed from pandas in a future version. Use pandas.concat instead.\n",
      "\n",
      "C:\\Users\\bongkyun\\AppData\\Local\\Temp\\ipykernel_12956\\3619248356.py:6: FutureWarning:\n",
      "\n",
      "The frame.append method is deprecated and will be removed from pandas in a future version. Use pandas.concat instead.\n",
      "\n",
      "C:\\Users\\bongkyun\\AppData\\Local\\Temp\\ipykernel_12956\\3619248356.py:6: FutureWarning:\n",
      "\n",
      "The frame.append method is deprecated and will be removed from pandas in a future version. Use pandas.concat instead.\n",
      "\n",
      "C:\\Users\\bongkyun\\AppData\\Local\\Temp\\ipykernel_12956\\3619248356.py:6: FutureWarning:\n",
      "\n",
      "The frame.append method is deprecated and will be removed from pandas in a future version. Use pandas.concat instead.\n",
      "\n",
      "C:\\Users\\bongkyun\\AppData\\Local\\Temp\\ipykernel_12956\\3619248356.py:6: FutureWarning:\n",
      "\n",
      "The frame.append method is deprecated and will be removed from pandas in a future version. Use pandas.concat instead.\n",
      "\n",
      "C:\\Users\\bongkyun\\AppData\\Local\\Temp\\ipykernel_12956\\3619248356.py:6: FutureWarning:\n",
      "\n",
      "The frame.append method is deprecated and will be removed from pandas in a future version. Use pandas.concat instead.\n",
      "\n",
      "C:\\Users\\bongkyun\\AppData\\Local\\Temp\\ipykernel_12956\\3619248356.py:6: FutureWarning:\n",
      "\n",
      "The frame.append method is deprecated and will be removed from pandas in a future version. Use pandas.concat instead.\n",
      "\n",
      "C:\\Users\\bongkyun\\AppData\\Local\\Temp\\ipykernel_12956\\3619248356.py:6: FutureWarning:\n",
      "\n",
      "The frame.append method is deprecated and will be removed from pandas in a future version. Use pandas.concat instead.\n",
      "\n",
      "C:\\Users\\bongkyun\\AppData\\Local\\Temp\\ipykernel_12956\\3619248356.py:6: FutureWarning:\n",
      "\n",
      "The frame.append method is deprecated and will be removed from pandas in a future version. Use pandas.concat instead.\n",
      "\n",
      "C:\\Users\\bongkyun\\AppData\\Local\\Temp\\ipykernel_12956\\3619248356.py:6: FutureWarning:\n",
      "\n",
      "The frame.append method is deprecated and will be removed from pandas in a future version. Use pandas.concat instead.\n",
      "\n",
      "C:\\Users\\bongkyun\\AppData\\Local\\Temp\\ipykernel_12956\\3619248356.py:6: FutureWarning:\n",
      "\n",
      "The frame.append method is deprecated and will be removed from pandas in a future version. Use pandas.concat instead.\n",
      "\n",
      "C:\\Users\\bongkyun\\AppData\\Local\\Temp\\ipykernel_12956\\3619248356.py:6: FutureWarning:\n",
      "\n",
      "The frame.append method is deprecated and will be removed from pandas in a future version. Use pandas.concat instead.\n",
      "\n",
      "C:\\Users\\bongkyun\\AppData\\Local\\Temp\\ipykernel_12956\\3619248356.py:6: FutureWarning:\n",
      "\n",
      "The frame.append method is deprecated and will be removed from pandas in a future version. Use pandas.concat instead.\n",
      "\n",
      "C:\\Users\\bongkyun\\AppData\\Local\\Temp\\ipykernel_12956\\3619248356.py:6: FutureWarning:\n",
      "\n",
      "The frame.append method is deprecated and will be removed from pandas in a future version. Use pandas.concat instead.\n",
      "\n",
      "C:\\Users\\bongkyun\\AppData\\Local\\Temp\\ipykernel_12956\\3619248356.py:6: FutureWarning:\n",
      "\n",
      "The frame.append method is deprecated and will be removed from pandas in a future version. Use pandas.concat instead.\n",
      "\n",
      "C:\\Users\\bongkyun\\AppData\\Local\\Temp\\ipykernel_12956\\3619248356.py:6: FutureWarning:\n",
      "\n",
      "The frame.append method is deprecated and will be removed from pandas in a future version. Use pandas.concat instead.\n",
      "\n",
      "C:\\Users\\bongkyun\\AppData\\Local\\Temp\\ipykernel_12956\\3619248356.py:6: FutureWarning:\n",
      "\n",
      "The frame.append method is deprecated and will be removed from pandas in a future version. Use pandas.concat instead.\n",
      "\n",
      "C:\\Users\\bongkyun\\AppData\\Local\\Temp\\ipykernel_12956\\3619248356.py:6: FutureWarning:\n",
      "\n",
      "The frame.append method is deprecated and will be removed from pandas in a future version. Use pandas.concat instead.\n",
      "\n",
      "C:\\Users\\bongkyun\\AppData\\Local\\Temp\\ipykernel_12956\\3619248356.py:6: FutureWarning:\n",
      "\n",
      "The frame.append method is deprecated and will be removed from pandas in a future version. Use pandas.concat instead.\n",
      "\n",
      "C:\\Users\\bongkyun\\AppData\\Local\\Temp\\ipykernel_12956\\3619248356.py:6: FutureWarning:\n",
      "\n",
      "The frame.append method is deprecated and will be removed from pandas in a future version. Use pandas.concat instead.\n",
      "\n",
      "C:\\Users\\bongkyun\\AppData\\Local\\Temp\\ipykernel_12956\\3619248356.py:6: FutureWarning:\n",
      "\n",
      "The frame.append method is deprecated and will be removed from pandas in a future version. Use pandas.concat instead.\n",
      "\n",
      "C:\\Users\\bongkyun\\AppData\\Local\\Temp\\ipykernel_12956\\3619248356.py:6: FutureWarning:\n",
      "\n",
      "The frame.append method is deprecated and will be removed from pandas in a future version. Use pandas.concat instead.\n",
      "\n",
      "C:\\Users\\bongkyun\\AppData\\Local\\Temp\\ipykernel_12956\\3619248356.py:6: FutureWarning:\n",
      "\n",
      "The frame.append method is deprecated and will be removed from pandas in a future version. Use pandas.concat instead.\n",
      "\n",
      "C:\\Users\\bongkyun\\AppData\\Local\\Temp\\ipykernel_12956\\3619248356.py:6: FutureWarning:\n",
      "\n",
      "The frame.append method is deprecated and will be removed from pandas in a future version. Use pandas.concat instead.\n",
      "\n",
      "C:\\Users\\bongkyun\\AppData\\Local\\Temp\\ipykernel_12956\\3619248356.py:6: FutureWarning:\n",
      "\n",
      "The frame.append method is deprecated and will be removed from pandas in a future version. Use pandas.concat instead.\n",
      "\n",
      "C:\\Users\\bongkyun\\AppData\\Local\\Temp\\ipykernel_12956\\3619248356.py:6: FutureWarning:\n",
      "\n",
      "The frame.append method is deprecated and will be removed from pandas in a future version. Use pandas.concat instead.\n",
      "\n",
      "C:\\Users\\bongkyun\\AppData\\Local\\Temp\\ipykernel_12956\\3619248356.py:6: FutureWarning:\n",
      "\n",
      "The frame.append method is deprecated and will be removed from pandas in a future version. Use pandas.concat instead.\n",
      "\n",
      "C:\\Users\\bongkyun\\AppData\\Local\\Temp\\ipykernel_12956\\3619248356.py:6: FutureWarning:\n",
      "\n",
      "The frame.append method is deprecated and will be removed from pandas in a future version. Use pandas.concat instead.\n",
      "\n",
      "C:\\Users\\bongkyun\\AppData\\Local\\Temp\\ipykernel_12956\\3619248356.py:6: FutureWarning:\n",
      "\n",
      "The frame.append method is deprecated and will be removed from pandas in a future version. Use pandas.concat instead.\n",
      "\n",
      "C:\\Users\\bongkyun\\AppData\\Local\\Temp\\ipykernel_12956\\3619248356.py:6: FutureWarning:\n",
      "\n",
      "The frame.append method is deprecated and will be removed from pandas in a future version. Use pandas.concat instead.\n",
      "\n",
      "C:\\Users\\bongkyun\\AppData\\Local\\Temp\\ipykernel_12956\\3619248356.py:6: FutureWarning:\n",
      "\n",
      "The frame.append method is deprecated and will be removed from pandas in a future version. Use pandas.concat instead.\n",
      "\n",
      "C:\\Users\\bongkyun\\AppData\\Local\\Temp\\ipykernel_12956\\3619248356.py:6: FutureWarning:\n",
      "\n",
      "The frame.append method is deprecated and will be removed from pandas in a future version. Use pandas.concat instead.\n",
      "\n",
      "C:\\Users\\bongkyun\\AppData\\Local\\Temp\\ipykernel_12956\\3619248356.py:6: FutureWarning:\n",
      "\n",
      "The frame.append method is deprecated and will be removed from pandas in a future version. Use pandas.concat instead.\n",
      "\n",
      "C:\\Users\\bongkyun\\AppData\\Local\\Temp\\ipykernel_12956\\3619248356.py:6: FutureWarning:\n",
      "\n",
      "The frame.append method is deprecated and will be removed from pandas in a future version. Use pandas.concat instead.\n",
      "\n",
      "C:\\Users\\bongkyun\\AppData\\Local\\Temp\\ipykernel_12956\\3619248356.py:6: FutureWarning:\n",
      "\n",
      "The frame.append method is deprecated and will be removed from pandas in a future version. Use pandas.concat instead.\n",
      "\n",
      "C:\\Users\\bongkyun\\AppData\\Local\\Temp\\ipykernel_12956\\3619248356.py:6: FutureWarning:\n",
      "\n",
      "The frame.append method is deprecated and will be removed from pandas in a future version. Use pandas.concat instead.\n",
      "\n",
      "C:\\Users\\bongkyun\\AppData\\Local\\Temp\\ipykernel_12956\\3619248356.py:6: FutureWarning:\n",
      "\n",
      "The frame.append method is deprecated and will be removed from pandas in a future version. Use pandas.concat instead.\n",
      "\n",
      "C:\\Users\\bongkyun\\AppData\\Local\\Temp\\ipykernel_12956\\3619248356.py:6: FutureWarning:\n",
      "\n",
      "The frame.append method is deprecated and will be removed from pandas in a future version. Use pandas.concat instead.\n",
      "\n",
      "C:\\Users\\bongkyun\\AppData\\Local\\Temp\\ipykernel_12956\\3619248356.py:6: FutureWarning:\n",
      "\n",
      "The frame.append method is deprecated and will be removed from pandas in a future version. Use pandas.concat instead.\n",
      "\n",
      "C:\\Users\\bongkyun\\AppData\\Local\\Temp\\ipykernel_12956\\3619248356.py:6: FutureWarning:\n",
      "\n",
      "The frame.append method is deprecated and will be removed from pandas in a future version. Use pandas.concat instead.\n",
      "\n",
      "C:\\Users\\bongkyun\\AppData\\Local\\Temp\\ipykernel_12956\\3619248356.py:6: FutureWarning:\n",
      "\n",
      "The frame.append method is deprecated and will be removed from pandas in a future version. Use pandas.concat instead.\n",
      "\n",
      "C:\\Users\\bongkyun\\AppData\\Local\\Temp\\ipykernel_12956\\3619248356.py:6: FutureWarning:\n",
      "\n",
      "The frame.append method is deprecated and will be removed from pandas in a future version. Use pandas.concat instead.\n",
      "\n"
     ]
    },
    {
     "data": {
      "text/html": [
       "<div>\n",
       "<style scoped>\n",
       "    .dataframe tbody tr th:only-of-type {\n",
       "        vertical-align: middle;\n",
       "    }\n",
       "\n",
       "    .dataframe tbody tr th {\n",
       "        vertical-align: top;\n",
       "    }\n",
       "\n",
       "    .dataframe thead th {\n",
       "        text-align: right;\n",
       "    }\n",
       "</style>\n",
       "<table border=\"1\" class=\"dataframe\">\n",
       "  <thead>\n",
       "    <tr style=\"text-align: right;\">\n",
       "      <th></th>\n",
       "      <th>ds</th>\n",
       "      <th>y</th>\n",
       "    </tr>\n",
       "  </thead>\n",
       "  <tbody>\n",
       "    <tr>\n",
       "      <th>0</th>\n",
       "      <td>2021-06-16</td>\n",
       "      <td>39</td>\n",
       "    </tr>\n",
       "    <tr>\n",
       "      <th>1</th>\n",
       "      <td>2021-06-27</td>\n",
       "      <td>57</td>\n",
       "    </tr>\n",
       "    <tr>\n",
       "      <th>2</th>\n",
       "      <td>2021-07-06</td>\n",
       "      <td>45</td>\n",
       "    </tr>\n",
       "    <tr>\n",
       "      <th>3</th>\n",
       "      <td>2021-06-19</td>\n",
       "      <td>36</td>\n",
       "    </tr>\n",
       "    <tr>\n",
       "      <th>4</th>\n",
       "      <td>2021-07-01</td>\n",
       "      <td>81</td>\n",
       "    </tr>\n",
       "    <tr>\n",
       "      <th>...</th>\n",
       "      <td>...</td>\n",
       "      <td>...</td>\n",
       "    </tr>\n",
       "    <tr>\n",
       "      <th>58</th>\n",
       "      <td>2021-06-14</td>\n",
       "      <td>27</td>\n",
       "    </tr>\n",
       "    <tr>\n",
       "      <th>59</th>\n",
       "      <td>2021-06-04</td>\n",
       "      <td>24</td>\n",
       "    </tr>\n",
       "    <tr>\n",
       "      <th>60</th>\n",
       "      <td>2021-07-02</td>\n",
       "      <td>87</td>\n",
       "    </tr>\n",
       "    <tr>\n",
       "      <th>61</th>\n",
       "      <td>2021-07-14</td>\n",
       "      <td>36</td>\n",
       "    </tr>\n",
       "    <tr>\n",
       "      <th>62</th>\n",
       "      <td>2021-07-17</td>\n",
       "      <td>57</td>\n",
       "    </tr>\n",
       "  </tbody>\n",
       "</table>\n",
       "<p>63 rows × 2 columns</p>\n",
       "</div>"
      ],
      "text/plain": [
       "            ds   y\n",
       "0   2021-06-16  39\n",
       "1   2021-06-27  57\n",
       "2   2021-07-06  45\n",
       "3   2021-06-19  36\n",
       "4   2021-07-01  81\n",
       "..         ...  ..\n",
       "58  2021-06-14  27\n",
       "59  2021-06-04  24\n",
       "60  2021-07-02  87\n",
       "61  2021-07-14  36\n",
       "62  2021-07-17  57\n",
       "\n",
       "[63 rows x 2 columns]"
      ]
     },
     "execution_count": 74,
     "metadata": {},
     "output_type": "execute_result"
    }
   ],
   "source": [
    "date_list = list(set(add_to_cart['Date']))\n",
    "columns = ['ds', 'y']                 \n",
    "rating_mean = pd.DataFrame(columns=columns)\n",
    "for date in date_list:\n",
    "    rating = add_to_cart.loc[add_to_cart['Date'] == date]\n",
    "    rating_mean = rating_mean.append(pd.DataFrame([[date, rating['rating'].sum()]], columns=columns), ignore_index=True)\n",
    "rating_mean"
   ]
  },
  {
   "cell_type": "code",
   "execution_count": 75,
   "metadata": {},
   "outputs": [
    {
     "name": "stderr",
     "output_type": "stream",
     "text": [
      "02:23:53 - cmdstanpy - INFO - Chain [1] start processing\n",
      "02:23:53 - cmdstanpy - INFO - Chain [1] done processing\n"
     ]
    },
    {
     "data": {
      "image/png": "[encoded data removed]",
      "text/plain": [
       "<Figure size 900x600 with 2 Axes>"
      ]
     },
     "metadata": {},
     "output_type": "display_data"
    }
   ],
   "source": [
    "prophet = Prophet()\n",
    "prophet.fit(rating_mean)\n",
    "\n",
    "\n",
    "future = prophet.make_future_dataframe(periods=7, freq = 'D')\n",
    "forecast = prophet.predict(future)\n",
    "\n",
    "fig2 = prophet.plot_components(forecast)\n",
    "plt.show()"
   ]
  },
  {
   "cell_type": "code",
   "execution_count": 76,
   "metadata": {},
   "outputs": [
    {
     "data": {
      "application/vnd.plotly.v1+json": {
       "config": {
        "plotlyServerURL": "https://plot.ly"
       },
       "data": [
        {
         "marker": {
          "color": "black",
          "size": 4
         },
         "mode": "markers",
         "name": "Actual",
         "type": "scatter",
         "x": [
          "2021-06-03T00:00:00",
          "2021-06-04T00:00:00",
          "2021-06-05T00:00:00",
          "2021-06-06T00:00:00",
          "2021-06-07T00:00:00",
          "2021-06-08T00:00:00",
          "2021-06-09T00:00:00",
          "2021-06-10T00:00:00",
          "2021-06-11T00:00:00",
          "2021-06-12T00:00:00",
          "2021-06-13T00:00:00",
          "2021-06-14T00:00:00",
          "2021-06-15T00:00:00",
          "2021-06-16T00:00:00",
          "2021-06-17T00:00:00",
          "2021-06-18T00:00:00",
          "2021-06-19T00:00:00",
          "2021-06-20T00:00:00",
          "2021-06-21T00:00:00",
          "2021-06-22T00:00:00",
          "2021-06-23T00:00:00",
          "2021-06-24T00:00:00",
          "2021-06-25T00:00:00",
          "2021-06-26T00:00:00",
          "2021-06-27T00:00:00",
          "2021-06-28T00:00:00",
          "2021-06-29T00:00:00",
          "2021-06-30T00:00:00",
          "2021-07-01T00:00:00",
          "2021-07-02T00:00:00",
          "2021-07-03T00:00:00",
          "2021-07-04T00:00:00",
          "2021-07-05T00:00:00",
          "2021-07-06T00:00:00",
          "2021-07-07T00:00:00",
          "2021-07-08T00:00:00",
          "2021-07-09T00:00:00",
          "2021-07-10T00:00:00",
          "2021-07-11T00:00:00",
          "2021-07-12T00:00:00",
          "2021-07-13T00:00:00",
          "2021-07-14T00:00:00",
          "2021-07-15T00:00:00",
          "2021-07-16T00:00:00",
          "2021-07-17T00:00:00",
          "2021-07-18T00:00:00",
          "2021-07-19T00:00:00",
          "2021-07-20T00:00:00",
          "2021-07-21T00:00:00",
          "2021-07-22T00:00:00",
          "2021-07-23T00:00:00",
          "2021-07-24T00:00:00",
          "2021-07-25T00:00:00",
          "2021-07-26T00:00:00",
          "2021-07-27T00:00:00",
          "2021-07-28T00:00:00",
          "2021-07-29T00:00:00",
          "2021-07-30T00:00:00",
          "2021-07-31T00:00:00",
          "2021-08-01T00:00:00",
          "2021-08-02T00:00:00",
          "2021-08-03T00:00:00",
          "2021-08-04T00:00:00"
         ],
         "y": [
          15,
          24,
          30,
          60,
          51,
          27,
          36,
          39,
          57,
          39,
          21,
          27,
          42,
          39,
          54,
          48,
          36,
          66,
          27,
          69,
          33,
          78,
          27,
          66,
          57,
          69,
          39,
          54,
          81,
          87,
          69,
          81,
          60,
          45,
          51,
          45,
          54,
          45,
          72,
          69,
          39,
          36,
          66,
          27,
          57,
          36,
          39,
          72,
          9,
          36,
          21,
          39,
          84,
          30,
          33,
          30,
          51,
          30,
          48,
          39,
          42,
          66,
          39
         ]
        },
        {
         "hoverinfo": "skip",
         "line": {
          "width": 0
         },
         "mode": "lines",
         "type": "scatter",
         "x": [
          "2021-06-03T00:00:00",
          "2021-06-04T00:00:00",
          "2021-06-05T00:00:00",
          "2021-06-06T00:00:00",
          "2021-06-07T00:00:00",
          "2021-06-08T00:00:00",
          "2021-06-09T00:00:00",
          "2021-06-10T00:00:00",
          "2021-06-11T00:00:00",
          "2021-06-12T00:00:00",
          "2021-06-13T00:00:00",
          "2021-06-14T00:00:00",
          "2021-06-15T00:00:00",
          "2021-06-16T00:00:00",
          "2021-06-17T00:00:00",
          "2021-06-18T00:00:00",
          "2021-06-19T00:00:00",
          "2021-06-20T00:00:00",
          "2021-06-21T00:00:00",
          "2021-06-22T00:00:00",
          "2021-06-23T00:00:00",
          "2021-06-24T00:00:00",
          "2021-06-25T00:00:00",
          "2021-06-26T00:00:00",
          "2021-06-27T00:00:00",
          "2021-06-28T00:00:00",
          "2021-06-29T00:00:00",
          "2021-06-30T00:00:00",
          "2021-07-01T00:00:00",
          "2021-07-02T00:00:00",
          "2021-07-03T00:00:00",
          "2021-07-04T00:00:00",
          "2021-07-05T00:00:00",
          "2021-07-06T00:00:00",
          "2021-07-07T00:00:00",
          "2021-07-08T00:00:00",
          "2021-07-09T00:00:00",
          "2021-07-10T00:00:00",
          "2021-07-11T00:00:00",
          "2021-07-12T00:00:00",
          "2021-07-13T00:00:00",
          "2021-07-14T00:00:00",
          "2021-07-15T00:00:00",
          "2021-07-16T00:00:00",
          "2021-07-17T00:00:00",
          "2021-07-18T00:00:00",
          "2021-07-19T00:00:00",
          "2021-07-20T00:00:00",
          "2021-07-21T00:00:00",
          "2021-07-22T00:00:00",
          "2021-07-23T00:00:00",
          "2021-07-24T00:00:00",
          "2021-07-25T00:00:00",
          "2021-07-26T00:00:00",
          "2021-07-27T00:00:00",
          "2021-07-28T00:00:00",
          "2021-07-29T00:00:00",
          "2021-07-30T00:00:00",
          "2021-07-31T00:00:00",
          "2021-08-01T00:00:00",
          "2021-08-02T00:00:00",
          "2021-08-03T00:00:00",
          "2021-08-04T00:00:00",
          "2021-08-05T00:00:00",
          "2021-08-06T00:00:00",
          "2021-08-07T00:00:00",
          "2021-08-08T00:00:00",
          "2021-08-09T00:00:00",
          "2021-08-10T00:00:00",
          "2021-08-11T00:00:00"
         ],
         "y": [
          26.796026428250023,
          16.550024103366205,
          23.933930364560844,
          32.66807681037093,
          21.767241503326684,
          24.34356534953931,
          12.530817597700818,
          30.004245356331875,
          17.988302460695422,
          23.167808619965353,
          32.815656719648786,
          23.766600614168482,
          24.634069147320353,
          13.150921678607967,
          28.508823536530713,
          17.873244359992967,
          24.621580654046376,
          32.98676095988455,
          23.641402944064716,
          23.165279367107363,
          15.27992849230944,
          29.932113466505953,
          17.651000074794744,
          24.35049569702296,
          34.55343103316437,
          23.24904593036556,
          25.552891304288664,
          14.317941895972918,
          31.60350734619526,
          21.07867881183785,
          26.69725815522694,
          35.765221265816564,
          24.133245208626075,
          27.131702330805396,
          15.322208635859578,
          31.151999079200117,
          22.45097705028675,
          26.773588023240755,
          36.536131576296256,
          24.896672329669414,
          25.807284229715986,
          14.803649191654854,
          30.739509293762776,
          22.169409436950964,
          26.606350539858607,
          35.888749824118165,
          24.79865186503968,
          27.28747499022074,
          15.74758203963244,
          30.967620114997118,
          22.278224646912918,
          26.446056272414054,
          36.72899218935914,
          25.645561469598192,
          28.0959650943699,
          16.187602600738273,
          32.137104715484035,
          21.429576446855236,
          27.94784906130117,
          38.17676226639254,
          25.688020044012692,
          29.488028503100406,
          16.986415187614867,
          33.89093364783326,
          21.74449254064828,
          26.8329725286284,
          38.46804784694131,
          27.32580150361479,
          28.10103640022783,
          16.33359952837354
         ]
        },
        {
         "fill": "tonexty",
         "fillcolor": "rgba(0, 114, 178, 0.2)",
         "line": {
          "color": "#0072B2",
          "width": 2
         },
         "mode": "lines",
         "name": "Predicted",
         "type": "scatter",
         "x": [
          "2021-06-03T00:00:00",
          "2021-06-04T00:00:00",
          "2021-06-05T00:00:00",
          "2021-06-06T00:00:00",
          "2021-06-07T00:00:00",
          "2021-06-08T00:00:00",
          "2021-06-09T00:00:00",
          "2021-06-10T00:00:00",
          "2021-06-11T00:00:00",
          "2021-06-12T00:00:00",
          "2021-06-13T00:00:00",
          "2021-06-14T00:00:00",
          "2021-06-15T00:00:00",
          "2021-06-16T00:00:00",
          "2021-06-17T00:00:00",
          "2021-06-18T00:00:00",
          "2021-06-19T00:00:00",
          "2021-06-20T00:00:00",
          "2021-06-21T00:00:00",
          "2021-06-22T00:00:00",
          "2021-06-23T00:00:00",
          "2021-06-24T00:00:00",
          "2021-06-25T00:00:00",
          "2021-06-26T00:00:00",
          "2021-06-27T00:00:00",
          "2021-06-28T00:00:00",
          "2021-06-29T00:00:00",
          "2021-06-30T00:00:00",
          "2021-07-01T00:00:00",
          "2021-07-02T00:00:00",
          "2021-07-03T00:00:00",
          "2021-07-04T00:00:00",
          "2021-07-05T00:00:00",
          "2021-07-06T00:00:00",
          "2021-07-07T00:00:00",
          "2021-07-08T00:00:00",
          "2021-07-09T00:00:00",
          "2021-07-10T00:00:00",
          "2021-07-11T00:00:00",
          "2021-07-12T00:00:00",
          "2021-07-13T00:00:00",
          "2021-07-14T00:00:00",
          "2021-07-15T00:00:00",
          "2021-07-16T00:00:00",
          "2021-07-17T00:00:00",
          "2021-07-18T00:00:00",
          "2021-07-19T00:00:00",
          "2021-07-20T00:00:00",
          "2021-07-21T00:00:00",
          "2021-07-22T00:00:00",
          "2021-07-23T00:00:00",
          "2021-07-24T00:00:00",
          "2021-07-25T00:00:00",
          "2021-07-26T00:00:00",
          "2021-07-27T00:00:00",
          "2021-07-28T00:00:00",
          "2021-07-29T00:00:00",
          "2021-07-30T00:00:00",
          "2021-07-31T00:00:00",
          "2021-08-01T00:00:00",
          "2021-08-02T00:00:00",
          "2021-08-03T00:00:00",
          "2021-08-04T00:00:00",
          "2021-08-05T00:00:00",
          "2021-08-06T00:00:00",
          "2021-08-07T00:00:00",
          "2021-08-08T00:00:00",
          "2021-08-09T00:00:00",
          "2021-08-10T00:00:00",
          "2021-08-11T00:00:00"
         ],
         "y": [
          49.47703920000733,
          39.48113051450778,
          45.47729403709207,
          55.138265359391895,
          43.80969150806557,
          45.80776653580922,
          34.14602363225103,
          50.01783512872605,
          40.02192644307347,
          46.018089965473905,
          55.67906128767746,
          44.350487436199295,
          46.34856246388909,
          34.686819560192866,
          50.55863105666927,
          40.56272237096461,
          46.55888589318638,
          56.219857215066284,
          44.891283363317726,
          46.889358390894316,
          35.22761548711437,
          51.09942698349296,
          41.103518297752586,
          47.09968109263564,
          56.760651687210355,
          45.43207710795392,
          47.43015140781068,
          35.768407776366814,
          51.64018936221972,
          41.64425076591399,
          47.64038204593383,
          57.3013211257795,
          45.97271503182468,
          47.97075781710479,
          36.30898267093872,
          52.18076192495353,
          42.18482099609066,
          48.18095227526615,
          57.84189135403473,
          46.5132852591692,
          48.51132804327503,
          36.84955289607037,
          52.72133214884054,
          42.72539121954498,
          48.721522498249904,
          58.382461576705474,
          47.05385548156949,
          49.05189826555095,
          37.39012311827883,
          53.26190237112171,
          43.26596144173408,
          49.26209272031662,
          58.923031798625246,
          47.594425703326195,
          49.59246848718242,
          37.930693339747464,
          53.80247259246683,
          43.80653166307219,
          49.80266294168132,
          59.46360201996033,
          48.13499592463456,
          50.13303870849186,
          38.471263561076235,
          54.343042813811955,
          44.347101884403116,
          50.34323316295103,
          60.00417224129541,
          48.6755661459737,
          50.67360892983486,
          39.0118337823959
         ]
        },
        {
         "fill": "tonexty",
         "fillcolor": "rgba(0, 114, 178, 0.2)",
         "hoverinfo": "skip",
         "line": {
          "width": 0
         },
         "mode": "lines",
         "type": "scatter",
         "x": [
          "2021-06-03T00:00:00",
          "2021-06-04T00:00:00",
          "2021-06-05T00:00:00",
          "2021-06-06T00:00:00",
          "2021-06-07T00:00:00",
          "2021-06-08T00:00:00",
          "2021-06-09T00:00:00",
          "2021-06-10T00:00:00",
          "2021-06-11T00:00:00",
          "2021-06-12T00:00:00",
          "2021-06-13T00:00:00",
          "2021-06-14T00:00:00",
          "2021-06-15T00:00:00",
          "2021-06-16T00:00:00",
          "2021-06-17T00:00:00",
          "2021-06-18T00:00:00",
          "2021-06-19T00:00:00",
          "2021-06-20T00:00:00",
          "2021-06-21T00:00:00",
          "2021-06-22T00:00:00",
          "2021-06-23T00:00:00",
          "2021-06-24T00:00:00",
          "2021-06-25T00:00:00",
          "2021-06-26T00:00:00",
          "2021-06-27T00:00:00",
          "2021-06-28T00:00:00",
          "2021-06-29T00:00:00",
          "2021-06-30T00:00:00",
          "2021-07-01T00:00:00",
          "2021-07-02T00:00:00",
          "2021-07-03T00:00:00",
          "2021-07-04T00:00:00",
          "2021-07-05T00:00:00",
          "2021-07-06T00:00:00",
          "2021-07-07T00:00:00",
          "2021-07-08T00:00:00",
          "2021-07-09T00:00:00",
          "2021-07-10T00:00:00",
          "2021-07-11T00:00:00",
          "2021-07-12T00:00:00",
          "2021-07-13T00:00:00",
          "2021-07-14T00:00:00",
          "2021-07-15T00:00:00",
          "2021-07-16T00:00:00",
          "2021-07-17T00:00:00",
          "2021-07-18T00:00:00",
          "2021-07-19T00:00:00",
          "2021-07-20T00:00:00",
          "2021-07-21T00:00:00",
          "2021-07-22T00:00:00",
          "2021-07-23T00:00:00",
          "2021-07-24T00:00:00",
          "2021-07-25T00:00:00",
          "2021-07-26T00:00:00",
          "2021-07-27T00:00:00",
          "2021-07-28T00:00:00",
          "2021-07-29T00:00:00",
          "2021-07-30T00:00:00",
          "2021-07-31T00:00:00",
          "2021-08-01T00:00:00",
          "2021-08-02T00:00:00",
          "2021-08-03T00:00:00",
          "2021-08-04T00:00:00",
          "2021-08-05T00:00:00",
          "2021-08-06T00:00:00",
          "2021-08-07T00:00:00",
          "2021-08-08T00:00:00",
          "2021-08-09T00:00:00",
          "2021-08-10T00:00:00",
          "2021-08-11T00:00:00"
         ],
         "y": [
          71.63613993975247,
          61.9495206940998,
          67.77786033139084,
          75.4504839897067,
          65.74234761200935,
          68.24314240596776,
          55.32348327400869,
          70.64481149878327,
          60.7893412557781,
          67.63514572093051,
          77.12801503715103,
          65.94014700412863,
          68.342761122523,
          56.429473862192744,
          73.30101866709575,
          62.80855946991705,
          68.727489395089,
          78.31094841372278,
          66.38470579831694,
          68.65764771469057,
          58.34605599438123,
          72.09310234397736,
          64.12553443785116,
          68.06133109346352,
          77.66960790966235,
          66.37740308345515,
          68.09257014267716,
          57.989539191761445,
          74.4248143984104,
          63.74259121892007,
          70.14755561644385,
          80.40338494150568,
          67.86284980862638,
          69.61925404328487,
          57.71569838840663,
          72.58727199935758,
          62.66237909866059,
          68.30914735236057,
          80.15826329229424,
          67.09334528405903,
          70.11221537724687,
          57.835702232584694,
          72.95696623218764,
          64.03940318571037,
          71.72091302698875,
          78.72888570253247,
          70.65592307851594,
          69.6377671500871,
          59.73325256914294,
          74.67654853950518,
          65.54117185920839,
          70.77142541114588,
          81.5893331021571,
          69.06645328864806,
          70.88218900964553,
          59.908550750605364,
          76.66549625216584,
          63.811054292530365,
          70.63330506568461,
          80.6187700863563,
          70.63609693104324,
          71.98013180746378,
          61.24702678426851,
          75.79553281111475,
          66.89190156092168,
          72.89505694956273,
          81.36156100285834,
          70.5081781593759,
          73.60456042494181,
          60.35344932506341
         ]
        }
       ],
       "layout": {
        "height": 600,
        "showlegend": false,
        "template": {
         "data": {
          "bar": [
           {
            "error_x": {
             "color": "#2a3f5f"
            },
            "error_y": {
             "color": "#2a3f5f"
            },
            "marker": {
             "line": {
              "color": "#E5ECF6",
              "width": 0.5
             },
             "pattern": {
              "fillmode": "overlay",
              "size": 10,
              "solidity": 0.2
             }
            },
            "type": "bar"
           }
          ],
          "barpolar": [
           {
            "marker": {
             "line": {
              "color": "#E5ECF6",
              "width": 0.5
             },
             "pattern": {
              "fillmode": "overlay",
              "size": 10,
              "solidity": 0.2
             }
            },
            "type": "barpolar"
           }
          ],
          "carpet": [
           {
            "aaxis": {
             "endlinecolor": "#2a3f5f",
             "gridcolor": "white",
             "linecolor": "white",
             "minorgridcolor": "white",
             "startlinecolor": "#2a3f5f"
            },
            "baxis": {
             "endlinecolor": "#2a3f5f",
             "gridcolor": "white",
             "linecolor": "white",
             "minorgridcolor": "white",
             "startlinecolor": "#2a3f5f"
            },
            "type": "carpet"
           }
          ],
          "choropleth": [
           {
            "colorbar": {
             "outlinewidth": 0,
             "ticks": ""
            },
            "type": "choropleth"
           }
          ],
          "contour": [
           {
            "colorbar": {
             "outlinewidth": 0,
             "ticks": ""
            },
            "colorscale": [
             [
              0,
              "#0d0887"
             ],
             [
              0.1111111111111111,
              "#46039f"
             ],
             [
              0.2222222222222222,
              "#7201a8"
             ],
             [
              0.3333333333333333,
              "#9c179e"
             ],
             [
              0.4444444444444444,
              "#bd3786"
             ],
             [
              0.5555555555555556,
              "#d8576b"
             ],
             [
              0.6666666666666666,
              "#ed7953"
             ],
             [
              0.7777777777777778,
              "#fb9f3a"
             ],
             [
              0.8888888888888888,
              "#fdca26"
             ],
             [
              1,
              "#f0f921"
             ]
            ],
            "type": "contour"
           }
          ],
          "contourcarpet": [
           {
            "colorbar": {
             "outlinewidth": 0,
             "ticks": ""
            },
            "type": "contourcarpet"
           }
          ],
          "heatmap": [
           {
            "colorbar": {
             "outlinewidth": 0,
             "ticks": ""
            },
            "colorscale": [
             [
              0,
              "#0d0887"
             ],
             [
              0.1111111111111111,
              "#46039f"
             ],
             [
              0.2222222222222222,
              "#7201a8"
             ],
             [
              0.3333333333333333,
              "#9c179e"
             ],
             [
              0.4444444444444444,
              "#bd3786"
             ],
             [
              0.5555555555555556,
              "#d8576b"
             ],
             [
              0.6666666666666666,
              "#ed7953"
             ],
             [
              0.7777777777777778,
              "#fb9f3a"
             ],
             [
              0.8888888888888888,
              "#fdca26"
             ],
             [
              1,
              "#f0f921"
             ]
            ],
            "type": "heatmap"
           }
          ],
          "heatmapgl": [
           {
            "colorbar": {
             "outlinewidth": 0,
             "ticks": ""
            },
            "colorscale": [
             [
              0,
              "#0d0887"
             ],
             [
              0.1111111111111111,
              "#46039f"
             ],
             [
              0.2222222222222222,
              "#7201a8"
             ],
             [
              0.3333333333333333,
              "#9c179e"
             ],
             [
              0.4444444444444444,
              "#bd3786"
             ],
             [
              0.5555555555555556,
              "#d8576b"
             ],
             [
              0.6666666666666666,
              "#ed7953"
             ],
             [
              0.7777777777777778,
              "#fb9f3a"
             ],
             [
              0.8888888888888888,
              "#fdca26"
             ],
             [
              1,
              "#f0f921"
             ]
            ],
            "type": "heatmapgl"
           }
          ],
          "histogram": [
           {
            "marker": {
             "pattern": {
              "fillmode": "overlay",
              "size": 10,
              "solidity": 0.2
             }
            },
            "type": "histogram"
           }
          ],
          "histogram2d": [
           {
            "colorbar": {
             "outlinewidth": 0,
             "ticks": ""
            },
            "colorscale": [
             [
              0,
              "#0d0887"
             ],
             [
              0.1111111111111111,
              "#46039f"
             ],
             [
              0.2222222222222222,
              "#7201a8"
             ],
             [
              0.3333333333333333,
              "#9c179e"
             ],
             [
              0.4444444444444444,
              "#bd3786"
             ],
             [
              0.5555555555555556,
              "#d8576b"
             ],
             [
              0.6666666666666666,
              "#ed7953"
             ],
             [
              0.7777777777777778,
              "#fb9f3a"
             ],
             [
              0.8888888888888888,
              "#fdca26"
             ],
             [
              1,
              "#f0f921"
             ]
            ],
            "type": "histogram2d"
           }
          ],
          "histogram2dcontour": [
           {
            "colorbar": {
             "outlinewidth": 0,
             "ticks": ""
            },
            "colorscale": [
             [
              0,
              "#0d0887"
             ],
             [
              0.1111111111111111,
              "#46039f"
             ],
             [
              0.2222222222222222,
              "#7201a8"
             ],
             [
              0.3333333333333333,
              "#9c179e"
             ],
             [
              0.4444444444444444,
              "#bd3786"
             ],
             [
              0.5555555555555556,
              "#d8576b"
             ],
             [
              0.6666666666666666,
              "#ed7953"
             ],
             [
              0.7777777777777778,
              "#fb9f3a"
             ],
             [
              0.8888888888888888,
              "#fdca26"
             ],
             [
              1,
              "#f0f921"
             ]
            ],
            "type": "histogram2dcontour"
           }
          ],
          "mesh3d": [
           {
            "colorbar": {
             "outlinewidth": 0,
             "ticks": ""
            },
            "type": "mesh3d"
           }
          ],
          "parcoords": [
           {
            "line": {
             "colorbar": {
              "outlinewidth": 0,
              "ticks": ""
             }
            },
            "type": "parcoords"
           }
          ],
          "pie": [
           {
            "automargin": true,
            "type": "pie"
           }
          ],
          "scatter": [
           {
            "fillpattern": {
             "fillmode": "overlay",
             "size": 10,
             "solidity": 0.2
            },
            "type": "scatter"
           }
          ],
          "scatter3d": [
           {
            "line": {
             "colorbar": {
              "outlinewidth": 0,
              "ticks": ""
             }
            },
            "marker": {
             "colorbar": {
              "outlinewidth": 0,
              "ticks": ""
             }
            },
            "type": "scatter3d"
           }
          ],
          "scattercarpet": [
           {
            "marker": {
             "colorbar": {
              "outlinewidth": 0,
              "ticks": ""
             }
            },
            "type": "scattercarpet"
           }
          ],
          "scattergeo": [
           {
            "marker": {
             "colorbar": {
              "outlinewidth": 0,
              "ticks": ""
             }
            },
            "type": "scattergeo"
           }
          ],
          "scattergl": [
           {
            "marker": {
             "colorbar": {
              "outlinewidth": 0,
              "ticks": ""
             }
            },
            "type": "scattergl"
           }
          ],
          "scattermapbox": [
           {
            "marker": {
             "colorbar": {
              "outlinewidth": 0,
              "ticks": ""
             }
            },
            "type": "scattermapbox"
           }
          ],
          "scatterpolar": [
           {
            "marker": {
             "colorbar": {
              "outlinewidth": 0,
              "ticks": ""
             }
            },
            "type": "scatterpolar"
           }
          ],
          "scatterpolargl": [
           {
            "marker": {
             "colorbar": {
              "outlinewidth": 0,
              "ticks": ""
             }
            },
            "type": "scatterpolargl"
           }
          ],
          "scatterternary": [
           {
            "marker": {
             "colorbar": {
              "outlinewidth": 0,
              "ticks": ""
             }
            },
            "type": "scatterternary"
           }
          ],
          "surface": [
           {
            "colorbar": {
             "outlinewidth": 0,
             "ticks": ""
            },
            "colorscale": [
             [
              0,
              "#0d0887"
             ],
             [
              0.1111111111111111,
              "#46039f"
             ],
             [
              0.2222222222222222,
              "#7201a8"
             ],
             [
              0.3333333333333333,
              "#9c179e"
             ],
             [
              0.4444444444444444,
              "#bd3786"
             ],
             [
              0.5555555555555556,
              "#d8576b"
             ],
             [
              0.6666666666666666,
              "#ed7953"
             ],
             [
              0.7777777777777778,
              "#fb9f3a"
             ],
             [
              0.8888888888888888,
              "#fdca26"
             ],
             [
              1,
              "#f0f921"
             ]
            ],
            "type": "surface"
           }
          ],
          "table": [
           {
            "cells": {
             "fill": {
              "color": "#EBF0F8"
             },
             "line": {
              "color": "white"
             }
            },
            "header": {
             "fill": {
              "color": "#C8D4E3"
             },
             "line": {
              "color": "white"
             }
            },
            "type": "table"
           }
          ]
         },
         "layout": {
          "annotationdefaults": {
           "arrowcolor": "#2a3f5f",
           "arrowhead": 0,
           "arrowwidth": 1
          },
          "autotypenumbers": "strict",
          "coloraxis": {
           "colorbar": {
            "outlinewidth": 0,
            "ticks": ""
           }
          },
          "colorscale": {
           "diverging": [
            [
             0,
             "#8e0152"
            ],
            [
             0.1,
             "#c51b7d"
            ],
            [
             0.2,
             "#de77ae"
            ],
            [
             0.3,
             "#f1b6da"
            ],
            [
             0.4,
             "#fde0ef"
            ],
            [
             0.5,
             "#f7f7f7"
            ],
            [
             0.6,
             "#e6f5d0"
            ],
            [
             0.7,
             "#b8e186"
            ],
            [
             0.8,
             "#7fbc41"
            ],
            [
             0.9,
             "#4d9221"
            ],
            [
             1,
             "#276419"
            ]
           ],
           "sequential": [
            [
             0,
             "#0d0887"
            ],
            [
             0.1111111111111111,
             "#46039f"
            ],
            [
             0.2222222222222222,
             "#7201a8"
            ],
            [
             0.3333333333333333,
             "#9c179e"
            ],
            [
             0.4444444444444444,
             "#bd3786"
            ],
            [
             0.5555555555555556,
             "#d8576b"
            ],
            [
             0.6666666666666666,
             "#ed7953"
            ],
            [
             0.7777777777777778,
             "#fb9f3a"
            ],
            [
             0.8888888888888888,
             "#fdca26"
            ],
            [
             1,
             "#f0f921"
            ]
           ],
           "sequentialminus": [
            [
             0,
             "#0d0887"
            ],
            [
             0.1111111111111111,
             "#46039f"
            ],
            [
             0.2222222222222222,
             "#7201a8"
            ],
            [
             0.3333333333333333,
             "#9c179e"
            ],
            [
             0.4444444444444444,
             "#bd3786"
            ],
            [
             0.5555555555555556,
             "#d8576b"
            ],
            [
             0.6666666666666666,
             "#ed7953"
            ],
            [
             0.7777777777777778,
             "#fb9f3a"
            ],
            [
             0.8888888888888888,
             "#fdca26"
            ],
            [
             1,
             "#f0f921"
            ]
           ]
          },
          "colorway": [
           "#636efa",
           "#EF553B",
           "#00cc96",
           "#ab63fa",
           "#FFA15A",
           "#19d3f3",
           "#FF6692",
           "#B6E880",
           "#FF97FF",
           "#FECB52"
          ],
          "font": {
           "color": "#2a3f5f"
          },
          "geo": {
           "bgcolor": "white",
           "lakecolor": "white",
           "landcolor": "#E5ECF6",
           "showlakes": true,
           "showland": true,
           "subunitcolor": "white"
          },
          "hoverlabel": {
           "align": "left"
          },
          "hovermode": "closest",
          "mapbox": {
           "style": "light"
          },
          "paper_bgcolor": "white",
          "plot_bgcolor": "#E5ECF6",
          "polar": {
           "angularaxis": {
            "gridcolor": "white",
            "linecolor": "white",
            "ticks": ""
           },
           "bgcolor": "#E5ECF6",
           "radialaxis": {
            "gridcolor": "white",
            "linecolor": "white",
            "ticks": ""
           }
          },
          "scene": {
           "xaxis": {
            "backgroundcolor": "#E5ECF6",
            "gridcolor": "white",
            "gridwidth": 2,
            "linecolor": "white",
            "showbackground": true,
            "ticks": "",
            "zerolinecolor": "white"
           },
           "yaxis": {
            "backgroundcolor": "#E5ECF6",
            "gridcolor": "white",
            "gridwidth": 2,
            "linecolor": "white",
            "showbackground": true,
            "ticks": "",
            "zerolinecolor": "white"
           },
           "zaxis": {
            "backgroundcolor": "#E5ECF6",
            "gridcolor": "white",
            "gridwidth": 2,
            "linecolor": "white",
            "showbackground": true,
            "ticks": "",
            "zerolinecolor": "white"
           }
          },
          "shapedefaults": {
           "line": {
            "color": "#2a3f5f"
           }
          },
          "ternary": {
           "aaxis": {
            "gridcolor": "white",
            "linecolor": "white",
            "ticks": ""
           },
           "baxis": {
            "gridcolor": "white",
            "linecolor": "white",
            "ticks": ""
           },
           "bgcolor": "#E5ECF6",
           "caxis": {
            "gridcolor": "white",
            "linecolor": "white",
            "ticks": ""
           }
          },
          "title": {
           "x": 0.05
          },
          "xaxis": {
           "automargin": true,
           "gridcolor": "white",
           "linecolor": "white",
           "ticks": "",
           "title": {
            "standoff": 15
           },
           "zerolinecolor": "white",
           "zerolinewidth": 2
          },
          "yaxis": {
           "automargin": true,
           "gridcolor": "white",
           "linecolor": "white",
           "ticks": "",
           "title": {
            "standoff": 15
           },
           "zerolinecolor": "white",
           "zerolinewidth": 2
          }
         }
        },
        "width": 900,
        "xaxis": {
         "rangeselector": {
          "buttons": [
           {
            "count": 7,
            "label": "1w",
            "step": "day",
            "stepmode": "backward"
           },
           {
            "count": 1,
            "label": "1m",
            "step": "month",
            "stepmode": "backward"
           },
           {
            "count": 6,
            "label": "6m",
            "step": "month",
            "stepmode": "backward"
           },
           {
            "count": 1,
            "label": "1y",
            "step": "year",
            "stepmode": "backward"
           },
           {
            "step": "all"
           }
          ]
         },
         "rangeslider": {
          "visible": true
         },
         "title": {
          "text": "ds"
         },
         "type": "date"
        },
        "yaxis": {
         "title": {
          "text": "y"
         }
        }
       }
      }
     },
     "metadata": {},
     "output_type": "display_data"
    }
   ],
   "source": [
    "plot_plotly(prophet, forecast)"
   ]
  },
  {
   "cell_type": "code",
   "execution_count": 77,
   "metadata": {},
   "outputs": [
    {
     "data": {
      "application/vnd.jupyter.widget-view+json": {
       "model_id": "3a23bb79238b43b294d8a16b335714c5",
       "version_major": 2,
       "version_minor": 0
      },
      "text/plain": [
       "  0%|          | 0/2 [00:00<?, ?it/s]"
      ]
     },
     "metadata": {},
     "output_type": "display_data"
    },
    {
     "name": "stderr",
     "output_type": "stream",
     "text": [
      "02:23:55 - cmdstanpy - INFO - Chain [1] start processing\n",
      "02:23:55 - cmdstanpy - INFO - Chain [1] done processing\n",
      "02:23:55 - cmdstanpy - INFO - Chain [1] start processing\n",
      "02:23:55 - cmdstanpy - INFO - Chain [1] done processing\n"
     ]
    },
    {
     "data": {
      "text/html": [
       "<div>\n",
       "<style scoped>\n",
       "    .dataframe tbody tr th:only-of-type {\n",
       "        vertical-align: middle;\n",
       "    }\n",
       "\n",
       "    .dataframe tbody tr th {\n",
       "        vertical-align: top;\n",
       "    }\n",
       "\n",
       "    .dataframe thead th {\n",
       "        text-align: right;\n",
       "    }\n",
       "</style>\n",
       "<table border=\"1\" class=\"dataframe\">\n",
       "  <thead>\n",
       "    <tr style=\"text-align: right;\">\n",
       "      <th></th>\n",
       "      <th>horizon</th>\n",
       "      <th>mse</th>\n",
       "      <th>rmse</th>\n",
       "      <th>mae</th>\n",
       "      <th>mape</th>\n",
       "      <th>mdape</th>\n",
       "      <th>smape</th>\n",
       "      <th>coverage</th>\n",
       "    </tr>\n",
       "  </thead>\n",
       "  <tbody>\n",
       "    <tr>\n",
       "      <th>6</th>\n",
       "      <td>7 days</td>\n",
       "      <td>38.828161</td>\n",
       "      <td>6.231225</td>\n",
       "      <td>5.100056</td>\n",
       "      <td>0.079765</td>\n",
       "      <td>0.079765</td>\n",
       "      <td>0.083259</td>\n",
       "      <td>1.0</td>\n",
       "    </tr>\n",
       "    <tr>\n",
       "      <th>1</th>\n",
       "      <td>2 days</td>\n",
       "      <td>172.854247</td>\n",
       "      <td>13.147405</td>\n",
       "      <td>11.741344</td>\n",
       "      <td>0.338417</td>\n",
       "      <td>0.338417</td>\n",
       "      <td>0.269640</td>\n",
       "      <td>1.0</td>\n",
       "    </tr>\n",
       "    <tr>\n",
       "      <th>0</th>\n",
       "      <td>1 days</td>\n",
       "      <td>292.261675</td>\n",
       "      <td>17.095662</td>\n",
       "      <td>14.443014</td>\n",
       "      <td>0.379559</td>\n",
       "      <td>0.379559</td>\n",
       "      <td>0.296142</td>\n",
       "      <td>0.5</td>\n",
       "    </tr>\n",
       "    <tr>\n",
       "      <th>3</th>\n",
       "      <td>4 days</td>\n",
       "      <td>370.404684</td>\n",
       "      <td>19.245900</td>\n",
       "      <td>17.753675</td>\n",
       "      <td>0.413428</td>\n",
       "      <td>0.413428</td>\n",
       "      <td>0.327105</td>\n",
       "      <td>0.5</td>\n",
       "    </tr>\n",
       "    <tr>\n",
       "      <th>5</th>\n",
       "      <td>6 days</td>\n",
       "      <td>613.999103</td>\n",
       "      <td>24.779005</td>\n",
       "      <td>23.517990</td>\n",
       "      <td>0.520610</td>\n",
       "      <td>0.520610</td>\n",
       "      <td>0.421643</td>\n",
       "      <td>0.5</td>\n",
       "    </tr>\n",
       "    <tr>\n",
       "      <th>2</th>\n",
       "      <td>3 days</td>\n",
       "      <td>904.347317</td>\n",
       "      <td>30.072368</td>\n",
       "      <td>23.244367</td>\n",
       "      <td>0.827163</td>\n",
       "      <td>0.827163</td>\n",
       "      <td>0.480969</td>\n",
       "      <td>0.5</td>\n",
       "    </tr>\n",
       "    <tr>\n",
       "      <th>4</th>\n",
       "      <td>5 days</td>\n",
       "      <td>979.345778</td>\n",
       "      <td>31.294501</td>\n",
       "      <td>26.180961</td>\n",
       "      <td>0.709318</td>\n",
       "      <td>0.709318</td>\n",
       "      <td>0.472812</td>\n",
       "      <td>0.5</td>\n",
       "    </tr>\n",
       "  </tbody>\n",
       "</table>\n",
       "</div>"
      ],
      "text/plain": [
       "  horizon         mse       rmse        mae      mape     mdape     smape  \\\n",
       "6  7 days   38.828161   6.231225   5.100056  0.079765  0.079765  0.083259   \n",
       "1  2 days  172.854247  13.147405  11.741344  0.338417  0.338417  0.269640   \n",
       "0  1 days  292.261675  17.095662  14.443014  0.379559  0.379559  0.296142   \n",
       "3  4 days  370.404684  19.245900  17.753675  0.413428  0.413428  0.327105   \n",
       "5  6 days  613.999103  24.779005  23.517990  0.520610  0.520610  0.421643   \n",
       "2  3 days  904.347317  30.072368  23.244367  0.827163  0.827163  0.480969   \n",
       "4  5 days  979.345778  31.294501  26.180961  0.709318  0.709318  0.472812   \n",
       "\n",
       "   coverage  \n",
       "6       1.0  \n",
       "1       1.0  \n",
       "0       0.5  \n",
       "3       0.5  \n",
       "5       0.5  \n",
       "2       0.5  \n",
       "4       0.5  "
      ]
     },
     "execution_count": 77,
     "metadata": {},
     "output_type": "execute_result"
    }
   ],
   "source": [
    "evaluation_model = cross_validation(prophet, initial='30 days', period='15 days', horizon = '7 days')\n",
    "evaluation_metrix = performance_metrics(evaluation_model)\n",
    "evaluation_metrix.sort_values('rmse')"
   ]
  },
  {
   "attachments": {},
   "cell_type": "markdown",
   "metadata": {},
   "source": [
    "## like_item"
   ]
  },
  {
   "cell_type": "code",
   "execution_count": 78,
   "metadata": {},
   "outputs": [
    {
     "name": "stderr",
     "output_type": "stream",
     "text": [
      "C:\\Users\\bongkyun\\AppData\\Local\\Temp\\ipykernel_12956\\996372947.py:6: FutureWarning:\n",
      "\n",
      "The frame.append method is deprecated and will be removed from pandas in a future version. Use pandas.concat instead.\n",
      "\n",
      "C:\\Users\\bongkyun\\AppData\\Local\\Temp\\ipykernel_12956\\996372947.py:6: FutureWarning:\n",
      "\n",
      "The frame.append method is deprecated and will be removed from pandas in a future version. Use pandas.concat instead.\n",
      "\n",
      "C:\\Users\\bongkyun\\AppData\\Local\\Temp\\ipykernel_12956\\996372947.py:6: FutureWarning:\n",
      "\n",
      "The frame.append method is deprecated and will be removed from pandas in a future version. Use pandas.concat instead.\n",
      "\n",
      "C:\\Users\\bongkyun\\AppData\\Local\\Temp\\ipykernel_12956\\996372947.py:6: FutureWarning:\n",
      "\n",
      "The frame.append method is deprecated and will be removed from pandas in a future version. Use pandas.concat instead.\n",
      "\n",
      "C:\\Users\\bongkyun\\AppData\\Local\\Temp\\ipykernel_12956\\996372947.py:6: FutureWarning:\n",
      "\n",
      "The frame.append method is deprecated and will be removed from pandas in a future version. Use pandas.concat instead.\n",
      "\n",
      "C:\\Users\\bongkyun\\AppData\\Local\\Temp\\ipykernel_12956\\996372947.py:6: FutureWarning:\n",
      "\n",
      "The frame.append method is deprecated and will be removed from pandas in a future version. Use pandas.concat instead.\n",
      "\n",
      "C:\\Users\\bongkyun\\AppData\\Local\\Temp\\ipykernel_12956\\996372947.py:6: FutureWarning:\n",
      "\n",
      "The frame.append method is deprecated and will be removed from pandas in a future version. Use pandas.concat instead.\n",
      "\n",
      "C:\\Users\\bongkyun\\AppData\\Local\\Temp\\ipykernel_12956\\996372947.py:6: FutureWarning:\n",
      "\n",
      "The frame.append method is deprecated and will be removed from pandas in a future version. Use pandas.concat instead.\n",
      "\n",
      "C:\\Users\\bongkyun\\AppData\\Local\\Temp\\ipykernel_12956\\996372947.py:6: FutureWarning:\n",
      "\n",
      "The frame.append method is deprecated and will be removed from pandas in a future version. Use pandas.concat instead.\n",
      "\n",
      "C:\\Users\\bongkyun\\AppData\\Local\\Temp\\ipykernel_12956\\996372947.py:6: FutureWarning:\n",
      "\n",
      "The frame.append method is deprecated and will be removed from pandas in a future version. Use pandas.concat instead.\n",
      "\n",
      "C:\\Users\\bongkyun\\AppData\\Local\\Temp\\ipykernel_12956\\996372947.py:6: FutureWarning:\n",
      "\n",
      "The frame.append method is deprecated and will be removed from pandas in a future version. Use pandas.concat instead.\n",
      "\n",
      "C:\\Users\\bongkyun\\AppData\\Local\\Temp\\ipykernel_12956\\996372947.py:6: FutureWarning:\n",
      "\n",
      "The frame.append method is deprecated and will be removed from pandas in a future version. Use pandas.concat instead.\n",
      "\n",
      "C:\\Users\\bongkyun\\AppData\\Local\\Temp\\ipykernel_12956\\996372947.py:6: FutureWarning:\n",
      "\n",
      "The frame.append method is deprecated and will be removed from pandas in a future version. Use pandas.concat instead.\n",
      "\n",
      "C:\\Users\\bongkyun\\AppData\\Local\\Temp\\ipykernel_12956\\996372947.py:6: FutureWarning:\n",
      "\n",
      "The frame.append method is deprecated and will be removed from pandas in a future version. Use pandas.concat instead.\n",
      "\n",
      "C:\\Users\\bongkyun\\AppData\\Local\\Temp\\ipykernel_12956\\996372947.py:6: FutureWarning:\n",
      "\n",
      "The frame.append method is deprecated and will be removed from pandas in a future version. Use pandas.concat instead.\n",
      "\n",
      "C:\\Users\\bongkyun\\AppData\\Local\\Temp\\ipykernel_12956\\996372947.py:6: FutureWarning:\n",
      "\n",
      "The frame.append method is deprecated and will be removed from pandas in a future version. Use pandas.concat instead.\n",
      "\n",
      "C:\\Users\\bongkyun\\AppData\\Local\\Temp\\ipykernel_12956\\996372947.py:6: FutureWarning:\n",
      "\n",
      "The frame.append method is deprecated and will be removed from pandas in a future version. Use pandas.concat instead.\n",
      "\n",
      "C:\\Users\\bongkyun\\AppData\\Local\\Temp\\ipykernel_12956\\996372947.py:6: FutureWarning:\n",
      "\n",
      "The frame.append method is deprecated and will be removed from pandas in a future version. Use pandas.concat instead.\n",
      "\n",
      "C:\\Users\\bongkyun\\AppData\\Local\\Temp\\ipykernel_12956\\996372947.py:6: FutureWarning:\n",
      "\n",
      "The frame.append method is deprecated and will be removed from pandas in a future version. Use pandas.concat instead.\n",
      "\n",
      "C:\\Users\\bongkyun\\AppData\\Local\\Temp\\ipykernel_12956\\996372947.py:6: FutureWarning:\n",
      "\n",
      "The frame.append method is deprecated and will be removed from pandas in a future version. Use pandas.concat instead.\n",
      "\n",
      "C:\\Users\\bongkyun\\AppData\\Local\\Temp\\ipykernel_12956\\996372947.py:6: FutureWarning:\n",
      "\n",
      "The frame.append method is deprecated and will be removed from pandas in a future version. Use pandas.concat instead.\n",
      "\n",
      "C:\\Users\\bongkyun\\AppData\\Local\\Temp\\ipykernel_12956\\996372947.py:6: FutureWarning:\n",
      "\n",
      "The frame.append method is deprecated and will be removed from pandas in a future version. Use pandas.concat instead.\n",
      "\n",
      "C:\\Users\\bongkyun\\AppData\\Local\\Temp\\ipykernel_12956\\996372947.py:6: FutureWarning:\n",
      "\n",
      "The frame.append method is deprecated and will be removed from pandas in a future version. Use pandas.concat instead.\n",
      "\n",
      "C:\\Users\\bongkyun\\AppData\\Local\\Temp\\ipykernel_12956\\996372947.py:6: FutureWarning:\n",
      "\n",
      "The frame.append method is deprecated and will be removed from pandas in a future version. Use pandas.concat instead.\n",
      "\n",
      "C:\\Users\\bongkyun\\AppData\\Local\\Temp\\ipykernel_12956\\996372947.py:6: FutureWarning:\n",
      "\n",
      "The frame.append method is deprecated and will be removed from pandas in a future version. Use pandas.concat instead.\n",
      "\n",
      "C:\\Users\\bongkyun\\AppData\\Local\\Temp\\ipykernel_12956\\996372947.py:6: FutureWarning:\n",
      "\n",
      "The frame.append method is deprecated and will be removed from pandas in a future version. Use pandas.concat instead.\n",
      "\n",
      "C:\\Users\\bongkyun\\AppData\\Local\\Temp\\ipykernel_12956\\996372947.py:6: FutureWarning:\n",
      "\n",
      "The frame.append method is deprecated and will be removed from pandas in a future version. Use pandas.concat instead.\n",
      "\n",
      "C:\\Users\\bongkyun\\AppData\\Local\\Temp\\ipykernel_12956\\996372947.py:6: FutureWarning:\n",
      "\n",
      "The frame.append method is deprecated and will be removed from pandas in a future version. Use pandas.concat instead.\n",
      "\n",
      "C:\\Users\\bongkyun\\AppData\\Local\\Temp\\ipykernel_12956\\996372947.py:6: FutureWarning:\n",
      "\n",
      "The frame.append method is deprecated and will be removed from pandas in a future version. Use pandas.concat instead.\n",
      "\n",
      "C:\\Users\\bongkyun\\AppData\\Local\\Temp\\ipykernel_12956\\996372947.py:6: FutureWarning:\n",
      "\n",
      "The frame.append method is deprecated and will be removed from pandas in a future version. Use pandas.concat instead.\n",
      "\n",
      "C:\\Users\\bongkyun\\AppData\\Local\\Temp\\ipykernel_12956\\996372947.py:6: FutureWarning:\n",
      "\n",
      "The frame.append method is deprecated and will be removed from pandas in a future version. Use pandas.concat instead.\n",
      "\n",
      "C:\\Users\\bongkyun\\AppData\\Local\\Temp\\ipykernel_12956\\996372947.py:6: FutureWarning:\n",
      "\n",
      "The frame.append method is deprecated and will be removed from pandas in a future version. Use pandas.concat instead.\n",
      "\n",
      "C:\\Users\\bongkyun\\AppData\\Local\\Temp\\ipykernel_12956\\996372947.py:6: FutureWarning:\n",
      "\n",
      "The frame.append method is deprecated and will be removed from pandas in a future version. Use pandas.concat instead.\n",
      "\n",
      "C:\\Users\\bongkyun\\AppData\\Local\\Temp\\ipykernel_12956\\996372947.py:6: FutureWarning:\n",
      "\n",
      "The frame.append method is deprecated and will be removed from pandas in a future version. Use pandas.concat instead.\n",
      "\n",
      "C:\\Users\\bongkyun\\AppData\\Local\\Temp\\ipykernel_12956\\996372947.py:6: FutureWarning:\n",
      "\n",
      "The frame.append method is deprecated and will be removed from pandas in a future version. Use pandas.concat instead.\n",
      "\n",
      "C:\\Users\\bongkyun\\AppData\\Local\\Temp\\ipykernel_12956\\996372947.py:6: FutureWarning:\n",
      "\n",
      "The frame.append method is deprecated and will be removed from pandas in a future version. Use pandas.concat instead.\n",
      "\n",
      "C:\\Users\\bongkyun\\AppData\\Local\\Temp\\ipykernel_12956\\996372947.py:6: FutureWarning:\n",
      "\n",
      "The frame.append method is deprecated and will be removed from pandas in a future version. Use pandas.concat instead.\n",
      "\n",
      "C:\\Users\\bongkyun\\AppData\\Local\\Temp\\ipykernel_12956\\996372947.py:6: FutureWarning:\n",
      "\n",
      "The frame.append method is deprecated and will be removed from pandas in a future version. Use pandas.concat instead.\n",
      "\n",
      "C:\\Users\\bongkyun\\AppData\\Local\\Temp\\ipykernel_12956\\996372947.py:6: FutureWarning:\n",
      "\n",
      "The frame.append method is deprecated and will be removed from pandas in a future version. Use pandas.concat instead.\n",
      "\n",
      "C:\\Users\\bongkyun\\AppData\\Local\\Temp\\ipykernel_12956\\996372947.py:6: FutureWarning:\n",
      "\n",
      "The frame.append method is deprecated and will be removed from pandas in a future version. Use pandas.concat instead.\n",
      "\n",
      "C:\\Users\\bongkyun\\AppData\\Local\\Temp\\ipykernel_12956\\996372947.py:6: FutureWarning:\n",
      "\n",
      "The frame.append method is deprecated and will be removed from pandas in a future version. Use pandas.concat instead.\n",
      "\n",
      "C:\\Users\\bongkyun\\AppData\\Local\\Temp\\ipykernel_12956\\996372947.py:6: FutureWarning:\n",
      "\n",
      "The frame.append method is deprecated and will be removed from pandas in a future version. Use pandas.concat instead.\n",
      "\n",
      "C:\\Users\\bongkyun\\AppData\\Local\\Temp\\ipykernel_12956\\996372947.py:6: FutureWarning:\n",
      "\n",
      "The frame.append method is deprecated and will be removed from pandas in a future version. Use pandas.concat instead.\n",
      "\n",
      "C:\\Users\\bongkyun\\AppData\\Local\\Temp\\ipykernel_12956\\996372947.py:6: FutureWarning:\n",
      "\n",
      "The frame.append method is deprecated and will be removed from pandas in a future version. Use pandas.concat instead.\n",
      "\n",
      "C:\\Users\\bongkyun\\AppData\\Local\\Temp\\ipykernel_12956\\996372947.py:6: FutureWarning:\n",
      "\n",
      "The frame.append method is deprecated and will be removed from pandas in a future version. Use pandas.concat instead.\n",
      "\n",
      "C:\\Users\\bongkyun\\AppData\\Local\\Temp\\ipykernel_12956\\996372947.py:6: FutureWarning:\n",
      "\n",
      "The frame.append method is deprecated and will be removed from pandas in a future version. Use pandas.concat instead.\n",
      "\n",
      "C:\\Users\\bongkyun\\AppData\\Local\\Temp\\ipykernel_12956\\996372947.py:6: FutureWarning:\n",
      "\n",
      "The frame.append method is deprecated and will be removed from pandas in a future version. Use pandas.concat instead.\n",
      "\n",
      "C:\\Users\\bongkyun\\AppData\\Local\\Temp\\ipykernel_12956\\996372947.py:6: FutureWarning:\n",
      "\n",
      "The frame.append method is deprecated and will be removed from pandas in a future version. Use pandas.concat instead.\n",
      "\n",
      "C:\\Users\\bongkyun\\AppData\\Local\\Temp\\ipykernel_12956\\996372947.py:6: FutureWarning:\n",
      "\n",
      "The frame.append method is deprecated and will be removed from pandas in a future version. Use pandas.concat instead.\n",
      "\n",
      "C:\\Users\\bongkyun\\AppData\\Local\\Temp\\ipykernel_12956\\996372947.py:6: FutureWarning:\n",
      "\n",
      "The frame.append method is deprecated and will be removed from pandas in a future version. Use pandas.concat instead.\n",
      "\n",
      "C:\\Users\\bongkyun\\AppData\\Local\\Temp\\ipykernel_12956\\996372947.py:6: FutureWarning:\n",
      "\n",
      "The frame.append method is deprecated and will be removed from pandas in a future version. Use pandas.concat instead.\n",
      "\n",
      "C:\\Users\\bongkyun\\AppData\\Local\\Temp\\ipykernel_12956\\996372947.py:6: FutureWarning:\n",
      "\n",
      "The frame.append method is deprecated and will be removed from pandas in a future version. Use pandas.concat instead.\n",
      "\n",
      "C:\\Users\\bongkyun\\AppData\\Local\\Temp\\ipykernel_12956\\996372947.py:6: FutureWarning:\n",
      "\n",
      "The frame.append method is deprecated and will be removed from pandas in a future version. Use pandas.concat instead.\n",
      "\n",
      "C:\\Users\\bongkyun\\AppData\\Local\\Temp\\ipykernel_12956\\996372947.py:6: FutureWarning:\n",
      "\n",
      "The frame.append method is deprecated and will be removed from pandas in a future version. Use pandas.concat instead.\n",
      "\n",
      "C:\\Users\\bongkyun\\AppData\\Local\\Temp\\ipykernel_12956\\996372947.py:6: FutureWarning:\n",
      "\n",
      "The frame.append method is deprecated and will be removed from pandas in a future version. Use pandas.concat instead.\n",
      "\n",
      "C:\\Users\\bongkyun\\AppData\\Local\\Temp\\ipykernel_12956\\996372947.py:6: FutureWarning:\n",
      "\n",
      "The frame.append method is deprecated and will be removed from pandas in a future version. Use pandas.concat instead.\n",
      "\n",
      "C:\\Users\\bongkyun\\AppData\\Local\\Temp\\ipykernel_12956\\996372947.py:6: FutureWarning:\n",
      "\n",
      "The frame.append method is deprecated and will be removed from pandas in a future version. Use pandas.concat instead.\n",
      "\n",
      "C:\\Users\\bongkyun\\AppData\\Local\\Temp\\ipykernel_12956\\996372947.py:6: FutureWarning:\n",
      "\n",
      "The frame.append method is deprecated and will be removed from pandas in a future version. Use pandas.concat instead.\n",
      "\n",
      "C:\\Users\\bongkyun\\AppData\\Local\\Temp\\ipykernel_12956\\996372947.py:6: FutureWarning:\n",
      "\n",
      "The frame.append method is deprecated and will be removed from pandas in a future version. Use pandas.concat instead.\n",
      "\n",
      "C:\\Users\\bongkyun\\AppData\\Local\\Temp\\ipykernel_12956\\996372947.py:6: FutureWarning:\n",
      "\n",
      "The frame.append method is deprecated and will be removed from pandas in a future version. Use pandas.concat instead.\n",
      "\n",
      "C:\\Users\\bongkyun\\AppData\\Local\\Temp\\ipykernel_12956\\996372947.py:6: FutureWarning:\n",
      "\n",
      "The frame.append method is deprecated and will be removed from pandas in a future version. Use pandas.concat instead.\n",
      "\n",
      "C:\\Users\\bongkyun\\AppData\\Local\\Temp\\ipykernel_12956\\996372947.py:6: FutureWarning:\n",
      "\n",
      "The frame.append method is deprecated and will be removed from pandas in a future version. Use pandas.concat instead.\n",
      "\n",
      "C:\\Users\\bongkyun\\AppData\\Local\\Temp\\ipykernel_12956\\996372947.py:6: FutureWarning:\n",
      "\n",
      "The frame.append method is deprecated and will be removed from pandas in a future version. Use pandas.concat instead.\n",
      "\n"
     ]
    },
    {
     "data": {
      "text/html": [
       "<div>\n",
       "<style scoped>\n",
       "    .dataframe tbody tr th:only-of-type {\n",
       "        vertical-align: middle;\n",
       "    }\n",
       "\n",
       "    .dataframe tbody tr th {\n",
       "        vertical-align: top;\n",
       "    }\n",
       "\n",
       "    .dataframe thead th {\n",
       "        text-align: right;\n",
       "    }\n",
       "</style>\n",
       "<table border=\"1\" class=\"dataframe\">\n",
       "  <thead>\n",
       "    <tr style=\"text-align: right;\">\n",
       "      <th></th>\n",
       "      <th>ds</th>\n",
       "      <th>y</th>\n",
       "    </tr>\n",
       "  </thead>\n",
       "  <tbody>\n",
       "    <tr>\n",
       "      <th>0</th>\n",
       "      <td>2021-06-16</td>\n",
       "      <td>30</td>\n",
       "    </tr>\n",
       "    <tr>\n",
       "      <th>1</th>\n",
       "      <td>2021-06-27</td>\n",
       "      <td>22</td>\n",
       "    </tr>\n",
       "    <tr>\n",
       "      <th>2</th>\n",
       "      <td>2021-07-06</td>\n",
       "      <td>12</td>\n",
       "    </tr>\n",
       "    <tr>\n",
       "      <th>3</th>\n",
       "      <td>2021-06-19</td>\n",
       "      <td>28</td>\n",
       "    </tr>\n",
       "    <tr>\n",
       "      <th>4</th>\n",
       "      <td>2021-07-01</td>\n",
       "      <td>24</td>\n",
       "    </tr>\n",
       "    <tr>\n",
       "      <th>...</th>\n",
       "      <td>...</td>\n",
       "      <td>...</td>\n",
       "    </tr>\n",
       "    <tr>\n",
       "      <th>58</th>\n",
       "      <td>2021-06-14</td>\n",
       "      <td>14</td>\n",
       "    </tr>\n",
       "    <tr>\n",
       "      <th>59</th>\n",
       "      <td>2021-07-14</td>\n",
       "      <td>18</td>\n",
       "    </tr>\n",
       "    <tr>\n",
       "      <th>60</th>\n",
       "      <td>2021-07-02</td>\n",
       "      <td>12</td>\n",
       "    </tr>\n",
       "    <tr>\n",
       "      <th>61</th>\n",
       "      <td>2021-06-04</td>\n",
       "      <td>18</td>\n",
       "    </tr>\n",
       "    <tr>\n",
       "      <th>62</th>\n",
       "      <td>2021-06-21</td>\n",
       "      <td>28</td>\n",
       "    </tr>\n",
       "  </tbody>\n",
       "</table>\n",
       "<p>63 rows × 2 columns</p>\n",
       "</div>"
      ],
      "text/plain": [
       "            ds   y\n",
       "0   2021-06-16  30\n",
       "1   2021-06-27  22\n",
       "2   2021-07-06  12\n",
       "3   2021-06-19  28\n",
       "4   2021-07-01  24\n",
       "..         ...  ..\n",
       "58  2021-06-14  14\n",
       "59  2021-07-14  18\n",
       "60  2021-07-02  12\n",
       "61  2021-06-04  18\n",
       "62  2021-06-21  28\n",
       "\n",
       "[63 rows x 2 columns]"
      ]
     },
     "execution_count": 78,
     "metadata": {},
     "output_type": "execute_result"
    }
   ],
   "source": [
    "date_list = list(set(like_item['Date']))\n",
    "columns = ['ds', 'y']                 \n",
    "rating_mean = pd.DataFrame(columns=columns)\n",
    "for date in date_list:\n",
    "    rating = like_item.loc[like_item['Date'] == date]\n",
    "    rating_mean = rating_mean.append(pd.DataFrame([[date, rating['rating'].sum()]], columns=columns), ignore_index=True)\n",
    "rating_mean"
   ]
  },
  {
   "cell_type": "code",
   "execution_count": 79,
   "metadata": {},
   "outputs": [
    {
     "name": "stderr",
     "output_type": "stream",
     "text": [
      "02:24:40 - cmdstanpy - INFO - Chain [1] start processing\n",
      "02:24:40 - cmdstanpy - INFO - Chain [1] done processing\n"
     ]
    },
    {
     "data": {
      "image/png": "[encoded data removed]",
      "text/plain": [
       "<Figure size 900x600 with 2 Axes>"
      ]
     },
     "metadata": {},
     "output_type": "display_data"
    }
   ],
   "source": [
    "prophet = Prophet()\n",
    "prophet.fit(rating_mean)\n",
    "\n",
    "\n",
    "future = prophet.make_future_dataframe(periods=7, freq = 'D')\n",
    "forecast = prophet.predict(future)\n",
    "\n",
    "fig2 = prophet.plot_components(forecast)\n",
    "plt.show()"
   ]
  },
  {
   "cell_type": "code",
   "execution_count": 80,
   "metadata": {},
   "outputs": [
    {
     "data": {
      "application/vnd.plotly.v1+json": {
       "config": {
        "plotlyServerURL": "https://plot.ly"
       },
       "data": [
        {
         "marker": {
          "color": "black",
          "size": 4
         },
         "mode": "markers",
         "name": "Actual",
         "type": "scatter",
         "x": [
          "2021-06-03T00:00:00",
          "2021-06-04T00:00:00",
          "2021-06-05T00:00:00",
          "2021-06-06T00:00:00",
          "2021-06-07T00:00:00",
          "2021-06-08T00:00:00",
          "2021-06-09T00:00:00",
          "2021-06-10T00:00:00",
          "2021-06-11T00:00:00",
          "2021-06-12T00:00:00",
          "2021-06-13T00:00:00",
          "2021-06-14T00:00:00",
          "2021-06-15T00:00:00",
          "2021-06-16T00:00:00",
          "2021-06-17T00:00:00",
          "2021-06-18T00:00:00",
          "2021-06-19T00:00:00",
          "2021-06-20T00:00:00",
          "2021-06-21T00:00:00",
          "2021-06-22T00:00:00",
          "2021-06-23T00:00:00",
          "2021-06-24T00:00:00",
          "2021-06-25T00:00:00",
          "2021-06-26T00:00:00",
          "2021-06-27T00:00:00",
          "2021-06-28T00:00:00",
          "2021-06-29T00:00:00",
          "2021-06-30T00:00:00",
          "2021-07-01T00:00:00",
          "2021-07-02T00:00:00",
          "2021-07-03T00:00:00",
          "2021-07-04T00:00:00",
          "2021-07-05T00:00:00",
          "2021-07-06T00:00:00",
          "2021-07-07T00:00:00",
          "2021-07-08T00:00:00",
          "2021-07-09T00:00:00",
          "2021-07-10T00:00:00",
          "2021-07-11T00:00:00",
          "2021-07-12T00:00:00",
          "2021-07-13T00:00:00",
          "2021-07-14T00:00:00",
          "2021-07-15T00:00:00",
          "2021-07-16T00:00:00",
          "2021-07-17T00:00:00",
          "2021-07-18T00:00:00",
          "2021-07-19T00:00:00",
          "2021-07-20T00:00:00",
          "2021-07-21T00:00:00",
          "2021-07-22T00:00:00",
          "2021-07-23T00:00:00",
          "2021-07-24T00:00:00",
          "2021-07-25T00:00:00",
          "2021-07-26T00:00:00",
          "2021-07-27T00:00:00",
          "2021-07-28T00:00:00",
          "2021-07-29T00:00:00",
          "2021-07-30T00:00:00",
          "2021-07-31T00:00:00",
          "2021-08-01T00:00:00",
          "2021-08-02T00:00:00",
          "2021-08-03T00:00:00",
          "2021-08-04T00:00:00"
         ],
         "y": [
          10,
          18,
          16,
          32,
          18,
          24,
          26,
          20,
          18,
          14,
          6,
          14,
          16,
          30,
          24,
          18,
          28,
          28,
          28,
          12,
          12,
          20,
          24,
          20,
          22,
          20,
          10,
          24,
          24,
          12,
          18,
          26,
          14,
          12,
          26,
          20,
          22,
          32,
          42,
          38,
          14,
          18,
          30,
          20,
          28,
          30,
          14,
          24,
          18,
          40,
          22,
          16,
          6,
          16,
          22,
          10,
          14,
          16,
          16,
          12,
          8,
          6,
          6
         ]
        },
        {
         "hoverinfo": "skip",
         "line": {
          "width": 0
         },
         "mode": "lines",
         "type": "scatter",
         "x": [
          "2021-06-03T00:00:00",
          "2021-06-04T00:00:00",
          "2021-06-05T00:00:00",
          "2021-06-06T00:00:00",
          "2021-06-07T00:00:00",
          "2021-06-08T00:00:00",
          "2021-06-09T00:00:00",
          "2021-06-10T00:00:00",
          "2021-06-11T00:00:00",
          "2021-06-12T00:00:00",
          "2021-06-13T00:00:00",
          "2021-06-14T00:00:00",
          "2021-06-15T00:00:00",
          "2021-06-16T00:00:00",
          "2021-06-17T00:00:00",
          "2021-06-18T00:00:00",
          "2021-06-19T00:00:00",
          "2021-06-20T00:00:00",
          "2021-06-21T00:00:00",
          "2021-06-22T00:00:00",
          "2021-06-23T00:00:00",
          "2021-06-24T00:00:00",
          "2021-06-25T00:00:00",
          "2021-06-26T00:00:00",
          "2021-06-27T00:00:00",
          "2021-06-28T00:00:00",
          "2021-06-29T00:00:00",
          "2021-06-30T00:00:00",
          "2021-07-01T00:00:00",
          "2021-07-02T00:00:00",
          "2021-07-03T00:00:00",
          "2021-07-04T00:00:00",
          "2021-07-05T00:00:00",
          "2021-07-06T00:00:00",
          "2021-07-07T00:00:00",
          "2021-07-08T00:00:00",
          "2021-07-09T00:00:00",
          "2021-07-10T00:00:00",
          "2021-07-11T00:00:00",
          "2021-07-12T00:00:00",
          "2021-07-13T00:00:00",
          "2021-07-14T00:00:00",
          "2021-07-15T00:00:00",
          "2021-07-16T00:00:00",
          "2021-07-17T00:00:00",
          "2021-07-18T00:00:00",
          "2021-07-19T00:00:00",
          "2021-07-20T00:00:00",
          "2021-07-21T00:00:00",
          "2021-07-22T00:00:00",
          "2021-07-23T00:00:00",
          "2021-07-24T00:00:00",
          "2021-07-25T00:00:00",
          "2021-07-26T00:00:00",
          "2021-07-27T00:00:00",
          "2021-07-28T00:00:00",
          "2021-07-29T00:00:00",
          "2021-07-30T00:00:00",
          "2021-07-31T00:00:00",
          "2021-08-01T00:00:00",
          "2021-08-02T00:00:00",
          "2021-08-03T00:00:00",
          "2021-08-04T00:00:00",
          "2021-08-05T00:00:00",
          "2021-08-06T00:00:00",
          "2021-08-07T00:00:00",
          "2021-08-08T00:00:00",
          "2021-08-09T00:00:00",
          "2021-08-10T00:00:00",
          "2021-08-11T00:00:00"
         ],
         "y": [
          13.349777877761666,
          10.0871627530372,
          12.506522607425179,
          14.292225915098538,
          9.852284267523997,
          7.448014692576181,
          10.109429053909821,
          13.822255307735722,
          9.878217256118802,
          11.989844759214852,
          13.690980210745936,
          10.882009280415293,
          6.960727181693389,
          9.85703647033246,
          13.771475446544088,
          9.85033529096333,
          11.436598352637436,
          13.263874886909596,
          9.591531578747542,
          6.501711123717237,
          9.649379257288425,
          13.238849894895276,
          9.105146150123103,
          11.854718157235569,
          13.561390232740742,
          10.117337620469407,
          6.019699223055858,
          9.723320853881525,
          12.91195300198743,
          8.813240136518152,
          10.582152389443516,
          12.91325404000107,
          9.414331740841106,
          5.905437764809919,
          8.504049782199777,
          11.282292335425927,
          9.194955827973116,
          9.811482354969113,
          12.125352801941665,
          9.237394477597784,
          5.509438847653536,
          8.696424623025095,
          11.933630108916093,
          8.730137292482755,
          10.300586844251619,
          11.796738627776618,
          8.312193018800153,
          6.179307677309641,
          8.540251907014785,
          10.838787469652386,
          8.014250416706005,
          10.037371883992757,
          11.871180937391474,
          7.271477209804701,
          3.5975544990415114,
          7.581497893206381,
          11.020692277930328,
          7.260444878439367,
          8.986063149578174,
          11.541012692044106,
          7.362325125703411,
          4.048705830885435,
          8.047277312216286,
          10.853929756007698,
          7.739260109467306,
          9.299137283296595,
          10.51228618067544,
          6.7780279240576675,
          3.559071015795324,
          7.154062471778799
         ]
        },
        {
         "fill": "tonexty",
         "fillcolor": "rgba(0, 114, 178, 0.2)",
         "line": {
          "color": "#0072B2",
          "width": 2
         },
         "mode": "lines",
         "name": "Predicted",
         "type": "scatter",
         "x": [
          "2021-06-03T00:00:00",
          "2021-06-04T00:00:00",
          "2021-06-05T00:00:00",
          "2021-06-06T00:00:00",
          "2021-06-07T00:00:00",
          "2021-06-08T00:00:00",
          "2021-06-09T00:00:00",
          "2021-06-10T00:00:00",
          "2021-06-11T00:00:00",
          "2021-06-12T00:00:00",
          "2021-06-13T00:00:00",
          "2021-06-14T00:00:00",
          "2021-06-15T00:00:00",
          "2021-06-16T00:00:00",
          "2021-06-17T00:00:00",
          "2021-06-18T00:00:00",
          "2021-06-19T00:00:00",
          "2021-06-20T00:00:00",
          "2021-06-21T00:00:00",
          "2021-06-22T00:00:00",
          "2021-06-23T00:00:00",
          "2021-06-24T00:00:00",
          "2021-06-25T00:00:00",
          "2021-06-26T00:00:00",
          "2021-06-27T00:00:00",
          "2021-06-28T00:00:00",
          "2021-06-29T00:00:00",
          "2021-06-30T00:00:00",
          "2021-07-01T00:00:00",
          "2021-07-02T00:00:00",
          "2021-07-03T00:00:00",
          "2021-07-04T00:00:00",
          "2021-07-05T00:00:00",
          "2021-07-06T00:00:00",
          "2021-07-07T00:00:00",
          "2021-07-08T00:00:00",
          "2021-07-09T00:00:00",
          "2021-07-10T00:00:00",
          "2021-07-11T00:00:00",
          "2021-07-12T00:00:00",
          "2021-07-13T00:00:00",
          "2021-07-14T00:00:00",
          "2021-07-15T00:00:00",
          "2021-07-16T00:00:00",
          "2021-07-17T00:00:00",
          "2021-07-18T00:00:00",
          "2021-07-19T00:00:00",
          "2021-07-20T00:00:00",
          "2021-07-21T00:00:00",
          "2021-07-22T00:00:00",
          "2021-07-23T00:00:00",
          "2021-07-24T00:00:00",
          "2021-07-25T00:00:00",
          "2021-07-26T00:00:00",
          "2021-07-27T00:00:00",
          "2021-07-28T00:00:00",
          "2021-07-29T00:00:00",
          "2021-07-30T00:00:00",
          "2021-07-31T00:00:00",
          "2021-08-01T00:00:00",
          "2021-08-02T00:00:00",
          "2021-08-03T00:00:00",
          "2021-08-04T00:00:00",
          "2021-08-05T00:00:00",
          "2021-08-06T00:00:00",
          "2021-08-07T00:00:00",
          "2021-08-08T00:00:00",
          "2021-08-09T00:00:00",
          "2021-08-10T00:00:00",
          "2021-08-11T00:00:00"
         ],
         "y": [
          23.852536679999005,
          20.297792103849225,
          22.297064690060562,
          24.074190795993147,
          20.297207624772984,
          16.96454938410857,
          20.29667293777288,
          23.49978741875604,
          19.9450428425136,
          21.94431542869901,
          23.721441534545814,
          19.944458363355537,
          16.61180012277451,
          19.943923676375626,
          23.147038157389105,
          19.5922935810628,
          21.591566167094072,
          23.368692272657245,
          19.591709101066435,
          16.259050860003008,
          19.59117441326452,
          22.79428889398037,
          19.23954431747761,
          21.23881690318623,
          23.01594300854277,
          19.238959836637964,
          15.906301595218142,
          19.23842514814916,
          22.441539628215807,
          18.88679505107168,
          20.886067636161922,
          22.663193740927298,
          18.886210568453816,
          15.553552326575645,
          18.88567587885212,
          22.08879035851536,
          18.53404578079274,
          20.533318365425423,
          22.310444456180882,
          18.53346126979061,
          15.200803013946475,
          18.532926552430038,
          21.73601592388518,
          18.181246238103615,
          20.18046855309883,
          21.957544387751334,
          18.180510941197767,
          14.847802425201252,
          18.179875703635055,
          21.382939909489284,
          17.828145057957713,
          19.82736736879845,
          21.604443199292636,
          17.827409752655896,
          14.494701236593725,
          17.8267745148769,
          21.02983872057204,
          17.475043869048463,
          19.47426617988714,
          21.25134201037744,
          17.474308563735075,
          14.141600047675954,
          17.47367332596455,
          20.676737531654798,
          17.12194268013163,
          19.121164990971643,
          20.898240821462245,
          17.12120737481796,
          13.788498858758992,
          17.120572137054733
         ]
        },
        {
         "fill": "tonexty",
         "fillcolor": "rgba(0, 114, 178, 0.2)",
         "hoverinfo": "skip",
         "line": {
          "width": 0
         },
         "mode": "lines",
         "type": "scatter",
         "x": [
          "2021-06-03T00:00:00",
          "2021-06-04T00:00:00",
          "2021-06-05T00:00:00",
          "2021-06-06T00:00:00",
          "2021-06-07T00:00:00",
          "2021-06-08T00:00:00",
          "2021-06-09T00:00:00",
          "2021-06-10T00:00:00",
          "2021-06-11T00:00:00",
          "2021-06-12T00:00:00",
          "2021-06-13T00:00:00",
          "2021-06-14T00:00:00",
          "2021-06-15T00:00:00",
          "2021-06-16T00:00:00",
          "2021-06-17T00:00:00",
          "2021-06-18T00:00:00",
          "2021-06-19T00:00:00",
          "2021-06-20T00:00:00",
          "2021-06-21T00:00:00",
          "2021-06-22T00:00:00",
          "2021-06-23T00:00:00",
          "2021-06-24T00:00:00",
          "2021-06-25T00:00:00",
          "2021-06-26T00:00:00",
          "2021-06-27T00:00:00",
          "2021-06-28T00:00:00",
          "2021-06-29T00:00:00",
          "2021-06-30T00:00:00",
          "2021-07-01T00:00:00",
          "2021-07-02T00:00:00",
          "2021-07-03T00:00:00",
          "2021-07-04T00:00:00",
          "2021-07-05T00:00:00",
          "2021-07-06T00:00:00",
          "2021-07-07T00:00:00",
          "2021-07-08T00:00:00",
          "2021-07-09T00:00:00",
          "2021-07-10T00:00:00",
          "2021-07-11T00:00:00",
          "2021-07-12T00:00:00",
          "2021-07-13T00:00:00",
          "2021-07-14T00:00:00",
          "2021-07-15T00:00:00",
          "2021-07-16T00:00:00",
          "2021-07-17T00:00:00",
          "2021-07-18T00:00:00",
          "2021-07-19T00:00:00",
          "2021-07-20T00:00:00",
          "2021-07-21T00:00:00",
          "2021-07-22T00:00:00",
          "2021-07-23T00:00:00",
          "2021-07-24T00:00:00",
          "2021-07-25T00:00:00",
          "2021-07-26T00:00:00",
          "2021-07-27T00:00:00",
          "2021-07-28T00:00:00",
          "2021-07-29T00:00:00",
          "2021-07-30T00:00:00",
          "2021-07-31T00:00:00",
          "2021-08-01T00:00:00",
          "2021-08-02T00:00:00",
          "2021-08-03T00:00:00",
          "2021-08-04T00:00:00",
          "2021-08-05T00:00:00",
          "2021-08-06T00:00:00",
          "2021-08-07T00:00:00",
          "2021-08-08T00:00:00",
          "2021-08-09T00:00:00",
          "2021-08-10T00:00:00",
          "2021-08-11T00:00:00"
         ],
         "y": [
          33.647017426082314,
          30.09426658381147,
          31.906247818033272,
          33.95091968190774,
          29.62775660265933,
          27.374528978017807,
          30.42203543327885,
          33.311478380356654,
          30.085131938142187,
          31.994136588858183,
          33.57006591113518,
          30.69950316079996,
          26.058932653755953,
          29.98977985848282,
          33.31009973306365,
          29.81616535017271,
          32.12411142466669,
          33.358585420689884,
          28.764782901198465,
          26.691595915020443,
          28.686539366866008,
          32.403777280206036,
          29.95149942848819,
          30.668931211865257,
          33.1466890773218,
          28.50579560088209,
          25.506229846460368,
          29.0174310989632,
          32.198858377203784,
          29.393331721625113,
          30.990183135229227,
          32.75869596656831,
          28.589909113403703,
          25.520402717393488,
          28.257364924233084,
          32.1582794598839,
          28.319632549692262,
          29.597224536114698,
          31.66741840467931,
          28.698696932751346,
          25.388514227083245,
          27.799372597060795,
          31.972507167943625,
          27.717634144099062,
          29.81254226927674,
          31.971680005419213,
          28.09663606112917,
          24.718611452360225,
          27.246342541377018,
          30.855051654871307,
          27.224322123870987,
          30.386257449615382,
          31.202730797712107,
          27.26862619369902,
          24.429566919727943,
          28.104066581465744,
          30.760160121411047,
          27.296510170535246,
          29.43643889677084,
          31.093450232706015,
          28.002713240197913,
          24.035651067234053,
          27.254110800396163,
          30.554875043700207,
          26.849156631470365,
          28.691540556166306,
          31.4480825748911,
          26.768401014465603,
          23.949189640273225,
          26.178508405305863
         ]
        }
       ],
       "layout": {
        "height": 600,
        "showlegend": false,
        "template": {
         "data": {
          "bar": [
           {
            "error_x": {
             "color": "#2a3f5f"
            },
            "error_y": {
             "color": "#2a3f5f"
            },
            "marker": {
             "line": {
              "color": "#E5ECF6",
              "width": 0.5
             },
             "pattern": {
              "fillmode": "overlay",
              "size": 10,
              "solidity": 0.2
             }
            },
            "type": "bar"
           }
          ],
          "barpolar": [
           {
            "marker": {
             "line": {
              "color": "#E5ECF6",
              "width": 0.5
             },
             "pattern": {
              "fillmode": "overlay",
              "size": 10,
              "solidity": 0.2
             }
            },
            "type": "barpolar"
           }
          ],
          "carpet": [
           {
            "aaxis": {
             "endlinecolor": "#2a3f5f",
             "gridcolor": "white",
             "linecolor": "white",
             "minorgridcolor": "white",
             "startlinecolor": "#2a3f5f"
            },
            "baxis": {
             "endlinecolor": "#2a3f5f",
             "gridcolor": "white",
             "linecolor": "white",
             "minorgridcolor": "white",
             "startlinecolor": "#2a3f5f"
            },
            "type": "carpet"
           }
          ],
          "choropleth": [
           {
            "colorbar": {
             "outlinewidth": 0,
             "ticks": ""
            },
            "type": "choropleth"
           }
          ],
          "contour": [
           {
            "colorbar": {
             "outlinewidth": 0,
             "ticks": ""
            },
            "colorscale": [
             [
              0,
              "#0d0887"
             ],
             [
              0.1111111111111111,
              "#46039f"
             ],
             [
              0.2222222222222222,
              "#7201a8"
             ],
             [
              0.3333333333333333,
              "#9c179e"
             ],
             [
              0.4444444444444444,
              "#bd3786"
             ],
             [
              0.5555555555555556,
              "#d8576b"
             ],
             [
              0.6666666666666666,
              "#ed7953"
             ],
             [
              0.7777777777777778,
              "#fb9f3a"
             ],
             [
              0.8888888888888888,
              "#fdca26"
             ],
             [
              1,
              "#f0f921"
             ]
            ],
            "type": "contour"
           }
          ],
          "contourcarpet": [
           {
            "colorbar": {
             "outlinewidth": 0,
             "ticks": ""
            },
            "type": "contourcarpet"
           }
          ],
          "heatmap": [
           {
            "colorbar": {
             "outlinewidth": 0,
             "ticks": ""
            },
            "colorscale": [
             [
              0,
              "#0d0887"
             ],
             [
              0.1111111111111111,
              "#46039f"
             ],
             [
              0.2222222222222222,
              "#7201a8"
             ],
             [
              0.3333333333333333,
              "#9c179e"
             ],
             [
              0.4444444444444444,
              "#bd3786"
             ],
             [
              0.5555555555555556,
              "#d8576b"
             ],
             [
              0.6666666666666666,
              "#ed7953"
             ],
             [
              0.7777777777777778,
              "#fb9f3a"
             ],
             [
              0.8888888888888888,
              "#fdca26"
             ],
             [
              1,
              "#f0f921"
             ]
            ],
            "type": "heatmap"
           }
          ],
          "heatmapgl": [
           {
            "colorbar": {
             "outlinewidth": 0,
             "ticks": ""
            },
            "colorscale": [
             [
              0,
              "#0d0887"
             ],
             [
              0.1111111111111111,
              "#46039f"
             ],
             [
              0.2222222222222222,
              "#7201a8"
             ],
             [
              0.3333333333333333,
              "#9c179e"
             ],
             [
              0.4444444444444444,
              "#bd3786"
             ],
             [
              0.5555555555555556,
              "#d8576b"
             ],
             [
              0.6666666666666666,
              "#ed7953"
             ],
             [
              0.7777777777777778,
              "#fb9f3a"
             ],
             [
              0.8888888888888888,
              "#fdca26"
             ],
             [
              1,
              "#f0f921"
             ]
            ],
            "type": "heatmapgl"
           }
          ],
          "histogram": [
           {
            "marker": {
             "pattern": {
              "fillmode": "overlay",
              "size": 10,
              "solidity": 0.2
             }
            },
            "type": "histogram"
           }
          ],
          "histogram2d": [
           {
            "colorbar": {
             "outlinewidth": 0,
             "ticks": ""
            },
            "colorscale": [
             [
              0,
              "#0d0887"
             ],
             [
              0.1111111111111111,
              "#46039f"
             ],
             [
              0.2222222222222222,
              "#7201a8"
             ],
             [
              0.3333333333333333,
              "#9c179e"
             ],
             [
              0.4444444444444444,
              "#bd3786"
             ],
             [
              0.5555555555555556,
              "#d8576b"
             ],
             [
              0.6666666666666666,
              "#ed7953"
             ],
             [
              0.7777777777777778,
              "#fb9f3a"
             ],
             [
              0.8888888888888888,
              "#fdca26"
             ],
             [
              1,
              "#f0f921"
             ]
            ],
            "type": "histogram2d"
           }
          ],
          "histogram2dcontour": [
           {
            "colorbar": {
             "outlinewidth": 0,
             "ticks": ""
            },
            "colorscale": [
             [
              0,
              "#0d0887"
             ],
             [
              0.1111111111111111,
              "#46039f"
             ],
             [
              0.2222222222222222,
              "#7201a8"
             ],
             [
              0.3333333333333333,
              "#9c179e"
             ],
             [
              0.4444444444444444,
              "#bd3786"
             ],
             [
              0.5555555555555556,
              "#d8576b"
             ],
             [
              0.6666666666666666,
              "#ed7953"
             ],
             [
              0.7777777777777778,
              "#fb9f3a"
             ],
             [
              0.8888888888888888,
              "#fdca26"
             ],
             [
              1,
              "#f0f921"
             ]
            ],
            "type": "histogram2dcontour"
           }
          ],
          "mesh3d": [
           {
            "colorbar": {
             "outlinewidth": 0,
             "ticks": ""
            },
            "type": "mesh3d"
           }
          ],
          "parcoords": [
           {
            "line": {
             "colorbar": {
              "outlinewidth": 0,
              "ticks": ""
             }
            },
            "type": "parcoords"
           }
          ],
          "pie": [
           {
            "automargin": true,
            "type": "pie"
           }
          ],
          "scatter": [
           {
            "fillpattern": {
             "fillmode": "overlay",
             "size": 10,
             "solidity": 0.2
            },
            "type": "scatter"
           }
          ],
          "scatter3d": [
           {
            "line": {
             "colorbar": {
              "outlinewidth": 0,
              "ticks": ""
             }
            },
            "marker": {
             "colorbar": {
              "outlinewidth": 0,
              "ticks": ""
             }
            },
            "type": "scatter3d"
           }
          ],
          "scattercarpet": [
           {
            "marker": {
             "colorbar": {
              "outlinewidth": 0,
              "ticks": ""
             }
            },
            "type": "scattercarpet"
           }
          ],
          "scattergeo": [
           {
            "marker": {
             "colorbar": {
              "outlinewidth": 0,
              "ticks": ""
             }
            },
            "type": "scattergeo"
           }
          ],
          "scattergl": [
           {
            "marker": {
             "colorbar": {
              "outlinewidth": 0,
              "ticks": ""
             }
            },
            "type": "scattergl"
           }
          ],
          "scattermapbox": [
           {
            "marker": {
             "colorbar": {
              "outlinewidth": 0,
              "ticks": ""
             }
            },
            "type": "scattermapbox"
           }
          ],
          "scatterpolar": [
           {
            "marker": {
             "colorbar": {
              "outlinewidth": 0,
              "ticks": ""
             }
            },
            "type": "scatterpolar"
           }
          ],
          "scatterpolargl": [
           {
            "marker": {
             "colorbar": {
              "outlinewidth": 0,
              "ticks": ""
             }
            },
            "type": "scatterpolargl"
           }
          ],
          "scatterternary": [
           {
            "marker": {
             "colorbar": {
              "outlinewidth": 0,
              "ticks": ""
             }
            },
            "type": "scatterternary"
           }
          ],
          "surface": [
           {
            "colorbar": {
             "outlinewidth": 0,
             "ticks": ""
            },
            "colorscale": [
             [
              0,
              "#0d0887"
             ],
             [
              0.1111111111111111,
              "#46039f"
             ],
             [
              0.2222222222222222,
              "#7201a8"
             ],
             [
              0.3333333333333333,
              "#9c179e"
             ],
             [
              0.4444444444444444,
              "#bd3786"
             ],
             [
              0.5555555555555556,
              "#d8576b"
             ],
             [
              0.6666666666666666,
              "#ed7953"
             ],
             [
              0.7777777777777778,
              "#fb9f3a"
             ],
             [
              0.8888888888888888,
              "#fdca26"
             ],
             [
              1,
              "#f0f921"
             ]
            ],
            "type": "surface"
           }
          ],
          "table": [
           {
            "cells": {
             "fill": {
              "color": "#EBF0F8"
             },
             "line": {
              "color": "white"
             }
            },
            "header": {
             "fill": {
              "color": "#C8D4E3"
             },
             "line": {
              "color": "white"
             }
            },
            "type": "table"
           }
          ]
         },
         "layout": {
          "annotationdefaults": {
           "arrowcolor": "#2a3f5f",
           "arrowhead": 0,
           "arrowwidth": 1
          },
          "autotypenumbers": "strict",
          "coloraxis": {
           "colorbar": {
            "outlinewidth": 0,
            "ticks": ""
           }
          },
          "colorscale": {
           "diverging": [
            [
             0,
             "#8e0152"
            ],
            [
             0.1,
             "#c51b7d"
            ],
            [
             0.2,
             "#de77ae"
            ],
            [
             0.3,
             "#f1b6da"
            ],
            [
             0.4,
             "#fde0ef"
            ],
            [
             0.5,
             "#f7f7f7"
            ],
            [
             0.6,
             "#e6f5d0"
            ],
            [
             0.7,
             "#b8e186"
            ],
            [
             0.8,
             "#7fbc41"
            ],
            [
             0.9,
             "#4d9221"
            ],
            [
             1,
             "#276419"
            ]
           ],
           "sequential": [
            [
             0,
             "#0d0887"
            ],
            [
             0.1111111111111111,
             "#46039f"
            ],
            [
             0.2222222222222222,
             "#7201a8"
            ],
            [
             0.3333333333333333,
             "#9c179e"
            ],
            [
             0.4444444444444444,
             "#bd3786"
            ],
            [
             0.5555555555555556,
             "#d8576b"
            ],
            [
             0.6666666666666666,
             "#ed7953"
            ],
            [
             0.7777777777777778,
             "#fb9f3a"
            ],
            [
             0.8888888888888888,
             "#fdca26"
            ],
            [
             1,
             "#f0f921"
            ]
           ],
           "sequentialminus": [
            [
             0,
             "#0d0887"
            ],
            [
             0.1111111111111111,
             "#46039f"
            ],
            [
             0.2222222222222222,
             "#7201a8"
            ],
            [
             0.3333333333333333,
             "#9c179e"
            ],
            [
             0.4444444444444444,
             "#bd3786"
            ],
            [
             0.5555555555555556,
             "#d8576b"
            ],
            [
             0.6666666666666666,
             "#ed7953"
            ],
            [
             0.7777777777777778,
             "#fb9f3a"
            ],
            [
             0.8888888888888888,
             "#fdca26"
            ],
            [
             1,
             "#f0f921"
            ]
           ]
          },
          "colorway": [
           "#636efa",
           "#EF553B",
           "#00cc96",
           "#ab63fa",
           "#FFA15A",
           "#19d3f3",
           "#FF6692",
           "#B6E880",
           "#FF97FF",
           "#FECB52"
          ],
          "font": {
           "color": "#2a3f5f"
          },
          "geo": {
           "bgcolor": "white",
           "lakecolor": "white",
           "landcolor": "#E5ECF6",
           "showlakes": true,
           "showland": true,
           "subunitcolor": "white"
          },
          "hoverlabel": {
           "align": "left"
          },
          "hovermode": "closest",
          "mapbox": {
           "style": "light"
          },
          "paper_bgcolor": "white",
          "plot_bgcolor": "#E5ECF6",
          "polar": {
           "angularaxis": {
            "gridcolor": "white",
            "linecolor": "white",
            "ticks": ""
           },
           "bgcolor": "#E5ECF6",
           "radialaxis": {
            "gridcolor": "white",
            "linecolor": "white",
            "ticks": ""
           }
          },
          "scene": {
           "xaxis": {
            "backgroundcolor": "#E5ECF6",
            "gridcolor": "white",
            "gridwidth": 2,
            "linecolor": "white",
            "showbackground": true,
            "ticks": "",
            "zerolinecolor": "white"
           },
           "yaxis": {
            "backgroundcolor": "#E5ECF6",
            "gridcolor": "white",
            "gridwidth": 2,
            "linecolor": "white",
            "showbackground": true,
            "ticks": "",
            "zerolinecolor": "white"
           },
           "zaxis": {
            "backgroundcolor": "#E5ECF6",
            "gridcolor": "white",
            "gridwidth": 2,
            "linecolor": "white",
            "showbackground": true,
            "ticks": "",
            "zerolinecolor": "white"
           }
          },
          "shapedefaults": {
           "line": {
            "color": "#2a3f5f"
           }
          },
          "ternary": {
           "aaxis": {
            "gridcolor": "white",
            "linecolor": "white",
            "ticks": ""
           },
           "baxis": {
            "gridcolor": "white",
            "linecolor": "white",
            "ticks": ""
           },
           "bgcolor": "#E5ECF6",
           "caxis": {
            "gridcolor": "white",
            "linecolor": "white",
            "ticks": ""
           }
          },
          "title": {
           "x": 0.05
          },
          "xaxis": {
           "automargin": true,
           "gridcolor": "white",
           "linecolor": "white",
           "ticks": "",
           "title": {
            "standoff": 15
           },
           "zerolinecolor": "white",
           "zerolinewidth": 2
          },
          "yaxis": {
           "automargin": true,
           "gridcolor": "white",
           "linecolor": "white",
           "ticks": "",
           "title": {
            "standoff": 15
           },
           "zerolinecolor": "white",
           "zerolinewidth": 2
          }
         }
        },
        "width": 900,
        "xaxis": {
         "rangeselector": {
          "buttons": [
           {
            "count": 7,
            "label": "1w",
            "step": "day",
            "stepmode": "backward"
           },
           {
            "count": 1,
            "label": "1m",
            "step": "month",
            "stepmode": "backward"
           },
           {
            "count": 6,
            "label": "6m",
            "step": "month",
            "stepmode": "backward"
           },
           {
            "count": 1,
            "label": "1y",
            "step": "year",
            "stepmode": "backward"
           },
           {
            "step": "all"
           }
          ]
         },
         "rangeslider": {
          "visible": true
         },
         "title": {
          "text": "ds"
         },
         "type": "date"
        },
        "yaxis": {
         "title": {
          "text": "y"
         }
        }
       }
      }
     },
     "metadata": {},
     "output_type": "display_data"
    }
   ],
   "source": [
    "plot_plotly(prophet, forecast)"
   ]
  },
  {
   "cell_type": "code",
   "execution_count": 81,
   "metadata": {},
   "outputs": [
    {
     "data": {
      "application/vnd.jupyter.widget-view+json": {
       "model_id": "a8676c203497469389f3ecf1f9381b85",
       "version_major": 2,
       "version_minor": 0
      },
      "text/plain": [
       "  0%|          | 0/2 [00:00<?, ?it/s]"
      ]
     },
     "metadata": {},
     "output_type": "display_data"
    },
    {
     "name": "stderr",
     "output_type": "stream",
     "text": [
      "02:24:41 - cmdstanpy - INFO - Chain [1] start processing\n",
      "02:24:41 - cmdstanpy - INFO - Chain [1] done processing\n",
      "02:24:41 - cmdstanpy - INFO - Chain [1] start processing\n",
      "02:24:42 - cmdstanpy - INFO - Chain [1] done processing\n"
     ]
    },
    {
     "data": {
      "text/html": [
       "<div>\n",
       "<style scoped>\n",
       "    .dataframe tbody tr th:only-of-type {\n",
       "        vertical-align: middle;\n",
       "    }\n",
       "\n",
       "    .dataframe tbody tr th {\n",
       "        vertical-align: top;\n",
       "    }\n",
       "\n",
       "    .dataframe thead th {\n",
       "        text-align: right;\n",
       "    }\n",
       "</style>\n",
       "<table border=\"1\" class=\"dataframe\">\n",
       "  <thead>\n",
       "    <tr style=\"text-align: right;\">\n",
       "      <th></th>\n",
       "      <th>horizon</th>\n",
       "      <th>mse</th>\n",
       "      <th>rmse</th>\n",
       "      <th>mae</th>\n",
       "      <th>mape</th>\n",
       "      <th>mdape</th>\n",
       "      <th>smape</th>\n",
       "      <th>coverage</th>\n",
       "    </tr>\n",
       "  </thead>\n",
       "  <tbody>\n",
       "    <tr>\n",
       "      <th>2</th>\n",
       "      <td>3 days</td>\n",
       "      <td>31.133528</td>\n",
       "      <td>5.579743</td>\n",
       "      <td>5.081662</td>\n",
       "      <td>0.300246</td>\n",
       "      <td>0.300246</td>\n",
       "      <td>0.252454</td>\n",
       "      <td>1.0</td>\n",
       "    </tr>\n",
       "    <tr>\n",
       "      <th>1</th>\n",
       "      <td>2 days</td>\n",
       "      <td>32.560662</td>\n",
       "      <td>5.706195</td>\n",
       "      <td>5.680289</td>\n",
       "      <td>0.264260</td>\n",
       "      <td>0.264260</td>\n",
       "      <td>0.254057</td>\n",
       "      <td>1.0</td>\n",
       "    </tr>\n",
       "    <tr>\n",
       "      <th>3</th>\n",
       "      <td>4 days</td>\n",
       "      <td>99.664273</td>\n",
       "      <td>9.983200</td>\n",
       "      <td>8.221127</td>\n",
       "      <td>0.624202</td>\n",
       "      <td>0.624202</td>\n",
       "      <td>0.414355</td>\n",
       "      <td>0.5</td>\n",
       "    </tr>\n",
       "    <tr>\n",
       "      <th>4</th>\n",
       "      <td>5 days</td>\n",
       "      <td>99.931065</td>\n",
       "      <td>9.996553</td>\n",
       "      <td>7.121802</td>\n",
       "      <td>0.885333</td>\n",
       "      <td>0.885333</td>\n",
       "      <td>0.470865</td>\n",
       "      <td>0.5</td>\n",
       "    </tr>\n",
       "    <tr>\n",
       "      <th>0</th>\n",
       "      <td>1 days</td>\n",
       "      <td>106.392394</td>\n",
       "      <td>10.314669</td>\n",
       "      <td>10.252302</td>\n",
       "      <td>0.659928</td>\n",
       "      <td>0.659928</td>\n",
       "      <td>0.491190</td>\n",
       "      <td>0.0</td>\n",
       "    </tr>\n",
       "    <tr>\n",
       "      <th>6</th>\n",
       "      <td>7 days</td>\n",
       "      <td>147.889268</td>\n",
       "      <td>12.160973</td>\n",
       "      <td>10.803466</td>\n",
       "      <td>1.474324</td>\n",
       "      <td>1.474324</td>\n",
       "      <td>0.699291</td>\n",
       "      <td>0.5</td>\n",
       "    </tr>\n",
       "    <tr>\n",
       "      <th>5</th>\n",
       "      <td>6 days</td>\n",
       "      <td>153.184196</td>\n",
       "      <td>12.376760</td>\n",
       "      <td>12.373926</td>\n",
       "      <td>1.485698</td>\n",
       "      <td>1.485698</td>\n",
       "      <td>0.814866</td>\n",
       "      <td>0.0</td>\n",
       "    </tr>\n",
       "  </tbody>\n",
       "</table>\n",
       "</div>"
      ],
      "text/plain": [
       "  horizon         mse       rmse        mae      mape     mdape     smape  \\\n",
       "2  3 days   31.133528   5.579743   5.081662  0.300246  0.300246  0.252454   \n",
       "1  2 days   32.560662   5.706195   5.680289  0.264260  0.264260  0.254057   \n",
       "3  4 days   99.664273   9.983200   8.221127  0.624202  0.624202  0.414355   \n",
       "4  5 days   99.931065   9.996553   7.121802  0.885333  0.885333  0.470865   \n",
       "0  1 days  106.392394  10.314669  10.252302  0.659928  0.659928  0.491190   \n",
       "6  7 days  147.889268  12.160973  10.803466  1.474324  1.474324  0.699291   \n",
       "5  6 days  153.184196  12.376760  12.373926  1.485698  1.485698  0.814866   \n",
       "\n",
       "   coverage  \n",
       "2       1.0  \n",
       "1       1.0  \n",
       "3       0.5  \n",
       "4       0.5  \n",
       "0       0.0  \n",
       "6       0.5  \n",
       "5       0.0  "
      ]
     },
     "execution_count": 81,
     "metadata": {},
     "output_type": "execute_result"
    }
   ],
   "source": [
    "evaluation_model = cross_validation(prophet, initial='30 days', period='15 days', horizon = '7 days')\n",
    "evaluation_metrix = performance_metrics(evaluation_model)\n",
    "evaluation_metrix.sort_values('rmse')"
   ]
  },
  {
   "cell_type": "code",
   "execution_count": null,
   "metadata": {},
   "outputs": [],
   "source": []
  }
 ],
 "metadata": {
  "kernelspec": {
   "display_name": "base",
   "language": "python",
   "name": "python3"
  },
  "language_info": {
   "codemirror_mode": {
    "name": "ipython",
    "version": 3
   },
   "file_extension": ".py",
   "mimetype": "text/x-python",
   "name": "python",
   "nbconvert_exporter": "python",
   "pygments_lexer": "ipython3",
   "version": "3.10.9"
  },
  "orig_nbformat": 4
 },
 "nbformat": 4,
 "nbformat_minor": 2
}
