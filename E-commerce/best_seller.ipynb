{
 "cells": [
  {
   "cell_type": "markdown",
   "metadata": {},
   "source": [
    "# Data import"
   ]
  },
  {
   "cell_type": "code",
   "execution_count": 4,
   "metadata": {},
   "outputs": [],
   "source": [
    "import pandas as pd\n",
    "import numpy as np\n",
    "import matplotlib.pyplot as plt\n",
    "import seaborn as sns\n",
    "import datetime\n",
    "\n",
    "from scipy.sparse import csr_matrix\n",
    "from sklearn.metrics.pairwise import cosine_similarity\n",
    "from math import sqrt\n",
    "from tqdm import tqdm_notebook as tqdm\n",
    "from sklearn.model_selection import train_test_split\n",
    "from sklearn.metrics import mean_squared_error\n",
    "from sklearn.feature_extraction.text import TfidfVectorizer"
   ]
  },
  {
   "cell_type": "code",
   "execution_count": 5,
   "metadata": {},
   "outputs": [],
   "source": [
    "FILES_DIR = './files/'\n",
    "total = pd.read_csv(FILES_DIR + 'total.csv')\n"
   ]
  },
  {
   "cell_type": "code",
   "execution_count": 6,
   "metadata": {},
   "outputs": [
    {
     "data": {
      "text/plain": [
       "Index(['Unnamed: 0', 'session_id', 'event_timestamp', 'event_name', 'user_no',\n",
       "       'item_no', 'device_type', 'region', 'platform', 'rating', 'birth_date',\n",
       "       'gender', 'age', 'item_name', 'image_name', 'price', 'category1_code',\n",
       "       'category1_name', 'category2_code', 'category2_name', 'category3_code',\n",
       "       'category3_name', 'brand_no', 'brand_name'],\n",
       "      dtype='object')"
      ]
     },
     "execution_count": 6,
     "metadata": {},
     "output_type": "execute_result"
    }
   ],
   "source": [
    "total.columns"
   ]
  },
  {
   "cell_type": "code",
   "execution_count": 7,
   "metadata": {},
   "outputs": [
    {
     "data": {
      "text/plain": [
       "array(['IOS', 'ANDROID'], dtype=object)"
      ]
     },
     "execution_count": 7,
     "metadata": {},
     "output_type": "execute_result"
    }
   ],
   "source": [
    "total.platform.unique()"
   ]
  },
  {
   "cell_type": "code",
   "execution_count": 8,
   "metadata": {},
   "outputs": [],
   "source": [
    "male = total[total['gender'] == 'M'] #남자고객데이터\n",
    "female = total[total['gender'] == 'F'] #여자고객데이터\n",
    "android = total[total['platform'] == 'ANDROID'] #안드로이드고객데이터\n",
    "ios = total[total['platform'] == 'IOS'] # IOS고객데이터"
   ]
  },
  {
   "attachments": {},
   "cell_type": "markdown",
   "metadata": {},
   "source": [
    "## 전체데이터"
   ]
  },
  {
   "cell_type": "code",
   "execution_count": 9,
   "metadata": {},
   "outputs": [
    {
     "data": {
      "text/plain": [
       "7633    SWEATSHIRT THE FLOWER MARDI HEATHER-ORANGE\n",
       "1194        [707-08227] FREE STYLE CARD CASE_BLACK\n",
       "1140                    Dry flower earring [green]\n",
       "4524                              앙떼 메리제인 - 버건디 와니\n",
       "3810                 Benjamin-OB326-Crystal Yellow\n",
       "Name: item_name, dtype: object"
      ]
     },
     "execution_count": 9,
     "metadata": {},
     "output_type": "execute_result"
    }
   ],
   "source": [
    "def recom_item(item):\n",
    "    return total.loc[product_mean.sort_values(by='rating', ascending=False)[:item].index]['item_name']\n",
    "\n",
    "product_mean = total.groupby(['item_no'])['rating'].mean()\n",
    "product_mean = product_mean.reset_index()\n",
    "recom_item(5)"
   ]
  },
  {
   "cell_type": "code",
   "execution_count": 10,
   "metadata": {},
   "outputs": [],
   "source": [
    "# train, test split\n",
    "x = total.copy()\n",
    "y = total['session_id']\n",
    "\n",
    "x_train, x_test, y_train, y_test = train_test_split(x, y, test_size=0.25, random_state=42)\n",
    "\n",
    "\n",
    "def RMSE(y_true, y_pred):\n",
    "  return np.sqrt(np.mean(np.power(np.array(y_true)-np.array(y_pred), 2)))\n",
    "\n",
    "def score(model):\n",
    "  id_pairs = zip(x_test['session_id'], x_test['item_no'])\n",
    "  y_pred = np.array([model(session_id, item) for (session_id, item) in id_pairs])\n",
    "  y_true = np.array(x_test['rating'])\n",
    "  return RMSE(y_true, y_pred)"
   ]
  },
  {
   "cell_type": "code",
   "execution_count": 11,
   "metadata": {},
   "outputs": [
    {
     "name": "stdout",
     "output_type": "stream",
     "text": [
      "best-seller 방식의 정확도: 1.341969014456113\n"
     ]
    }
   ],
   "source": [
    "def best_seller(session_id, item_no):\n",
    "  try:\n",
    "    rating = train_mean[item_no]\n",
    "  except KeyError:\n",
    "    rating = 2.5\n",
    "  return rating\n",
    "\n",
    "train_mean = x_train.groupby(['item_no'])['rating'].mean()\n",
    "print('best-seller 방식의 정확도:', score(best_seller))"
   ]
  },
  {
   "attachments": {},
   "cell_type": "markdown",
   "metadata": {},
   "source": [
    "# 남성고객에게 추천"
   ]
  },
  {
   "cell_type": "code",
   "execution_count": 12,
   "metadata": {},
   "outputs": [
    {
     "data": {
      "text/plain": [
       "365    ts1201 포켓티-블랙\n",
       "Name: item_name, dtype: object"
      ]
     },
     "execution_count": 12,
     "metadata": {},
     "output_type": "execute_result"
    }
   ],
   "source": [
    "def recom_item(item):\n",
    "    return male.loc[product_mean.sort_values(by='rating', ascending=False)[:item].index]['item_name']\n",
    "\n",
    "\n",
    "product_mean = male.groupby(['item_no'])['rating'].mean()\n",
    "product_mean = product_mean.reset_index()\n",
    "\n",
    "\n",
    "recom_item(1)\n",
    "\n",
    "# 2번째 추천 아이템에 1978번인데 sampling 하는 과정에서 아이템 1978번이 없어져서 에러가 나온다 그래서 1개만..."
   ]
  },
  {
   "cell_type": "code",
   "execution_count": 13,
   "metadata": {},
   "outputs": [
    {
     "data": {
      "text/html": [
       "<div>\n",
       "<style scoped>\n",
       "    .dataframe tbody tr th:only-of-type {\n",
       "        vertical-align: middle;\n",
       "    }\n",
       "\n",
       "    .dataframe tbody tr th {\n",
       "        vertical-align: top;\n",
       "    }\n",
       "\n",
       "    .dataframe thead th {\n",
       "        text-align: right;\n",
       "    }\n",
       "</style>\n",
       "<table border=\"1\" class=\"dataframe\">\n",
       "  <thead>\n",
       "    <tr style=\"text-align: right;\">\n",
       "      <th></th>\n",
       "      <th>Unnamed: 0</th>\n",
       "      <th>session_id</th>\n",
       "      <th>event_timestamp</th>\n",
       "      <th>event_name</th>\n",
       "      <th>user_no</th>\n",
       "      <th>item_no</th>\n",
       "      <th>device_type</th>\n",
       "      <th>region</th>\n",
       "      <th>platform</th>\n",
       "      <th>rating</th>\n",
       "      <th>...</th>\n",
       "      <th>image_name</th>\n",
       "      <th>price</th>\n",
       "      <th>category1_code</th>\n",
       "      <th>category1_name</th>\n",
       "      <th>category2_code</th>\n",
       "      <th>category2_name</th>\n",
       "      <th>category3_code</th>\n",
       "      <th>category3_name</th>\n",
       "      <th>brand_no</th>\n",
       "      <th>brand_name</th>\n",
       "    </tr>\n",
       "  </thead>\n",
       "  <tbody>\n",
       "  </tbody>\n",
       "</table>\n",
       "<p>0 rows × 24 columns</p>\n",
       "</div>"
      ],
      "text/plain": [
       "Empty DataFrame\n",
       "Columns: [Unnamed: 0, session_id, event_timestamp, event_name, user_no, item_no, device_type, region, platform, rating, birth_date, gender, age, item_name, image_name, price, category1_code, category1_name, category2_code, category2_name, category3_code, category3_name, brand_no, brand_name]\n",
       "Index: []\n",
       "\n",
       "[0 rows x 24 columns]"
      ]
     },
     "execution_count": 13,
     "metadata": {},
     "output_type": "execute_result"
    }
   ],
   "source": [
    "male[male['item_name'] == 1978]"
   ]
  },
  {
   "cell_type": "code",
   "execution_count": 14,
   "metadata": {},
   "outputs": [
    {
     "data": {
      "text/plain": [
       "Int64Index([365, 1978, 1306, 1307, 648], dtype='int64')"
      ]
     },
     "execution_count": 14,
     "metadata": {},
     "output_type": "execute_result"
    }
   ],
   "source": [
    "product_mean.sort_values(by='rating', ascending=False)[:5].index"
   ]
  },
  {
   "cell_type": "code",
   "execution_count": 15,
   "metadata": {},
   "outputs": [],
   "source": [
    "# train, test split\n",
    "x = male.copy()\n",
    "y = male['session_id']\n",
    "\n",
    "x_train, x_test, y_train, y_test = train_test_split(x, y, test_size=0.25, random_state=42)\n",
    "\n",
    "\n",
    "def RMSE(y_true, y_pred):\n",
    "  return np.sqrt(np.mean(np.power(np.array(y_true)-np.array(y_pred), 2)))\n",
    "\n",
    "def score(model):\n",
    "  id_pairs = zip(x_test['session_id'], x_test['item_no'])\n",
    "  y_pred = np.array([model(session_id, item) for (session_id, item) in id_pairs])\n",
    "  y_true = np.array(x_test['rating'])\n",
    "  return RMSE(y_true, y_pred)"
   ]
  },
  {
   "cell_type": "code",
   "execution_count": 16,
   "metadata": {},
   "outputs": [
    {
     "name": "stdout",
     "output_type": "stream",
     "text": [
      "best-seller 방식의 정확도: 1.4235553545932509\n"
     ]
    }
   ],
   "source": [
    "def best_seller(user_no, item_no):\n",
    "  try:\n",
    "    rating = train_mean[item_no]\n",
    "  except KeyError:\n",
    "    rating = 2.5\n",
    "  return rating\n",
    "\n",
    "train_mean = x_train.groupby(['item_no'])['rating'].mean()\n",
    "print('best-seller 방식의 정확도:', score(best_seller))"
   ]
  },
  {
   "attachments": {},
   "cell_type": "markdown",
   "metadata": {},
   "source": [
    "# 여성고객에게 추천"
   ]
  },
  {
   "cell_type": "code",
   "execution_count": 17,
   "metadata": {},
   "outputs": [
    {
     "data": {
      "text/plain": [
       "9828            시스테마 벤토 런치 박스 1.65L 4colors\n",
       "2693          S패드 롤업티 - WHITE, KHAKI, BLACK\n",
       "9704    21SS Women Editor Shirt (Dark Navy)\n",
       "688          PREVAIL Sweat Shorts (Vanilla)\n",
       "7690       WAVY LAMPSHADE HAT_FOAMING CREAM\n",
       "Name: item_name, dtype: object"
      ]
     },
     "execution_count": 17,
     "metadata": {},
     "output_type": "execute_result"
    }
   ],
   "source": [
    "def recom_item(item):\n",
    "    return female.loc[product_mean.sort_values(by='rating', ascending=False)[:item].index]['item_name']\n",
    "\n",
    "product_mean = female.groupby(['item_no'])['rating'].mean()\n",
    "product_mean = product_mean.reset_index()\n",
    "recom_item(5)"
   ]
  },
  {
   "cell_type": "code",
   "execution_count": 18,
   "metadata": {},
   "outputs": [],
   "source": [
    "# train, test split\n",
    "x = female.copy()\n",
    "y = female['session_id']\n",
    "\n",
    "x_train, x_test, y_train, y_test = train_test_split(x, y, test_size=0.25, random_state=42)\n",
    "\n",
    "\n",
    "def RMSE(y_true, y_pred):\n",
    "  return np.sqrt(np.mean(np.power(np.array(y_true)-np.array(y_pred), 2)))\n",
    "\n",
    "def score(model):\n",
    "  id_pairs = zip(x_test['session_id'], x_test['item_no'])\n",
    "  y_pred = np.array([model(session_id, item) for (session_id, item) in id_pairs])\n",
    "  y_true = np.array(x_test['rating'])\n",
    "  return RMSE(y_true, y_pred)"
   ]
  },
  {
   "cell_type": "code",
   "execution_count": 19,
   "metadata": {},
   "outputs": [
    {
     "name": "stdout",
     "output_type": "stream",
     "text": [
      "best-seller 방식의 정확도: 1.3447435357817923\n"
     ]
    }
   ],
   "source": [
    "def best_seller(session_id, item_no):\n",
    "  try:\n",
    "    rating = train_mean[item_no]\n",
    "  except KeyError:\n",
    "    rating = 2.5\n",
    "  return rating\n",
    "\n",
    "train_mean = x_train.groupby(['item_no'])['rating'].mean()\n",
    "print('best-seller 방식의 정확도:', score(best_seller))"
   ]
  },
  {
   "attachments": {},
   "cell_type": "markdown",
   "metadata": {},
   "source": [
    "# 안드로이드 고객 추천"
   ]
  },
  {
   "cell_type": "code",
   "execution_count": 20,
   "metadata": {},
   "outputs": [
    {
     "data": {
      "text/plain": [
       "1004    SAKUZAN COFFEE CUP SET GRAY ( 커피컵, 찻잔, 매트한 질감,...\n",
       "Name: item_name, dtype: object"
      ]
     },
     "execution_count": 20,
     "metadata": {},
     "output_type": "execute_result"
    }
   ],
   "source": [
    "def recom_item(item):\n",
    "    return android.loc[product_mean.sort_values(by='rating', ascending=False)[:item].index]['item_name']\n",
    "\n",
    "product_mean = android.groupby(['item_no'])['rating'].mean()\n",
    "product_mean = product_mean.reset_index()\n",
    "recom_item(1)\n",
    "\n",
    "# 남성고객데이터랑 똑같은 에러"
   ]
  },
  {
   "cell_type": "code",
   "execution_count": 21,
   "metadata": {},
   "outputs": [
    {
     "data": {
      "text/plain": [
       "Int64Index([1004, 4105, 2353, 2760, 2352], dtype='int64')"
      ]
     },
     "execution_count": 21,
     "metadata": {},
     "output_type": "execute_result"
    }
   ],
   "source": [
    "product_mean.sort_values(by='rating', ascending=False)[:5].index"
   ]
  },
  {
   "cell_type": "code",
   "execution_count": 22,
   "metadata": {},
   "outputs": [],
   "source": [
    "# train, test split\n",
    "x = android.copy()\n",
    "y = android['session_id']\n",
    "\n",
    "x_train, x_test, y_train, y_test = train_test_split(x, y, test_size=0.25, random_state=42)\n",
    "\n",
    "\n",
    "def RMSE(y_true, y_pred):\n",
    "  return np.sqrt(np.mean(np.power(np.array(y_true)-np.array(y_pred), 2)))\n",
    "\n",
    "def score(model):\n",
    "  id_pairs = zip(x_test['session_id'], x_test['item_no'])\n",
    "  y_pred = np.array([model(session_id, item) for (session_id, item) in id_pairs])\n",
    "  y_true = np.array(x_test['rating'])\n",
    "  return RMSE(y_true, y_pred)"
   ]
  },
  {
   "cell_type": "code",
   "execution_count": 23,
   "metadata": {},
   "outputs": [
    {
     "name": "stdout",
     "output_type": "stream",
     "text": [
      "best-seller 방식의 정확도: 1.250605715623896\n"
     ]
    }
   ],
   "source": [
    "def best_seller(session_id, item_no):\n",
    "  try:\n",
    "    rating = train_mean[item_no]\n",
    "  except KeyError:\n",
    "    rating = 2.5\n",
    "  return rating\n",
    "\n",
    "train_mean = x_train.groupby(['item_no'])['rating'].mean()\n",
    "print('best-seller 방식의 정확도:', score(best_seller))"
   ]
  },
  {
   "attachments": {},
   "cell_type": "markdown",
   "metadata": {},
   "source": [
    "# IOS 고객 추천"
   ]
  },
  {
   "cell_type": "code",
   "execution_count": 29,
   "metadata": {},
   "outputs": [
    {
     "data": {
      "text/plain": [
       "7297    아페쎄 여성 아이템 반팔 티셔츠 화이트 COEOP F26012 AAB\n",
       "9037      [오마이걸 효정착용](CTD2) 브리즈 핀턱 코튼 블라우스_화이트\n",
       "Name: item_name, dtype: object"
      ]
     },
     "execution_count": 29,
     "metadata": {},
     "output_type": "execute_result"
    }
   ],
   "source": [
    "def recom_item(item):\n",
    "    return ios.loc[product_mean.sort_values(by='rating', ascending=False)[:item].index]['item_name']\n",
    "\n",
    "product_mean = ios.groupby(['item_no'])['rating'].mean()\n",
    "product_mean = product_mean.reset_index()\n",
    "recom_item(2)"
   ]
  },
  {
   "cell_type": "code",
   "execution_count": 25,
   "metadata": {},
   "outputs": [
    {
     "data": {
      "text/plain": [
       "Int64Index([7297, 9037, 2919, 2920, 8706], dtype='int64')"
      ]
     },
     "execution_count": 25,
     "metadata": {},
     "output_type": "execute_result"
    }
   ],
   "source": [
    "product_mean.sort_values(by='rating', ascending=False)[:5].index"
   ]
  },
  {
   "cell_type": "code",
   "execution_count": 26,
   "metadata": {},
   "outputs": [],
   "source": [
    "# train, test split\n",
    "x = ios.copy()\n",
    "y = ios['session_id']\n",
    "\n",
    "x_train, x_test, y_train, y_test = train_test_split(x, y, test_size=0.25, random_state=42)\n",
    "\n",
    "\n",
    "def RMSE(y_true, y_pred):\n",
    "  return np.sqrt(np.mean(np.power(np.array(y_true)-np.array(y_pred), 2)))\n",
    "\n",
    "def score(model):\n",
    "  id_pairs = zip(x_test['session_id'], x_test['item_no'])\n",
    "  y_pred = np.array([model(session_id, item) for (session_id, item) in id_pairs])\n",
    "  y_true = np.array(x_test['rating'])\n",
    "  return RMSE(y_true, y_pred)"
   ]
  },
  {
   "cell_type": "code",
   "execution_count": 27,
   "metadata": {},
   "outputs": [
    {
     "name": "stdout",
     "output_type": "stream",
     "text": [
      "best-seller 방식의 정확도: 1.4037116930862468\n"
     ]
    }
   ],
   "source": [
    "def best_seller(session_id, item_no):\n",
    "  try:\n",
    "    rating = train_mean[item_no]\n",
    "  except KeyError:\n",
    "    rating = 2.5\n",
    "  return rating\n",
    "\n",
    "train_mean = x_train.groupby(['item_no'])['rating'].mean()\n",
    "print('best-seller 방식의 정확도:', score(best_seller))"
   ]
  }
 ],
 "metadata": {
  "kernelspec": {
   "display_name": "Python 3 (ipykernel)",
   "language": "python",
   "name": "python3"
  },
  "language_info": {
   "codemirror_mode": {
    "name": "ipython",
    "version": 3
   },
   "file_extension": ".py",
   "mimetype": "text/x-python",
   "name": "python",
   "nbconvert_exporter": "python",
   "pygments_lexer": "ipython3",
   "version": "3.10.9"
  }
 },
 "nbformat": 4,
 "nbformat_minor": 2
}
